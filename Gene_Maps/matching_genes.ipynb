{
 "cells": [
  {
   "cell_type": "code",
   "execution_count": 50,
   "metadata": {},
   "outputs": [],
   "source": [
    "import pandas as pd\n",
    "import numpy as np\n",
    "import warnings \n",
    "warnings.filterwarnings('ignore')"
   ]
  },
  {
   "cell_type": "markdown",
   "metadata": {},
   "source": [
    "### DH to W3 mapping merging with W3 gene_info \n",
    "+ attained alphabetical names from CF gene info \n",
    "+ (preparing to map to full mapping)\n"
   ]
  },
  {
   "cell_type": "code",
   "execution_count": 51,
   "metadata": {},
   "outputs": [],
   "source": [
    "##load DH_W3 mapping and W3 gene_info \n",
    "DH_mapping = pd.read_table('./DH10B_and_W3110_gene_map.txt')\n",
    "W3_info = pd.read_table('../Genome/Ecoli_K12_W3110_NC_007779_gene_info.txt')\n",
    "\n",
    "DH_mapping.columns = ['DH', 'DH_names', 'W3', 'W3_names', 'drop']\n",
    "#drop bad format of missing column value`\n",
    "DH_mapping = DH_mapping[['DH', 'DH_names', 'W3', 'W3_names']].dropna(how='any')"
   ]
  },
  {
   "cell_type": "code",
   "execution_count": 52,
   "metadata": {},
   "outputs": [],
   "source": [
    "#take unique W3\n",
    "DH_mapped = DH_mapping.groupby(['W3_names']).agg(\n",
    "    DH_names=pd.NamedAgg(column='DH_names', aggfunc=lambda x:','.join(x))).reset_index()"
   ]
  },
  {
   "cell_type": "code",
   "execution_count": 53,
   "metadata": {},
   "outputs": [],
   "source": [
    "#merged with W3 gene_info \n",
    "W3_mapped = pd.merge(W3_info[['gbk_locus_tag','gbk_gene_id']], DH_mapped, left_on='gbk_locus_tag', right_on='W3_names')"
   ]
  },
  {
   "cell_type": "code",
   "execution_count": 54,
   "metadata": {},
   "outputs": [
    {
     "data": {
      "text/html": [
       "<div>\n",
       "<style scoped>\n",
       "    .dataframe tbody tr th:only-of-type {\n",
       "        vertical-align: middle;\n",
       "    }\n",
       "\n",
       "    .dataframe tbody tr th {\n",
       "        vertical-align: top;\n",
       "    }\n",
       "\n",
       "    .dataframe thead th {\n",
       "        text-align: right;\n",
       "    }\n",
       "</style>\n",
       "<table border=\"1\" class=\"dataframe\">\n",
       "  <thead>\n",
       "    <tr style=\"text-align: right;\">\n",
       "      <th></th>\n",
       "      <th>gbk_locus_tag</th>\n",
       "      <th>gbk_gene_id</th>\n",
       "      <th>W3_names</th>\n",
       "      <th>DH_names</th>\n",
       "    </tr>\n",
       "  </thead>\n",
       "  <tbody>\n",
       "    <tr>\n",
       "      <th>count</th>\n",
       "      <td>3995</td>\n",
       "      <td>2740</td>\n",
       "      <td>3995</td>\n",
       "      <td>3995</td>\n",
       "    </tr>\n",
       "    <tr>\n",
       "      <th>unique</th>\n",
       "      <td>3995</td>\n",
       "      <td>2700</td>\n",
       "      <td>3995</td>\n",
       "      <td>3990</td>\n",
       "    </tr>\n",
       "    <tr>\n",
       "      <th>top</th>\n",
       "      <td>Y75_RS00465</td>\n",
       "      <td>rrf</td>\n",
       "      <td>Y75_RS00465</td>\n",
       "      <td>ECDH10B_RS06230</td>\n",
       "    </tr>\n",
       "    <tr>\n",
       "      <th>freq</th>\n",
       "      <td>1</td>\n",
       "      <td>5</td>\n",
       "      <td>1</td>\n",
       "      <td>2</td>\n",
       "    </tr>\n",
       "  </tbody>\n",
       "</table>\n",
       "</div>"
      ],
      "text/plain": [
       "       gbk_locus_tag gbk_gene_id     W3_names         DH_names\n",
       "count           3995        2740         3995             3995\n",
       "unique          3995        2700         3995             3990\n",
       "top      Y75_RS00465         rrf  Y75_RS00465  ECDH10B_RS06230\n",
       "freq               1           5            1                2"
      ]
     },
     "execution_count": 54,
     "metadata": {},
     "output_type": "execute_result"
    }
   ],
   "source": [
    "W3_mapped.describe()"
   ]
  },
  {
   "cell_type": "code",
   "execution_count": 55,
   "metadata": {},
   "outputs": [],
   "source": [
    "W3_mapped = W3_mapped[W3_mapped['gbk_gene_id'].notna()]"
   ]
  },
  {
   "cell_type": "code",
   "execution_count": 56,
   "metadata": {},
   "outputs": [],
   "source": [
    "#Expand DH names that were combined and separated by ','\n",
    "extra= W3_mapped['DH_names'].str.split(',', n=4, expand=True)\n",
    "extra.columns = ['DH_name1','DH_name2']\n",
    "#merged back with W3 gene alphabetical name\n",
    "extra['W3_names'] = W3_mapped['W3_names']\n",
    "extra['gene_id'] = W3_mapped['gbk_gene_id']"
   ]
  },
  {
   "cell_type": "code",
   "execution_count": 57,
   "metadata": {},
   "outputs": [
    {
     "data": {
      "text/html": [
       "<div>\n",
       "<style scoped>\n",
       "    .dataframe tbody tr th:only-of-type {\n",
       "        vertical-align: middle;\n",
       "    }\n",
       "\n",
       "    .dataframe tbody tr th {\n",
       "        vertical-align: top;\n",
       "    }\n",
       "\n",
       "    .dataframe thead th {\n",
       "        text-align: right;\n",
       "    }\n",
       "</style>\n",
       "<table border=\"1\" class=\"dataframe\">\n",
       "  <thead>\n",
       "    <tr style=\"text-align: right;\">\n",
       "      <th></th>\n",
       "      <th>DH_name1</th>\n",
       "      <th>DH_name2</th>\n",
       "      <th>W3_names</th>\n",
       "      <th>gene_id</th>\n",
       "    </tr>\n",
       "  </thead>\n",
       "  <tbody>\n",
       "    <tr>\n",
       "      <th>count</th>\n",
       "      <td>2740</td>\n",
       "      <td>5</td>\n",
       "      <td>2740</td>\n",
       "      <td>2740</td>\n",
       "    </tr>\n",
       "    <tr>\n",
       "      <th>unique</th>\n",
       "      <td>2739</td>\n",
       "      <td>5</td>\n",
       "      <td>2740</td>\n",
       "      <td>2700</td>\n",
       "    </tr>\n",
       "    <tr>\n",
       "      <th>top</th>\n",
       "      <td>ECDH10B_RS11430</td>\n",
       "      <td>ECDH10B_RS15770</td>\n",
       "      <td>Y75_RS12875</td>\n",
       "      <td>rrf</td>\n",
       "    </tr>\n",
       "    <tr>\n",
       "      <th>freq</th>\n",
       "      <td>2</td>\n",
       "      <td>1</td>\n",
       "      <td>1</td>\n",
       "      <td>5</td>\n",
       "    </tr>\n",
       "  </tbody>\n",
       "</table>\n",
       "</div>"
      ],
      "text/plain": [
       "               DH_name1         DH_name2     W3_names gene_id\n",
       "count              2740                5         2740    2740\n",
       "unique             2739                5         2740    2700\n",
       "top     ECDH10B_RS11430  ECDH10B_RS15770  Y75_RS12875     rrf\n",
       "freq                  2                1            1       5"
      ]
     },
     "execution_count": 57,
     "metadata": {},
     "output_type": "execute_result"
    }
   ],
   "source": [
    "extra.describe()"
   ]
  },
  {
   "cell_type": "code",
   "execution_count": 58,
   "metadata": {},
   "outputs": [],
   "source": [
    "#collapsing the multiple DH names columns into extra rows\n",
    "new = pd.melt(extra, id_vars=['W3_names','gene_id'], value_vars=['DH_name1', 'DH_name2'], \n",
    "       value_name='DH_names')\n",
    "\n",
    "new = new[['W3_names', 'DH_names', 'gene_id']].dropna(subset=['DH_names'])\n",
    "\n",
    "#new.fillna('-', inplace=True)"
   ]
  },
  {
   "cell_type": "code",
   "execution_count": 59,
   "metadata": {},
   "outputs": [],
   "source": [
    "# making unique DH name to prepare to map with full mapping\n",
    "# combining multiple alphabetical names rows into one row seprated by commas \n",
    "W3_final = new.groupby(['DH_names']).agg(\n",
    "    W3_names=pd.NamedAgg(column='W3_names', aggfunc=lambda x:','.join(x)), \n",
    "    gene_id=pd.NamedAgg(column='gene_id', aggfunc=lambda x:','.join(x))).reset_index()"
   ]
  },
  {
   "cell_type": "code",
   "execution_count": 60,
   "metadata": {},
   "outputs": [],
   "source": [
    "# make seperate columns for the multiple gene names \n",
    "extra_gene_id = W3_final['gene_id'].str.split(',', n=3, expand=True)\n",
    "extra_gene_id.columns = ['W3_name1', 'W3_name2']\n",
    "W3_final = pd.concat([W3_final, extra_gene_id], axis=1)"
   ]
  },
  {
   "cell_type": "code",
   "execution_count": 61,
   "metadata": {},
   "outputs": [],
   "source": [
    "#drop original gene_id columns that has multiple columns\n",
    "W3_final.drop(['gene_id', 'W3_names'],axis=1, inplace=True)\n",
    "#W3_final = W3_final.replace('-',None)"
   ]
  },
  {
   "cell_type": "markdown",
   "metadata": {},
   "source": [
    "### ATCC and CF mapping merging with CF gene info \n",
    "+ attained alphabetical names from CF gene info \n",
    "+ (preparing to map to full mapping)"
   ]
  },
  {
   "cell_type": "markdown",
   "metadata": {},
   "source": [
    "#### include both CF gene_info files"
   ]
  },
  {
   "cell_type": "code",
   "execution_count": 62,
   "metadata": {},
   "outputs": [],
   "source": [
    "#include both CF mappings \n",
    "CF_info1 = pd.read_table('../Genome/Ecoli_CFT073_NC_004431_gene_info.txt')\n",
    "CF_info2 = pd.read_table('../Genome/Ecoli_CFT073_AE014075_gene_info.txt')\n",
    "\n",
    "CF_names1 = CF_info1[['gbk_gene_id', 'gbk_locus_tag', 'gbk_old_locus_tag']]\n",
    "CF_names2 = CF_info2[['gbk_gene_id', 'gbk_locus_tag']]"
   ]
  },
  {
   "cell_type": "code",
   "execution_count": 63,
   "metadata": {},
   "outputs": [],
   "source": [
    "CF_name = pd.merge(CF_names1, CF_names2, left_on='gbk_old_locus_tag', right_on='gbk_locus_tag', \n",
    "                  how='outer')\n",
    "CF_name = CF_name[CF_name['gbk_locus_tag_x'].notna()] #only select valid C_RS locus tags \n",
    "\n",
    "CF_name['check'] = CF_name['gbk_gene_id_x'] == CF_name['gbk_gene_id_y'] #check if both gen_info provides the same info\n",
    "\n",
    "## check in consistent naming\n",
    "# print(len(CF_name))\n",
    "# CF_name[(CF_name['gbk_gene_id_x'].notna()) & (CF_name['gbk_gene_id_y'].notna()) & (CF_name['check']==False)]"
   ]
  },
  {
   "cell_type": "code",
   "execution_count": 64,
   "metadata": {},
   "outputs": [
    {
     "data": {
      "text/html": [
       "<div>\n",
       "<style scoped>\n",
       "    .dataframe tbody tr th:only-of-type {\n",
       "        vertical-align: middle;\n",
       "    }\n",
       "\n",
       "    .dataframe tbody tr th {\n",
       "        vertical-align: top;\n",
       "    }\n",
       "\n",
       "    .dataframe thead th {\n",
       "        text-align: right;\n",
       "    }\n",
       "</style>\n",
       "<table border=\"1\" class=\"dataframe\">\n",
       "  <thead>\n",
       "    <tr style=\"text-align: right;\">\n",
       "      <th></th>\n",
       "      <th>CF_name1</th>\n",
       "      <th>CF_name2</th>\n",
       "      <th>locus_tag</th>\n",
       "      <th>CF_alt_name</th>\n",
       "    </tr>\n",
       "  </thead>\n",
       "  <tbody>\n",
       "    <tr>\n",
       "      <th>count</th>\n",
       "      <td>2855</td>\n",
       "      <td>3532</td>\n",
       "      <td>5024</td>\n",
       "      <td>4738</td>\n",
       "    </tr>\n",
       "    <tr>\n",
       "      <th>unique</th>\n",
       "      <td>2756</td>\n",
       "      <td>3532</td>\n",
       "      <td>5024</td>\n",
       "      <td>4738</td>\n",
       "    </tr>\n",
       "    <tr>\n",
       "      <th>top</th>\n",
       "      <td>tnpA</td>\n",
       "      <td>ybeY</td>\n",
       "      <td>C_RS23980</td>\n",
       "      <td>c5121</td>\n",
       "    </tr>\n",
       "    <tr>\n",
       "      <th>freq</th>\n",
       "      <td>19</td>\n",
       "      <td>1</td>\n",
       "      <td>1</td>\n",
       "      <td>1</td>\n",
       "    </tr>\n",
       "  </tbody>\n",
       "</table>\n",
       "</div>"
      ],
      "text/plain": [
       "       CF_name1 CF_name2  locus_tag CF_alt_name\n",
       "count      2855     3532       5024        4738\n",
       "unique     2756     3532       5024        4738\n",
       "top        tnpA     ybeY  C_RS23980       c5121\n",
       "freq         19        1          1           1"
      ]
     },
     "execution_count": 64,
     "metadata": {},
     "output_type": "execute_result"
    }
   ],
   "source": [
    "## Organizing\n",
    "CF_name['CF_alt_name'] = np.where(CF_name['gbk_old_locus_tag'].isna(), CF_name['gbk_locus_tag_y'],\n",
    "                                  CF_name['gbk_old_locus_tag'])\n",
    "CF_name.rename(columns={'gbk_gene_id_x':'CF_name1', 'gbk_gene_id_y':'CF_name2', \n",
    "                       'gbk_locus_tag_x':'locus_tag'}, inplace=True)\n",
    "CF_name = CF_name[['CF_name1', 'CF_name2', 'locus_tag', 'CF_alt_name']]\n",
    "\n",
    "CF_name.describe()"
   ]
  },
  {
   "cell_type": "markdown",
   "metadata": {},
   "source": [
    "#### ATCC CF mapping merging with both CF gene info "
   ]
  },
  {
   "cell_type": "code",
   "execution_count": 65,
   "metadata": {},
   "outputs": [],
   "source": [
    "## ATCC to CF ----------\n",
    "#load data\n",
    "ATCC_mapping = pd.read_table('./ATCC_and_CFT073_gene_map.txt')\n",
    "ATCC_mapping.columns = ['ATCC', 'ATCC_names', 'CF', 'CF_names', 'drop']\n",
    "ATCC_mapping = ATCC_mapping[['ATCC', 'ATCC_names',\n",
    "                             'CF', 'CF_names']].drop_duplicates(keep='first').dropna(how='any').reset_index(drop=True)\n"
   ]
  },
  {
   "cell_type": "code",
   "execution_count": 66,
   "metadata": {},
   "outputs": [],
   "source": [
    "#take unique CF\n",
    "ATCC_mapped = ATCC_mapping.groupby(['CF_names']).agg(\n",
    "    ATCC_names=pd.NamedAgg(column='ATCC_names', aggfunc=lambda x:','.join(x))).reset_index()"
   ]
  },
  {
   "cell_type": "code",
   "execution_count": 67,
   "metadata": {},
   "outputs": [
    {
     "data": {
      "text/html": [
       "<div>\n",
       "<style scoped>\n",
       "    .dataframe tbody tr th:only-of-type {\n",
       "        vertical-align: middle;\n",
       "    }\n",
       "\n",
       "    .dataframe tbody tr th {\n",
       "        vertical-align: top;\n",
       "    }\n",
       "\n",
       "    .dataframe thead th {\n",
       "        text-align: right;\n",
       "    }\n",
       "</style>\n",
       "<table border=\"1\" class=\"dataframe\">\n",
       "  <thead>\n",
       "    <tr style=\"text-align: right;\">\n",
       "      <th></th>\n",
       "      <th>CF_name1</th>\n",
       "      <th>CF_name2</th>\n",
       "      <th>locus_tag</th>\n",
       "      <th>CF_alt_name</th>\n",
       "      <th>CF_names</th>\n",
       "      <th>ATCC_names</th>\n",
       "    </tr>\n",
       "  </thead>\n",
       "  <tbody>\n",
       "    <tr>\n",
       "      <th>count</th>\n",
       "      <td>2517</td>\n",
       "      <td>3076</td>\n",
       "      <td>3934</td>\n",
       "      <td>3887</td>\n",
       "      <td>3934</td>\n",
       "      <td>3934</td>\n",
       "    </tr>\n",
       "    <tr>\n",
       "      <th>unique</th>\n",
       "      <td>2458</td>\n",
       "      <td>3076</td>\n",
       "      <td>3934</td>\n",
       "      <td>3887</td>\n",
       "      <td>3934</td>\n",
       "      <td>3925</td>\n",
       "    </tr>\n",
       "    <tr>\n",
       "      <th>top</th>\n",
       "      <td>tnpB</td>\n",
       "      <td>yebB</td>\n",
       "      <td>C_RS11575</td>\n",
       "      <td>c5121</td>\n",
       "      <td>C_RS11575</td>\n",
       "      <td>DR76_RS12305</td>\n",
       "    </tr>\n",
       "    <tr>\n",
       "      <th>freq</th>\n",
       "      <td>8</td>\n",
       "      <td>1</td>\n",
       "      <td>1</td>\n",
       "      <td>1</td>\n",
       "      <td>1</td>\n",
       "      <td>2</td>\n",
       "    </tr>\n",
       "  </tbody>\n",
       "</table>\n",
       "</div>"
      ],
      "text/plain": [
       "       CF_name1 CF_name2  locus_tag CF_alt_name   CF_names    ATCC_names\n",
       "count      2517     3076       3934        3887       3934          3934\n",
       "unique     2458     3076       3934        3887       3934          3925\n",
       "top        tnpB     yebB  C_RS11575       c5121  C_RS11575  DR76_RS12305\n",
       "freq          8        1          1           1          1             2"
      ]
     },
     "execution_count": 67,
     "metadata": {},
     "output_type": "execute_result"
    }
   ],
   "source": [
    "#merged with CF gene_info \n",
    "CF_mapped = pd.merge(CF_name, ATCC_mapped, left_on='locus_tag', right_on='CF_names')\n",
    "\n",
    "CF_mapped.dropna(subset=['CF_name1','CF_name2','CF_alt_name'], how='all', inplace=True)\n",
    "CF_mapped.describe()"
   ]
  },
  {
   "cell_type": "code",
   "execution_count": 68,
   "metadata": {},
   "outputs": [],
   "source": [
    "#Expand ATCC names that were combined and separated by ','\n",
    "extra= CF_mapped['ATCC_names'].str.split(',', n=4, expand=True)\n",
    "extra.columns = ['ATCC_name1','ATCC_name2']\n",
    "#merged back with CF gene alphabetical name\n",
    "extra = pd.concat([CF_mapped.iloc[:, 0:4], extra], axis=1)"
   ]
  },
  {
   "cell_type": "code",
   "execution_count": 69,
   "metadata": {},
   "outputs": [
    {
     "data": {
      "text/html": [
       "<div>\n",
       "<style scoped>\n",
       "    .dataframe tbody tr th:only-of-type {\n",
       "        vertical-align: middle;\n",
       "    }\n",
       "\n",
       "    .dataframe tbody tr th {\n",
       "        vertical-align: top;\n",
       "    }\n",
       "\n",
       "    .dataframe thead th {\n",
       "        text-align: right;\n",
       "    }\n",
       "</style>\n",
       "<table border=\"1\" class=\"dataframe\">\n",
       "  <thead>\n",
       "    <tr style=\"text-align: right;\">\n",
       "      <th></th>\n",
       "      <th>CF_name1</th>\n",
       "      <th>CF_name2</th>\n",
       "      <th>locus_tag</th>\n",
       "      <th>CF_alt_name</th>\n",
       "      <th>ATCC_name1</th>\n",
       "      <th>ATCC_name2</th>\n",
       "    </tr>\n",
       "  </thead>\n",
       "  <tbody>\n",
       "    <tr>\n",
       "      <th>count</th>\n",
       "      <td>2517</td>\n",
       "      <td>3076</td>\n",
       "      <td>3934</td>\n",
       "      <td>3887</td>\n",
       "      <td>3934</td>\n",
       "      <td>23</td>\n",
       "    </tr>\n",
       "    <tr>\n",
       "      <th>unique</th>\n",
       "      <td>2458</td>\n",
       "      <td>3076</td>\n",
       "      <td>3934</td>\n",
       "      <td>3887</td>\n",
       "      <td>3920</td>\n",
       "      <td>23</td>\n",
       "    </tr>\n",
       "    <tr>\n",
       "      <th>top</th>\n",
       "      <td>tnpB</td>\n",
       "      <td>yebB</td>\n",
       "      <td>C_RS11575</td>\n",
       "      <td>c5121</td>\n",
       "      <td>DR76_RS12305</td>\n",
       "      <td>DR76_RS19730</td>\n",
       "    </tr>\n",
       "    <tr>\n",
       "      <th>freq</th>\n",
       "      <td>8</td>\n",
       "      <td>1</td>\n",
       "      <td>1</td>\n",
       "      <td>1</td>\n",
       "      <td>3</td>\n",
       "      <td>1</td>\n",
       "    </tr>\n",
       "  </tbody>\n",
       "</table>\n",
       "</div>"
      ],
      "text/plain": [
       "       CF_name1 CF_name2  locus_tag CF_alt_name    ATCC_name1    ATCC_name2\n",
       "count      2517     3076       3934        3887          3934            23\n",
       "unique     2458     3076       3934        3887          3920            23\n",
       "top        tnpB     yebB  C_RS11575       c5121  DR76_RS12305  DR76_RS19730\n",
       "freq          8        1          1           1             3             1"
      ]
     },
     "execution_count": 69,
     "metadata": {},
     "output_type": "execute_result"
    }
   ],
   "source": [
    "extra.describe()"
   ]
  },
  {
   "cell_type": "code",
   "execution_count": 70,
   "metadata": {},
   "outputs": [],
   "source": [
    "#collapsing the multiple ATCC names columns into extra rows\n",
    "new = pd.melt(extra, id_vars=['CF_name1', 'CF_name2', 'CF_alt_name','locus_tag'],\n",
    "              value_vars=['ATCC_name1', 'ATCC_name2'], \n",
    "              value_name='ATCC_names')\n",
    "\n",
    "new = new.dropna(subset=['ATCC_names'])\n",
    "\n",
    "new.fillna('-', inplace=True)"
   ]
  },
  {
   "cell_type": "code",
   "execution_count": 71,
   "metadata": {
    "scrolled": true
   },
   "outputs": [],
   "source": [
    "# making unique ATCC name to prepare to map with full mapping\n",
    "# combining multiple alphabetical names rows into one row seprated by commas \n",
    "CF_final = new.groupby(['ATCC_names']).agg(\n",
    "    CF_name1=pd.NamedAgg(column='CF_name1', aggfunc=lambda x:','.join(x)), \n",
    "    CF_name2=pd.NamedAgg(column='CF_name2', aggfunc=lambda x:','.join(x)), \n",
    "    CF_alt=pd.NamedAgg(column='CF_alt_name', aggfunc=lambda x:','.join(x)), \n",
    "    locus_tag=pd.NamedAgg(column='locus_tag', aggfunc=lambda x:','.join(x))).reset_index()"
   ]
  },
  {
   "cell_type": "code",
   "execution_count": 72,
   "metadata": {},
   "outputs": [],
   "source": [
    "# collapse the columns for multiple alphabetical names for both CF gene infos \n",
    "extra_names = CF_final['CF_name1'].str.split(',', n=4, expand=True)\n",
    "extra_names.columns = ['CF_name1', 'CF_name2', 'CF_name3']\n",
    "extra_names2 = CF_final['CF_name2'].str.split(',', n=4, expand=True)\n",
    "extra_names2.columns = ['CF_name5', 'CF_name6', 'CF_name7']\n",
    "\n",
    "extra = pd.concat([extra_names, extra_names2], axis=1).reset_index(drop=True)\n",
    "\n",
    "#change df into np array\n",
    "temp=np.array(extra)\n",
    "del extra\n",
    "\n",
    "#remove NA and only keep unique names\n",
    "fixed =[]\n",
    "for i in temp: \n",
    "     fixed.append(sorted(list(set(i[~pd.isnull(i)])))[::-1])\n",
    "del temp\n",
    "\n",
    "#remove '-' names \n",
    "fixed = pd.DataFrame(fixed)\n",
    "fixed = fixed.replace('-', np.nan)\n",
    "fixed.columns = ['CF_names1', 'CF_names2', 'CF_names3']"
   ]
  },
  {
   "cell_type": "code",
   "execution_count": 73,
   "metadata": {},
   "outputs": [],
   "source": [
    "#Collapse CF alternative names into columns\n",
    "alt_names = CF_final['CF_alt'].str.split(',', n=4, expand=True)\n",
    "alt_names=np.array(alt_names)\n",
    "alt=[]\n",
    "for i in alt_names:\n",
    "    alt.append(sorted(list(set(i[~pd.isnull(i)])))[::-1]) #taking away NAs and Nones and duplicates \n",
    "alt = pd.DataFrame(alt)\n",
    "alt= alt.replace('-', np.nan)\n",
    "alt.columns = ['CF_alt1', 'CF_alt2', 'CF_alt3']"
   ]
  },
  {
   "cell_type": "code",
   "execution_count": 74,
   "metadata": {},
   "outputs": [
    {
     "data": {
      "text/html": [
       "<div>\n",
       "<style scoped>\n",
       "    .dataframe tbody tr th:only-of-type {\n",
       "        vertical-align: middle;\n",
       "    }\n",
       "\n",
       "    .dataframe tbody tr th {\n",
       "        vertical-align: top;\n",
       "    }\n",
       "\n",
       "    .dataframe thead th {\n",
       "        text-align: right;\n",
       "    }\n",
       "</style>\n",
       "<table border=\"1\" class=\"dataframe\">\n",
       "  <thead>\n",
       "    <tr style=\"text-align: right;\">\n",
       "      <th></th>\n",
       "      <th>ATCC_names</th>\n",
       "      <th>CF_names1</th>\n",
       "      <th>CF_names2</th>\n",
       "      <th>CF_names3</th>\n",
       "      <th>CF_alt1</th>\n",
       "      <th>CF_alt2</th>\n",
       "      <th>CF_alt3</th>\n",
       "    </tr>\n",
       "  </thead>\n",
       "  <tbody>\n",
       "    <tr>\n",
       "      <th>0</th>\n",
       "      <td>DR76_RS00080</td>\n",
       "      <td>yehE</td>\n",
       "      <td>NaN</td>\n",
       "      <td>NaN</td>\n",
       "      <td>c2640</td>\n",
       "      <td>None</td>\n",
       "      <td>None</td>\n",
       "    </tr>\n",
       "    <tr>\n",
       "      <th>1</th>\n",
       "      <td>DR76_RS00085</td>\n",
       "      <td>mrp</td>\n",
       "      <td>apbC</td>\n",
       "      <td>NaN</td>\n",
       "      <td>c2641</td>\n",
       "      <td>None</td>\n",
       "      <td>None</td>\n",
       "    </tr>\n",
       "    <tr>\n",
       "      <th>2</th>\n",
       "      <td>DR76_RS00090</td>\n",
       "      <td>metG</td>\n",
       "      <td>None</td>\n",
       "      <td>NaN</td>\n",
       "      <td>c2642</td>\n",
       "      <td>None</td>\n",
       "      <td>None</td>\n",
       "    </tr>\n",
       "    <tr>\n",
       "      <th>3</th>\n",
       "      <td>DR76_RS00095</td>\n",
       "      <td>NaN</td>\n",
       "      <td>None</td>\n",
       "      <td>NaN</td>\n",
       "      <td>c2643</td>\n",
       "      <td>None</td>\n",
       "      <td>None</td>\n",
       "    </tr>\n",
       "    <tr>\n",
       "      <th>4</th>\n",
       "      <td>DR76_RS00100</td>\n",
       "      <td>yehI</td>\n",
       "      <td>NaN</td>\n",
       "      <td>NaN</td>\n",
       "      <td>c2644</td>\n",
       "      <td>None</td>\n",
       "      <td>None</td>\n",
       "    </tr>\n",
       "  </tbody>\n",
       "</table>\n",
       "</div>"
      ],
      "text/plain": [
       "     ATCC_names CF_names1 CF_names2  CF_names3 CF_alt1 CF_alt2 CF_alt3\n",
       "0  DR76_RS00080      yehE       NaN        NaN   c2640    None    None\n",
       "1  DR76_RS00085       mrp      apbC        NaN   c2641    None    None\n",
       "2  DR76_RS00090      metG      None        NaN   c2642    None    None\n",
       "3  DR76_RS00095       NaN      None        NaN   c2643    None    None\n",
       "4  DR76_RS00100      yehI       NaN        NaN   c2644    None    None"
      ]
     },
     "execution_count": 74,
     "metadata": {},
     "output_type": "execute_result"
    }
   ],
   "source": [
    "CF_final = pd.concat([CF_final[['ATCC_names']], fixed, alt], axis=1)\n",
    "CF_final.head()"
   ]
  },
  {
   "cell_type": "code",
   "execution_count": 75,
   "metadata": {},
   "outputs": [
    {
     "data": {
      "text/html": [
       "<div>\n",
       "<style scoped>\n",
       "    .dataframe tbody tr th:only-of-type {\n",
       "        vertical-align: middle;\n",
       "    }\n",
       "\n",
       "    .dataframe tbody tr th {\n",
       "        vertical-align: top;\n",
       "    }\n",
       "\n",
       "    .dataframe thead th {\n",
       "        text-align: right;\n",
       "    }\n",
       "</style>\n",
       "<table border=\"1\" class=\"dataframe\">\n",
       "  <thead>\n",
       "    <tr style=\"text-align: right;\">\n",
       "      <th></th>\n",
       "      <th>ATCC_names</th>\n",
       "      <th>CF_names1</th>\n",
       "      <th>CF_names2</th>\n",
       "      <th>CF_names3</th>\n",
       "      <th>CF_alt1</th>\n",
       "      <th>CF_alt2</th>\n",
       "      <th>CF_alt3</th>\n",
       "    </tr>\n",
       "  </thead>\n",
       "  <tbody>\n",
       "    <tr>\n",
       "      <th>count</th>\n",
       "      <td>3942</td>\n",
       "      <td>3290</td>\n",
       "      <td>697</td>\n",
       "      <td>0.0</td>\n",
       "      <td>3894</td>\n",
       "      <td>14</td>\n",
       "      <td>1</td>\n",
       "    </tr>\n",
       "    <tr>\n",
       "      <th>unique</th>\n",
       "      <td>3942</td>\n",
       "      <td>3247</td>\n",
       "      <td>689</td>\n",
       "      <td>NaN</td>\n",
       "      <td>3876</td>\n",
       "      <td>14</td>\n",
       "      <td>1</td>\n",
       "    </tr>\n",
       "    <tr>\n",
       "      <th>top</th>\n",
       "      <td>DR76_RS16655</td>\n",
       "      <td>tnpB</td>\n",
       "      <td>gspE</td>\n",
       "      <td>NaN</td>\n",
       "      <td>c0342</td>\n",
       "      <td>c1467</td>\n",
       "      <td>c0278</td>\n",
       "    </tr>\n",
       "    <tr>\n",
       "      <th>freq</th>\n",
       "      <td>1</td>\n",
       "      <td>7</td>\n",
       "      <td>2</td>\n",
       "      <td>NaN</td>\n",
       "      <td>2</td>\n",
       "      <td>1</td>\n",
       "      <td>1</td>\n",
       "    </tr>\n",
       "    <tr>\n",
       "      <th>mean</th>\n",
       "      <td>NaN</td>\n",
       "      <td>NaN</td>\n",
       "      <td>NaN</td>\n",
       "      <td>NaN</td>\n",
       "      <td>NaN</td>\n",
       "      <td>NaN</td>\n",
       "      <td>NaN</td>\n",
       "    </tr>\n",
       "    <tr>\n",
       "      <th>std</th>\n",
       "      <td>NaN</td>\n",
       "      <td>NaN</td>\n",
       "      <td>NaN</td>\n",
       "      <td>NaN</td>\n",
       "      <td>NaN</td>\n",
       "      <td>NaN</td>\n",
       "      <td>NaN</td>\n",
       "    </tr>\n",
       "    <tr>\n",
       "      <th>min</th>\n",
       "      <td>NaN</td>\n",
       "      <td>NaN</td>\n",
       "      <td>NaN</td>\n",
       "      <td>NaN</td>\n",
       "      <td>NaN</td>\n",
       "      <td>NaN</td>\n",
       "      <td>NaN</td>\n",
       "    </tr>\n",
       "    <tr>\n",
       "      <th>25%</th>\n",
       "      <td>NaN</td>\n",
       "      <td>NaN</td>\n",
       "      <td>NaN</td>\n",
       "      <td>NaN</td>\n",
       "      <td>NaN</td>\n",
       "      <td>NaN</td>\n",
       "      <td>NaN</td>\n",
       "    </tr>\n",
       "    <tr>\n",
       "      <th>50%</th>\n",
       "      <td>NaN</td>\n",
       "      <td>NaN</td>\n",
       "      <td>NaN</td>\n",
       "      <td>NaN</td>\n",
       "      <td>NaN</td>\n",
       "      <td>NaN</td>\n",
       "      <td>NaN</td>\n",
       "    </tr>\n",
       "    <tr>\n",
       "      <th>75%</th>\n",
       "      <td>NaN</td>\n",
       "      <td>NaN</td>\n",
       "      <td>NaN</td>\n",
       "      <td>NaN</td>\n",
       "      <td>NaN</td>\n",
       "      <td>NaN</td>\n",
       "      <td>NaN</td>\n",
       "    </tr>\n",
       "    <tr>\n",
       "      <th>max</th>\n",
       "      <td>NaN</td>\n",
       "      <td>NaN</td>\n",
       "      <td>NaN</td>\n",
       "      <td>NaN</td>\n",
       "      <td>NaN</td>\n",
       "      <td>NaN</td>\n",
       "      <td>NaN</td>\n",
       "    </tr>\n",
       "  </tbody>\n",
       "</table>\n",
       "</div>"
      ],
      "text/plain": [
       "          ATCC_names CF_names1 CF_names2  CF_names3 CF_alt1 CF_alt2 CF_alt3\n",
       "count           3942      3290       697        0.0    3894      14       1\n",
       "unique          3942      3247       689        NaN    3876      14       1\n",
       "top     DR76_RS16655      tnpB      gspE        NaN   c0342   c1467   c0278\n",
       "freq               1         7         2        NaN       2       1       1\n",
       "mean             NaN       NaN       NaN        NaN     NaN     NaN     NaN\n",
       "std              NaN       NaN       NaN        NaN     NaN     NaN     NaN\n",
       "min              NaN       NaN       NaN        NaN     NaN     NaN     NaN\n",
       "25%              NaN       NaN       NaN        NaN     NaN     NaN     NaN\n",
       "50%              NaN       NaN       NaN        NaN     NaN     NaN     NaN\n",
       "75%              NaN       NaN       NaN        NaN     NaN     NaN     NaN\n",
       "max              NaN       NaN       NaN        NaN     NaN     NaN     NaN"
      ]
     },
     "execution_count": 75,
     "metadata": {},
     "output_type": "execute_result"
    }
   ],
   "source": [
    "CF_final.describe(include='all')"
   ]
  },
  {
   "cell_type": "markdown",
   "metadata": {},
   "source": [
    "### Full Mapping "
   ]
  },
  {
   "cell_type": "code",
   "execution_count": 76,
   "metadata": {},
   "outputs": [],
   "source": [
    "##Full Mapping--------\n",
    "full_mapping = pd.read_table('./ATCC_CFT073_K12MG_K12DH_BW_gene_map.txt')\n",
    "full_mapping.columns = ['ATCC', 'ATCC_names', 'BW', 'BW_names', 'DH', 'DH_names', 'MG', 'MG_names', 'drop']\n",
    "full_mapping = full_mapping[['ATCC_names','BW_names', 'DH_names', 'MG_names']]\n",
    "full_mapping = full_mapping.drop_duplicates(keep='first') \n",
    "#3422"
   ]
  },
  {
   "cell_type": "code",
   "execution_count": 77,
   "metadata": {},
   "outputs": [],
   "source": [
    "#merge DH names\n",
    "full_mapping = pd.merge(full_mapping, W3_final, on='DH_names', how='left')\n",
    "\n",
    "\n",
    "#merge ATCC names\n",
    "full_mapping = pd.merge(full_mapping, CF_final, on='ATCC_names', how='left') \n",
    "\n",
    "\n",
    "#merge MG names\n",
    "MG_info = pd.read_table('../Genome/Ecoli_K12_MG1655_chrom_U00096_gene_info.txt')[['gbk_gene_id', 'gbk_locus_tag']]\n",
    "MG_info.columns=['MG_id', 'MG_names']\n",
    "\n",
    "full_mapping = pd.merge(full_mapping, MG_info, on='MG_names', how='left')\n"
   ]
  },
  {
   "cell_type": "code",
   "execution_count": 78,
   "metadata": {},
   "outputs": [
    {
     "data": {
      "text/html": [
       "<div>\n",
       "<style scoped>\n",
       "    .dataframe tbody tr th:only-of-type {\n",
       "        vertical-align: middle;\n",
       "    }\n",
       "\n",
       "    .dataframe tbody tr th {\n",
       "        vertical-align: top;\n",
       "    }\n",
       "\n",
       "    .dataframe thead th {\n",
       "        text-align: right;\n",
       "    }\n",
       "</style>\n",
       "<table border=\"1\" class=\"dataframe\">\n",
       "  <thead>\n",
       "    <tr style=\"text-align: right;\">\n",
       "      <th></th>\n",
       "      <th>DH_names</th>\n",
       "      <th>W3_name1</th>\n",
       "      <th>W3_name2</th>\n",
       "    </tr>\n",
       "  </thead>\n",
       "  <tbody>\n",
       "    <tr>\n",
       "      <th>count</th>\n",
       "      <td>2744</td>\n",
       "      <td>2744</td>\n",
       "      <td>1</td>\n",
       "    </tr>\n",
       "    <tr>\n",
       "      <th>unique</th>\n",
       "      <td>2744</td>\n",
       "      <td>2700</td>\n",
       "      <td>1</td>\n",
       "    </tr>\n",
       "    <tr>\n",
       "      <th>top</th>\n",
       "      <td>ECDH10B_RS10360</td>\n",
       "      <td>rrf</td>\n",
       "      <td>gatA</td>\n",
       "    </tr>\n",
       "    <tr>\n",
       "      <th>freq</th>\n",
       "      <td>1</td>\n",
       "      <td>5</td>\n",
       "      <td>1</td>\n",
       "    </tr>\n",
       "  </tbody>\n",
       "</table>\n",
       "</div>"
      ],
      "text/plain": [
       "               DH_names W3_name1 W3_name2\n",
       "count              2744     2744        1\n",
       "unique             2744     2700        1\n",
       "top     ECDH10B_RS10360      rrf     gatA\n",
       "freq                  1        5        1"
      ]
     },
     "execution_count": 78,
     "metadata": {},
     "output_type": "execute_result"
    }
   ],
   "source": [
    "W3_final.describe()"
   ]
  },
  {
   "cell_type": "code",
   "execution_count": 79,
   "metadata": {},
   "outputs": [
    {
     "data": {
      "text/html": [
       "<div>\n",
       "<style scoped>\n",
       "    .dataframe tbody tr th:only-of-type {\n",
       "        vertical-align: middle;\n",
       "    }\n",
       "\n",
       "    .dataframe tbody tr th {\n",
       "        vertical-align: top;\n",
       "    }\n",
       "\n",
       "    .dataframe thead th {\n",
       "        text-align: right;\n",
       "    }\n",
       "</style>\n",
       "<table border=\"1\" class=\"dataframe\">\n",
       "  <thead>\n",
       "    <tr style=\"text-align: right;\">\n",
       "      <th></th>\n",
       "      <th>CF_names3</th>\n",
       "    </tr>\n",
       "  </thead>\n",
       "  <tbody>\n",
       "    <tr>\n",
       "      <th>count</th>\n",
       "      <td>0.0</td>\n",
       "    </tr>\n",
       "    <tr>\n",
       "      <th>mean</th>\n",
       "      <td>NaN</td>\n",
       "    </tr>\n",
       "    <tr>\n",
       "      <th>std</th>\n",
       "      <td>NaN</td>\n",
       "    </tr>\n",
       "    <tr>\n",
       "      <th>min</th>\n",
       "      <td>NaN</td>\n",
       "    </tr>\n",
       "    <tr>\n",
       "      <th>25%</th>\n",
       "      <td>NaN</td>\n",
       "    </tr>\n",
       "    <tr>\n",
       "      <th>50%</th>\n",
       "      <td>NaN</td>\n",
       "    </tr>\n",
       "    <tr>\n",
       "      <th>75%</th>\n",
       "      <td>NaN</td>\n",
       "    </tr>\n",
       "    <tr>\n",
       "      <th>max</th>\n",
       "      <td>NaN</td>\n",
       "    </tr>\n",
       "  </tbody>\n",
       "</table>\n",
       "</div>"
      ],
      "text/plain": [
       "       CF_names3\n",
       "count        0.0\n",
       "mean         NaN\n",
       "std          NaN\n",
       "min          NaN\n",
       "25%          NaN\n",
       "50%          NaN\n",
       "75%          NaN\n",
       "max          NaN"
      ]
     },
     "execution_count": 79,
     "metadata": {},
     "output_type": "execute_result"
    }
   ],
   "source": [
    "CF_final.describe()"
   ]
  },
  {
   "cell_type": "code",
   "execution_count": 80,
   "metadata": {
    "scrolled": true
   },
   "outputs": [
    {
     "data": {
      "text/plain": [
       "ATCC_names       0\n",
       "BW_names         0\n",
       "DH_names         0\n",
       "MG_names         0\n",
       "W3_name1       979\n",
       "W3_name2      3421\n",
       "CF_names1      478\n",
       "CF_names2     2775\n",
       "CF_names3     3422\n",
       "CF_alt1        412\n",
       "CF_alt2       3416\n",
       "CF_alt3       3422\n",
       "MG_id            0\n",
       "dtype: int64"
      ]
     },
     "execution_count": 80,
     "metadata": {},
     "output_type": "execute_result"
    }
   ],
   "source": [
    "full_mapping.isna().sum()"
   ]
  },
  {
   "cell_type": "code",
   "execution_count": 81,
   "metadata": {
    "scrolled": true
   },
   "outputs": [
    {
     "data": {
      "text/html": [
       "<div>\n",
       "<style scoped>\n",
       "    .dataframe tbody tr th:only-of-type {\n",
       "        vertical-align: middle;\n",
       "    }\n",
       "\n",
       "    .dataframe tbody tr th {\n",
       "        vertical-align: top;\n",
       "    }\n",
       "\n",
       "    .dataframe thead th {\n",
       "        text-align: right;\n",
       "    }\n",
       "</style>\n",
       "<table border=\"1\" class=\"dataframe\">\n",
       "  <thead>\n",
       "    <tr style=\"text-align: right;\">\n",
       "      <th></th>\n",
       "      <th>ATCC_names</th>\n",
       "      <th>BW_names</th>\n",
       "      <th>DH_names</th>\n",
       "      <th>MG_names</th>\n",
       "      <th>W3_name1</th>\n",
       "      <th>W3_name2</th>\n",
       "      <th>CF_names1</th>\n",
       "      <th>CF_names2</th>\n",
       "      <th>CF_names3</th>\n",
       "      <th>CF_alt1</th>\n",
       "      <th>CF_alt2</th>\n",
       "      <th>CF_alt3</th>\n",
       "      <th>MG_id</th>\n",
       "    </tr>\n",
       "  </thead>\n",
       "  <tbody>\n",
       "    <tr>\n",
       "      <th>0</th>\n",
       "      <td>DR76_RS03365</td>\n",
       "      <td>BW25113_RS19835</td>\n",
       "      <td>ECDH10B_RS20405</td>\n",
       "      <td>b3820</td>\n",
       "      <td>NaN</td>\n",
       "      <td>NaN</td>\n",
       "      <td>yigI</td>\n",
       "      <td>NaN</td>\n",
       "      <td>NaN</td>\n",
       "      <td>c4741</td>\n",
       "      <td>None</td>\n",
       "      <td>None</td>\n",
       "      <td>yigI</td>\n",
       "    </tr>\n",
       "    <tr>\n",
       "      <th>1</th>\n",
       "      <td>DR76_RS03360</td>\n",
       "      <td>BW25113_RS19840</td>\n",
       "      <td>ECDH10B_RS20410</td>\n",
       "      <td>b3821</td>\n",
       "      <td>pldA</td>\n",
       "      <td>None</td>\n",
       "      <td>pldA</td>\n",
       "      <td>None</td>\n",
       "      <td>NaN</td>\n",
       "      <td>c4742</td>\n",
       "      <td>None</td>\n",
       "      <td>None</td>\n",
       "      <td>pldA</td>\n",
       "    </tr>\n",
       "    <tr>\n",
       "      <th>2</th>\n",
       "      <td>DR76_RS03355</td>\n",
       "      <td>BW25113_RS19845</td>\n",
       "      <td>ECDH10B_RS20415</td>\n",
       "      <td>b3822</td>\n",
       "      <td>recQ</td>\n",
       "      <td>None</td>\n",
       "      <td>recQ</td>\n",
       "      <td>None</td>\n",
       "      <td>NaN</td>\n",
       "      <td>c4744</td>\n",
       "      <td>None</td>\n",
       "      <td>None</td>\n",
       "      <td>recQ</td>\n",
       "    </tr>\n",
       "    <tr>\n",
       "      <th>3</th>\n",
       "      <td>DR76_RS03350</td>\n",
       "      <td>BW25113_RS19850</td>\n",
       "      <td>ECDH10B_RS20420</td>\n",
       "      <td>b3823</td>\n",
       "      <td>rhtC</td>\n",
       "      <td>None</td>\n",
       "      <td>rhtC</td>\n",
       "      <td>NaN</td>\n",
       "      <td>NaN</td>\n",
       "      <td>c4745</td>\n",
       "      <td>None</td>\n",
       "      <td>None</td>\n",
       "      <td>rhtC</td>\n",
       "    </tr>\n",
       "    <tr>\n",
       "      <th>4</th>\n",
       "      <td>DR76_RS03345</td>\n",
       "      <td>BW25113_RS19855</td>\n",
       "      <td>ECDH10B_RS20425</td>\n",
       "      <td>b3824</td>\n",
       "      <td>rhtB</td>\n",
       "      <td>None</td>\n",
       "      <td>yigK</td>\n",
       "      <td>rhtB</td>\n",
       "      <td>NaN</td>\n",
       "      <td>c4746</td>\n",
       "      <td>None</td>\n",
       "      <td>None</td>\n",
       "      <td>rhtB</td>\n",
       "    </tr>\n",
       "  </tbody>\n",
       "</table>\n",
       "</div>"
      ],
      "text/plain": [
       "     ATCC_names         BW_names         DH_names MG_names W3_name1 W3_name2  \\\n",
       "0  DR76_RS03365  BW25113_RS19835  ECDH10B_RS20405    b3820      NaN      NaN   \n",
       "1  DR76_RS03360  BW25113_RS19840  ECDH10B_RS20410    b3821     pldA     None   \n",
       "2  DR76_RS03355  BW25113_RS19845  ECDH10B_RS20415    b3822     recQ     None   \n",
       "3  DR76_RS03350  BW25113_RS19850  ECDH10B_RS20420    b3823     rhtC     None   \n",
       "4  DR76_RS03345  BW25113_RS19855  ECDH10B_RS20425    b3824     rhtB     None   \n",
       "\n",
       "  CF_names1 CF_names2  CF_names3 CF_alt1 CF_alt2 CF_alt3 MG_id  \n",
       "0      yigI       NaN        NaN   c4741    None    None  yigI  \n",
       "1      pldA      None        NaN   c4742    None    None  pldA  \n",
       "2      recQ      None        NaN   c4744    None    None  recQ  \n",
       "3      rhtC       NaN        NaN   c4745    None    None  rhtC  \n",
       "4      yigK      rhtB        NaN   c4746    None    None  rhtB  "
      ]
     },
     "execution_count": 81,
     "metadata": {},
     "output_type": "execute_result"
    }
   ],
   "source": [
    "full_mapping.head()"
   ]
  },
  {
   "cell_type": "markdown",
   "metadata": {},
   "source": [
    "## BLAST "
   ]
  },
  {
   "cell_type": "code",
   "execution_count": 82,
   "metadata": {},
   "outputs": [],
   "source": [
    "##Comparing---------------\n",
    "ATCC_DH_blast = pd.read_table('../BLAST/parameters_more_sensitive/RBBH_ATCC_DH10B_more_sensitive.tab')\n",
    "MG_DH_blast = pd.read_table('../BLAST/parameters_more_sensitive/RBH_out_MG1655_DH10B_more_sensitive_dmnd_uniq.tab')\n",
    "MG_ATCC_blast = pd.read_table('../BLAST/parameters_more_sensitive/RBH_out_MG1655_ATCC_more_sensitive_dmnd_uniq.tab')\n",
    "\n",
    "ATCC_DH_blast = ATCC_DH_blast[['A_gene', 'A_alt_name', 'B_gene']]\n",
    "ATCC_DH_blast.columns = ['ATCC_gene','ATCC_gene2', 'DH_gene']\n",
    "#3244 rows from blast \n",
    "\n",
    "MG_DH_blast = MG_DH_blast[['A_gene', 'A_alt_name', 'B_gene']]\n",
    "MG_DH_blast.columns = ['MG_gene','MG_gene2', 'DH_gene']\n",
    "#4162 rows from blast \n",
    "\n",
    "MG_ATCC_blast = MG_ATCC_blast[['A_gene', 'A_alt_name', 'B_gene', 'B_alt_name']]\n",
    "MG_ATCC_blast.columns = ['MG_gene','MG_gene2', 'ATCC_gene', 'ATCC_gene2']\n",
    "#3264 rows from blast "
   ]
  },
  {
   "cell_type": "code",
   "execution_count": 83,
   "metadata": {},
   "outputs": [],
   "source": [
    "#remove redundant ecpD gene\n",
    "ATCC_DH_blast = ATCC_DH_blast[ATCC_DH_blast['DH_gene']!='yadV']"
   ]
  },
  {
   "cell_type": "markdown",
   "metadata": {},
   "source": [
    "## ATCC VS DH "
   ]
  },
  {
   "cell_type": "code",
   "execution_count": 84,
   "metadata": {},
   "outputs": [],
   "source": [
    "#subsetting from full mapping\n",
    "ATCC_DH_mapping = full_mapping.drop(['BW_names', 'MG_names','MG_id'], axis=1)"
   ]
  },
  {
   "cell_type": "code",
   "execution_count": 85,
   "metadata": {},
   "outputs": [],
   "source": [
    "#drop not found DH\n",
    "ATCC_DH_mapping = ATCC_DH_mapping.dropna(subset=list(ATCC_DH_mapping.columns[2:4]),how='all').drop_duplicates(keep='first')\n",
    "\n",
    "#drop not found ATCC\n",
    "ATCC_DH_mapping = ATCC_DH_mapping.dropna(subset=list(ATCC_DH_mapping.columns[5:]),how='all').drop_duplicates(keep='first')"
   ]
  },
  {
   "cell_type": "markdown",
   "metadata": {
    "scrolled": true
   },
   "source": [
    "### Cleaning AD blast \n",
    "alt names are in the alphabetical names columns if alp name is missing "
   ]
  },
  {
   "cell_type": "code",
   "execution_count": 86,
   "metadata": {},
   "outputs": [],
   "source": [
    "## fix shifting in alt gene names \n",
    "ATCC_DH_blast['ATCC_genes'] = ATCC_DH_blast['ATCC_gene']\n",
    "ATCC_DH_blast['ATCC_gene'] = np.where(ATCC_DH_blast['ATCC_gene2'].isna(), np.NaN, ATCC_DH_blast['ATCC_gene'])\n",
    "ATCC_DH_blast['ATCC_alt2'] = np.where(ATCC_DH_blast['ATCC_genes'].str.startswith('c'), \n",
    "                                      ATCC_DH_blast['ATCC_genes'], np.NaN)\n",
    "ATCC_DH_blast['ATCC_gene2'] = np.where(ATCC_DH_blast['ATCC_gene2'].isna(), ATCC_DH_blast['ATCC_alt2'],\n",
    "                                      ATCC_DH_blast['ATCC_gene2'])\n",
    "ATCC_DH_blast = ATCC_DH_blast[['ATCC_gene', 'ATCC_gene2', 'DH_gene']]\n",
    "ATCC_DH_blast['ATCC_gene2'] = ATCC_DH_blast['ATCC_gene2'].apply(lambda x:str(x))"
   ]
  },
  {
   "cell_type": "code",
   "execution_count": 87,
   "metadata": {},
   "outputs": [],
   "source": [
    "## comma problems in more than 1 alternative names\n",
    "ATCC_DH_blast['ATCC_alt'] = ATCC_DH_blast['ATCC_gene2'].apply(lambda x:x.split(',')[0])\n",
    "alt2 =[]\n",
    "for i in ATCC_DH_blast['ATCC_gene2']:\n",
    "    try: \n",
    "        alt2.append(i.split(',')[1])\n",
    "    except (IndexError):\n",
    "        alt2.append('NA')\n",
    "\n",
    "ATCC_DH_blast['ATCC_alt2'] = alt2"
   ]
  },
  {
   "cell_type": "code",
   "execution_count": 88,
   "metadata": {
    "scrolled": true
   },
   "outputs": [
    {
     "data": {
      "text/html": [
       "<div>\n",
       "<style scoped>\n",
       "    .dataframe tbody tr th:only-of-type {\n",
       "        vertical-align: middle;\n",
       "    }\n",
       "\n",
       "    .dataframe tbody tr th {\n",
       "        vertical-align: top;\n",
       "    }\n",
       "\n",
       "    .dataframe thead th {\n",
       "        text-align: right;\n",
       "    }\n",
       "</style>\n",
       "<table border=\"1\" class=\"dataframe\">\n",
       "  <thead>\n",
       "    <tr style=\"text-align: right;\">\n",
       "      <th></th>\n",
       "      <th>ATCC_gene</th>\n",
       "      <th>ATCC_gene2</th>\n",
       "      <th>DH_gene</th>\n",
       "      <th>ATCC_alt</th>\n",
       "      <th>ATCC_alt2</th>\n",
       "    </tr>\n",
       "  </thead>\n",
       "  <tbody>\n",
       "    <tr>\n",
       "      <th>6</th>\n",
       "      <td>ecpD</td>\n",
       "      <td>c0401, c0171</td>\n",
       "      <td>ecpD</td>\n",
       "      <td>c0401</td>\n",
       "      <td>c0171</td>\n",
       "    </tr>\n",
       "    <tr>\n",
       "      <th>7</th>\n",
       "      <td>sucC</td>\n",
       "      <td>c0805, c5036</td>\n",
       "      <td>sucC</td>\n",
       "      <td>c0805</td>\n",
       "      <td>c5036</td>\n",
       "    </tr>\n",
       "    <tr>\n",
       "      <th>8</th>\n",
       "      <td>tdcD</td>\n",
       "      <td>c3873, c4530</td>\n",
       "      <td>tdcD</td>\n",
       "      <td>c3873</td>\n",
       "      <td>c4530</td>\n",
       "    </tr>\n",
       "    <tr>\n",
       "      <th>9</th>\n",
       "      <td>rbsK</td>\n",
       "      <td>c4680, c0331, c2492</td>\n",
       "      <td>rbsK</td>\n",
       "      <td>c4680</td>\n",
       "      <td>c0331</td>\n",
       "    </tr>\n",
       "    <tr>\n",
       "      <th>10</th>\n",
       "      <td>arcB</td>\n",
       "      <td>c5348, c3970</td>\n",
       "      <td>arcB</td>\n",
       "      <td>c5348</td>\n",
       "      <td>c3970</td>\n",
       "    </tr>\n",
       "  </tbody>\n",
       "</table>\n",
       "</div>"
      ],
      "text/plain": [
       "   ATCC_gene           ATCC_gene2 DH_gene ATCC_alt ATCC_alt2\n",
       "6       ecpD         c0401, c0171    ecpD    c0401     c0171\n",
       "7       sucC         c0805, c5036    sucC    c0805     c5036\n",
       "8       tdcD         c3873, c4530    tdcD    c3873     c4530\n",
       "9       rbsK  c4680, c0331, c2492    rbsK    c4680     c0331\n",
       "10      arcB         c5348, c3970    arcB    c5348     c3970"
      ]
     },
     "execution_count": 88,
     "metadata": {},
     "output_type": "execute_result"
    }
   ],
   "source": [
    "#extra rows\n",
    "temp = ATCC_DH_blast[ATCC_DH_blast['ATCC_alt2'] != 'NA'].reset_index(drop=True)\n",
    "temp.tail()"
   ]
  },
  {
   "cell_type": "code",
   "execution_count": 89,
   "metadata": {},
   "outputs": [
    {
     "data": {
      "text/html": [
       "<div>\n",
       "<style scoped>\n",
       "    .dataframe tbody tr th:only-of-type {\n",
       "        vertical-align: middle;\n",
       "    }\n",
       "\n",
       "    .dataframe tbody tr th {\n",
       "        vertical-align: top;\n",
       "    }\n",
       "\n",
       "    .dataframe thead th {\n",
       "        text-align: right;\n",
       "    }\n",
       "</style>\n",
       "<table border=\"1\" class=\"dataframe\">\n",
       "  <thead>\n",
       "    <tr style=\"text-align: right;\">\n",
       "      <th></th>\n",
       "      <th>ATCC_gene</th>\n",
       "      <th>ATCC_alt</th>\n",
       "      <th>DH_gene</th>\n",
       "    </tr>\n",
       "  </thead>\n",
       "  <tbody>\n",
       "    <tr>\n",
       "      <th>count</th>\n",
       "      <td>3152</td>\n",
       "      <td>3254</td>\n",
       "      <td>3254</td>\n",
       "    </tr>\n",
       "    <tr>\n",
       "      <th>unique</th>\n",
       "      <td>3140</td>\n",
       "      <td>3254</td>\n",
       "      <td>3241</td>\n",
       "    </tr>\n",
       "    <tr>\n",
       "      <th>top</th>\n",
       "      <td>rbsK</td>\n",
       "      <td>c5121</td>\n",
       "      <td>rbsK</td>\n",
       "    </tr>\n",
       "    <tr>\n",
       "      <th>freq</th>\n",
       "      <td>3</td>\n",
       "      <td>1</td>\n",
       "      <td>3</td>\n",
       "    </tr>\n",
       "  </tbody>\n",
       "</table>\n",
       "</div>"
      ],
      "text/plain": [
       "       ATCC_gene ATCC_alt DH_gene\n",
       "count       3152     3254    3254\n",
       "unique      3140     3254    3241\n",
       "top         rbsK    c5121    rbsK\n",
       "freq           3        1       3"
      ]
     },
     "execution_count": 89,
     "metadata": {},
     "output_type": "execute_result"
    }
   ],
   "source": [
    "temp = temp[['ATCC_gene','ATCC_alt2','DH_gene']]\n",
    "temp.rename(columns={'ATCC_alt2':'ATCC_alt'},inplace=True)\n",
    "\n",
    "temp = temp.append(pd.DataFrame({'ATCC_gene':['rbsK'],'ATCC_alt':['c2492'],\n",
    "                                 'DH_gene':['rbsK']}), ignore_index=True)\n",
    "\n",
    "ATCC_DH_blast = ATCC_DH_blast[['ATCC_gene','ATCC_alt','DH_gene']]\n",
    "ATCC_DH_blast = pd.concat([ATCC_DH_blast,temp]).reset_index(drop=True)\n",
    "\n",
    "#the row that was accidentally filter bc of true NA in alt name\n",
    "ATCC_DH_blast = ATCC_DH_blast.drop([1396]).reset_index(drop=True)\n",
    "\n",
    "ATCC_DH_blast.describe()"
   ]
  },
  {
   "cell_type": "code",
   "execution_count": 90,
   "metadata": {},
   "outputs": [],
   "source": [
    "ATCC_DH_blast = ATCC_DH_blast[~(ATCC_DH_blast['ATCC_alt']=='nan')]"
   ]
  },
  {
   "cell_type": "markdown",
   "metadata": {},
   "source": [
    "### Comparing"
   ]
  },
  {
   "cell_type": "code",
   "execution_count": 91,
   "metadata": {},
   "outputs": [],
   "source": [
    "AD_blast = np.array(ATCC_DH_blast[['ATCC_gene','DH_gene']].dropna())\n",
    "AD_blast_alt = np.array(ATCC_DH_blast[['ATCC_alt', 'DH_gene']].dropna())"
   ]
  },
  {
   "cell_type": "code",
   "execution_count": 92,
   "metadata": {},
   "outputs": [],
   "source": [
    "#checking blast using alphabet names only\n",
    "AD_blast_check = pd.DataFrame({})\n",
    "for i in range(len(AD_blast)):\n",
    "    df = ATCC_DH_mapping.iloc[:,:6][((ATCC_DH_mapping['CF_names1']== AD_blast[i][0])|\n",
    "               (ATCC_DH_mapping['CF_names2']==AD_blast[i][0]))]\n",
    "    if len(df)>=1:\n",
    "        df['matched_CF']= AD_blast[i][0]\n",
    "        df['matched_W3']= AD_blast[i][1]\n",
    "        df['check'] = ((ATCC_DH_mapping['W3_name1']==AD_blast[i][1])|\n",
    "                (ATCC_DH_mapping['W3_name2']==AD_blast[i][1]))\n",
    "        AD_blast_check = AD_blast_check.append(df, ignore_index=True)"
   ]
  },
  {
   "cell_type": "code",
   "execution_count": 93,
   "metadata": {},
   "outputs": [
    {
     "name": "stdout",
     "output_type": "stream",
     "text": [
      "1982 1898\n"
     ]
    },
    {
     "data": {
      "text/html": [
       "<div>\n",
       "<style scoped>\n",
       "    .dataframe tbody tr th:only-of-type {\n",
       "        vertical-align: middle;\n",
       "    }\n",
       "\n",
       "    .dataframe tbody tr th {\n",
       "        vertical-align: top;\n",
       "    }\n",
       "\n",
       "    .dataframe thead th {\n",
       "        text-align: right;\n",
       "    }\n",
       "</style>\n",
       "<table border=\"1\" class=\"dataframe\">\n",
       "  <thead>\n",
       "    <tr style=\"text-align: right;\">\n",
       "      <th></th>\n",
       "      <th>ATCC_names</th>\n",
       "      <th>DH_names</th>\n",
       "      <th>W3_name1</th>\n",
       "      <th>W3_name2</th>\n",
       "      <th>CF_names1</th>\n",
       "      <th>CF_names2</th>\n",
       "      <th>matched_CF</th>\n",
       "      <th>matched_W3</th>\n",
       "      <th>check</th>\n",
       "    </tr>\n",
       "  </thead>\n",
       "  <tbody>\n",
       "    <tr>\n",
       "      <th>0</th>\n",
       "      <td>DR76_RS01100</td>\n",
       "      <td>ECDH10B_RS12475</td>\n",
       "      <td>yfbR</td>\n",
       "      <td>None</td>\n",
       "      <td>yfbR</td>\n",
       "      <td>None</td>\n",
       "      <td>yfbR</td>\n",
       "      <td>yfbR</td>\n",
       "      <td>True</td>\n",
       "    </tr>\n",
       "    <tr>\n",
       "      <th>1</th>\n",
       "      <td>DR76_RS07060</td>\n",
       "      <td>ECDH10B_RS16790</td>\n",
       "      <td>agaR</td>\n",
       "      <td>None</td>\n",
       "      <td>agaR</td>\n",
       "      <td>None</td>\n",
       "      <td>agaR</td>\n",
       "      <td>agaR</td>\n",
       "      <td>True</td>\n",
       "    </tr>\n",
       "    <tr>\n",
       "      <th>2</th>\n",
       "      <td>DR76_RS09325</td>\n",
       "      <td>ECDH10B_RS15175</td>\n",
       "      <td>amiC</td>\n",
       "      <td>None</td>\n",
       "      <td>amiC</td>\n",
       "      <td>NaN</td>\n",
       "      <td>amiC</td>\n",
       "      <td>amiC</td>\n",
       "      <td>True</td>\n",
       "    </tr>\n",
       "    <tr>\n",
       "      <th>3</th>\n",
       "      <td>DR76_RS03755</td>\n",
       "      <td>ECDH10B_RS20010</td>\n",
       "      <td>asnC</td>\n",
       "      <td>None</td>\n",
       "      <td>asnC</td>\n",
       "      <td>None</td>\n",
       "      <td>asnC</td>\n",
       "      <td>asnC</td>\n",
       "      <td>True</td>\n",
       "    </tr>\n",
       "    <tr>\n",
       "      <th>4</th>\n",
       "      <td>DR76_RS00930</td>\n",
       "      <td>ECDH10B_RS12280</td>\n",
       "      <td>arnC</td>\n",
       "      <td>None</td>\n",
       "      <td>arnC</td>\n",
       "      <td>NaN</td>\n",
       "      <td>arnC</td>\n",
       "      <td>arnC</td>\n",
       "      <td>True</td>\n",
       "    </tr>\n",
       "  </tbody>\n",
       "</table>\n",
       "</div>"
      ],
      "text/plain": [
       "     ATCC_names         DH_names W3_name1 W3_name2 CF_names1 CF_names2  \\\n",
       "0  DR76_RS01100  ECDH10B_RS12475     yfbR     None      yfbR      None   \n",
       "1  DR76_RS07060  ECDH10B_RS16790     agaR     None      agaR      None   \n",
       "2  DR76_RS09325  ECDH10B_RS15175     amiC     None      amiC       NaN   \n",
       "3  DR76_RS03755  ECDH10B_RS20010     asnC     None      asnC      None   \n",
       "4  DR76_RS00930  ECDH10B_RS12280     arnC     None      arnC       NaN   \n",
       "\n",
       "  matched_CF matched_W3  check  \n",
       "0       yfbR       yfbR   True  \n",
       "1       agaR       agaR   True  \n",
       "2       amiC       amiC   True  \n",
       "3       asnC       asnC   True  \n",
       "4       arnC       arnC   True  "
      ]
     },
     "execution_count": 93,
     "metadata": {},
     "output_type": "execute_result"
    }
   ],
   "source": [
    "print(len(AD_blast_check), AD_blast_check['check'].sum())\n",
    "AD_blast_check.head()"
   ]
  },
  {
   "cell_type": "code",
   "execution_count": 94,
   "metadata": {},
   "outputs": [],
   "source": [
    "#checking blast_alt using alt names only\n",
    "AD_blast_alt_check = pd.DataFrame({})\n",
    "for i in range(len(AD_blast_alt)):\n",
    "    df = ATCC_DH_mapping.drop(ATCC_DH_mapping.columns[4:6], axis=1)[\n",
    "        ((ATCC_DH_mapping['CF_alt1']== AD_blast_alt[i][0])|\n",
    "               (ATCC_DH_mapping['CF_alt2']==AD_blast_alt[i][0]))]\n",
    "    if len(df)>=1:\n",
    "        df['matched_CF']= AD_blast_alt[i][0]\n",
    "        df['matched_W3']= AD_blast_alt[i][1]\n",
    "        df['check'] = ((ATCC_DH_mapping['W3_name1']==AD_blast_alt[i][1])|\n",
    "                (ATCC_DH_mapping['W3_name2']==AD_blast_alt[i][1]))\n",
    "        AD_blast_alt_check = AD_blast_alt_check.append(df, ignore_index=True)"
   ]
  },
  {
   "cell_type": "code",
   "execution_count": 95,
   "metadata": {},
   "outputs": [
    {
     "name": "stdout",
     "output_type": "stream",
     "text": [
      "2024 1913\n"
     ]
    },
    {
     "data": {
      "text/html": [
       "<div>\n",
       "<style scoped>\n",
       "    .dataframe tbody tr th:only-of-type {\n",
       "        vertical-align: middle;\n",
       "    }\n",
       "\n",
       "    .dataframe tbody tr th {\n",
       "        vertical-align: top;\n",
       "    }\n",
       "\n",
       "    .dataframe thead th {\n",
       "        text-align: right;\n",
       "    }\n",
       "</style>\n",
       "<table border=\"1\" class=\"dataframe\">\n",
       "  <thead>\n",
       "    <tr style=\"text-align: right;\">\n",
       "      <th></th>\n",
       "      <th>ATCC_names</th>\n",
       "      <th>DH_names</th>\n",
       "      <th>W3_name1</th>\n",
       "      <th>W3_name2</th>\n",
       "      <th>CF_names3</th>\n",
       "      <th>CF_alt1</th>\n",
       "      <th>CF_alt2</th>\n",
       "      <th>CF_alt3</th>\n",
       "      <th>matched_CF</th>\n",
       "      <th>matched_W3</th>\n",
       "      <th>check</th>\n",
       "    </tr>\n",
       "  </thead>\n",
       "  <tbody>\n",
       "    <tr>\n",
       "      <th>0</th>\n",
       "      <td>DR76_RS01100</td>\n",
       "      <td>ECDH10B_RS12475</td>\n",
       "      <td>yfbR</td>\n",
       "      <td>None</td>\n",
       "      <td>NaN</td>\n",
       "      <td>c2832</td>\n",
       "      <td>None</td>\n",
       "      <td>None</td>\n",
       "      <td>c2832</td>\n",
       "      <td>yfbR</td>\n",
       "      <td>True</td>\n",
       "    </tr>\n",
       "    <tr>\n",
       "      <th>1</th>\n",
       "      <td>DR76_RS07060</td>\n",
       "      <td>ECDH10B_RS16790</td>\n",
       "      <td>agaR</td>\n",
       "      <td>None</td>\n",
       "      <td>NaN</td>\n",
       "      <td>c3886</td>\n",
       "      <td>None</td>\n",
       "      <td>None</td>\n",
       "      <td>c3886</td>\n",
       "      <td>agaR</td>\n",
       "      <td>True</td>\n",
       "    </tr>\n",
       "    <tr>\n",
       "      <th>2</th>\n",
       "      <td>DR76_RS09325</td>\n",
       "      <td>ECDH10B_RS15175</td>\n",
       "      <td>amiC</td>\n",
       "      <td>None</td>\n",
       "      <td>NaN</td>\n",
       "      <td>c3411</td>\n",
       "      <td>None</td>\n",
       "      <td>None</td>\n",
       "      <td>c3411</td>\n",
       "      <td>amiC</td>\n",
       "      <td>True</td>\n",
       "    </tr>\n",
       "    <tr>\n",
       "      <th>3</th>\n",
       "      <td>DR76_RS03755</td>\n",
       "      <td>ECDH10B_RS20010</td>\n",
       "      <td>asnC</td>\n",
       "      <td>None</td>\n",
       "      <td>NaN</td>\n",
       "      <td>c4671</td>\n",
       "      <td>None</td>\n",
       "      <td>None</td>\n",
       "      <td>c4671</td>\n",
       "      <td>asnC</td>\n",
       "      <td>True</td>\n",
       "    </tr>\n",
       "    <tr>\n",
       "      <th>4</th>\n",
       "      <td>DR76_RS00930</td>\n",
       "      <td>ECDH10B_RS12280</td>\n",
       "      <td>arnC</td>\n",
       "      <td>None</td>\n",
       "      <td>NaN</td>\n",
       "      <td>c2796</td>\n",
       "      <td>None</td>\n",
       "      <td>None</td>\n",
       "      <td>c2796</td>\n",
       "      <td>arnC</td>\n",
       "      <td>True</td>\n",
       "    </tr>\n",
       "  </tbody>\n",
       "</table>\n",
       "</div>"
      ],
      "text/plain": [
       "     ATCC_names         DH_names W3_name1 W3_name2  CF_names3 CF_alt1 CF_alt2  \\\n",
       "0  DR76_RS01100  ECDH10B_RS12475     yfbR     None        NaN   c2832    None   \n",
       "1  DR76_RS07060  ECDH10B_RS16790     agaR     None        NaN   c3886    None   \n",
       "2  DR76_RS09325  ECDH10B_RS15175     amiC     None        NaN   c3411    None   \n",
       "3  DR76_RS03755  ECDH10B_RS20010     asnC     None        NaN   c4671    None   \n",
       "4  DR76_RS00930  ECDH10B_RS12280     arnC     None        NaN   c2796    None   \n",
       "\n",
       "  CF_alt3 matched_CF matched_W3  check  \n",
       "0    None      c2832       yfbR   True  \n",
       "1    None      c3886       agaR   True  \n",
       "2    None      c3411       amiC   True  \n",
       "3    None      c4671       asnC   True  \n",
       "4    None      c2796       arnC   True  "
      ]
     },
     "execution_count": 95,
     "metadata": {},
     "output_type": "execute_result"
    }
   ],
   "source": [
    "print(len(AD_blast_alt_check), AD_blast_alt_check['check'].sum())\n",
    "AD_blast_alt_check.head()"
   ]
  },
  {
   "cell_type": "markdown",
   "metadata": {},
   "source": [
    "### check equivalent names 1"
   ]
  },
  {
   "cell_type": "code",
   "execution_count": 96,
   "metadata": {},
   "outputs": [],
   "source": [
    "W3_names = pd.read_csv('../BLAST/Ecoli_K12_W3110_NC_007779__all_genes_info_blast.csv', header=None)\n",
    "W3_names.drop(W3_names.columns[11],axis=1,inplace=True)"
   ]
  },
  {
   "cell_type": "code",
   "execution_count": 167,
   "metadata": {},
   "outputs": [],
   "source": [
    "AD_check1 = AD_blast_check[AD_blast_check['check']==0][AD_blast_check.columns[[0,1,2,3,7]].to_list()]\n",
    "AD_check2 = AD_blast_alt_check[AD_blast_alt_check['check']==0][AD_blast_alt_check.columns[[0,1,2,3,9]].to_list()]"
   ]
  },
  {
   "cell_type": "code",
   "execution_count": 169,
   "metadata": {},
   "outputs": [],
   "source": [
    "AD_check1 = pd.merge(AD_check1, W3_names, left_on='matched_W3', right_on=W3_names.columns[0])\n",
    "AD_check1['check'] = AD_check1.drop(['matched_W3','W3_name1'],1).isin(AD_check1['W3_name1']).any(1)\n",
    "AD_include1 = AD_check1[AD_check1['check']]"
   ]
  },
  {
   "cell_type": "code",
   "execution_count": 171,
   "metadata": {},
   "outputs": [],
   "source": [
    "AD_check2 = pd.merge(AD_check2, W3_names, left_on='matched_W3', right_on=W3_names.columns[0])\n",
    "AD_check2['check'] = AD_check2.drop(['matched_W3','W3_name1'],1).isin(AD_check2['W3_name1']).any(1)\n",
    "AD_include2 = AD_check2[AD_check2['check']]"
   ]
  },
  {
   "cell_type": "code",
   "execution_count": 100,
   "metadata": {},
   "outputs": [],
   "source": [
    "AD_include = pd.concat([AD_include1.iloc[:,[0,1]], AD_include2.iloc[:,[0,1]]], axis=0).drop_duplicates(keep='first').reset_index(drop=True)"
   ]
  },
  {
   "cell_type": "markdown",
   "metadata": {},
   "source": [
    "### combine the checks"
   ]
  },
  {
   "cell_type": "code",
   "execution_count": 101,
   "metadata": {},
   "outputs": [],
   "source": [
    "##Comebine the two checks\n",
    "AD_exclude = pd.concat([AD_blast_check.iloc[:, [0,1,-1]],\n",
    "                 AD_blast_alt_check.iloc[:, [0,1,-1]]],axis=0).groupby(['ATCC_names','DH_names'])['check'].sum().reset_index()\n",
    "\n",
    "# show genes that are mismatched\n",
    "AD_exclude = AD_exclude[AD_exclude['check']==0].reset_index(drop=True)"
   ]
  },
  {
   "cell_type": "code",
   "execution_count": 102,
   "metadata": {},
   "outputs": [],
   "source": [
    "AD_exclude = AD_exclude[~AD_exclude['ATCC_names'].isin(np.array(AD_include['ATCC_names']))]"
   ]
  },
  {
   "cell_type": "markdown",
   "metadata": {},
   "source": [
    "## MG VS DH"
   ]
  },
  {
   "cell_type": "code",
   "execution_count": 103,
   "metadata": {},
   "outputs": [],
   "source": [
    "#subsetting from full mapping\n",
    "MG_DH_mapping = full_mapping.drop(full_mapping.columns[6:-1].to_list(), axis=1).drop(full_mapping.columns[0:2].to_list(), axis=1)"
   ]
  },
  {
   "cell_type": "code",
   "execution_count": 104,
   "metadata": {},
   "outputs": [],
   "source": [
    "#drop not found DH - no need to drop MG b/c MG is very complete\n",
    "MG_DH_mapping = MG_DH_mapping.dropna(subset=list(MG_DH_mapping.columns[2:4]),how='all').drop_duplicates(keep='first')"
   ]
  },
  {
   "cell_type": "markdown",
   "metadata": {},
   "source": [
    "### Comparing"
   ]
  },
  {
   "cell_type": "code",
   "execution_count": 105,
   "metadata": {},
   "outputs": [],
   "source": [
    "## Load blast files\n",
    "MG_DH_blast = pd.read_table('../BLAST/parameters_more_sensitive/RBH_out_MG1655_DH10B_more_sensitive_dmnd_uniq.tab')\n",
    "\n",
    "MG_DH_blast = MG_DH_blast[['A_gene', 'A_alt_name', 'B_gene']]\n",
    "MG_DH_blast.columns = ['MG_gene','MG_alt', 'DH_gene']"
   ]
  },
  {
   "cell_type": "code",
   "execution_count": 106,
   "metadata": {},
   "outputs": [],
   "source": [
    "MD_blast = np.array(MG_DH_blast[['MG_gene','DH_gene']].dropna())\n",
    "MD_blast_alt = np.array(MG_DH_blast[['MG_alt', 'DH_gene']].dropna())"
   ]
  },
  {
   "cell_type": "code",
   "execution_count": 107,
   "metadata": {},
   "outputs": [],
   "source": [
    "#checking blast using alphabet names only\n",
    "MD_blast_check = pd.DataFrame({})\n",
    "for i in range(len(MD_blast)):\n",
    "    df = MG_DH_mapping[(MG_DH_mapping['MG_id']== MD_blast[i][0])]\n",
    "    if len(df)>=1:\n",
    "        df['matched_MG']= MD_blast[i][0]\n",
    "        df['matched_DH']= MD_blast[i][1]\n",
    "        df['check'] = ((MG_DH_mapping['W3_name1']==MD_blast[i][1])|\n",
    "                (MG_DH_mapping['W3_name2']==MD_blast[i][1]))\n",
    "        MD_blast_check = MD_blast_check.append(df, ignore_index=True)"
   ]
  },
  {
   "cell_type": "code",
   "execution_count": 108,
   "metadata": {
    "scrolled": false
   },
   "outputs": [
    {
     "name": "stdout",
     "output_type": "stream",
     "text": [
      "2289 2201\n"
     ]
    },
    {
     "data": {
      "text/html": [
       "<div>\n",
       "<style scoped>\n",
       "    .dataframe tbody tr th:only-of-type {\n",
       "        vertical-align: middle;\n",
       "    }\n",
       "\n",
       "    .dataframe tbody tr th {\n",
       "        vertical-align: top;\n",
       "    }\n",
       "\n",
       "    .dataframe thead th {\n",
       "        text-align: right;\n",
       "    }\n",
       "</style>\n",
       "<table border=\"1\" class=\"dataframe\">\n",
       "  <thead>\n",
       "    <tr style=\"text-align: right;\">\n",
       "      <th></th>\n",
       "      <th>DH_names</th>\n",
       "      <th>MG_names</th>\n",
       "      <th>W3_name1</th>\n",
       "      <th>W3_name2</th>\n",
       "      <th>MG_id</th>\n",
       "      <th>matched_MG</th>\n",
       "      <th>matched_DH</th>\n",
       "      <th>check</th>\n",
       "    </tr>\n",
       "  </thead>\n",
       "  <tbody>\n",
       "    <tr>\n",
       "      <th>0</th>\n",
       "      <td>ECDH10B_RS20635</td>\n",
       "      <td>b4686</td>\n",
       "      <td>yshB</td>\n",
       "      <td>None</td>\n",
       "      <td>yshB</td>\n",
       "      <td>yshB</td>\n",
       "      <td>yshB</td>\n",
       "      <td>True</td>\n",
       "    </tr>\n",
       "    <tr>\n",
       "      <th>1</th>\n",
       "      <td>ECDH10B_RS12905</td>\n",
       "      <td>b2376</td>\n",
       "      <td>ypdI</td>\n",
       "      <td>None</td>\n",
       "      <td>ypdI</td>\n",
       "      <td>ypdI</td>\n",
       "      <td>ypdI</td>\n",
       "      <td>True</td>\n",
       "    </tr>\n",
       "    <tr>\n",
       "      <th>2</th>\n",
       "      <td>ECDH10B_RS11105</td>\n",
       "      <td>b2029</td>\n",
       "      <td>gndA</td>\n",
       "      <td>None</td>\n",
       "      <td>gnd</td>\n",
       "      <td>gnd</td>\n",
       "      <td>gnd</td>\n",
       "      <td>False</td>\n",
       "    </tr>\n",
       "    <tr>\n",
       "      <th>3</th>\n",
       "      <td>ECDH10B_RS22190</td>\n",
       "      <td>b4154</td>\n",
       "      <td>frdA</td>\n",
       "      <td>None</td>\n",
       "      <td>frdA</td>\n",
       "      <td>frdA</td>\n",
       "      <td>frdA</td>\n",
       "      <td>True</td>\n",
       "    </tr>\n",
       "    <tr>\n",
       "      <th>4</th>\n",
       "      <td>ECDH10B_RS09710</td>\n",
       "      <td>b1761</td>\n",
       "      <td>gdhA</td>\n",
       "      <td>None</td>\n",
       "      <td>gdhA</td>\n",
       "      <td>gdhA</td>\n",
       "      <td>gdhA</td>\n",
       "      <td>True</td>\n",
       "    </tr>\n",
       "    <tr>\n",
       "      <th>...</th>\n",
       "      <td>...</td>\n",
       "      <td>...</td>\n",
       "      <td>...</td>\n",
       "      <td>...</td>\n",
       "      <td>...</td>\n",
       "      <td>...</td>\n",
       "      <td>...</td>\n",
       "      <td>...</td>\n",
       "    </tr>\n",
       "    <tr>\n",
       "      <th>2284</th>\n",
       "      <td>ECDH10B_RS02260</td>\n",
       "      <td>b0484</td>\n",
       "      <td>copA</td>\n",
       "      <td>None</td>\n",
       "      <td>copA</td>\n",
       "      <td>copA</td>\n",
       "      <td>copA</td>\n",
       "      <td>True</td>\n",
       "    </tr>\n",
       "    <tr>\n",
       "      <th>2285</th>\n",
       "      <td>ECDH10B_RS19750</td>\n",
       "      <td>b4477</td>\n",
       "      <td>dgoA</td>\n",
       "      <td>None</td>\n",
       "      <td>dgoA</td>\n",
       "      <td>dgoA</td>\n",
       "      <td>dgoA</td>\n",
       "      <td>True</td>\n",
       "    </tr>\n",
       "    <tr>\n",
       "      <th>2286</th>\n",
       "      <td>ECDH10B_RS19745</td>\n",
       "      <td>b4478</td>\n",
       "      <td>dgoD</td>\n",
       "      <td>None</td>\n",
       "      <td>dgoD</td>\n",
       "      <td>dgoD</td>\n",
       "      <td>dgoD</td>\n",
       "      <td>True</td>\n",
       "    </tr>\n",
       "    <tr>\n",
       "      <th>2287</th>\n",
       "      <td>ECDH10B_RS18900</td>\n",
       "      <td>b4453</td>\n",
       "      <td>ldrD</td>\n",
       "      <td>None</td>\n",
       "      <td>ldrD</td>\n",
       "      <td>ldrD</td>\n",
       "      <td>ldrD</td>\n",
       "      <td>True</td>\n",
       "    </tr>\n",
       "    <tr>\n",
       "      <th>2288</th>\n",
       "      <td>ECDH10B_RS16300</td>\n",
       "      <td>b3034</td>\n",
       "      <td>nudF</td>\n",
       "      <td>None</td>\n",
       "      <td>nudF</td>\n",
       "      <td>nudF</td>\n",
       "      <td>nudF</td>\n",
       "      <td>True</td>\n",
       "    </tr>\n",
       "  </tbody>\n",
       "</table>\n",
       "<p>2289 rows × 8 columns</p>\n",
       "</div>"
      ],
      "text/plain": [
       "             DH_names MG_names W3_name1 W3_name2 MG_id matched_MG matched_DH  \\\n",
       "0     ECDH10B_RS20635    b4686     yshB     None  yshB       yshB       yshB   \n",
       "1     ECDH10B_RS12905    b2376     ypdI     None  ypdI       ypdI       ypdI   \n",
       "2     ECDH10B_RS11105    b2029     gndA     None   gnd        gnd        gnd   \n",
       "3     ECDH10B_RS22190    b4154     frdA     None  frdA       frdA       frdA   \n",
       "4     ECDH10B_RS09710    b1761     gdhA     None  gdhA       gdhA       gdhA   \n",
       "...               ...      ...      ...      ...   ...        ...        ...   \n",
       "2284  ECDH10B_RS02260    b0484     copA     None  copA       copA       copA   \n",
       "2285  ECDH10B_RS19750    b4477     dgoA     None  dgoA       dgoA       dgoA   \n",
       "2286  ECDH10B_RS19745    b4478     dgoD     None  dgoD       dgoD       dgoD   \n",
       "2287  ECDH10B_RS18900    b4453     ldrD     None  ldrD       ldrD       ldrD   \n",
       "2288  ECDH10B_RS16300    b3034     nudF     None  nudF       nudF       nudF   \n",
       "\n",
       "      check  \n",
       "0      True  \n",
       "1      True  \n",
       "2     False  \n",
       "3      True  \n",
       "4      True  \n",
       "...     ...  \n",
       "2284   True  \n",
       "2285   True  \n",
       "2286   True  \n",
       "2287   True  \n",
       "2288   True  \n",
       "\n",
       "[2289 rows x 8 columns]"
      ]
     },
     "execution_count": 108,
     "metadata": {},
     "output_type": "execute_result"
    }
   ],
   "source": [
    "print(len(MD_blast_check), MD_blast_check['check'].sum())\n",
    "MD_blast_check"
   ]
  },
  {
   "cell_type": "code",
   "execution_count": 109,
   "metadata": {},
   "outputs": [],
   "source": [
    "#checking blast_alt using alt names only\n",
    "MD_blast_alt_check = pd.DataFrame({})\n",
    "for i in range(len(MD_blast_alt)):\n",
    "    df = MG_DH_mapping[(MG_DH_mapping['MG_names']== MD_blast_alt[i][0])]\n",
    "    if len(df)>=1:\n",
    "        df['matched_MG']= MD_blast_alt[i][0]\n",
    "        df['matched_W3']= MD_blast_alt[i][1]\n",
    "        df['check'] = ((MG_DH_mapping['W3_name1']==MD_blast_alt[i][1])|\n",
    "                (MG_DH_mapping['W3_name2']==MD_blast_alt[i][1]))\n",
    "        MD_blast_alt_check = MD_blast_alt_check.append(df, ignore_index=True)"
   ]
  },
  {
   "cell_type": "code",
   "execution_count": 110,
   "metadata": {
    "scrolled": false
   },
   "outputs": [
    {
     "name": "stdout",
     "output_type": "stream",
     "text": [
      "2401 2274\n"
     ]
    },
    {
     "data": {
      "text/html": [
       "<div>\n",
       "<style scoped>\n",
       "    .dataframe tbody tr th:only-of-type {\n",
       "        vertical-align: middle;\n",
       "    }\n",
       "\n",
       "    .dataframe tbody tr th {\n",
       "        vertical-align: top;\n",
       "    }\n",
       "\n",
       "    .dataframe thead th {\n",
       "        text-align: right;\n",
       "    }\n",
       "</style>\n",
       "<table border=\"1\" class=\"dataframe\">\n",
       "  <thead>\n",
       "    <tr style=\"text-align: right;\">\n",
       "      <th></th>\n",
       "      <th>DH_names</th>\n",
       "      <th>MG_names</th>\n",
       "      <th>W3_name1</th>\n",
       "      <th>W3_name2</th>\n",
       "      <th>MG_id</th>\n",
       "      <th>matched_MG</th>\n",
       "      <th>matched_DH</th>\n",
       "      <th>check</th>\n",
       "    </tr>\n",
       "  </thead>\n",
       "  <tbody>\n",
       "    <tr>\n",
       "      <th>0</th>\n",
       "      <td>ECDH10B_RS20635</td>\n",
       "      <td>b4686</td>\n",
       "      <td>yshB</td>\n",
       "      <td>None</td>\n",
       "      <td>yshB</td>\n",
       "      <td>yshB</td>\n",
       "      <td>yshB</td>\n",
       "      <td>True</td>\n",
       "    </tr>\n",
       "    <tr>\n",
       "      <th>1</th>\n",
       "      <td>ECDH10B_RS12905</td>\n",
       "      <td>b2376</td>\n",
       "      <td>ypdI</td>\n",
       "      <td>None</td>\n",
       "      <td>ypdI</td>\n",
       "      <td>ypdI</td>\n",
       "      <td>ypdI</td>\n",
       "      <td>True</td>\n",
       "    </tr>\n",
       "    <tr>\n",
       "      <th>2</th>\n",
       "      <td>ECDH10B_RS11105</td>\n",
       "      <td>b2029</td>\n",
       "      <td>gndA</td>\n",
       "      <td>None</td>\n",
       "      <td>gnd</td>\n",
       "      <td>gnd</td>\n",
       "      <td>gnd</td>\n",
       "      <td>False</td>\n",
       "    </tr>\n",
       "    <tr>\n",
       "      <th>3</th>\n",
       "      <td>ECDH10B_RS22190</td>\n",
       "      <td>b4154</td>\n",
       "      <td>frdA</td>\n",
       "      <td>None</td>\n",
       "      <td>frdA</td>\n",
       "      <td>frdA</td>\n",
       "      <td>frdA</td>\n",
       "      <td>True</td>\n",
       "    </tr>\n",
       "    <tr>\n",
       "      <th>4</th>\n",
       "      <td>ECDH10B_RS09710</td>\n",
       "      <td>b1761</td>\n",
       "      <td>gdhA</td>\n",
       "      <td>None</td>\n",
       "      <td>gdhA</td>\n",
       "      <td>gdhA</td>\n",
       "      <td>gdhA</td>\n",
       "      <td>True</td>\n",
       "    </tr>\n",
       "    <tr>\n",
       "      <th>...</th>\n",
       "      <td>...</td>\n",
       "      <td>...</td>\n",
       "      <td>...</td>\n",
       "      <td>...</td>\n",
       "      <td>...</td>\n",
       "      <td>...</td>\n",
       "      <td>...</td>\n",
       "      <td>...</td>\n",
       "    </tr>\n",
       "    <tr>\n",
       "      <th>2284</th>\n",
       "      <td>ECDH10B_RS02260</td>\n",
       "      <td>b0484</td>\n",
       "      <td>copA</td>\n",
       "      <td>None</td>\n",
       "      <td>copA</td>\n",
       "      <td>copA</td>\n",
       "      <td>copA</td>\n",
       "      <td>True</td>\n",
       "    </tr>\n",
       "    <tr>\n",
       "      <th>2285</th>\n",
       "      <td>ECDH10B_RS19750</td>\n",
       "      <td>b4477</td>\n",
       "      <td>dgoA</td>\n",
       "      <td>None</td>\n",
       "      <td>dgoA</td>\n",
       "      <td>dgoA</td>\n",
       "      <td>dgoA</td>\n",
       "      <td>True</td>\n",
       "    </tr>\n",
       "    <tr>\n",
       "      <th>2286</th>\n",
       "      <td>ECDH10B_RS19745</td>\n",
       "      <td>b4478</td>\n",
       "      <td>dgoD</td>\n",
       "      <td>None</td>\n",
       "      <td>dgoD</td>\n",
       "      <td>dgoD</td>\n",
       "      <td>dgoD</td>\n",
       "      <td>True</td>\n",
       "    </tr>\n",
       "    <tr>\n",
       "      <th>2287</th>\n",
       "      <td>ECDH10B_RS18900</td>\n",
       "      <td>b4453</td>\n",
       "      <td>ldrD</td>\n",
       "      <td>None</td>\n",
       "      <td>ldrD</td>\n",
       "      <td>ldrD</td>\n",
       "      <td>ldrD</td>\n",
       "      <td>True</td>\n",
       "    </tr>\n",
       "    <tr>\n",
       "      <th>2288</th>\n",
       "      <td>ECDH10B_RS16300</td>\n",
       "      <td>b3034</td>\n",
       "      <td>nudF</td>\n",
       "      <td>None</td>\n",
       "      <td>nudF</td>\n",
       "      <td>nudF</td>\n",
       "      <td>nudF</td>\n",
       "      <td>True</td>\n",
       "    </tr>\n",
       "  </tbody>\n",
       "</table>\n",
       "<p>2289 rows × 8 columns</p>\n",
       "</div>"
      ],
      "text/plain": [
       "             DH_names MG_names W3_name1 W3_name2 MG_id matched_MG matched_DH  \\\n",
       "0     ECDH10B_RS20635    b4686     yshB     None  yshB       yshB       yshB   \n",
       "1     ECDH10B_RS12905    b2376     ypdI     None  ypdI       ypdI       ypdI   \n",
       "2     ECDH10B_RS11105    b2029     gndA     None   gnd        gnd        gnd   \n",
       "3     ECDH10B_RS22190    b4154     frdA     None  frdA       frdA       frdA   \n",
       "4     ECDH10B_RS09710    b1761     gdhA     None  gdhA       gdhA       gdhA   \n",
       "...               ...      ...      ...      ...   ...        ...        ...   \n",
       "2284  ECDH10B_RS02260    b0484     copA     None  copA       copA       copA   \n",
       "2285  ECDH10B_RS19750    b4477     dgoA     None  dgoA       dgoA       dgoA   \n",
       "2286  ECDH10B_RS19745    b4478     dgoD     None  dgoD       dgoD       dgoD   \n",
       "2287  ECDH10B_RS18900    b4453     ldrD     None  ldrD       ldrD       ldrD   \n",
       "2288  ECDH10B_RS16300    b3034     nudF     None  nudF       nudF       nudF   \n",
       "\n",
       "      check  \n",
       "0      True  \n",
       "1      True  \n",
       "2     False  \n",
       "3      True  \n",
       "4      True  \n",
       "...     ...  \n",
       "2284   True  \n",
       "2285   True  \n",
       "2286   True  \n",
       "2287   True  \n",
       "2288   True  \n",
       "\n",
       "[2289 rows x 8 columns]"
      ]
     },
     "execution_count": 110,
     "metadata": {},
     "output_type": "execute_result"
    }
   ],
   "source": [
    "print(len(MD_blast_alt_check), MD_blast_alt_check['check'].sum())\n",
    "MD_blast_check"
   ]
  },
  {
   "cell_type": "code",
   "execution_count": 196,
   "metadata": {},
   "outputs": [
    {
     "data": {
      "text/html": [
       "<div>\n",
       "<style scoped>\n",
       "    .dataframe tbody tr th:only-of-type {\n",
       "        vertical-align: middle;\n",
       "    }\n",
       "\n",
       "    .dataframe tbody tr th {\n",
       "        vertical-align: top;\n",
       "    }\n",
       "\n",
       "    .dataframe thead th {\n",
       "        text-align: right;\n",
       "    }\n",
       "</style>\n",
       "<table border=\"1\" class=\"dataframe\">\n",
       "  <thead>\n",
       "    <tr style=\"text-align: right;\">\n",
       "      <th></th>\n",
       "      <th>DH_names</th>\n",
       "      <th>MG_names</th>\n",
       "      <th>W3_name1</th>\n",
       "      <th>W3_name2</th>\n",
       "      <th>matched_MG</th>\n",
       "      <th>matched_DH</th>\n",
       "    </tr>\n",
       "  </thead>\n",
       "  <tbody>\n",
       "    <tr>\n",
       "      <th>2</th>\n",
       "      <td>ECDH10B_RS11105</td>\n",
       "      <td>b2029</td>\n",
       "      <td>gndA</td>\n",
       "      <td>None</td>\n",
       "      <td>gnd</td>\n",
       "      <td>gnd</td>\n",
       "    </tr>\n",
       "    <tr>\n",
       "      <th>19</th>\n",
       "      <td>ECDH10B_RS22170</td>\n",
       "      <td>b4150</td>\n",
       "      <td>blaEC</td>\n",
       "      <td>None</td>\n",
       "      <td>ampC</td>\n",
       "      <td>ampC</td>\n",
       "    </tr>\n",
       "    <tr>\n",
       "      <th>26</th>\n",
       "      <td>ECDH10B_RS07080</td>\n",
       "      <td>b1262</td>\n",
       "      <td>trpCF</td>\n",
       "      <td>None</td>\n",
       "      <td>trpC</td>\n",
       "      <td>trpC</td>\n",
       "    </tr>\n",
       "    <tr>\n",
       "      <th>71</th>\n",
       "      <td>ECDH10B_RS22695</td>\n",
       "      <td>b4254</td>\n",
       "      <td>argF</td>\n",
       "      <td>None</td>\n",
       "      <td>argI</td>\n",
       "      <td>argI</td>\n",
       "    </tr>\n",
       "    <tr>\n",
       "      <th>117</th>\n",
       "      <td>ECDH10B_RS18680</td>\n",
       "      <td>b3500</td>\n",
       "      <td>gorA</td>\n",
       "      <td>None</td>\n",
       "      <td>gor</td>\n",
       "      <td>gor</td>\n",
       "    </tr>\n",
       "  </tbody>\n",
       "</table>\n",
       "</div>"
      ],
      "text/plain": [
       "            DH_names MG_names W3_name1 W3_name2 matched_MG matched_DH\n",
       "2    ECDH10B_RS11105    b2029     gndA     None        gnd        gnd\n",
       "19   ECDH10B_RS22170    b4150    blaEC     None       ampC       ampC\n",
       "26   ECDH10B_RS07080    b1262    trpCF     None       trpC       trpC\n",
       "71   ECDH10B_RS22695    b4254     argF     None       argI       argI\n",
       "117  ECDH10B_RS18680    b3500     gorA     None        gor        gor"
      ]
     },
     "execution_count": 196,
     "metadata": {},
     "output_type": "execute_result"
    }
   ],
   "source": [
    "MD_blast_check[MD_blast_check['check']==0][MD_blast_check.columns[[0,1,2,3,5,6]].to_list()].head()"
   ]
  },
  {
   "cell_type": "markdown",
   "metadata": {},
   "source": [
    "### check equivalent names"
   ]
  },
  {
   "cell_type": "code",
   "execution_count": 181,
   "metadata": {},
   "outputs": [],
   "source": [
    "MD_check1 = MD_blast_check[MD_blast_check['check']==0][MD_blast_check.columns[[0,1,2,3,6]].to_list()]\n",
    "MD_check2 = MD_blast_alt_check[MD_blast_alt_check['check']==0][MD_blast_alt_check.columns[[0,1,2,3,6]].to_list()]"
   ]
  },
  {
   "cell_type": "code",
   "execution_count": 183,
   "metadata": {},
   "outputs": [],
   "source": [
    "MD_check1 = pd.merge(MD_check1, W3_names, left_on='matched_DH', right_on=W3_names.columns[0])\n",
    "MD_check1['check'] = MD_check1.drop(['matched_DH','W3_name1'],1).isin(MD_check1['W3_name1']).any(1)\n",
    "MD_include1 = MD_check1[MD_check1['check']]"
   ]
  },
  {
   "cell_type": "code",
   "execution_count": 185,
   "metadata": {},
   "outputs": [],
   "source": [
    "MD_check2 = pd.merge(MD_check2, W3_names, left_on='matched_W3', right_on=W3_names.columns[0])\n",
    "MD_check2['check'] = MD_check2.drop(['matched_W3','W3_name1'],1).isin(MD_check2['W3_name1']).any(1)\n",
    "MD_include2 = MD_check2[MD_check2['check']]"
   ]
  },
  {
   "cell_type": "code",
   "execution_count": 116,
   "metadata": {},
   "outputs": [],
   "source": [
    "MD_include = pd.concat([MD_include1.iloc[:,[0,1]], MD_include2.iloc[:,[0,1]]], axis=0).drop_duplicates(keep='first').reset_index(drop=True)"
   ]
  },
  {
   "cell_type": "markdown",
   "metadata": {},
   "source": [
    "### combine the checks"
   ]
  },
  {
   "cell_type": "code",
   "execution_count": 118,
   "metadata": {},
   "outputs": [],
   "source": [
    "##Comebine the two checks\n",
    "MD_exclude = pd.concat([MD_blast_check.iloc[:, [0,1,-1]],\n",
    "                MD_blast_alt_check.iloc[:, [0,1,-1]]],axis=0).groupby(['MG_names','DH_names'])['check'].sum().reset_index()\n",
    "\n",
    "##show genes that are mismatched\n",
    "MD_exclude = MD_exclude[MD_exclude['check']==0]"
   ]
  },
  {
   "cell_type": "code",
   "execution_count": 119,
   "metadata": {
    "scrolled": false
   },
   "outputs": [],
   "source": [
    "MD_exclude = MD_exclude[~MD_exclude['DH_names'].isin(np.array(MD_include['DH_names']))]"
   ]
  },
  {
   "cell_type": "code",
   "execution_count": 191,
   "metadata": {
    "scrolled": false
   },
   "outputs": [
    {
     "data": {
      "text/html": [
       "<div>\n",
       "<style scoped>\n",
       "    .dataframe tbody tr th:only-of-type {\n",
       "        vertical-align: middle;\n",
       "    }\n",
       "\n",
       "    .dataframe tbody tr th {\n",
       "        vertical-align: top;\n",
       "    }\n",
       "\n",
       "    .dataframe thead th {\n",
       "        text-align: right;\n",
       "    }\n",
       "</style>\n",
       "<table border=\"1\" class=\"dataframe\">\n",
       "  <thead>\n",
       "    <tr style=\"text-align: right;\">\n",
       "      <th></th>\n",
       "      <th>DH_names</th>\n",
       "      <th>MG_names</th>\n",
       "      <th>W3_name1</th>\n",
       "      <th>W3_name2</th>\n",
       "      <th>MG_id</th>\n",
       "      <th>matched_MG</th>\n",
       "      <th>matched_DH</th>\n",
       "      <th>check</th>\n",
       "    </tr>\n",
       "  </thead>\n",
       "  <tbody>\n",
       "    <tr>\n",
       "      <th>1657</th>\n",
       "      <td>ECDH10B_RS19145</td>\n",
       "      <td>b3581</td>\n",
       "      <td>ulaD</td>\n",
       "      <td>None</td>\n",
       "      <td>sgbH</td>\n",
       "      <td>sgbH</td>\n",
       "      <td>sgbH</td>\n",
       "      <td>False</td>\n",
       "    </tr>\n",
       "  </tbody>\n",
       "</table>\n",
       "</div>"
      ],
      "text/plain": [
       "             DH_names MG_names W3_name1 W3_name2 MG_id matched_MG matched_DH  \\\n",
       "1657  ECDH10B_RS19145    b3581     ulaD     None  sgbH       sgbH       sgbH   \n",
       "\n",
       "      check  \n",
       "1657  False  "
      ]
     },
     "execution_count": 191,
     "metadata": {},
     "output_type": "execute_result"
    }
   ],
   "source": [
    "MD_blast_check[MD_blast_check['MG_names']=='b3581']"
   ]
  },
  {
   "cell_type": "code",
   "execution_count": 121,
   "metadata": {},
   "outputs": [
    {
     "data": {
      "text/html": [
       "<div>\n",
       "<style scoped>\n",
       "    .dataframe tbody tr th:only-of-type {\n",
       "        vertical-align: middle;\n",
       "    }\n",
       "\n",
       "    .dataframe tbody tr th {\n",
       "        vertical-align: top;\n",
       "    }\n",
       "\n",
       "    .dataframe thead th {\n",
       "        text-align: right;\n",
       "    }\n",
       "</style>\n",
       "<table border=\"1\" class=\"dataframe\">\n",
       "  <thead>\n",
       "    <tr style=\"text-align: right;\">\n",
       "      <th></th>\n",
       "      <th>0</th>\n",
       "      <th>1</th>\n",
       "      <th>2</th>\n",
       "      <th>3</th>\n",
       "      <th>4</th>\n",
       "      <th>5</th>\n",
       "      <th>6</th>\n",
       "      <th>7</th>\n",
       "      <th>8</th>\n",
       "      <th>9</th>\n",
       "      <th>10</th>\n",
       "    </tr>\n",
       "  </thead>\n",
       "  <tbody>\n",
       "    <tr>\n",
       "      <th>3846</th>\n",
       "      <td>ulaD</td>\n",
       "      <td>sgaH</td>\n",
       "      <td>yjfV</td>\n",
       "      <td>b4196</td>\n",
       "      <td>JW4154</td>\n",
       "      <td>NaN</td>\n",
       "      <td>NaN</td>\n",
       "      <td>NaN</td>\n",
       "      <td>NaN</td>\n",
       "      <td>NaN</td>\n",
       "      <td>NaN</td>\n",
       "    </tr>\n",
       "  </tbody>\n",
       "</table>\n",
       "</div>"
      ],
      "text/plain": [
       "        0     1     2      3       4    5    6    7    8    9    10\n",
       "3846  ulaD  sgaH  yjfV  b4196  JW4154  NaN  NaN  NaN  NaN  NaN  NaN"
      ]
     },
     "execution_count": 121,
     "metadata": {},
     "output_type": "execute_result"
    }
   ],
   "source": [
    "W3_names[W3_names[W3_names.columns[0]]=='ulaD']"
   ]
  },
  {
   "cell_type": "code",
   "execution_count": 200,
   "metadata": {},
   "outputs": [],
   "source": [
    "temp = pd.read_csv('../BLAST/Ecoli_K12_MG1655_U00096___all_genes_info_blast.csv', header=None)"
   ]
  },
  {
   "cell_type": "code",
   "execution_count": 201,
   "metadata": {},
   "outputs": [
    {
     "data": {
      "text/html": [
       "<div>\n",
       "<style scoped>\n",
       "    .dataframe tbody tr th:only-of-type {\n",
       "        vertical-align: middle;\n",
       "    }\n",
       "\n",
       "    .dataframe tbody tr th {\n",
       "        vertical-align: top;\n",
       "    }\n",
       "\n",
       "    .dataframe thead th {\n",
       "        text-align: right;\n",
       "    }\n",
       "</style>\n",
       "<table border=\"1\" class=\"dataframe\">\n",
       "  <thead>\n",
       "    <tr style=\"text-align: right;\">\n",
       "      <th></th>\n",
       "      <th>0</th>\n",
       "      <th>1</th>\n",
       "      <th>2</th>\n",
       "      <th>3</th>\n",
       "      <th>4</th>\n",
       "      <th>5</th>\n",
       "      <th>6</th>\n",
       "      <th>7</th>\n",
       "      <th>8</th>\n",
       "      <th>9</th>\n",
       "      <th>10</th>\n",
       "      <th>11</th>\n",
       "    </tr>\n",
       "  </thead>\n",
       "  <tbody>\n",
       "    <tr>\n",
       "      <th>3929</th>\n",
       "      <td>ulaD</td>\n",
       "      <td>sgaH</td>\n",
       "      <td>yjfV</td>\n",
       "      <td>b4196</td>\n",
       "      <td>JW4154</td>\n",
       "      <td>NaN</td>\n",
       "      <td>NaN</td>\n",
       "      <td>NaN</td>\n",
       "      <td>NaN</td>\n",
       "      <td>NaN</td>\n",
       "      <td>NaN</td>\n",
       "      <td>NaN</td>\n",
       "    </tr>\n",
       "  </tbody>\n",
       "</table>\n",
       "</div>"
      ],
      "text/plain": [
       "        0     1     2      3       4    5    6    7    8    9    10  11\n",
       "3929  ulaD  sgaH  yjfV  b4196  JW4154  NaN  NaN  NaN  NaN  NaN  NaN NaN"
      ]
     },
     "execution_count": 201,
     "metadata": {},
     "output_type": "execute_result"
    }
   ],
   "source": [
    "temp[temp[temp.columns[0]]=='ulaD']"
   ]
  },
  {
   "cell_type": "code",
   "execution_count": 204,
   "metadata": {},
   "outputs": [
    {
     "data": {
      "text/html": [
       "<div>\n",
       "<style scoped>\n",
       "    .dataframe tbody tr th:only-of-type {\n",
       "        vertical-align: middle;\n",
       "    }\n",
       "\n",
       "    .dataframe tbody tr th {\n",
       "        vertical-align: top;\n",
       "    }\n",
       "\n",
       "    .dataframe thead th {\n",
       "        text-align: right;\n",
       "    }\n",
       "</style>\n",
       "<table border=\"1\" class=\"dataframe\">\n",
       "  <thead>\n",
       "    <tr style=\"text-align: right;\">\n",
       "      <th></th>\n",
       "      <th>0</th>\n",
       "      <th>1</th>\n",
       "      <th>2</th>\n",
       "      <th>3</th>\n",
       "      <th>4</th>\n",
       "      <th>5</th>\n",
       "      <th>6</th>\n",
       "      <th>7</th>\n",
       "      <th>8</th>\n",
       "      <th>9</th>\n",
       "      <th>10</th>\n",
       "    </tr>\n",
       "  </thead>\n",
       "  <tbody>\n",
       "    <tr>\n",
       "      <th>3846</th>\n",
       "      <td>ulaD</td>\n",
       "      <td>sgaH</td>\n",
       "      <td>yjfV</td>\n",
       "      <td>b4196</td>\n",
       "      <td>JW4154</td>\n",
       "      <td>NaN</td>\n",
       "      <td>NaN</td>\n",
       "      <td>NaN</td>\n",
       "      <td>NaN</td>\n",
       "      <td>NaN</td>\n",
       "      <td>NaN</td>\n",
       "    </tr>\n",
       "  </tbody>\n",
       "</table>\n",
       "</div>"
      ],
      "text/plain": [
       "        0     1     2      3       4    5    6    7    8    9    10\n",
       "3846  ulaD  sgaH  yjfV  b4196  JW4154  NaN  NaN  NaN  NaN  NaN  NaN"
      ]
     },
     "execution_count": 204,
     "metadata": {},
     "output_type": "execute_result"
    }
   ],
   "source": [
    "W3_names[W3_names[W3_names.columns[1]]=='sgaH']"
   ]
  },
  {
   "cell_type": "markdown",
   "metadata": {},
   "source": [
    "## MG VS ATCC"
   ]
  },
  {
   "cell_type": "code",
   "execution_count": 124,
   "metadata": {},
   "outputs": [],
   "source": [
    "#subsetting from full mapping\n",
    "MG_ATCC_mapping = full_mapping.drop(['BW_names', 'DH_names','W3_name1',\n",
    "       'W3_name2'], axis=1)"
   ]
  },
  {
   "cell_type": "code",
   "execution_count": 125,
   "metadata": {},
   "outputs": [],
   "source": [
    "#drop not found ATCC, not dropping MG b/c MG is very complete \n",
    "MG_ATCC_mapping = MG_ATCC_mapping.dropna(subset=list(MG_ATCC_mapping.columns[2:-1]),how='all').drop_duplicates(keep='first')"
   ]
  },
  {
   "cell_type": "markdown",
   "metadata": {},
   "source": [
    "### Cleaning up MA Blast "
   ]
  },
  {
   "cell_type": "code",
   "execution_count": 126,
   "metadata": {},
   "outputs": [],
   "source": [
    "MG_ATCC_blast = pd.read_table('../BLAST/parameters_more_sensitive/RBH_out_MG1655_ATCC_more_sensitive_dmnd_uniq.tab')\n",
    "MG_ATCC_blast = MG_ATCC_blast[['A_gene', 'A_alt_name', 'B_gene', 'B_alt_name']]\n",
    "MG_ATCC_blast.columns = ['MG_gene','MG_gene2', 'ATCC_gene', 'ATCC_gene2']\n",
    "#3264 rows from blast \n",
    "\n",
    "#remove redundant ecpD gene\n",
    "MG_ATCC_blast = MG_ATCC_blast[MG_ATCC_blast['MG_gene']!='yadV']\n",
    "MG_ATCC_blast.columns = ['MG_gene','MG_gene2', 'ATCC_gene', 'ATCC_gene2']"
   ]
  },
  {
   "cell_type": "code",
   "execution_count": 127,
   "metadata": {},
   "outputs": [],
   "source": [
    "## fix shifting in alt gene names \n",
    "MG_ATCC_blast['ATCC_genes'] = MG_ATCC_blast['ATCC_gene']\n",
    "MG_ATCC_blast['ATCC_gene'] = np.where(MG_ATCC_blast['ATCC_gene2'].isna(), np.NaN, MG_ATCC_blast['ATCC_gene'])\n",
    "\n",
    "\n",
    "MG_ATCC_blast['ATCC_alt2'] = np.where(MG_ATCC_blast['ATCC_genes'].str.startswith('c'), \n",
    "                                      MG_ATCC_blast['ATCC_genes'], np.NaN)\n",
    "\n",
    "MG_ATCC_blast['ATCC_gene2'] = np.where(MG_ATCC_blast['ATCC_gene2'].isna(), MG_ATCC_blast['ATCC_alt2'],\n",
    "                                      MG_ATCC_blast['ATCC_gene2'])\n",
    "\n",
    "MG_ATCC_blast = MG_ATCC_blast[['MG_gene', 'MG_gene2','ATCC_gene', 'ATCC_gene2']]\n",
    "\n",
    "MG_ATCC_blast['ATCC_gene2'] = MG_ATCC_blast['ATCC_gene2'].apply(lambda x:str(x))"
   ]
  },
  {
   "cell_type": "code",
   "execution_count": 128,
   "metadata": {},
   "outputs": [],
   "source": [
    "## comma problems in more than 1 alternative names\n",
    "MG_ATCC_blast['ATCC_alt'] = MG_ATCC_blast['ATCC_gene2'].apply(lambda x:x.split(',')[0])\n",
    "\n",
    "\n",
    "alt2 =[]\n",
    "for i in MG_ATCC_blast['ATCC_gene2']:\n",
    "    try: \n",
    "        alt2.append(i.split(',')[1])\n",
    "    except (IndexError):\n",
    "        alt2.append('NA')\n",
    "\n",
    "MG_ATCC_blast['ATCC_alt2'] = alt2"
   ]
  },
  {
   "cell_type": "code",
   "execution_count": 129,
   "metadata": {},
   "outputs": [],
   "source": [
    "#extra rows\n",
    "temp = MG_ATCC_blast[MG_ATCC_blast['ATCC_alt2'] != 'NA'].reset_index(drop=True)"
   ]
  },
  {
   "cell_type": "code",
   "execution_count": 130,
   "metadata": {},
   "outputs": [
    {
     "data": {
      "text/html": [
       "<div>\n",
       "<style scoped>\n",
       "    .dataframe tbody tr th:only-of-type {\n",
       "        vertical-align: middle;\n",
       "    }\n",
       "\n",
       "    .dataframe tbody tr th {\n",
       "        vertical-align: top;\n",
       "    }\n",
       "\n",
       "    .dataframe thead th {\n",
       "        text-align: right;\n",
       "    }\n",
       "</style>\n",
       "<table border=\"1\" class=\"dataframe\">\n",
       "  <thead>\n",
       "    <tr style=\"text-align: right;\">\n",
       "      <th></th>\n",
       "      <th>MG_gene</th>\n",
       "      <th>MG_gene2</th>\n",
       "      <th>ATCC_gene</th>\n",
       "      <th>ATCC_alt</th>\n",
       "    </tr>\n",
       "  </thead>\n",
       "  <tbody>\n",
       "    <tr>\n",
       "      <th>count</th>\n",
       "      <td>3275</td>\n",
       "      <td>3273</td>\n",
       "      <td>3163</td>\n",
       "      <td>3275</td>\n",
       "    </tr>\n",
       "    <tr>\n",
       "      <th>unique</th>\n",
       "      <td>3263</td>\n",
       "      <td>3260</td>\n",
       "      <td>3149</td>\n",
       "      <td>3264</td>\n",
       "    </tr>\n",
       "    <tr>\n",
       "      <th>top</th>\n",
       "      <td>rbsK</td>\n",
       "      <td>b3752</td>\n",
       "      <td>rbsK</td>\n",
       "      <td>c3611</td>\n",
       "    </tr>\n",
       "    <tr>\n",
       "      <th>freq</th>\n",
       "      <td>3</td>\n",
       "      <td>3</td>\n",
       "      <td>3</td>\n",
       "      <td>6</td>\n",
       "    </tr>\n",
       "  </tbody>\n",
       "</table>\n",
       "</div>"
      ],
      "text/plain": [
       "       MG_gene MG_gene2 ATCC_gene ATCC_alt\n",
       "count     3275     3273      3163     3275\n",
       "unique    3263     3260      3149     3264\n",
       "top       rbsK    b3752      rbsK    c3611\n",
       "freq         3        3         3        6"
      ]
     },
     "execution_count": 130,
     "metadata": {},
     "output_type": "execute_result"
    }
   ],
   "source": [
    "temp = temp[['MG_gene', 'MG_gene2','ATCC_gene','ATCC_alt2']]\n",
    "temp.rename(columns={'ATCC_alt2':'ATCC_alt'},inplace=True)\n",
    "\n",
    "temp = temp.append(pd.DataFrame({'MG_gene':['rbsK'],'MG_gene2':['b3752'],\n",
    "                                 'ATCC_gene':['rbsK'],'ATCC_alt':['c2492']}), ignore_index=True)\n",
    "\n",
    "MG_ATCC_blast = MG_ATCC_blast[['MG_gene', 'MG_gene2','ATCC_gene','ATCC_alt']]\n",
    "MG_ATCC_blast = pd.concat([MG_ATCC_blast,temp]).reset_index(drop=True)\n",
    "\n",
    "#the row that was accidentally filter bc of true NA in alt name\n",
    "#MG_ATCC_blast = MG_ATCC_blast.drop([1396]).reset_index(drop=True)\n",
    "\n",
    "MG_ATCC_blast.describe()"
   ]
  },
  {
   "cell_type": "code",
   "execution_count": 131,
   "metadata": {},
   "outputs": [],
   "source": [
    "MG_ATCC_blast = MG_ATCC_blast[~(MG_ATCC_blast['ATCC_alt']=='nan')]"
   ]
  },
  {
   "cell_type": "code",
   "execution_count": 132,
   "metadata": {},
   "outputs": [
    {
     "data": {
      "text/html": [
       "<div>\n",
       "<style scoped>\n",
       "    .dataframe tbody tr th:only-of-type {\n",
       "        vertical-align: middle;\n",
       "    }\n",
       "\n",
       "    .dataframe tbody tr th {\n",
       "        vertical-align: top;\n",
       "    }\n",
       "\n",
       "    .dataframe thead th {\n",
       "        text-align: right;\n",
       "    }\n",
       "</style>\n",
       "<table border=\"1\" class=\"dataframe\">\n",
       "  <thead>\n",
       "    <tr style=\"text-align: right;\">\n",
       "      <th></th>\n",
       "      <th>MG_gene</th>\n",
       "      <th>MG_gene2</th>\n",
       "      <th>ATCC_gene</th>\n",
       "      <th>ATCC_alt</th>\n",
       "    </tr>\n",
       "  </thead>\n",
       "  <tbody>\n",
       "    <tr>\n",
       "      <th>398</th>\n",
       "      <td>rpmE</td>\n",
       "      <td>b3936</td>\n",
       "      <td>rpmE</td>\n",
       "      <td>c4889.1</td>\n",
       "    </tr>\n",
       "  </tbody>\n",
       "</table>\n",
       "</div>"
      ],
      "text/plain": [
       "    MG_gene MG_gene2 ATCC_gene ATCC_alt\n",
       "398    rpmE    b3936      rpmE  c4889.1"
      ]
     },
     "execution_count": 132,
     "metadata": {},
     "output_type": "execute_result"
    }
   ],
   "source": [
    "MG_ATCC_blast[MG_ATCC_blast['ATCC_alt']=='c4889.1']"
   ]
  },
  {
   "cell_type": "markdown",
   "metadata": {},
   "source": [
    "### Comparing"
   ]
  },
  {
   "cell_type": "code",
   "execution_count": 133,
   "metadata": {},
   "outputs": [],
   "source": [
    "MA_blast = np.array(MG_ATCC_blast[['MG_gene','ATCC_gene']].dropna())\n",
    "MA_blast2 = np.array(MG_ATCC_blast[['MG_gene2','ATCC_gene']].dropna())\n",
    "MA_blast_alt = np.array(MG_ATCC_blast[['MG_gene','ATCC_alt']].dropna())\n",
    "MA_blast_alt2 = np.array(MG_ATCC_blast[['MG_gene2','ATCC_alt']].dropna())"
   ]
  },
  {
   "cell_type": "code",
   "execution_count": 134,
   "metadata": {},
   "outputs": [
    {
     "name": "stdout",
     "output_type": "stream",
     "text": [
      "2552 2482\n"
     ]
    }
   ],
   "source": [
    "#checking blast using alphabet names only\n",
    "MA_blast_check = pd.DataFrame({})\n",
    "for i in range(len(MA_blast)):\n",
    "    df = MG_ATCC_mapping[MG_ATCC_mapping['MG_id']== MA_blast[i][0]]\n",
    "    if len(df)>=1:\n",
    "        df['matched_MG']= MA_blast[i][0]\n",
    "        df['matched_CF']= MA_blast[i][1]\n",
    "        df['check'] = ((MG_ATCC_mapping['CF_names1']==MA_blast[i][1])|\n",
    "                      (MG_ATCC_mapping['CF_names2']==MA_blast[i][1]))\n",
    "        MA_blast_check = MA_blast_check.append(df, ignore_index=True)\n",
    "\n",
    "print(len(MA_blast_check), MA_blast_check['check'].sum())"
   ]
  },
  {
   "cell_type": "code",
   "execution_count": 135,
   "metadata": {},
   "outputs": [
    {
     "name": "stdout",
     "output_type": "stream",
     "text": [
      "2664 2577\n"
     ]
    }
   ],
   "source": [
    "#checking blast2 using alt name of MG and alphabet names of ATCC \n",
    "MA_blast2_check2 = pd.DataFrame({})\n",
    "for i in range(len(MA_blast2)):\n",
    "    df = MG_ATCC_mapping[MG_ATCC_mapping['MG_names']== MA_blast2[i][0]]\n",
    "    if len(df)>=1:\n",
    "        df['matched_MG']= MA_blast2[i][0]\n",
    "        df['matched_CF']= MA_blast2[i][1]\n",
    "        df['check'] = ((MG_ATCC_mapping['CF_names1']==MA_blast2[i][1])|\n",
    "                      (MG_ATCC_mapping['CF_names2']==MA_blast2[i][1]))\n",
    "        MA_blast2_check2 = MA_blast2_check2.append(df, ignore_index=True)\n",
    "\n",
    "print(len(MA_blast2_check2), MA_blast2_check2['check'].sum())"
   ]
  },
  {
   "cell_type": "code",
   "execution_count": 136,
   "metadata": {},
   "outputs": [
    {
     "name": "stdout",
     "output_type": "stream",
     "text": [
      "2621 2601\n"
     ]
    }
   ],
   "source": [
    "#checking blast using alp alt of MG and alt name of ATCC \n",
    "MA_blast_alt_check = pd.DataFrame({})\n",
    "for i in range(len(MA_blast_alt)):\n",
    "    df = MG_ATCC_mapping[MG_ATCC_mapping['MG_id']== MA_blast_alt[i][0]]\n",
    "    if len(df)>=1:\n",
    "        df['matched_MG']= MA_blast_alt[i][0]\n",
    "        df['matched_CF']= MA_blast_alt[i][1]\n",
    "        df['check'] = ((MG_ATCC_mapping['CF_alt1']==MA_blast_alt[i][1])|\n",
    "                      (MG_ATCC_mapping['CF_alt2']==MA_blast_alt[i][1]))\n",
    "        MA_blast_alt_check = MA_blast_alt_check.append(df, ignore_index=True)\n",
    "\n",
    "print(len(MA_blast_alt_check), MA_blast_alt_check['check'].sum())"
   ]
  },
  {
   "cell_type": "code",
   "execution_count": 137,
   "metadata": {},
   "outputs": [
    {
     "name": "stdout",
     "output_type": "stream",
     "text": [
      "2734 2713\n"
     ]
    }
   ],
   "source": [
    "#check2ing blast using alt2 names only\n",
    "MA_blast_alt2_check2 = pd.DataFrame({})\n",
    "for i in range(len(MA_blast_alt2)):\n",
    "    df = MG_ATCC_mapping[MG_ATCC_mapping['MG_names']== MA_blast_alt2[i][0]]\n",
    "    if len(df)>=1:\n",
    "        df['matched_MG']= MA_blast_alt2[i][0]\n",
    "        df['matched_CF']= MA_blast_alt2[i][1]\n",
    "        df['check'] = ((MG_ATCC_mapping['CF_alt1']==MA_blast_alt2[i][1])|\n",
    "                      (MG_ATCC_mapping['CF_alt2']==MA_blast_alt2[i][1]))\n",
    "        MA_blast_alt2_check2 = MA_blast_alt2_check2.append(df, ignore_index=True)\n",
    "        \n",
    "print(len(MA_blast_alt2_check2), MA_blast_alt2_check2['check'].sum())"
   ]
  },
  {
   "cell_type": "markdown",
   "metadata": {},
   "source": [
    "### Check equivalent names"
   ]
  },
  {
   "cell_type": "code",
   "execution_count": 138,
   "metadata": {},
   "outputs": [],
   "source": [
    "MA_check1 = MA_blast_check[MA_blast_check['check']==0][MA_blast_check.columns[[0,1,2,3,5,10]].to_list()]\n",
    "MA_check2 = MA_blast2_check2[MA_blast2_check2['check']==0][MA_blast2_check2.columns[[0,1,2,3,5,10]].to_list()]\n",
    "MA_check3 = MA_blast_alt_check[MA_blast_alt_check['check']==0][MA_blast_alt_check.columns[[0,1,2,3,5,10]].to_list()]\n",
    "MA_check4 = MA_blast_alt2_check2[MA_blast_alt2_check2['check']==0][MA_blast_alt2_check2.columns[[0,1,2,3,5,10]].to_list()]"
   ]
  },
  {
   "cell_type": "code",
   "execution_count": 139,
   "metadata": {},
   "outputs": [],
   "source": [
    "CF_names = pd.read_csv('./BLAST/Ecoli_CFT073_NC_004431__all_genes_info_blast.csv',header=None)\n",
    "CF_names.drop(CF_names.columns[8], axis=1, inplace=True)"
   ]
  },
  {
   "cell_type": "code",
   "execution_count": 140,
   "metadata": {},
   "outputs": [],
   "source": [
    "MA_check1 = pd.merge(MA_check1, CF_names, left_on='matched_CF', right_on=CF_names.columns[0])\n",
    "MA_check1['check'] = MA_check1.drop(['matched_CF'],1).isin(MA_check1[['CF_names1','CF_names2','CF_alt1']]).any(1)\n",
    "MA_include1 = MA_check1[MA_check1['check']]"
   ]
  },
  {
   "cell_type": "code",
   "execution_count": 141,
   "metadata": {},
   "outputs": [],
   "source": [
    "MA_check2 = pd.merge(MA_check2, CF_names, left_on='matched_CF', right_on=CF_names.columns[0])\n",
    "MA_check2['check'] = MA_check2.drop(['matched_CF'],1).isin(MA_check2[['CF_names1','CF_names2','CF_alt1']]).any(1)\n",
    "MA_include2 = MA_check2[MA_check2['check']]"
   ]
  },
  {
   "cell_type": "code",
   "execution_count": 142,
   "metadata": {},
   "outputs": [],
   "source": [
    "MA_check3['matched_CF1']= MA_check3['matched_CF'].apply(lambda x:x.split('c')[1]).str.slice(stop=4)\n",
    "MA_check3['matched_CF'] = \"c\"+MA_check3['matched_CF1']\n",
    "MA_check3['check'] = MA_check3['CF_alt1'] == MA_check3['matched_CF']"
   ]
  },
  {
   "cell_type": "code",
   "execution_count": 143,
   "metadata": {},
   "outputs": [],
   "source": [
    "MA_include3_1 = MA_check3[MA_check3['check']][['ATCC_names','MG_names']]"
   ]
  },
  {
   "cell_type": "code",
   "execution_count": 144,
   "metadata": {
    "scrolled": false
   },
   "outputs": [],
   "source": [
    "MA_check4['matched_CF1']= MA_check4['matched_CF'].apply(lambda x:x.split('c')[1]).str.slice(stop=4)\n",
    "MA_check4['matched_CF'] = \"c\"+MA_check4['matched_CF1']\n",
    "MA_check4['check'] = MA_check4['CF_alt1'] == MA_check4['matched_CF']"
   ]
  },
  {
   "cell_type": "code",
   "execution_count": 145,
   "metadata": {},
   "outputs": [],
   "source": [
    "MA_include4_1 = MA_check4[MA_check4['check']][['ATCC_names','MG_names']]"
   ]
  },
  {
   "cell_type": "code",
   "execution_count": 146,
   "metadata": {},
   "outputs": [],
   "source": [
    "MA_check3 = MA_check3[MA_check3['check']]\n",
    "MA_check3 = pd.merge(MA_check3, CF_names, left_on='matched_CF', right_on=CF_names.columns[1])\n",
    "MA_check3['check'] = MA_check3.drop(['matched_CF'],1).isin(MA_check3[['CF_names1','CF_names2','CF_alt1']]).any(1)\n",
    "MA_include3 = MA_check3[MA_check3['check']]"
   ]
  },
  {
   "cell_type": "code",
   "execution_count": 147,
   "metadata": {},
   "outputs": [],
   "source": [
    "MA_check4 = MA_check4[MA_check4['check']]\n",
    "MA_check4 = pd.merge(MA_check4, CF_names, left_on='matched_CF', right_on=CF_names.columns[1])\n",
    "MA_check4['check'] = MA_check4.drop(['matched_CF'],1).isin(MA_check4[['CF_names1','CF_names2','CF_alt1']]).any(1)\n",
    "MA_include4 = MA_check4[MA_check4['check']]"
   ]
  },
  {
   "cell_type": "code",
   "execution_count": 148,
   "metadata": {},
   "outputs": [],
   "source": [
    "MA_include = pd.concat([MA_include1.iloc[:,[0,1]],\n",
    "                        MA_include2.iloc[:,[0,1]],\n",
    "                        MA_include3.iloc[:,[0,1]],\n",
    "                        MA_include4.iloc[:,[0,1]],\n",
    "                        MA_include3_1.iloc[:,[0,1]],\n",
    "                        MA_include4_1.iloc[:,[0,1]]],axis=0).drop_duplicates(keep='first').reset_index(drop=True)"
   ]
  },
  {
   "cell_type": "code",
   "execution_count": 149,
   "metadata": {},
   "outputs": [],
   "source": [
    "##Comebine all checks\n",
    "MA_exclude = pd.concat([MA_blast_check.iloc[:, [0,1,-1]],\n",
    "                        MA_blast2_check2.iloc[:, [0,1,-1]],\n",
    "                        MA_blast_alt_check.iloc[:, [0,1,-1]],\n",
    "                        MA_blast_alt2_check2.iloc[:, [0,1,-1]]],axis=0).groupby(['ATCC_names','MG_names'])['check'].sum().reset_index()\n",
    "\n",
    "##show genes that are mismatched\n",
    "MA_exclude = MA_exclude[MA_exclude['check']==0]"
   ]
  },
  {
   "cell_type": "code",
   "execution_count": 150,
   "metadata": {},
   "outputs": [],
   "source": [
    "MA_exclude = MA_exclude[~MA_exclude['ATCC_names'].isin(np.array(MA_include['ATCC_names']))]"
   ]
  },
  {
   "cell_type": "markdown",
   "metadata": {},
   "source": [
    "### Summarizing exclusion of genes "
   ]
  },
  {
   "cell_type": "code",
   "execution_count": 151,
   "metadata": {
    "scrolled": true
   },
   "outputs": [],
   "source": [
    "### Get the homologuous genes in the other strain to exclude them as well\n",
    "\n",
    "AD_exclude_final = pd.merge(AD_exclude, full_mapping.iloc[:, 0:4], on=['ATCC_names','DH_names']).drop(['check'], axis=1)\n",
    "\n",
    "MD_exclude_final = pd.merge(MD_exclude, full_mapping.iloc[:, 0:4], on=['MG_names','DH_names']).drop(['check'], axis=1)\n",
    "\n",
    "MA_exclude_final = pd.merge(MA_exclude, full_mapping.iloc[:, 0:4], on=['ATCC_names','MG_names']).drop(['check'], axis=1)"
   ]
  },
  {
   "cell_type": "code",
   "execution_count": 152,
   "metadata": {},
   "outputs": [],
   "source": [
    "## Combine list of all excluded genes\n",
    "df = pd.concat([AD_exclude_final, MD_exclude_final, MA_exclude_final], axis=0).drop_duplicates(keep='first')"
   ]
  },
  {
   "cell_type": "code",
   "execution_count": 153,
   "metadata": {},
   "outputs": [],
   "source": [
    "#df.to_csv('list_of_excluded_genes.csv', index=False)"
   ]
  },
  {
   "cell_type": "code",
   "execution_count": 154,
   "metadata": {
    "scrolled": false
   },
   "outputs": [
    {
     "data": {
      "text/html": [
       "<div>\n",
       "<style scoped>\n",
       "    .dataframe tbody tr th:only-of-type {\n",
       "        vertical-align: middle;\n",
       "    }\n",
       "\n",
       "    .dataframe tbody tr th {\n",
       "        vertical-align: top;\n",
       "    }\n",
       "\n",
       "    .dataframe thead th {\n",
       "        text-align: right;\n",
       "    }\n",
       "</style>\n",
       "<table border=\"1\" class=\"dataframe\">\n",
       "  <thead>\n",
       "    <tr style=\"text-align: right;\">\n",
       "      <th></th>\n",
       "      <th>ATCC_names</th>\n",
       "      <th>DH_names</th>\n",
       "      <th>BW_names</th>\n",
       "      <th>MG_names</th>\n",
       "    </tr>\n",
       "  </thead>\n",
       "  <tbody>\n",
       "    <tr>\n",
       "      <th>count</th>\n",
       "      <td>84</td>\n",
       "      <td>84</td>\n",
       "      <td>84</td>\n",
       "      <td>84</td>\n",
       "    </tr>\n",
       "    <tr>\n",
       "      <th>unique</th>\n",
       "      <td>84</td>\n",
       "      <td>82</td>\n",
       "      <td>82</td>\n",
       "      <td>82</td>\n",
       "    </tr>\n",
       "    <tr>\n",
       "      <th>top</th>\n",
       "      <td>DR76_RS02260</td>\n",
       "      <td>ECDH10B_RS17860</td>\n",
       "      <td>BW25113_RS17305</td>\n",
       "      <td>b2000</td>\n",
       "    </tr>\n",
       "    <tr>\n",
       "      <th>freq</th>\n",
       "      <td>1</td>\n",
       "      <td>2</td>\n",
       "      <td>2</td>\n",
       "      <td>2</td>\n",
       "    </tr>\n",
       "  </tbody>\n",
       "</table>\n",
       "</div>"
      ],
      "text/plain": [
       "          ATCC_names         DH_names         BW_names MG_names\n",
       "count             84               84               84       84\n",
       "unique            84               82               82       82\n",
       "top     DR76_RS02260  ECDH10B_RS17860  BW25113_RS17305    b2000\n",
       "freq               1                2                2        2"
      ]
     },
     "execution_count": 154,
     "metadata": {},
     "output_type": "execute_result"
    }
   ],
   "source": [
    "df.describe()"
   ]
  },
  {
   "cell_type": "code",
   "execution_count": 155,
   "metadata": {
    "scrolled": true
   },
   "outputs": [
    {
     "name": "stdout",
     "output_type": "stream",
     "text": [
      "50 79 1\n"
     ]
    }
   ],
   "source": [
    "print(len(AD_exclude), len(MD_exclude), len(MA_exclude))"
   ]
  },
  {
   "cell_type": "code",
   "execution_count": 156,
   "metadata": {
    "scrolled": true
   },
   "outputs": [
    {
     "data": {
      "text/plain": [
       "84"
      ]
     },
     "execution_count": 156,
     "metadata": {},
     "output_type": "execute_result"
    }
   ],
   "source": [
    "len(df)"
   ]
  },
  {
   "cell_type": "code",
   "execution_count": 157,
   "metadata": {
    "scrolled": true
   },
   "outputs": [
    {
     "data": {
      "text/html": [
       "<div>\n",
       "<style scoped>\n",
       "    .dataframe tbody tr th:only-of-type {\n",
       "        vertical-align: middle;\n",
       "    }\n",
       "\n",
       "    .dataframe tbody tr th {\n",
       "        vertical-align: top;\n",
       "    }\n",
       "\n",
       "    .dataframe thead th {\n",
       "        text-align: right;\n",
       "    }\n",
       "</style>\n",
       "<table border=\"1\" class=\"dataframe\">\n",
       "  <thead>\n",
       "    <tr style=\"text-align: right;\">\n",
       "      <th></th>\n",
       "      <th>ATCC_names</th>\n",
       "      <th>DH_names</th>\n",
       "      <th>BW_names</th>\n",
       "      <th>MG_names</th>\n",
       "    </tr>\n",
       "  </thead>\n",
       "  <tbody>\n",
       "  </tbody>\n",
       "</table>\n",
       "</div>"
      ],
      "text/plain": [
       "Empty DataFrame\n",
       "Columns: [ATCC_names, DH_names, BW_names, MG_names]\n",
       "Index: []"
      ]
     },
     "execution_count": 157,
     "metadata": {},
     "output_type": "execute_result"
    }
   ],
   "source": [
    "df[df['MG_names']=='b4906']"
   ]
  },
  {
   "cell_type": "code",
   "execution_count": 190,
   "metadata": {},
   "outputs": [
    {
     "data": {
      "text/html": [
       "<div>\n",
       "<style scoped>\n",
       "    .dataframe tbody tr th:only-of-type {\n",
       "        vertical-align: middle;\n",
       "    }\n",
       "\n",
       "    .dataframe tbody tr th {\n",
       "        vertical-align: top;\n",
       "    }\n",
       "\n",
       "    .dataframe thead th {\n",
       "        text-align: right;\n",
       "    }\n",
       "</style>\n",
       "<table border=\"1\" class=\"dataframe\">\n",
       "  <thead>\n",
       "    <tr style=\"text-align: right;\">\n",
       "      <th></th>\n",
       "      <th>ATCC_names</th>\n",
       "      <th>MG_names</th>\n",
       "      <th>BW_names</th>\n",
       "      <th>DH_names</th>\n",
       "    </tr>\n",
       "  </thead>\n",
       "  <tbody>\n",
       "  </tbody>\n",
       "</table>\n",
       "</div>"
      ],
      "text/plain": [
       "Empty DataFrame\n",
       "Columns: [ATCC_names, MG_names, BW_names, DH_names]\n",
       "Index: []"
      ]
     },
     "execution_count": 190,
     "metadata": {},
     "output_type": "execute_result"
    }
   ],
   "source": [
    "MA_exclude_final[MA_exclude_final['MG_names']=='b3581']"
   ]
  },
  {
   "cell_type": "code",
   "execution_count": null,
   "metadata": {},
   "outputs": [],
   "source": [
    "Manual_check_again"
   ]
  },
  {
   "cell_type": "code",
   "execution_count": null,
   "metadata": {},
   "outputs": [],
   "source": []
  }
 ],
 "metadata": {
  "kernelspec": {
   "display_name": "Python 3.8.5 64-bit",
   "language": "python",
   "name": "python38564bit27c2c10e68134d42af8384e6691c1adc"
  },
  "language_info": {
   "codemirror_mode": {
    "name": "ipython",
    "version": 3
   },
   "file_extension": ".py",
   "mimetype": "text/x-python",
   "name": "python",
   "nbconvert_exporter": "python",
   "pygments_lexer": "ipython3",
   "version": "3.9.0"
  }
 },
 "nbformat": 4,
 "nbformat_minor": 2
}
