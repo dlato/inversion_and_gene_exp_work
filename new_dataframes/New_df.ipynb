{
 "cells": [
  {
   "cell_type": "code",
   "execution_count": 1,
   "metadata": {},
   "outputs": [],
   "source": [
    "import numpy as np \n",
    "import pandas as pd "
   ]
  },
  {
   "cell_type": "code",
   "execution_count": 2,
   "metadata": {},
   "outputs": [],
   "source": [
    "exclude_genes = pd.read_csv(\"./list_of_excluded_genes.csv\")\n",
    "raw_df = pd.read_csv(\"../../Final_expression_051820/Sample_final_df_RawExp.csv\")\n",
    "full_mapping = pd.read_table('./ATCC_CFT073_K12MG_K12DH_BW_gene_map.txt')\n",
    "full_mapping.columns = ['ATCC', 'ATCC_names', 'BW', 'BW_names', 'DH', 'DH_names', 'MG', 'MG_names', 'drop']\n",
    "full_mapping = full_mapping[['ATCC_names','BW_names', 'DH_names', 'MG_names']]\n",
    "full_mapping = full_mapping.drop_duplicates(keep='first') "
   ]
  },
  {
   "cell_type": "code",
   "execution_count": 3,
   "metadata": {},
   "outputs": [],
   "source": [
    "#140 genes to exclude\n",
    "ATCC_exclude = exclude_genes['ATCC_names'].drop_duplicates().to_numpy() #138\n",
    "DH_exclude = exclude_genes['DH_names'].drop_duplicates().to_numpy() #136\n",
    "BW_exclude = exclude_genes['BW_names'].drop_duplicates().to_numpy() #136\n",
    "MG_exclude = exclude_genes['MG_names'].drop_duplicates().to_numpy() #136"
   ]
  },
  {
   "cell_type": "code",
   "execution_count": 4,
   "metadata": {},
   "outputs": [],
   "source": [
    "# filter individual strains\n",
    "ATCC_raw = raw_df[raw_df['strain']=='ATCC'] #3181\n",
    "BW_raw = raw_df[raw_df['strain']=='BW25113'] #3040\n",
    "DH_raw = raw_df[raw_df['strain']=='K12DH'] #3058\n",
    "MG_raw = raw_df[raw_df['strain']=='K12MG'] #2969"
   ]
  },
  {
   "cell_type": "code",
   "execution_count": 55,
   "metadata": {},
   "outputs": [
    {
     "name": "stdout",
     "output_type": "stream",
     "text": [
      "3066 2925 2944 2869\n"
     ]
    }
   ],
   "source": [
    "print(len(ATCC_norm_new), len(BW_norm_new), len(DH_norm_new), len(MG_norm_new))"
   ]
  },
  {
   "cell_type": "markdown",
   "metadata": {},
   "source": [
    "#### fixing DH"
   ]
  },
  {
   "cell_type": "code",
   "execution_count": 6,
   "metadata": {},
   "outputs": [],
   "source": [
    "DH_info = pd.read_table(\"../Ecoli_K12_DH10B_NC_010473_gene_info.txt\")"
   ]
  },
  {
   "cell_type": "code",
   "execution_count": 7,
   "metadata": {},
   "outputs": [],
   "source": [
    "DH_raw = pd.merge(DH_raw, DH_info[['gbk_locus_tag','gbk_old_locus_tag']],\n",
    "                 left_on='Locus_tag', right_on='gbk_old_locus_tag', how='left')"
   ]
  },
  {
   "cell_type": "code",
   "execution_count": 8,
   "metadata": {},
   "outputs": [],
   "source": [
    "DH_raw.drop(['Locus_tag','gbk_old_locus_tag'], axis=1, inplace=True)\n",
    "DH_raw.rename(columns={'gbk_locus_tag':'Locus_tag'}, inplace=True)"
   ]
  },
  {
   "cell_type": "code",
   "execution_count": 9,
   "metadata": {},
   "outputs": [
    {
     "name": "stderr",
     "output_type": "stream",
     "text": [
      "/usr/local/lib/python3.8/site-packages/pandas/core/frame.py:4295: SettingWithCopyWarning: \n",
      "A value is trying to be set on a copy of a slice from a DataFrame\n",
      "\n",
      "See the caveats in the documentation: https://pandas.pydata.org/pandas-docs/stable/user_guide/indexing.html#returning-a-view-versus-a-copy\n",
      "  return super().rename(\n"
     ]
    }
   ],
   "source": [
    "ATCC_raw.rename(columns={'Locus_tag':'gene_id', 'gene_id':'Locus_tag'}, inplace=True)"
   ]
  },
  {
   "cell_type": "markdown",
   "metadata": {},
   "source": [
    "#### exclude list of genes for every strain"
   ]
  },
  {
   "cell_type": "code",
   "execution_count": 10,
   "metadata": {},
   "outputs": [],
   "source": [
    "ATCC_new = ATCC_raw[~ATCC_raw['Locus_tag'].isin(ATCC_exclude)].reset_index(drop=True) #3181\n",
    "BW_new = BW_raw[~BW_raw['Locus_tag'].isin(MG_exclude)].reset_index(drop=True) #3040\n",
    "DH_new = DH_raw[~DH_raw['Locus_tag'].isin(DH_exclude)].reset_index(drop=True) #3058\n",
    "MG_new = MG_raw[~MG_raw['Locus_tag'].isin(MG_exclude)].reset_index(drop=True) #2969"
   ]
  },
  {
   "cell_type": "code",
   "execution_count": 56,
   "metadata": {},
   "outputs": [],
   "source": [
    "sample_df = pd.concat([ATCC_new,BW_new,DH_new,MG_new],axis=0)\n",
    "sample_df.to_csv('./Sample_final_df_RawExp.csv', index=False)"
   ]
  },
  {
   "cell_type": "code",
   "execution_count": 12,
   "metadata": {},
   "outputs": [],
   "source": [
    "norm_df = pd.read_csv(\"../../Final_expression_051820/Sample_final_df_1025.csv\")"
   ]
  },
  {
   "cell_type": "code",
   "execution_count": 13,
   "metadata": {},
   "outputs": [],
   "source": [
    "# filter individual strains\n",
    "ATCC_norm = norm_df[norm_df['strain']=='ATCC'] #3180\n",
    "BW_norm = norm_df[norm_df['strain']=='BW25113'] #3040\n",
    "DH_norm = norm_df[norm_df['strain']=='K12DH'] #3058\n",
    "MG_norm = norm_df[norm_df['strain']=='K12MG'] #2969"
   ]
  },
  {
   "cell_type": "code",
   "execution_count": 14,
   "metadata": {},
   "outputs": [],
   "source": [
    "ATCC_norm_new = ATCC_norm[~ATCC_norm['gene_id'].isin(ATCC_exclude)].reset_index(drop=True) #3066 \n",
    "BW_norm_new = BW_norm[~BW_norm['locus_tag'].isin(MG_exclude)].reset_index(drop=True) #2925 \n",
    "DH_norm_new = DH_norm[~DH_norm['gbk_locus_tag'].isin(DH_exclude)].reset_index(drop=True) #2944 \n",
    "MG_norm_new = MG_norm[~MG_norm['locus_tag'].isin(MG_exclude)].reset_index(drop=True) #2869"
   ]
  },
  {
   "cell_type": "code",
   "execution_count": 57,
   "metadata": {},
   "outputs": [],
   "source": [
    "norm_new_df = pd.concat([ATCC_norm_new,BW_norm_new,DH_norm_new,MG_norm_new],axis=0)\n",
    "norm_new_df.to_csv('./Sample_final_df.csv', index=False)"
   ]
  },
  {
   "cell_type": "code",
   "execution_count": 16,
   "metadata": {},
   "outputs": [],
   "source": [
    "dfs = [ATCC_new, BW_new, DH_new, MG_new]\n",
    "\n",
    "for i in dfs: \n",
    "    i['exp_name'] = i['strain'] + '_' + i['replicates']\n",
    "    i.drop(['strain','gbk_start', 'gbk_end', 'gbk_midpoint','gbk_strand',\n",
    "            'block', 'start', 'end', 'taxa', 'replicates', 'exp', 'gene_id'], axis=1, inplace=True)"
   ]
  },
  {
   "cell_type": "code",
   "execution_count": 17,
   "metadata": {},
   "outputs": [],
   "source": [
    "mapping = full_mapping[~full_mapping['ATCC_names'].isin(ATCC_exclude)]\n",
    "mapping = mapping[~mapping['BW_names'].isin(BW_exclude)]"
   ]
  },
  {
   "cell_type": "markdown",
   "metadata": {},
   "source": [
    "### spreading dataframes"
   ]
  },
  {
   "cell_type": "code",
   "execution_count": 18,
   "metadata": {},
   "outputs": [],
   "source": [
    "ATCC_exp = ATCC_new.pivot(index='Locus_tag',columns='exp_name',values='raw_exp').reset_index()\n",
    "ATCC_rev_comp = ATCC_new.pivot(index='Locus_tag',columns='exp_name',values='rev_comp').reset_index()\n",
    "ATCC_inversion = ATCC_new.pivot(index='Locus_tag',columns='exp_name',values='inversion').reset_index()"
   ]
  },
  {
   "cell_type": "code",
   "execution_count": 19,
   "metadata": {},
   "outputs": [],
   "source": [
    "BW_exp = BW_new.pivot(index='Locus_tag',columns='exp_name',values='raw_exp').reset_index()\n",
    "BW_rev_comp = BW_new.pivot(index='Locus_tag',columns='exp_name',values='rev_comp').reset_index()\n",
    "BW_inversion = BW_new.pivot(index='Locus_tag',columns='exp_name',values='inversion').reset_index()"
   ]
  },
  {
   "cell_type": "code",
   "execution_count": 20,
   "metadata": {},
   "outputs": [],
   "source": [
    "DH_exp = DH_new.pivot(index='Locus_tag',columns='exp_name',values='raw_exp').reset_index()\n",
    "DH_rev_comp = DH_new.pivot(index='Locus_tag',columns='exp_name',values='rev_comp').reset_index()\n",
    "DH_inversion = DH_new.pivot(index='Locus_tag',columns='exp_name',values='inversion').reset_index()"
   ]
  },
  {
   "cell_type": "code",
   "execution_count": 21,
   "metadata": {},
   "outputs": [],
   "source": [
    "MG_exp = MG_new.pivot(index='Locus_tag',columns='exp_name',values='raw_exp').reset_index()\n",
    "MG_rev_comp = MG_new.pivot(index='Locus_tag',columns='exp_name',values='rev_comp').reset_index()\n",
    "MG_inversion = MG_new.pivot(index='Locus_tag',columns='exp_name',values='inversion').reset_index()"
   ]
  },
  {
   "cell_type": "markdown",
   "metadata": {},
   "source": [
    "### expression values"
   ]
  },
  {
   "cell_type": "code",
   "execution_count": 22,
   "metadata": {},
   "outputs": [],
   "source": [
    "exp = pd.merge(mapping, ATCC_exp, left_on='ATCC_names', right_on='Locus_tag') \n",
    "exp.drop(['Locus_tag'], axis=1, inplace=True) "
   ]
  },
  {
   "cell_type": "code",
   "execution_count": 23,
   "metadata": {},
   "outputs": [],
   "source": [
    "exp = pd.merge(exp, BW_exp, left_on='MG_names', right_on='Locus_tag')\n",
    "exp.drop(['Locus_tag'], axis=1, inplace=True) "
   ]
  },
  {
   "cell_type": "code",
   "execution_count": 24,
   "metadata": {},
   "outputs": [],
   "source": [
    "exp = pd.merge(exp, DH_exp, left_on='DH_names', right_on='Locus_tag')\n",
    "exp.drop(['Locus_tag'], axis=1, inplace=True) "
   ]
  },
  {
   "cell_type": "code",
   "execution_count": 25,
   "metadata": {},
   "outputs": [],
   "source": [
    "exp = pd.merge(exp, MG_exp, left_on='MG_names', right_on='Locus_tag')\n",
    "exp.drop(['Locus_tag'], axis=1, inplace=True) "
   ]
  },
  {
   "cell_type": "code",
   "execution_count": 26,
   "metadata": {},
   "outputs": [
    {
     "data": {
      "text/plain": [
       "2723"
      ]
     },
     "execution_count": 26,
     "metadata": {},
     "output_type": "execute_result"
    }
   ],
   "source": [
    "len(exp)"
   ]
  },
  {
   "cell_type": "markdown",
   "metadata": {},
   "source": [
    "### rev_comp values"
   ]
  },
  {
   "cell_type": "code",
   "execution_count": 27,
   "metadata": {},
   "outputs": [],
   "source": [
    "rev_comp = pd.merge(mapping, ATCC_rev_comp, left_on='ATCC_names', right_on='Locus_tag') \n",
    "rev_comp.drop(['Locus_tag'], axis=1, inplace=True) "
   ]
  },
  {
   "cell_type": "code",
   "execution_count": 28,
   "metadata": {},
   "outputs": [],
   "source": [
    "rev_comp = pd.merge(rev_comp, BW_rev_comp, left_on='MG_names', right_on='Locus_tag')\n",
    "rev_comp.drop(['Locus_tag'], axis=1, inplace=True) "
   ]
  },
  {
   "cell_type": "code",
   "execution_count": 29,
   "metadata": {},
   "outputs": [],
   "source": [
    "rev_comp = pd.merge(rev_comp, DH_rev_comp, left_on='DH_names', right_on='Locus_tag')\n",
    "rev_comp.drop(['Locus_tag'], axis=1, inplace=True) "
   ]
  },
  {
   "cell_type": "code",
   "execution_count": 30,
   "metadata": {},
   "outputs": [],
   "source": [
    "rev_comp = pd.merge(rev_comp, MG_rev_comp, left_on='MG_names', right_on='Locus_tag')\n",
    "rev_comp.drop(['Locus_tag'], axis=1, inplace=True) "
   ]
  },
  {
   "cell_type": "code",
   "execution_count": 31,
   "metadata": {},
   "outputs": [
    {
     "data": {
      "text/plain": [
       "2723"
      ]
     },
     "execution_count": 31,
     "metadata": {},
     "output_type": "execute_result"
    }
   ],
   "source": [
    "len(rev_comp)"
   ]
  },
  {
   "cell_type": "markdown",
   "metadata": {},
   "source": [
    "### inversion values"
   ]
  },
  {
   "cell_type": "code",
   "execution_count": 32,
   "metadata": {},
   "outputs": [],
   "source": [
    "inversion = pd.merge(mapping, ATCC_inversion, left_on='ATCC_names', right_on='Locus_tag') \n",
    "inversion.drop(['Locus_tag'], axis=1, inplace=True) "
   ]
  },
  {
   "cell_type": "code",
   "execution_count": 33,
   "metadata": {},
   "outputs": [],
   "source": [
    "inversion = pd.merge(inversion, BW_inversion, left_on='MG_names', right_on='Locus_tag')\n",
    "inversion.drop(['Locus_tag'], axis=1, inplace=True) "
   ]
  },
  {
   "cell_type": "code",
   "execution_count": 34,
   "metadata": {},
   "outputs": [],
   "source": [
    "inversion = pd.merge(inversion, DH_inversion, left_on='DH_names', right_on='Locus_tag')\n",
    "inversion.drop(['Locus_tag'], axis=1, inplace=True) "
   ]
  },
  {
   "cell_type": "code",
   "execution_count": 35,
   "metadata": {},
   "outputs": [],
   "source": [
    "inversion = pd.merge(inversion, MG_inversion, left_on='MG_names', right_on='Locus_tag')\n",
    "inversion.drop(['Locus_tag'], axis=1, inplace=True) "
   ]
  },
  {
   "cell_type": "code",
   "execution_count": 36,
   "metadata": {},
   "outputs": [
    {
     "data": {
      "text/plain": [
       "2723"
      ]
     },
     "execution_count": 36,
     "metadata": {},
     "output_type": "execute_result"
    }
   ],
   "source": [
    "len(inversion)"
   ]
  },
  {
   "cell_type": "markdown",
   "metadata": {},
   "source": [
    "### export new dfs"
   ]
  },
  {
   "cell_type": "code",
   "execution_count": 37,
   "metadata": {},
   "outputs": [],
   "source": [
    "exp.to_csv('./raw_exp.csv', index=False)"
   ]
  },
  {
   "cell_type": "code",
   "execution_count": 38,
   "metadata": {},
   "outputs": [],
   "source": [
    "rev_comp.to_csv('./raw_rev_comp.csv', index=False)"
   ]
  },
  {
   "cell_type": "code",
   "execution_count": 39,
   "metadata": {},
   "outputs": [],
   "source": [
    "inversion.to_csv('./raw_inversion.csv', index=False)"
   ]
  },
  {
   "cell_type": "code",
   "execution_count": 40,
   "metadata": {},
   "outputs": [
    {
     "data": {
      "text/plain": [
       "True"
      ]
     },
     "execution_count": 40,
     "metadata": {},
     "output_type": "execute_result"
    }
   ],
   "source": [
    "len(exp) == len(rev_comp) == len(inversion)"
   ]
  },
  {
   "cell_type": "code",
   "execution_count": null,
   "metadata": {},
   "outputs": [],
   "source": []
  },
  {
   "cell_type": "code",
   "execution_count": null,
   "metadata": {},
   "outputs": [],
   "source": []
  }
 ],
 "metadata": {
  "kernelspec": {
   "display_name": "Python 3.8.5 64-bit",
   "language": "python",
   "name": "python38564bit27c2c10e68134d42af8384e6691c1adc"
  },
  "language_info": {
   "codemirror_mode": {
    "name": "ipython",
    "version": 3
   },
   "file_extension": ".py",
   "mimetype": "text/x-python",
   "name": "python",
   "nbconvert_exporter": "python",
   "pygments_lexer": "ipython3",
   "version": "3.8.5"
  }
 },
 "nbformat": 4,
 "nbformat_minor": 2
}
