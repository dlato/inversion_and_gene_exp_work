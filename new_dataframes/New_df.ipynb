{
 "cells": [
  {
   "cell_type": "code",
   "execution_count": 1,
   "metadata": {},
   "outputs": [],
   "source": [
    "import numpy as np \n",
    "import pandas as pd "
   ]
  },
  {
   "cell_type": "code",
   "execution_count": 2,
   "metadata": {},
   "outputs": [],
   "source": [
    "exclude_genes = pd.read_csv(\"./list_of_excluded_genes.csv\")\n",
    "raw_df = pd.read_csv(\"../../Final_expression_051820/Sample_final_df_RawExp.csv\")\n",
    "full_mapping = pd.read_table('./ATCC_CFT073_K12MG_K12DH_BW_gene_map.txt')\n",
    "full_mapping.columns = ['ATCC', 'ATCC_names', 'BW', 'BW_names', 'DH', 'DH_names', 'MG', 'MG_names', 'drop']\n",
    "full_mapping = full_mapping[['ATCC_names','BW_names', 'DH_names', 'MG_names']]\n",
    "full_mapping = full_mapping.drop_duplicates(keep='first') "
   ]
  },
  {
   "cell_type": "code",
   "execution_count": 4,
   "metadata": {},
   "outputs": [],
   "source": [
    "#1130 genes to exclude\n",
    "ATCC_exclude = exclude_genes['ATCC_names'].drop_duplicates().to_numpy()\n",
    "DH_exclude = exclude_genes['DH_names'].drop_duplicates().to_numpy()\n",
    "BW_exclude = exclude_genes['BW_names'].drop_duplicates().to_numpy()\n",
    "MG_exclude = exclude_genes['MG_names'].drop_duplicates().to_numpy()"
   ]
  },
  {
   "cell_type": "code",
   "execution_count": 68,
   "metadata": {},
   "outputs": [],
   "source": [
    "# filter individual strains\n",
    "ATCC_raw = raw_df[raw_df['strain']=='ATCC'] #3181\n",
    "BW_raw = raw_df[raw_df['strain']=='BW25113'] #3040\n",
    "DH_raw = raw_df[raw_df['strain']=='K12DH'] #3058\n",
    "MG_raw = raw_df[raw_df['strain']=='K12MG'] #2969"
   ]
  },
  {
   "cell_type": "markdown",
   "metadata": {},
   "source": [
    "#### exclude list of genes for every strain"
   ]
  },
  {
   "cell_type": "code",
   "execution_count": 69,
   "metadata": {},
   "outputs": [],
   "source": [
    "ATCC_new = ATCC_raw[~ATCC_raw['gene_id'].isin(ATCC_exclude)].reset_index(drop=True) #2232\n",
    "BW_new = BW_raw[~BW_raw['gene_id'].isin(BW_exclude)].reset_index(drop=True) #3040\n",
    "DH_new = DH_raw[~DH_raw['gene_id'].isin(DH_exclude)].reset_index(drop=True) #3055\n",
    "MG_new = MG_raw[~MG_raw['gene_id'].isin(MG_exclude)].reset_index(drop=True) #2969"
   ]
  },
  {
   "cell_type": "code",
   "execution_count": 70,
   "metadata": {},
   "outputs": [],
   "source": [
    "ATCC_new.rename(columns={'Locus_tag':'gene_id', 'gene_id':'Locus_tag'}, inplace=True)"
   ]
  },
  {
   "cell_type": "code",
   "execution_count": 71,
   "metadata": {},
   "outputs": [],
   "source": [
    "dfs = [ATCC_new, BW_new, DH_new, MG_new]\n",
    "\n",
    "for i in dfs: \n",
    "    i['exp_name'] = i['strain'] + '_' + i['replicates']\n",
    "    i.drop(['strain','gbk_start', 'gbk_end', 'gbk_midpoint','gbk_strand',\n",
    "            'block', 'start', 'end', 'taxa', 'replicates', 'exp', 'gene_id'], axis=1, inplace=True)"
   ]
  },
  {
   "cell_type": "code",
   "execution_count": 73,
   "metadata": {},
   "outputs": [],
   "source": [
    "mapping = full_mapping[~full_mapping['ATCC_names'].isin(ATCC_exclude)]\n",
    "mapping = mapping[~mapping['BW_names'].isin(BW_exclude)]"
   ]
  },
  {
   "cell_type": "markdown",
   "metadata": {},
   "source": [
    "#### fixing DH"
   ]
  },
  {
   "cell_type": "code",
   "execution_count": 151,
   "metadata": {},
   "outputs": [],
   "source": [
    "DH_info = pd.read_table(\"../Ecoli_K12_DH10B_NC_010473_gene_info.txt\")"
   ]
  },
  {
   "cell_type": "code",
   "execution_count": 158,
   "metadata": {},
   "outputs": [],
   "source": [
    "DH_new = pd.merge(DH_new, DH_info[['gbk_locus_tag','gbk_old_locus_tag']],\n",
    "                 left_on='Locus_tag', right_on='gbk_old_locus_tag', how='left')"
   ]
  },
  {
   "cell_type": "code",
   "execution_count": 161,
   "metadata": {},
   "outputs": [],
   "source": [
    "DH_new.drop(['Locus_tag','gbk_old_locus_tag'], axis=1, inplace=True)\n",
    "DH_new.rename(columns={'gbk_locus_tag':'Locus_tag'}, inplace=True)"
   ]
  },
  {
   "cell_type": "markdown",
   "metadata": {},
   "source": [
    "### spreading dataframes"
   ]
  },
  {
   "cell_type": "code",
   "execution_count": 164,
   "metadata": {},
   "outputs": [],
   "source": [
    "ATCC_exp = ATCC_new.pivot(index='Locus_tag',columns='exp_name',values='raw_exp').reset_index()\n",
    "ATCC_rev_comp = ATCC_new.pivot(index='Locus_tag',columns='exp_name',values='rev_comp').reset_index()\n",
    "ATCC_inversion = ATCC_new.pivot(index='Locus_tag',columns='exp_name',values='inversion').reset_index()"
   ]
  },
  {
   "cell_type": "code",
   "execution_count": 165,
   "metadata": {},
   "outputs": [],
   "source": [
    "BW_exp = BW_new.pivot(index='Locus_tag',columns='exp_name',values='raw_exp').reset_index()\n",
    "BW_rev_comp = BW_new.pivot(index='Locus_tag',columns='exp_name',values='rev_comp').reset_index()\n",
    "BW_inversion = BW_new.pivot(index='Locus_tag',columns='exp_name',values='inversion').reset_index()"
   ]
  },
  {
   "cell_type": "code",
   "execution_count": 166,
   "metadata": {},
   "outputs": [],
   "source": [
    "DH_exp = DH_new.pivot(index='Locus_tag',columns='exp_name',values='raw_exp').reset_index()\n",
    "DH_rev_comp = DH_new.pivot(index='Locus_tag',columns='exp_name',values='rev_comp').reset_index()\n",
    "DH_inversion = DH_new.pivot(index='Locus_tag',columns='exp_name',values='inversion').reset_index()"
   ]
  },
  {
   "cell_type": "code",
   "execution_count": 167,
   "metadata": {},
   "outputs": [],
   "source": [
    "MG_exp = MG_new.pivot(index='Locus_tag',columns='exp_name',values='raw_exp').reset_index()\n",
    "MG_rev_comp = MG_new.pivot(index='Locus_tag',columns='exp_name',values='rev_comp').reset_index()\n",
    "MG_inversion = MG_new.pivot(index='Locus_tag',columns='exp_name',values='inversion').reset_index()"
   ]
  },
  {
   "cell_type": "markdown",
   "metadata": {},
   "source": [
    "### expression values"
   ]
  },
  {
   "cell_type": "code",
   "execution_count": 168,
   "metadata": {},
   "outputs": [],
   "source": [
    "exp = pd.merge(mapping, ATCC_exp, left_on='ATCC_names', right_on='Locus_tag') \n",
    "exp.drop(['Locus_tag'], axis=1, inplace=True) #2039"
   ]
  },
  {
   "cell_type": "code",
   "execution_count": 169,
   "metadata": {},
   "outputs": [],
   "source": [
    "exp = pd.merge(exp, BW_exp, left_on='MG_names', right_on='Locus_tag')\n",
    "exp.drop(['Locus_tag'], axis=1, inplace=True) #2040"
   ]
  },
  {
   "cell_type": "code",
   "execution_count": 170,
   "metadata": {},
   "outputs": [],
   "source": [
    "exp = pd.merge(exp, DH_exp, left_on='DH_names', right_on='Locus_tag')\n",
    "exp.drop(['Locus_tag'], axis=1, inplace=True) #1985"
   ]
  },
  {
   "cell_type": "code",
   "execution_count": 172,
   "metadata": {},
   "outputs": [],
   "source": [
    "exp = pd.merge(exp, MG_exp, left_on='MG_names', right_on='Locus_tag')\n",
    "exp.drop(['Locus_tag'], axis=1, inplace=True) #1936"
   ]
  },
  {
   "cell_type": "code",
   "execution_count": 173,
   "metadata": {},
   "outputs": [
    {
     "data": {
      "text/plain": [
       "1936"
      ]
     },
     "execution_count": 173,
     "metadata": {},
     "output_type": "execute_result"
    }
   ],
   "source": [
    "len(exp)"
   ]
  },
  {
   "cell_type": "markdown",
   "metadata": {},
   "source": [
    "### rev_comp values"
   ]
  },
  {
   "cell_type": "code",
   "execution_count": 174,
   "metadata": {},
   "outputs": [],
   "source": [
    "rev_comp = pd.merge(mapping, ATCC_rev_comp, left_on='ATCC_names', right_on='Locus_tag') \n",
    "rev_comp.drop(['Locus_tag'], axis=1, inplace=True) #2039"
   ]
  },
  {
   "cell_type": "code",
   "execution_count": 175,
   "metadata": {},
   "outputs": [],
   "source": [
    "rev_comp = pd.merge(rev_comp, BW_rev_comp, left_on='MG_names', right_on='Locus_tag')\n",
    "rev_comp.drop(['Locus_tag'], axis=1, inplace=True) #2040"
   ]
  },
  {
   "cell_type": "code",
   "execution_count": 176,
   "metadata": {},
   "outputs": [],
   "source": [
    "rev_comp = pd.merge(rev_comp, DH_rev_comp, left_on='DH_names', right_on='Locus_tag')\n",
    "rev_comp.drop(['Locus_tag'], axis=1, inplace=True) #2024"
   ]
  },
  {
   "cell_type": "code",
   "execution_count": 177,
   "metadata": {},
   "outputs": [],
   "source": [
    "rev_comp = pd.merge(rev_comp, MG_rev_comp, left_on='MG_names', right_on='Locus_tag')\n",
    "rev_comp.drop(['Locus_tag'], axis=1, inplace=True) #1975"
   ]
  },
  {
   "cell_type": "code",
   "execution_count": 178,
   "metadata": {},
   "outputs": [
    {
     "data": {
      "text/plain": [
       "1936"
      ]
     },
     "execution_count": 178,
     "metadata": {},
     "output_type": "execute_result"
    }
   ],
   "source": [
    "len(rev_comp)"
   ]
  },
  {
   "cell_type": "markdown",
   "metadata": {},
   "source": [
    "### inversion values"
   ]
  },
  {
   "cell_type": "code",
   "execution_count": 179,
   "metadata": {},
   "outputs": [],
   "source": [
    "inversion = pd.merge(mapping, ATCC_inversion, left_on='ATCC_names', right_on='Locus_tag') \n",
    "inversion.drop(['Locus_tag'], axis=1, inplace=True) #2039"
   ]
  },
  {
   "cell_type": "code",
   "execution_count": 180,
   "metadata": {},
   "outputs": [],
   "source": [
    "inversion = pd.merge(inversion, BW_inversion, left_on='MG_names', right_on='Locus_tag')\n",
    "inversion.drop(['Locus_tag'], axis=1, inplace=True) #2040"
   ]
  },
  {
   "cell_type": "code",
   "execution_count": 181,
   "metadata": {},
   "outputs": [],
   "source": [
    "inversion = pd.merge(inversion, DH_inversion, left_on='DH_names', right_on='Locus_tag')\n",
    "inversion.drop(['Locus_tag'], axis=1, inplace=True) #2024"
   ]
  },
  {
   "cell_type": "code",
   "execution_count": 182,
   "metadata": {},
   "outputs": [],
   "source": [
    "inversion = pd.merge(inversion, MG_inversion, left_on='MG_names', right_on='Locus_tag')\n",
    "inversion.drop(['Locus_tag'], axis=1, inplace=True) #1975"
   ]
  },
  {
   "cell_type": "code",
   "execution_count": 183,
   "metadata": {},
   "outputs": [
    {
     "data": {
      "text/plain": [
       "1936"
      ]
     },
     "execution_count": 183,
     "metadata": {},
     "output_type": "execute_result"
    }
   ],
   "source": [
    "len(inversion)"
   ]
  },
  {
   "cell_type": "markdown",
   "metadata": {},
   "source": [
    "### export new dfs"
   ]
  },
  {
   "cell_type": "code",
   "execution_count": 187,
   "metadata": {},
   "outputs": [],
   "source": [
    "exp.to_csv('./raw_exp.csv', index=False)"
   ]
  },
  {
   "cell_type": "code",
   "execution_count": 188,
   "metadata": {},
   "outputs": [],
   "source": [
    "rev_comp.to_csv('./raw_rev_comp.csv', index=False)"
   ]
  },
  {
   "cell_type": "code",
   "execution_count": 189,
   "metadata": {},
   "outputs": [],
   "source": [
    "inversion.to_csv('./raw_inversion.csv', index=False)"
   ]
  },
  {
   "cell_type": "code",
   "execution_count": 193,
   "metadata": {},
   "outputs": [
    {
     "data": {
      "text/plain": [
       "True"
      ]
     },
     "execution_count": 193,
     "metadata": {},
     "output_type": "execute_result"
    }
   ],
   "source": [
    "len(exp) == len(rev_comp) == len(inversion)"
   ]
  },
  {
   "cell_type": "code",
   "execution_count": null,
   "metadata": {},
   "outputs": [],
   "source": []
  }
 ],
 "metadata": {
  "kernelspec": {
   "display_name": "Python 3.8.5 64-bit",
   "language": "python",
   "name": "python38564bit27c2c10e68134d42af8384e6691c1adc"
  },
  "language_info": {
   "codemirror_mode": {
    "name": "ipython",
    "version": 3
   },
   "file_extension": ".py",
   "mimetype": "text/x-python",
   "name": "python",
   "nbconvert_exporter": "python",
   "pygments_lexer": "ipython3",
   "version": "3.8.5"
  }
 },
 "nbformat": 4,
 "nbformat_minor": 2
}
