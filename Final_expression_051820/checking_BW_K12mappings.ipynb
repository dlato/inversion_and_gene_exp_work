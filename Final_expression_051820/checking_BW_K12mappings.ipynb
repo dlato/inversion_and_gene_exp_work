{
 "cells": [
  {
   "cell_type": "code",
   "execution_count": 2,
   "metadata": {},
   "outputs": [],
   "source": [
    "import os\n",
    "import warnings\n",
    "warnings.filterwarnings('ignore')\n",
    "import numpy as np\n",
    "import pandas as pd"
   ]
  },
  {
   "cell_type": "code",
   "execution_count": 50,
   "metadata": {},
   "outputs": [],
   "source": [
    "#load data\n",
    "block = pd.read_table(\"inversion_block_info_all.txt\", sep='\\t')\n",
    "BW25113 = pd.read_csv(\"Ecoli_BW25113_final_exp0707.csv\")\n",
    "\n",
    "#sort block files based on taxa\n",
    "BW25113_block = block[block.taxa=='NZ_CP009273'].sort_values(by='start').reset_index(drop=True)\n",
    "\n",
    "#fixing rows that were not parse properly\n",
    "fix = block.taxa.unique()[4:]\n",
    "df = pd.DataFrame({})\n",
    "for i in fix:\n",
    "    df = df.append(block.loc[block.taxa==i])\n",
    "\n",
    "df['block2'] = df['block'].apply(lambda x : x.split('NZ')[1])\n",
    "df['block'] = df['block'].apply(lambda x : x.split('NZ')[0])\n",
    "\n",
    "df = df.drop(['inversion'],1)\n",
    "df.columns = ['block','start', 'end', 'rev_comp', 'inversion', 'taxa']\n",
    "df = df[['block', 'taxa', 'start', 'end','rev_comp', 'inversion']]\n",
    "\n",
    "df['taxa'] = df['taxa'].apply(lambda x : 'NZ'+x)\n",
    "\n",
    "#add fixed rows into the block files\n",
    "BW25113_block = BW25113_block.append(df.loc[df['taxa']==\"NZ_CP009273\"])\n",
    "\n",
    "BW25113_block['start'] = pd.to_numeric(BW25113_block['start'])\n",
    "BW25113_block = BW25113_block.sort_values(by='start').reset_index(drop=True)"
   ]
  },
  {
   "cell_type": "code",
   "execution_count": 4,
   "metadata": {},
   "outputs": [],
   "source": [
    "#function to match by start\n",
    "def match_block_start(gene_start, block_file): \n",
    "    block_file = block_file.sort_values(by='start').reset_index(drop=True)\n",
    "    starts =[]\n",
    "    for i in block_file.start:\n",
    "        if i < gene_start: \n",
    "            starts.append(i)\n",
    "    if len(starts) == 0:\n",
    "        return None\n",
    "    else:\n",
    "        return(block_file.block[np.argmax(starts)])\n",
    "\n",
    "#function to match by gene end \n",
    "def match_block_end(gene_end, block_file):\n",
    "    block_file = block_file.sort_values(by='start', ascending=False).reset_index(drop=True)\n",
    "    ends =[]\n",
    "    for j in block_file.end:\n",
    "        if j > gene_end: \n",
    "            ends.append(j)\n",
    "    if len(ends)==0:\n",
    "        return(block_file.block[len(block_file)-1])\n",
    "    else:\n",
    "        return(block_file.block[np.argmin(ends)])"
   ]
  },
  {
   "cell_type": "markdown",
   "metadata": {},
   "source": [
    "## files to check neighbouring blocks"
   ]
  },
  {
   "cell_type": "code",
   "execution_count": 5,
   "metadata": {},
   "outputs": [],
   "source": [
    "BW25113_block['block_order'] = np.arange(1,len(BW25113_block)+1,1)"
   ]
  },
  {
   "cell_type": "code",
   "execution_count": 6,
   "metadata": {},
   "outputs": [
    {
     "data": {
      "text/plain": [
       "1148"
      ]
     },
     "execution_count": 6,
     "metadata": {},
     "output_type": "execute_result"
    }
   ],
   "source": [
    "#number of rows check\n",
    "len(BW25113_block)"
   ]
  },
  {
   "cell_type": "markdown",
   "metadata": {},
   "source": [
    " "
   ]
  },
  {
   "cell_type": "markdown",
   "metadata": {},
   "source": [
    "# BW25113"
   ]
  },
  {
   "cell_type": "code",
   "execution_count": 7,
   "metadata": {},
   "outputs": [
    {
     "name": "stdout",
     "output_type": "stream",
     "text": [
      "There are 1148 blocks and 5 are overlapping blocks\n"
     ]
    }
   ],
   "source": [
    "##find difference between blocks\n",
    "diff = [0]\n",
    "for i in range(len(BW25113_block.start)-1):\n",
    "    diff.append(BW25113_block.start[i+1] - BW25113_block.end[i])\n",
    "\n",
    "BW25113_block['diff'] = diff\n",
    "BW25113_block['overlaps'] = BW25113_block['diff'] < 0 \n",
    "\n",
    "print('There are', len(BW25113_block), 'blocks and', sum(BW25113_block['overlaps']), 'are overlapping blocks')\n",
    "#this current block is starting inside the last block\n",
    "#BW25113_block[BW25113_block['overlaps']==True] \n",
    "#BW25113_block.loc[15:20]"
   ]
  },
  {
   "cell_type": "markdown",
   "metadata": {},
   "source": [
    "## Overlapping genes"
   ]
  },
  {
   "cell_type": "code",
   "execution_count": 8,
   "metadata": {},
   "outputs": [],
   "source": [
    "# block = ['a','b','c','d']\n",
    "# start = [1,6,10,21]\n",
    "# end = [20,9,12,25]\n",
    "\n",
    "block = BW25113_block['block']\n",
    "start = BW25113_block['start']\n",
    "end = BW25113_block['end']\n",
    "\n",
    "N = len(block)\n",
    "\n",
    "tally =[]\n",
    "for i in range(len(block)):\n",
    "    tally.append((start[i], block[i],\"start\"))\n",
    "    tally.append((end[i], block[i],\"end\"))\n",
    "    \n",
    "tally = sorted(tally, key=lambda x:x[0])\n",
    "\n",
    "groups={}\n",
    "stack={}\n",
    "for entry in tally:\n",
    "    t = entry[0]\n",
    "    name = entry[1]\n",
    "    action = entry[2]\n",
    "    \n",
    "    if action == \"start\":\n",
    "        stack[name]= True\n",
    "        if len(stack)>1:\n",
    "            groups[','.join(stack)] = True\n",
    "    if action == \"end\":\n",
    "        del stack[name]\n",
    "\n",
    "#print(tally)\n",
    "#print(groups)"
   ]
  },
  {
   "cell_type": "code",
   "execution_count": 9,
   "metadata": {},
   "outputs": [
    {
     "name": "stdout",
     "output_type": "stream",
     "text": [
      "there are 1 out of 5 overlaps that have inconsistent inversion\n",
      "0 inconsitencies are inside blocks\n"
     ]
    },
    {
     "data": {
      "text/html": [
       "<div>\n",
       "<style scoped>\n",
       "    .dataframe tbody tr th:only-of-type {\n",
       "        vertical-align: middle;\n",
       "    }\n",
       "\n",
       "    .dataframe tbody tr th {\n",
       "        vertical-align: top;\n",
       "    }\n",
       "\n",
       "    .dataframe thead th {\n",
       "        text-align: right;\n",
       "    }\n",
       "</style>\n",
       "<table border=\"1\" class=\"dataframe\">\n",
       "  <thead>\n",
       "    <tr style=\"text-align: right;\">\n",
       "      <th></th>\n",
       "      <th>Overlapping_blocks</th>\n",
       "      <th>Bigblock</th>\n",
       "      <th>Smallblock1</th>\n",
       "      <th>block_x</th>\n",
       "      <th>start_x</th>\n",
       "      <th>end_x</th>\n",
       "      <th>inversion_x</th>\n",
       "      <th>block_y</th>\n",
       "      <th>start_y</th>\n",
       "      <th>end_y</th>\n",
       "      <th>inversion_y</th>\n",
       "      <th>inversion_conflict</th>\n",
       "      <th>inside_block</th>\n",
       "    </tr>\n",
       "  </thead>\n",
       "  <tbody>\n",
       "    <tr>\n",
       "      <th>0</th>\n",
       "      <td>Block56,Block57</td>\n",
       "      <td>Block56</td>\n",
       "      <td>Block57</td>\n",
       "      <td>Block56</td>\n",
       "      <td>220668</td>\n",
       "      <td>221215</td>\n",
       "      <td>0.0</td>\n",
       "      <td>Block57</td>\n",
       "      <td>220669</td>\n",
       "      <td>223414</td>\n",
       "      <td>0.0</td>\n",
       "      <td>False</td>\n",
       "      <td>False</td>\n",
       "    </tr>\n",
       "    <tr>\n",
       "      <th>1</th>\n",
       "      <td>Block187,Block17</td>\n",
       "      <td>Block187</td>\n",
       "      <td>Block17</td>\n",
       "      <td>Block187</td>\n",
       "      <td>748625</td>\n",
       "      <td>753863</td>\n",
       "      <td>1.0</td>\n",
       "      <td>Block17</td>\n",
       "      <td>751912</td>\n",
       "      <td>751934</td>\n",
       "      <td>1.0</td>\n",
       "      <td>False</td>\n",
       "      <td>True</td>\n",
       "    </tr>\n",
       "    <tr>\n",
       "      <th>2</th>\n",
       "      <td>Block501,Block97</td>\n",
       "      <td>Block501</td>\n",
       "      <td>Block97</td>\n",
       "      <td>Block501</td>\n",
       "      <td>1933474</td>\n",
       "      <td>1940335</td>\n",
       "      <td>1.0</td>\n",
       "      <td>Block97</td>\n",
       "      <td>1938486</td>\n",
       "      <td>1938513</td>\n",
       "      <td>1.0</td>\n",
       "      <td>False</td>\n",
       "      <td>True</td>\n",
       "    </tr>\n",
       "    <tr>\n",
       "      <th>3</th>\n",
       "      <td>Block913,Block96</td>\n",
       "      <td>Block913</td>\n",
       "      <td>Block96</td>\n",
       "      <td>Block913</td>\n",
       "      <td>3585984</td>\n",
       "      <td>3597071</td>\n",
       "      <td>1.0</td>\n",
       "      <td>Block96</td>\n",
       "      <td>3591755</td>\n",
       "      <td>3591787</td>\n",
       "      <td>1.0</td>\n",
       "      <td>False</td>\n",
       "      <td>True</td>\n",
       "    </tr>\n",
       "    <tr>\n",
       "      <th>4</th>\n",
       "      <td>Block1105,Block1106</td>\n",
       "      <td>Block1105</td>\n",
       "      <td>Block1106</td>\n",
       "      <td>Block1105</td>\n",
       "      <td>4460195</td>\n",
       "      <td>4460227</td>\n",
       "      <td>1.0</td>\n",
       "      <td>Block1106</td>\n",
       "      <td>4460214</td>\n",
       "      <td>4462437</td>\n",
       "      <td>0.0</td>\n",
       "      <td>True</td>\n",
       "      <td>False</td>\n",
       "    </tr>\n",
       "  </tbody>\n",
       "</table>\n",
       "</div>"
      ],
      "text/plain": [
       "    Overlapping_blocks   Bigblock Smallblock1    block_x  start_x    end_x  \\\n",
       "0      Block56,Block57    Block56     Block57    Block56   220668   221215   \n",
       "1     Block187,Block17   Block187     Block17   Block187   748625   753863   \n",
       "2     Block501,Block97   Block501     Block97   Block501  1933474  1940335   \n",
       "3     Block913,Block96   Block913     Block96   Block913  3585984  3597071   \n",
       "4  Block1105,Block1106  Block1105   Block1106  Block1105  4460195  4460227   \n",
       "\n",
       "   inversion_x    block_y  start_y    end_y  inversion_y  inversion_conflict  \\\n",
       "0          0.0    Block57   220669   223414          0.0               False   \n",
       "1          1.0    Block17   751912   751934          1.0               False   \n",
       "2          1.0    Block97  1938486  1938513          1.0               False   \n",
       "3          1.0    Block96  3591755  3591787          1.0               False   \n",
       "4          1.0  Block1106  4460214  4462437          0.0                True   \n",
       "\n",
       "   inside_block  \n",
       "0         False  \n",
       "1          True  \n",
       "2          True  \n",
       "3          True  \n",
       "4         False  "
      ]
     },
     "execution_count": 9,
     "metadata": {},
     "output_type": "execute_result"
    }
   ],
   "source": [
    "BW25113_overlaps = pd.DataFrame({'Overlapping_blocks':[x for x in groups.keys()]})\n",
    "blocks = BW25113_overlaps['Overlapping_blocks'].str.split(',',n=2, expand=True)\n",
    "BW25113_overlaps['Bigblock'] = blocks[0]\n",
    "BW25113_overlaps['Smallblock1'] = blocks[1]\n",
    "BW25113_overlaps = pd.merge(BW25113_overlaps, BW25113_block[['block','start','end','inversion']], left_on='Bigblock',right_on='block', how='left')\n",
    "BW25113_overlaps = pd.merge(BW25113_overlaps, BW25113_block[['block','start','end','inversion']], left_on='Smallblock1',right_on='block', how='left')\n",
    "BW25113_overlaps['inversion_conflict'] = BW25113_overlaps['inversion_x'] != BW25113_overlaps['inversion_y']\n",
    "BW25113_overlaps['inside_block'] = BW25113_overlaps['end_y'] < BW25113_overlaps['end_x']\n",
    "print('there are', sum(BW25113_overlaps['inversion_conflict']), 'out of', len(BW25113_overlaps),'overlaps that have inconsistent inversion')\n",
    "print(sum(BW25113_overlaps[BW25113_overlaps['inversion_conflict']]['inside_block']),'inconsitencies are inside blocks')\n",
    "BW25113_overlaps.head()"
   ]
  },
  {
   "cell_type": "code",
   "execution_count": 10,
   "metadata": {},
   "outputs": [
    {
     "data": {
      "text/html": [
       "<div>\n",
       "<style scoped>\n",
       "    .dataframe tbody tr th:only-of-type {\n",
       "        vertical-align: middle;\n",
       "    }\n",
       "\n",
       "    .dataframe tbody tr th {\n",
       "        vertical-align: top;\n",
       "    }\n",
       "\n",
       "    .dataframe thead th {\n",
       "        text-align: right;\n",
       "    }\n",
       "</style>\n",
       "<table border=\"1\" class=\"dataframe\">\n",
       "  <thead>\n",
       "    <tr style=\"text-align: right;\">\n",
       "      <th></th>\n",
       "      <th>block</th>\n",
       "      <th>start</th>\n",
       "      <th>end</th>\n",
       "      <th>inversion_conflict</th>\n",
       "    </tr>\n",
       "  </thead>\n",
       "  <tbody>\n",
       "    <tr>\n",
       "      <th>0</th>\n",
       "      <td>Block56,Block57</td>\n",
       "      <td>220669</td>\n",
       "      <td>221215</td>\n",
       "      <td>False</td>\n",
       "    </tr>\n",
       "    <tr>\n",
       "      <th>1</th>\n",
       "      <td>Block1105,Block1106</td>\n",
       "      <td>4460214</td>\n",
       "      <td>4460227</td>\n",
       "      <td>True</td>\n",
       "    </tr>\n",
       "  </tbody>\n",
       "</table>\n",
       "</div>"
      ],
      "text/plain": [
       "                 block    start      end  inversion_conflict\n",
       "0      Block56,Block57   220669   221215               False\n",
       "1  Block1105,Block1106  4460214  4460227                True"
      ]
     },
     "execution_count": 10,
     "metadata": {},
     "output_type": "execute_result"
    }
   ],
   "source": [
    "overlapping_region = BW25113_overlaps[BW25113_overlaps['inside_block']==False].reset_index(drop=True)\n",
    "\n",
    "overlapping_region['start'] = overlapping_region['start_y']\n",
    "overlapping_region['end'] = overlapping_region['end_x']\n",
    "overlapping_region['block'] = overlapping_region['Overlapping_blocks']\n",
    "overlapping_region = overlapping_region[['block', 'start', 'end', 'inversion_conflict']]\n",
    "overlapping_region "
   ]
  },
  {
   "cell_type": "code",
   "execution_count": 11,
   "metadata": {},
   "outputs": [],
   "source": [
    "def overlapping_gene2(start, end, block_file):\n",
    "    inside_gene, overlapping_start, overlapping_end=[],[],[]\n",
    "    for i in range(len(block_file)):\n",
    "        if (block_file['gbk_start'][i] < start and block_file['gbk_end'][i] > start):\n",
    "            overlapping_start.append(block_file['Locus_tag'][i])\n",
    "        if (block_file['gbk_start'][i] > start and block_file['gbk_end'][i] < end):\n",
    "            inside_gene.append(block_file['Locus_tag'][i]) \n",
    "        if (block_file['gbk_start'][i] > start and block_file['gbk_start'][i] < end):\n",
    "            overlapping_end.append(block_file['Locus_tag'][i]) \n",
    "    return [overlapping_start,inside_gene,overlapping_end]"
   ]
  },
  {
   "cell_type": "code",
   "execution_count": 12,
   "metadata": {},
   "outputs": [
    {
     "data": {
      "text/plain": [
       "{'Block56,Block57': [['b0197'], [], ['b0198']],\n",
       " 'Block1105,Block1106': [['b4237'], [], []]}"
      ]
     },
     "execution_count": 12,
     "metadata": {},
     "output_type": "execute_result"
    }
   ],
   "source": [
    "BW25113_regions = {}\n",
    "regions={}\n",
    "for i in range(len(overlapping_region)):\n",
    "    regions[overlapping_region['block'][i]] = overlapping_gene2(overlapping_region['start'][i], \n",
    "                                                               overlapping_region['end'][i], BW25113)\n",
    "regions"
   ]
  },
  {
   "cell_type": "markdown",
   "metadata": {},
   "source": [
    "## inside block genes check"
   ]
  },
  {
   "cell_type": "markdown",
   "metadata": {},
   "source": [
    "### no inversion conflict"
   ]
  },
  {
   "cell_type": "code",
   "execution_count": 13,
   "metadata": {},
   "outputs": [],
   "source": [
    "insideblock_region = BW25113_overlaps[BW25113_overlaps['inside_block']==True].reset_index(drop=True)\n",
    "insideblock_region = insideblock_region[insideblock_region['inversion_conflict']==False].reset_index(drop=True)\n",
    "\n",
    "insideblock_region['start'] = insideblock_region['start_y']\n",
    "insideblock_region['end'] = insideblock_region['end_y']\n",
    "insideblock_region['block'] = insideblock_region['Overlapping_blocks']\n",
    "insideblock_region = insideblock_region[['block', 'start', 'end', 'inversion_conflict']]"
   ]
  },
  {
   "cell_type": "code",
   "execution_count": 14,
   "metadata": {
    "scrolled": true
   },
   "outputs": [
    {
     "data": {
      "text/html": [
       "<div>\n",
       "<style scoped>\n",
       "    .dataframe tbody tr th:only-of-type {\n",
       "        vertical-align: middle;\n",
       "    }\n",
       "\n",
       "    .dataframe tbody tr th {\n",
       "        vertical-align: top;\n",
       "    }\n",
       "\n",
       "    .dataframe thead th {\n",
       "        text-align: right;\n",
       "    }\n",
       "</style>\n",
       "<table border=\"1\" class=\"dataframe\">\n",
       "  <thead>\n",
       "    <tr style=\"text-align: right;\">\n",
       "      <th></th>\n",
       "      <th>Block187,Block17</th>\n",
       "      <th>Block501,Block97</th>\n",
       "      <th>Block913,Block96</th>\n",
       "    </tr>\n",
       "  </thead>\n",
       "  <tbody>\n",
       "    <tr>\n",
       "      <th>0</th>\n",
       "      <td>[b0718]</td>\n",
       "      <td>[b1854]</td>\n",
       "      <td>[b3453]</td>\n",
       "    </tr>\n",
       "    <tr>\n",
       "      <th>1</th>\n",
       "      <td>[]</td>\n",
       "      <td>[]</td>\n",
       "      <td>[]</td>\n",
       "    </tr>\n",
       "    <tr>\n",
       "      <th>2</th>\n",
       "      <td>[]</td>\n",
       "      <td>[]</td>\n",
       "      <td>[]</td>\n",
       "    </tr>\n",
       "  </tbody>\n",
       "</table>\n",
       "</div>"
      ],
      "text/plain": [
       "  Block187,Block17 Block501,Block97 Block913,Block96\n",
       "0          [b0718]          [b1854]          [b3453]\n",
       "1               []               []               []\n",
       "2               []               []               []"
      ]
     },
     "execution_count": 14,
     "metadata": {},
     "output_type": "execute_result"
    }
   ],
   "source": [
    "inside_regions={}\n",
    "for i in range(len(insideblock_region)):\n",
    "    inside_regions[insideblock_region['block'][i]] = overlapping_gene2(insideblock_region['start'][i], \n",
    "                                                                      insideblock_region['end'][i], BW25113)\n",
    "pd.DataFrame(inside_regions)"
   ]
  },
  {
   "cell_type": "code",
   "execution_count": 15,
   "metadata": {},
   "outputs": [
    {
     "data": {
      "text/html": [
       "<div>\n",
       "<style scoped>\n",
       "    .dataframe tbody tr th:only-of-type {\n",
       "        vertical-align: middle;\n",
       "    }\n",
       "\n",
       "    .dataframe tbody tr th {\n",
       "        vertical-align: top;\n",
       "    }\n",
       "\n",
       "    .dataframe thead th {\n",
       "        text-align: right;\n",
       "    }\n",
       "</style>\n",
       "<table border=\"1\" class=\"dataframe\">\n",
       "  <thead>\n",
       "    <tr style=\"text-align: right;\">\n",
       "      <th></th>\n",
       "      <th>block</th>\n",
       "      <th>start</th>\n",
       "      <th>end</th>\n",
       "      <th>inversion_conflict</th>\n",
       "    </tr>\n",
       "  </thead>\n",
       "  <tbody>\n",
       "    <tr>\n",
       "      <th>0</th>\n",
       "      <td>Block187,Block17</td>\n",
       "      <td>751912</td>\n",
       "      <td>751934</td>\n",
       "      <td>False</td>\n",
       "    </tr>\n",
       "    <tr>\n",
       "      <th>1</th>\n",
       "      <td>Block501,Block97</td>\n",
       "      <td>1938486</td>\n",
       "      <td>1938513</td>\n",
       "      <td>False</td>\n",
       "    </tr>\n",
       "    <tr>\n",
       "      <th>2</th>\n",
       "      <td>Block913,Block96</td>\n",
       "      <td>3591755</td>\n",
       "      <td>3591787</td>\n",
       "      <td>False</td>\n",
       "    </tr>\n",
       "  </tbody>\n",
       "</table>\n",
       "</div>"
      ],
      "text/plain": [
       "              block    start      end  inversion_conflict\n",
       "0  Block187,Block17   751912   751934               False\n",
       "1  Block501,Block97  1938486  1938513               False\n",
       "2  Block913,Block96  3591755  3591787               False"
      ]
     },
     "execution_count": 15,
     "metadata": {},
     "output_type": "execute_result"
    }
   ],
   "source": [
    "insideblock_region.head()"
   ]
  },
  {
   "cell_type": "code",
   "execution_count": 16,
   "metadata": {},
   "outputs": [
    {
     "name": "stdout",
     "output_type": "stream",
     "text": [
      "3 0 0\n"
     ]
    }
   ],
   "source": [
    "genes = [i for i in inside_regions.values()]\n",
    "overlap_start, overlap, overlap_end = [],[],[]\n",
    "for i in range(len(genes)):\n",
    "    overlap_start.append(len(genes[i][0]))\n",
    "    overlap.append(len(genes[i][1]))\n",
    "    overlap_end.append(len(genes[i][2]))\n",
    "\n",
    "print(sum(overlap_start), sum(overlap), sum(overlap_end))\n",
    "    "
   ]
  },
  {
   "cell_type": "markdown",
   "metadata": {},
   "source": [
    "### With inversion conflict"
   ]
  },
  {
   "cell_type": "code",
   "execution_count": 17,
   "metadata": {},
   "outputs": [],
   "source": [
    "block_region = BW25113_overlaps[BW25113_overlaps['inside_block']==True].reset_index(drop=True)\n",
    "block_region = block_region[block_region['inversion_conflict']==True].reset_index(drop=True)\n",
    "\n",
    "block_region['start'] = block_region['start_y']\n",
    "block_region['end'] = block_region['end_y']\n",
    "block_region['block'] = block_region['Overlapping_blocks']\n",
    "block_region = block_region[['block', 'start', 'end', 'inversion_conflict']]"
   ]
  },
  {
   "cell_type": "code",
   "execution_count": 18,
   "metadata": {
    "scrolled": true
   },
   "outputs": [
    {
     "data": {
      "text/html": [
       "<div>\n",
       "<style scoped>\n",
       "    .dataframe tbody tr th:only-of-type {\n",
       "        vertical-align: middle;\n",
       "    }\n",
       "\n",
       "    .dataframe tbody tr th {\n",
       "        vertical-align: top;\n",
       "    }\n",
       "\n",
       "    .dataframe thead th {\n",
       "        text-align: right;\n",
       "    }\n",
       "</style>\n",
       "<table border=\"1\" class=\"dataframe\">\n",
       "  <thead>\n",
       "    <tr style=\"text-align: right;\">\n",
       "      <th></th>\n",
       "    </tr>\n",
       "  </thead>\n",
       "  <tbody>\n",
       "  </tbody>\n",
       "</table>\n",
       "</div>"
      ],
      "text/plain": [
       "Empty DataFrame\n",
       "Columns: []\n",
       "Index: []"
      ]
     },
     "execution_count": 18,
     "metadata": {},
     "output_type": "execute_result"
    }
   ],
   "source": [
    "block_regions={}\n",
    "for i in range(len(block_region)):\n",
    "    block_regions[block_region['block'][i]] = overlapping_gene2(block_region['start'][i], \n",
    "                                                                      block_region['end'][i], BW25113)\n",
    "pd.DataFrame(block_regions)"
   ]
  },
  {
   "cell_type": "code",
   "execution_count": 19,
   "metadata": {},
   "outputs": [
    {
     "data": {
      "text/html": [
       "<div>\n",
       "<style scoped>\n",
       "    .dataframe tbody tr th:only-of-type {\n",
       "        vertical-align: middle;\n",
       "    }\n",
       "\n",
       "    .dataframe tbody tr th {\n",
       "        vertical-align: top;\n",
       "    }\n",
       "\n",
       "    .dataframe thead th {\n",
       "        text-align: right;\n",
       "    }\n",
       "</style>\n",
       "<table border=\"1\" class=\"dataframe\">\n",
       "  <thead>\n",
       "    <tr style=\"text-align: right;\">\n",
       "      <th></th>\n",
       "      <th>block</th>\n",
       "      <th>start</th>\n",
       "      <th>end</th>\n",
       "      <th>inversion_conflict</th>\n",
       "    </tr>\n",
       "  </thead>\n",
       "  <tbody>\n",
       "  </tbody>\n",
       "</table>\n",
       "</div>"
      ],
      "text/plain": [
       "Empty DataFrame\n",
       "Columns: [block, start, end, inversion_conflict]\n",
       "Index: []"
      ]
     },
     "execution_count": 19,
     "metadata": {},
     "output_type": "execute_result"
    }
   ],
   "source": [
    "block_region.head()"
   ]
  },
  {
   "cell_type": "code",
   "execution_count": 20,
   "metadata": {},
   "outputs": [
    {
     "name": "stdout",
     "output_type": "stream",
     "text": [
      "0 0 0\n"
     ]
    }
   ],
   "source": [
    "genes = [i for i in block_regions.values()]\n",
    "overlap_start, overlap, overlap_end = [],[],[]\n",
    "for i in range(len(genes)):\n",
    "    overlap_start.append(len(genes[i][0]))\n",
    "    overlap.append(len(genes[i][1]))\n",
    "    overlap_end.append(len(genes[i][2]))\n",
    "\n",
    "print(sum(overlap_start), sum(overlap), sum(overlap_end))\n",
    "    "
   ]
  },
  {
   "cell_type": "code",
   "execution_count": null,
   "metadata": {},
   "outputs": [],
   "source": []
  },
  {
   "cell_type": "markdown",
   "metadata": {},
   "source": [
    "### Omitted blocks that are inside another block "
   ]
  },
  {
   "cell_type": "code",
   "execution_count": 21,
   "metadata": {},
   "outputs": [
    {
     "name": "stdout",
     "output_type": "stream",
     "text": [
      "There are 3 inside blocks\n"
     ]
    }
   ],
   "source": [
    "block_ends=[]\n",
    "inside_block=[]\n",
    "for i in range(len(BW25113_block)-1): \n",
    "    block_ends.append(BW25113_block.end[i])\n",
    "    if not(all(BW25113_block.end[i+1] > x for x in block_ends)):\n",
    "           inside_block.append(BW25113_block.block[i+1])\n",
    "\n",
    "print('There are',len(inside_block), 'inside blocks')"
   ]
  },
  {
   "cell_type": "code",
   "execution_count": 22,
   "metadata": {},
   "outputs": [
    {
     "name": "stdout",
     "output_type": "stream",
     "text": [
      "there are 3 inside blocks and 3.0 are inverted\n"
     ]
    },
    {
     "data": {
      "text/html": [
       "<div>\n",
       "<style scoped>\n",
       "    .dataframe tbody tr th:only-of-type {\n",
       "        vertical-align: middle;\n",
       "    }\n",
       "\n",
       "    .dataframe tbody tr th {\n",
       "        vertical-align: top;\n",
       "    }\n",
       "\n",
       "    .dataframe thead th {\n",
       "        text-align: right;\n",
       "    }\n",
       "</style>\n",
       "<table border=\"1\" class=\"dataframe\">\n",
       "  <thead>\n",
       "    <tr style=\"text-align: right;\">\n",
       "      <th></th>\n",
       "      <th>block</th>\n",
       "      <th>taxa</th>\n",
       "      <th>start</th>\n",
       "      <th>end</th>\n",
       "      <th>rev_comp</th>\n",
       "      <th>inversion</th>\n",
       "      <th>block_order</th>\n",
       "      <th>diff</th>\n",
       "      <th>overlaps</th>\n",
       "    </tr>\n",
       "  </thead>\n",
       "  <tbody>\n",
       "    <tr>\n",
       "      <th>0</th>\n",
       "      <td>Block17</td>\n",
       "      <td>NZ_CP009273</td>\n",
       "      <td>751912</td>\n",
       "      <td>751934</td>\n",
       "      <td>1</td>\n",
       "      <td>1.0</td>\n",
       "      <td>185</td>\n",
       "      <td>-1951</td>\n",
       "      <td>True</td>\n",
       "    </tr>\n",
       "    <tr>\n",
       "      <th>1</th>\n",
       "      <td>Block97</td>\n",
       "      <td>NZ_CP009273</td>\n",
       "      <td>1938486</td>\n",
       "      <td>1938513</td>\n",
       "      <td>1</td>\n",
       "      <td>1.0</td>\n",
       "      <td>500</td>\n",
       "      <td>-1849</td>\n",
       "      <td>True</td>\n",
       "    </tr>\n",
       "    <tr>\n",
       "      <th>2</th>\n",
       "      <td>Block96</td>\n",
       "      <td>NZ_CP009273</td>\n",
       "      <td>3591755</td>\n",
       "      <td>3591787</td>\n",
       "      <td>1</td>\n",
       "      <td>1.0</td>\n",
       "      <td>913</td>\n",
       "      <td>-5316</td>\n",
       "      <td>True</td>\n",
       "    </tr>\n",
       "  </tbody>\n",
       "</table>\n",
       "</div>"
      ],
      "text/plain": [
       "     block         taxa    start      end  rev_comp  inversion  block_order  \\\n",
       "0  Block17  NZ_CP009273   751912   751934         1        1.0          185   \n",
       "1  Block97  NZ_CP009273  1938486  1938513         1        1.0          500   \n",
       "2  Block96  NZ_CP009273  3591755  3591787         1        1.0          913   \n",
       "\n",
       "   diff  overlaps  \n",
       "0 -1951      True  \n",
       "1 -1849      True  \n",
       "2 -5316      True  "
      ]
     },
     "execution_count": 22,
     "metadata": {},
     "output_type": "execute_result"
    }
   ],
   "source": [
    "##View inside block df \n",
    "inside_block_df = pd.merge(BW25113_block, pd.DataFrame({'block':inside_block}), how='right', on='block')\n",
    "inside_block_df.head()\n",
    "print('there are', len(inside_block_df), 'inside blocks and', sum(inside_block_df['inversion']), 'are inverted')\n",
    "BW25113_inside_inverted = inside_block_df[inside_block_df['inversion']==1]\n",
    "BW25113_inside_inverted"
   ]
  },
  {
   "cell_type": "code",
   "execution_count": 23,
   "metadata": {},
   "outputs": [],
   "source": [
    "BW25113_block_final = BW25113_block[~BW25113_block['block'].isin(inside_block)]"
   ]
  },
  {
   "cell_type": "code",
   "execution_count": 24,
   "metadata": {},
   "outputs": [
    {
     "name": "stdout",
     "output_type": "stream",
     "text": [
      "there are 2 overlapping blocks and 0.0 are inverted\n"
     ]
    }
   ],
   "source": [
    "print('there are', sum(BW25113_block_final['overlaps']), 'overlapping blocks and', \n",
    "                      sum(pd.DataFrame(BW25113_block_final[BW25113_block_final['overlaps']==1])['inversion']), 'are inverted')"
   ]
  },
  {
   "cell_type": "code",
   "execution_count": 25,
   "metadata": {},
   "outputs": [
    {
     "data": {
      "text/html": [
       "<div>\n",
       "<style scoped>\n",
       "    .dataframe tbody tr th:only-of-type {\n",
       "        vertical-align: middle;\n",
       "    }\n",
       "\n",
       "    .dataframe tbody tr th {\n",
       "        vertical-align: top;\n",
       "    }\n",
       "\n",
       "    .dataframe thead th {\n",
       "        text-align: right;\n",
       "    }\n",
       "</style>\n",
       "<table border=\"1\" class=\"dataframe\">\n",
       "  <thead>\n",
       "    <tr style=\"text-align: right;\">\n",
       "      <th></th>\n",
       "      <th>block</th>\n",
       "      <th>taxa</th>\n",
       "      <th>start</th>\n",
       "      <th>end</th>\n",
       "      <th>rev_comp</th>\n",
       "      <th>inversion</th>\n",
       "      <th>block_order</th>\n",
       "      <th>diff</th>\n",
       "      <th>overlaps</th>\n",
       "    </tr>\n",
       "  </thead>\n",
       "  <tbody>\n",
       "    <tr>\n",
       "      <th>55</th>\n",
       "      <td>Block57</td>\n",
       "      <td>NZ_CP009273</td>\n",
       "      <td>220669</td>\n",
       "      <td>223414</td>\n",
       "      <td>0</td>\n",
       "      <td>0.0</td>\n",
       "      <td>56</td>\n",
       "      <td>-546</td>\n",
       "      <td>True</td>\n",
       "    </tr>\n",
       "    <tr>\n",
       "      <th>1105</th>\n",
       "      <td>Block1106</td>\n",
       "      <td>NZ_CP009273</td>\n",
       "      <td>4460214</td>\n",
       "      <td>4462437</td>\n",
       "      <td>0</td>\n",
       "      <td>0.0</td>\n",
       "      <td>1106</td>\n",
       "      <td>-13</td>\n",
       "      <td>True</td>\n",
       "    </tr>\n",
       "  </tbody>\n",
       "</table>\n",
       "</div>"
      ],
      "text/plain": [
       "          block         taxa    start      end  rev_comp  inversion  \\\n",
       "55      Block57  NZ_CP009273   220669   223414         0        0.0   \n",
       "1105  Block1106  NZ_CP009273  4460214  4462437         0        0.0   \n",
       "\n",
       "      block_order  diff  overlaps  \n",
       "55             56  -546      True  \n",
       "1105         1106   -13      True  "
      ]
     },
     "execution_count": 25,
     "metadata": {},
     "output_type": "execute_result"
    }
   ],
   "source": [
    "BW25113_overlapped = pd.DataFrame(BW25113_block_final[BW25113_block_final['overlaps']==1])\n",
    "BW25113_overlapped"
   ]
  },
  {
   "cell_type": "markdown",
   "metadata": {},
   "source": [
    "## BW expression data "
   ]
  },
  {
   "cell_type": "code",
   "execution_count": 51,
   "metadata": {},
   "outputs": [],
   "source": [
    "#matching blocks by start\n",
    "BW25113_block_by_start = [match_block_start(i, BW25113_block_final) for i in BW25113.gbk_start]\n",
    "\n"
   ]
  },
  {
   "cell_type": "code",
   "execution_count": 52,
   "metadata": {},
   "outputs": [
    {
     "name": "stdout",
     "output_type": "stream",
     "text": [
      "4631461 >4087350\n"
     ]
    }
   ],
   "source": [
    "print(max(BW25113_block_final['end']),max(BW25113['gbk_end']))"
   ]
  },
  {
   "cell_type": "code",
   "execution_count": 54,
   "metadata": {},
   "outputs": [],
   "source": [
    "#matching block by end\n",
    "\n",
    "BW25113.gbk_end = [i.replace('>','') for i in BW25113.gbk_end]\n",
    "BW25113['gbk_end'] = pd.to_numeric(BW25113['gbk_end'])\n",
    "\n",
    "BW25113_block_by_end = [match_block_end(i, BW25113_block_final) for i in BW25113.gbk_end]"
   ]
  },
  {
   "cell_type": "code",
   "execution_count": 55,
   "metadata": {},
   "outputs": [
    {
     "name": "stdout",
     "output_type": "stream",
     "text": [
      "BW25113 has 4077 rows and 3041 are single blocks\n"
     ]
    }
   ],
   "source": [
    "#add new columns and make it a new dataframe\n",
    "BW25113_new = BW25113\n",
    "BW25113_new['block_by_start'] = BW25113_block_by_start\n",
    "BW25113_new['block_by_end'] = BW25113_block_by_end\n",
    "\n",
    "#check if the start and end identifies the same block\n",
    "BW25113_new['Single_block'] = BW25113_new['block_by_start'] == BW25113_new['block_by_end']\n",
    "print('BW25113 has', len(BW25113_new), 'rows and', sum(BW25113_new.Single_block), 'are single blocks')"
   ]
  },
  {
   "cell_type": "code",
   "execution_count": 56,
   "metadata": {},
   "outputs": [
    {
     "name": "stdout",
     "output_type": "stream",
     "text": [
      "There are 1036 spitted genes\n"
     ]
    }
   ],
   "source": [
    "#non single blocks - check for neighbouring \n",
    "BW25113_non_sb = BW25113_new[BW25113_new.Single_block==False]\n",
    "print('There are',len(BW25113_non_sb), 'spitted genes')\n",
    "\n",
    "#merging by the gene start \n",
    "BW25113_non_sb = pd.merge(BW25113_non_sb, BW25113_block_final, how='left', left_on='block_by_start', right_on='block')\n",
    "BW25113_non_sb = BW25113_non_sb.drop(['Single_block','block', 'taxa', 'start', 'end', 'rev_comp','inversion','diff'],1)\n",
    "BW25113_non_sb.columns.values[-2] = 'start_order'\n",
    "BW25113_non_sb.columns.values[-1] = 'start_block_overlap'\n",
    "\n",
    "#merging by the gene end \n",
    "BW25113_non_sb = pd.merge(BW25113_non_sb, BW25113_block_final, how='left', left_on='block_by_end', right_on='block')\n",
    "BW25113_non_sb = BW25113_non_sb.drop(['block', 'taxa', 'start', 'end', 'rev_comp','inversion','diff'],1)\n",
    "BW25113_non_sb.columns.values[-2] = 'end_order'\n",
    "BW25113_non_sb.columns.values[-1] = 'end_block_overlap'"
   ]
  },
  {
   "cell_type": "code",
   "execution_count": 57,
   "metadata": {},
   "outputs": [
    {
     "name": "stdout",
     "output_type": "stream",
     "text": [
      "There are 1036 spitted genes, 1036 are continous.\n",
      "There are 1036 spitted genes, 953 are neighbouring blocks\n"
     ]
    }
   ],
   "source": [
    "#check continuity, neighbour and overlapping blocks \n",
    "BW25113_non_sb['check_continuity'] = BW25113_non_sb['start_order'] < BW25113_non_sb['end_order']\n",
    "print('There are', len(BW25113_non_sb), 'spitted genes,', sum(BW25113_non_sb['check_continuity']), 'are continous.') \n",
    "BW25113_non_sb['check_neighbour'] = BW25113_non_sb['start_order']+1 == BW25113_non_sb['end_order']\n",
    "print('There are', len(BW25113_non_sb), 'spitted genes,', sum(BW25113_non_sb['check_neighbour']), 'are neighbouring blocks') "
   ]
  },
  {
   "cell_type": "code",
   "execution_count": 58,
   "metadata": {},
   "outputs": [],
   "source": [
    "BW25113_non_sb = pd.merge(BW25113_non_sb, BW25113_block[['block','end']], left_on='block_by_start',\n",
    "                      right_on='block', how='left')\n",
    "BW25113_non_sb = pd.merge(BW25113_non_sb, BW25113_block[['block','start']], left_on='block_by_end',\n",
    "                      right_on='block', how='left')"
   ]
  },
  {
   "cell_type": "code",
   "execution_count": 59,
   "metadata": {},
   "outputs": [],
   "source": [
    "BW25113_non_sb['space_between_block'] = BW25113_non_sb['start'] - BW25113_non_sb['end']"
   ]
  },
  {
   "cell_type": "code",
   "execution_count": 60,
   "metadata": {},
   "outputs": [
    {
     "data": {
      "text/plain": [
       "count      1036.000000\n",
       "mean      17729.616795\n",
       "std       34128.479955\n",
       "min           1.000000\n",
       "25%         378.500000\n",
       "50%        3070.000000\n",
       "75%       11926.000000\n",
       "max      114522.000000\n",
       "Name: space_between_block, dtype: float64"
      ]
     },
     "execution_count": 60,
     "metadata": {},
     "output_type": "execute_result"
    }
   ],
   "source": [
    "pd.DataFrame(BW25113_non_sb[BW25113_non_sb['space_between_block']>0])['space_between_block'].describe()"
   ]
  },
  {
   "cell_type": "markdown",
   "metadata": {},
   "source": [
    "## single block and merge with block file "
   ]
  },
  {
   "cell_type": "code",
   "execution_count": 62,
   "metadata": {},
   "outputs": [
    {
     "name": "stdout",
     "output_type": "stream",
     "text": [
      "There are 3041 single block genes\n"
     ]
    }
   ],
   "source": [
    "BW25113_sb = BW25113_new[BW25113_new['Single_block']==True]\n",
    "BW25113_sb = pd.merge(BW25113_sb, BW25113_block, how='left', left_on='block_by_start', right_on='block')\n",
    "print('There are', len(BW25113_sb), 'single block genes')"
   ]
  },
  {
   "cell_type": "markdown",
   "metadata": {},
   "source": [
    "  "
   ]
  },
  {
   "cell_type": "code",
   "execution_count": null,
   "metadata": {},
   "outputs": [],
   "source": []
  },
  {
   "cell_type": "code",
   "execution_count": null,
   "metadata": {},
   "outputs": [],
   "source": []
  }
 ],
 "metadata": {
  "kernelspec": {
   "display_name": "Python 3",
   "language": "python",
   "name": "python3"
  },
  "language_info": {
   "codemirror_mode": {
    "name": "ipython",
    "version": 3
   },
   "file_extension": ".py",
   "mimetype": "text/x-python",
   "name": "python",
   "nbconvert_exporter": "python",
   "pygments_lexer": "ipython3",
   "version": "3.6.8"
  }
 },
 "nbformat": 4,
 "nbformat_minor": 2
}
