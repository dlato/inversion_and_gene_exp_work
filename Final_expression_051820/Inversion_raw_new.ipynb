{
 "cells": [
  {
   "cell_type": "code",
   "execution_count": 2,
   "metadata": {},
   "outputs": [],
   "source": [
    "import os\n",
    "import warnings\n",
    "warnings.filterwarnings('ignore')\n",
    "import numpy as np\n",
    "import pandas as pd"
   ]
  },
  {
   "cell_type": "code",
   "execution_count": 3,
   "metadata": {
    "scrolled": true
   },
   "outputs": [],
   "source": [
    "#load data\n",
    "block = pd.read_table(\"inversion_block_info_all.txt\", sep='\\t',header=None)\n",
    "ATCC = pd.read_csv(\"Ecoli_ATCC_25922_final_RawCounts.csv\")\n",
    "BW25113 = pd.read_csv(\"Ecoli_BW25113_final_RawCounts.csv\")\n",
    "K12DH = pd.read_csv(\"Ecoli_K12_DH10B_final_RawCounts.csv\")\n",
    "K12MG = pd.read_csv(\"Ecoli_K12_MG1655_final_RawCounts.csv\")"
   ]
  },
  {
   "cell_type": "code",
   "execution_count": 4,
   "metadata": {},
   "outputs": [],
   "source": [
    "block.columns = ['blockname','taxa','start','end','rev_comp','inversion']"
   ]
  },
  {
   "cell_type": "code",
   "execution_count": 5,
   "metadata": {},
   "outputs": [],
   "source": [
    "block['block'] = block['blockname'].apply(lambda x:x.split('.')[0])"
   ]
  },
  {
   "cell_type": "code",
   "execution_count": 6,
   "metadata": {},
   "outputs": [],
   "source": [
    "block = block[['block', 'taxa','start','end','rev_comp','inversion']]"
   ]
  },
  {
   "cell_type": "code",
   "execution_count": 7,
   "metadata": {},
   "outputs": [
    {
     "data": {
      "text/plain": [
       "NC_010473      1148\n",
       "NZ_CP009273    1148\n",
       "U00096000      1148\n",
       "CP009072       1148\n",
       "Name: taxa, dtype: int64"
      ]
     },
     "execution_count": 7,
     "metadata": {},
     "output_type": "execute_result"
    }
   ],
   "source": [
    "block['taxa'].value_counts()"
   ]
  },
  {
   "cell_type": "code",
   "execution_count": 8,
   "metadata": {
    "scrolled": true
   },
   "outputs": [],
   "source": [
    "#sort block files based on taxa\n",
    "ATCC_block = block[block.taxa=='CP009072'].sort_values(by='start').reset_index(drop=True)\n",
    "BW25113_block = block[block.taxa=='NZ_CP009273'].sort_values(by='start').reset_index(drop=True)\n",
    "K12DH_block = block[block.taxa=='NC_010473'].sort_values(by='start').reset_index(drop=True)\n",
    "K12MG_block = block[block.taxa=='U00096000'].sort_values(by='start').reset_index(drop=True)\n",
    "\n",
    "# #fixing rows that were not parse properly\n",
    "# fix = block.taxa.unique()[4:]\n",
    "# df = pd.DataFrame({})\n",
    "# for i in fix:\n",
    "#     df = df.append(block.loc[block.taxa==i])\n",
    "\n",
    "# df['block2'] = df['block'].apply(lambda x : x.split('NZ')[1])\n",
    "# df['block'] = df['block'].apply(lambda x : x.split('NZ')[0])\n",
    "\n",
    "# df = df.drop(['inversion'],1)\n",
    "# df.columns = ['block','start', 'end', 'rev_comp', 'inversion', 'taxa']\n",
    "# df = df[['block', 'taxa', 'start', 'end','rev_comp', 'inversion']]\n",
    "\n",
    "# df['taxa'] = df['taxa'].apply(lambda x : 'NZ'+x)\n",
    "\n",
    "# #add fixed rows into the block files\n",
    "# ATCC_block = ATCC_block.append(df.loc[df['taxa']==\"NZ_CP009072\"])\n",
    "# BW25113_block = BW25113_block.append(df.loc[df['taxa']==\"NZ_CP009273\"])\n",
    "\n",
    "ATCC_block['start'] = pd.to_numeric(ATCC_block['start'])\n",
    "ATCC_block = ATCC_block.sort_values(by='start').reset_index(drop=True)\n",
    "\n",
    "BW25113_block['start'] = pd.to_numeric(BW25113_block['start'])\n",
    "BW25113_block = BW25113_block.sort_values(by='start').reset_index(drop=True)"
   ]
  },
  {
   "cell_type": "code",
   "execution_count": 9,
   "metadata": {},
   "outputs": [],
   "source": [
    "#function to match by start\n",
    "def match_block_start(gene_start, block_file): \n",
    "    block_file = block_file.sort_values(by='start').reset_index(drop=True)\n",
    "    starts =[]\n",
    "    for i in block_file.start:\n",
    "        if i < gene_start: \n",
    "            starts.append(i)\n",
    "    if len(starts) == 0:\n",
    "        return None\n",
    "    else:\n",
    "        return(block_file.block[np.argmax(starts)])\n",
    "\n",
    "#function to match by gene end \n",
    "def match_block_end(gene_end, block_file):\n",
    "    block_file = block_file.sort_values(by='start', ascending=False).reset_index(drop=True)\n",
    "    ends =[]\n",
    "    for j in block_file.end:\n",
    "        if j > gene_end: \n",
    "            ends.append(j)\n",
    "    if len(ends)==0:\n",
    "        return(block_file.block[len(block_file)-1])\n",
    "    else:\n",
    "        return(block_file.block[np.argmin(ends)])"
   ]
  },
  {
   "cell_type": "markdown",
   "metadata": {},
   "source": [
    "## files to check neighbouring blocks"
   ]
  },
  {
   "cell_type": "code",
   "execution_count": 10,
   "metadata": {},
   "outputs": [],
   "source": [
    "ATCC_block['block_order'] = np.arange(1,len(ATCC_block)+1,1)\n",
    "BW25113_block['block_order'] = np.arange(1,len(BW25113_block)+1,1)\n",
    "K12DH_block['block_order'] = np.arange(1,len(K12DH_block)+1,1)\n",
    "K12MG_block['block_order'] = np.arange(1,len(K12MG_block)+1,1)"
   ]
  },
  {
   "cell_type": "code",
   "execution_count": 11,
   "metadata": {},
   "outputs": [
    {
     "data": {
      "text/plain": [
       "True"
      ]
     },
     "execution_count": 11,
     "metadata": {},
     "output_type": "execute_result"
    }
   ],
   "source": [
    "#number of rows check\n",
    "len(ATCC_block)==len(BW25113_block)==len(K12DH_block)==len(K12MG_block)"
   ]
  },
  {
   "cell_type": "markdown",
   "metadata": {},
   "source": [
    "# ATCC"
   ]
  },
  {
   "cell_type": "markdown",
   "metadata": {},
   "source": [
    "### Omitted blocks that are inside another block "
   ]
  },
  {
   "cell_type": "code",
   "execution_count": 13,
   "metadata": {},
   "outputs": [],
   "source": [
    "block_ends=[]\n",
    "inside_block=[]\n",
    "for i in range(len(ATCC_block)-1): \n",
    "    block_ends.append(ATCC_block.end[i])\n",
    "    if not(all(ATCC_block.end[i+1] > x for x in block_ends)):\n",
    "           inside_block.append(ATCC_block.block[i+1])"
   ]
  },
  {
   "cell_type": "code",
   "execution_count": 14,
   "metadata": {},
   "outputs": [
    {
     "name": "stdout",
     "output_type": "stream",
     "text": [
      "there are 60 inside blocks and 22 are inverted\n"
     ]
    }
   ],
   "source": [
    "##View inside block df \n",
    "inside_block_df = pd.merge(ATCC_block, pd.DataFrame({'block':inside_block}), how='right', on='block')\n",
    "print('there are', len(inside_block_df), 'inside blocks and', sum(inside_block_df['inversion']), 'are inverted')\n",
    "ATCC_inside_inverted = inside_block_df[inside_block_df['inversion']==1]"
   ]
  },
  {
   "cell_type": "code",
   "execution_count": 15,
   "metadata": {},
   "outputs": [],
   "source": [
    "ATCC_block_final = ATCC_block[~ATCC_block['block'].isin(inside_block)]"
   ]
  },
  {
   "cell_type": "code",
   "execution_count": 16,
   "metadata": {},
   "outputs": [
    {
     "data": {
      "text/plain": [
       "1148"
      ]
     },
     "execution_count": 16,
     "metadata": {},
     "output_type": "execute_result"
    }
   ],
   "source": [
    "len(ATCC_block)"
   ]
  },
  {
   "cell_type": "code",
   "execution_count": 17,
   "metadata": {},
   "outputs": [
    {
     "data": {
      "text/html": [
       "<div>\n",
       "<style scoped>\n",
       "    .dataframe tbody tr th:only-of-type {\n",
       "        vertical-align: middle;\n",
       "    }\n",
       "\n",
       "    .dataframe tbody tr th {\n",
       "        vertical-align: top;\n",
       "    }\n",
       "\n",
       "    .dataframe thead th {\n",
       "        text-align: right;\n",
       "    }\n",
       "</style>\n",
       "<table border=\"1\" class=\"dataframe\">\n",
       "  <thead>\n",
       "    <tr style=\"text-align: right;\">\n",
       "      <th></th>\n",
       "      <th>block</th>\n",
       "      <th>taxa</th>\n",
       "      <th>start</th>\n",
       "      <th>end</th>\n",
       "      <th>rev_comp</th>\n",
       "      <th>inversion</th>\n",
       "      <th>block_order</th>\n",
       "    </tr>\n",
       "  </thead>\n",
       "  <tbody>\n",
       "    <tr>\n",
       "      <th>0</th>\n",
       "      <td>Block611</td>\n",
       "      <td>CP009072</td>\n",
       "      <td>0</td>\n",
       "      <td>19237</td>\n",
       "      <td>0</td>\n",
       "      <td>0</td>\n",
       "      <td>1</td>\n",
       "    </tr>\n",
       "    <tr>\n",
       "      <th>1</th>\n",
       "      <td>Block612</td>\n",
       "      <td>CP009072</td>\n",
       "      <td>19639</td>\n",
       "      <td>25321</td>\n",
       "      <td>0</td>\n",
       "      <td>0</td>\n",
       "      <td>2</td>\n",
       "    </tr>\n",
       "    <tr>\n",
       "      <th>2</th>\n",
       "      <td>Block613</td>\n",
       "      <td>CP009072</td>\n",
       "      <td>25328</td>\n",
       "      <td>25469</td>\n",
       "      <td>0</td>\n",
       "      <td>0</td>\n",
       "      <td>3</td>\n",
       "    </tr>\n",
       "    <tr>\n",
       "      <th>3</th>\n",
       "      <td>Block614</td>\n",
       "      <td>CP009072</td>\n",
       "      <td>25805</td>\n",
       "      <td>30879</td>\n",
       "      <td>0</td>\n",
       "      <td>0</td>\n",
       "      <td>4</td>\n",
       "    </tr>\n",
       "    <tr>\n",
       "      <th>4</th>\n",
       "      <td>Block615</td>\n",
       "      <td>CP009072</td>\n",
       "      <td>30896</td>\n",
       "      <td>41163</td>\n",
       "      <td>0</td>\n",
       "      <td>0</td>\n",
       "      <td>5</td>\n",
       "    </tr>\n",
       "  </tbody>\n",
       "</table>\n",
       "</div>"
      ],
      "text/plain": [
       "      block      taxa  start    end  rev_comp  inversion  block_order\n",
       "0  Block611  CP009072      0  19237         0          0            1\n",
       "1  Block612  CP009072  19639  25321         0          0            2\n",
       "2  Block613  CP009072  25328  25469         0          0            3\n",
       "3  Block614  CP009072  25805  30879         0          0            4\n",
       "4  Block615  CP009072  30896  41163         0          0            5"
      ]
     },
     "execution_count": 17,
     "metadata": {},
     "output_type": "execute_result"
    }
   ],
   "source": [
    "ATCC_block_final.head()"
   ]
  },
  {
   "cell_type": "code",
   "execution_count": 18,
   "metadata": {},
   "outputs": [
    {
     "data": {
      "text/plain": [
       "1088"
      ]
     },
     "execution_count": 18,
     "metadata": {},
     "output_type": "execute_result"
    }
   ],
   "source": [
    "ATCC_block_final['block'].nunique()"
   ]
  },
  {
   "cell_type": "markdown",
   "metadata": {},
   "source": [
    "## ATCC expression data                  "
   ]
  },
  {
   "cell_type": "code",
   "execution_count": 19,
   "metadata": {},
   "outputs": [],
   "source": [
    "ATCC['gbk_end'] = ATCC['gbk_end'].apply(lambda x:x.replace('>',''))\n",
    "ATCC['gbk_end'] = pd.to_numeric(ATCC['gbk_end'])"
   ]
  },
  {
   "cell_type": "code",
   "execution_count": 20,
   "metadata": {},
   "outputs": [],
   "source": [
    "#matching blocks by start\n",
    "ATCC_block_by_start = [match_block_start(i, ATCC_block_final) for i in ATCC['gbk_start']]"
   ]
  },
  {
   "cell_type": "code",
   "execution_count": 21,
   "metadata": {},
   "outputs": [],
   "source": [
    "#matching block by end\n",
    "ATCC_block_by_end = [match_block_end(i, ATCC_block_final) for i in ATCC['gbk_end']]"
   ]
  },
  {
   "cell_type": "code",
   "execution_count": 22,
   "metadata": {},
   "outputs": [
    {
     "name": "stdout",
     "output_type": "stream",
     "text": [
      "ATCC has 4825 rows and 3181 are single blocks\n"
     ]
    }
   ],
   "source": [
    "#add new columns and make it a new dataframe\n",
    "ATCC_new = ATCC.copy()\n",
    "ATCC_new['block_by_start'] = ATCC_block_by_start\n",
    "ATCC_new['block_by_end'] = ATCC_block_by_end\n",
    "\n",
    "#check if the start and end identifies the same block\n",
    "ATCC_new['Single_block'] = ATCC_new['block_by_start'] == ATCC_new['block_by_end']\n",
    "print('ATCC has', len(ATCC_new), 'rows and', sum(ATCC_new.Single_block), 'are single blocks')"
   ]
  },
  {
   "cell_type": "markdown",
   "metadata": {},
   "source": [
    "## single block and merge with block file "
   ]
  },
  {
   "cell_type": "code",
   "execution_count": 23,
   "metadata": {},
   "outputs": [],
   "source": [
    "ATCC_sb = ATCC_new[ATCC_new['Single_block']==True]"
   ]
  },
  {
   "cell_type": "code",
   "execution_count": 24,
   "metadata": {},
   "outputs": [],
   "source": [
    "ATCC_sb = pd.merge(ATCC_sb, ATCC_block_final, how='left', left_on='block_by_start', right_on='block')"
   ]
  },
  {
   "cell_type": "code",
   "execution_count": 25,
   "metadata": {},
   "outputs": [
    {
     "data": {
      "text/html": [
       "<div>\n",
       "<style scoped>\n",
       "    .dataframe tbody tr th:only-of-type {\n",
       "        vertical-align: middle;\n",
       "    }\n",
       "\n",
       "    .dataframe tbody tr th {\n",
       "        vertical-align: top;\n",
       "    }\n",
       "\n",
       "    .dataframe thead th {\n",
       "        text-align: right;\n",
       "    }\n",
       "</style>\n",
       "<table border=\"1\" class=\"dataframe\">\n",
       "  <thead>\n",
       "    <tr style=\"text-align: right;\">\n",
       "      <th></th>\n",
       "      <th>gene_id</th>\n",
       "      <th>gbk_start</th>\n",
       "      <th>gbk_end</th>\n",
       "      <th>gbk_midpoint</th>\n",
       "      <th>gbk_gene_id</th>\n",
       "      <th>gbk_old_locus_tag</th>\n",
       "      <th>gbk_strand</th>\n",
       "      <th>GSE94978_1</th>\n",
       "      <th>GSE94978_2</th>\n",
       "      <th>block_by_start</th>\n",
       "      <th>block_by_end</th>\n",
       "      <th>Single_block</th>\n",
       "      <th>block</th>\n",
       "      <th>taxa</th>\n",
       "      <th>start</th>\n",
       "      <th>end</th>\n",
       "      <th>rev_comp</th>\n",
       "      <th>inversion</th>\n",
       "      <th>block_order</th>\n",
       "    </tr>\n",
       "  </thead>\n",
       "  <tbody>\n",
       "    <tr>\n",
       "      <th>0</th>\n",
       "      <td>DR76_RS00005</td>\n",
       "      <td>1</td>\n",
       "      <td>1278</td>\n",
       "      <td>639</td>\n",
       "      <td>NaN</td>\n",
       "      <td>DR76_1</td>\n",
       "      <td>0</td>\n",
       "      <td>107</td>\n",
       "      <td>208</td>\n",
       "      <td>Block611</td>\n",
       "      <td>Block611</td>\n",
       "      <td>True</td>\n",
       "      <td>Block611</td>\n",
       "      <td>CP009072</td>\n",
       "      <td>0</td>\n",
       "      <td>19237</td>\n",
       "      <td>0</td>\n",
       "      <td>0</td>\n",
       "      <td>1</td>\n",
       "    </tr>\n",
       "    <tr>\n",
       "      <th>1</th>\n",
       "      <td>DR76_RS00010</td>\n",
       "      <td>1275</td>\n",
       "      <td>2279</td>\n",
       "      <td>1777</td>\n",
       "      <td>NaN</td>\n",
       "      <td>DR76_2</td>\n",
       "      <td>0</td>\n",
       "      <td>128</td>\n",
       "      <td>346</td>\n",
       "      <td>Block611</td>\n",
       "      <td>Block611</td>\n",
       "      <td>True</td>\n",
       "      <td>Block611</td>\n",
       "      <td>CP009072</td>\n",
       "      <td>0</td>\n",
       "      <td>19237</td>\n",
       "      <td>0</td>\n",
       "      <td>0</td>\n",
       "      <td>1</td>\n",
       "    </tr>\n",
       "    <tr>\n",
       "      <th>2</th>\n",
       "      <td>DR76_RS00015</td>\n",
       "      <td>2276</td>\n",
       "      <td>3241</td>\n",
       "      <td>2758</td>\n",
       "      <td>NaN</td>\n",
       "      <td>DR76_4</td>\n",
       "      <td>0</td>\n",
       "      <td>221</td>\n",
       "      <td>416</td>\n",
       "      <td>Block611</td>\n",
       "      <td>Block611</td>\n",
       "      <td>True</td>\n",
       "      <td>Block611</td>\n",
       "      <td>CP009072</td>\n",
       "      <td>0</td>\n",
       "      <td>19237</td>\n",
       "      <td>0</td>\n",
       "      <td>0</td>\n",
       "      <td>1</td>\n",
       "    </tr>\n",
       "    <tr>\n",
       "      <th>3</th>\n",
       "      <td>DR76_RS00020</td>\n",
       "      <td>3215</td>\n",
       "      <td>3961</td>\n",
       "      <td>3588</td>\n",
       "      <td>NaN</td>\n",
       "      <td>DR76_3</td>\n",
       "      <td>1</td>\n",
       "      <td>888</td>\n",
       "      <td>769</td>\n",
       "      <td>Block611</td>\n",
       "      <td>Block611</td>\n",
       "      <td>True</td>\n",
       "      <td>Block611</td>\n",
       "      <td>CP009072</td>\n",
       "      <td>0</td>\n",
       "      <td>19237</td>\n",
       "      <td>0</td>\n",
       "      <td>0</td>\n",
       "      <td>1</td>\n",
       "    </tr>\n",
       "    <tr>\n",
       "      <th>4</th>\n",
       "      <td>DR76_RS00025</td>\n",
       "      <td>4013</td>\n",
       "      <td>4831</td>\n",
       "      <td>4422</td>\n",
       "      <td>NaN</td>\n",
       "      <td>DR76_5</td>\n",
       "      <td>1</td>\n",
       "      <td>161</td>\n",
       "      <td>274</td>\n",
       "      <td>Block611</td>\n",
       "      <td>Block611</td>\n",
       "      <td>True</td>\n",
       "      <td>Block611</td>\n",
       "      <td>CP009072</td>\n",
       "      <td>0</td>\n",
       "      <td>19237</td>\n",
       "      <td>0</td>\n",
       "      <td>0</td>\n",
       "      <td>1</td>\n",
       "    </tr>\n",
       "  </tbody>\n",
       "</table>\n",
       "</div>"
      ],
      "text/plain": [
       "        gene_id  gbk_start  gbk_end  gbk_midpoint gbk_gene_id  \\\n",
       "0  DR76_RS00005          1     1278           639         NaN   \n",
       "1  DR76_RS00010       1275     2279          1777         NaN   \n",
       "2  DR76_RS00015       2276     3241          2758         NaN   \n",
       "3  DR76_RS00020       3215     3961          3588         NaN   \n",
       "4  DR76_RS00025       4013     4831          4422         NaN   \n",
       "\n",
       "  gbk_old_locus_tag  gbk_strand  GSE94978_1  GSE94978_2 block_by_start  \\\n",
       "0            DR76_1           0         107         208       Block611   \n",
       "1            DR76_2           0         128         346       Block611   \n",
       "2            DR76_4           0         221         416       Block611   \n",
       "3            DR76_3           1         888         769       Block611   \n",
       "4            DR76_5           1         161         274       Block611   \n",
       "\n",
       "  block_by_end  Single_block     block      taxa  start    end  rev_comp  \\\n",
       "0     Block611          True  Block611  CP009072      0  19237         0   \n",
       "1     Block611          True  Block611  CP009072      0  19237         0   \n",
       "2     Block611          True  Block611  CP009072      0  19237         0   \n",
       "3     Block611          True  Block611  CP009072      0  19237         0   \n",
       "4     Block611          True  Block611  CP009072      0  19237         0   \n",
       "\n",
       "   inversion  block_order  \n",
       "0          0            1  \n",
       "1          0            1  \n",
       "2          0            1  \n",
       "3          0            1  \n",
       "4          0            1  "
      ]
     },
     "execution_count": 25,
     "metadata": {},
     "output_type": "execute_result"
    }
   ],
   "source": [
    "ATCC_sb.head()"
   ]
  },
  {
   "cell_type": "markdown",
   "metadata": {},
   "source": [
    " "
   ]
  },
  {
   "cell_type": "markdown",
   "metadata": {},
   "source": [
    "# BW25113"
   ]
  },
  {
   "cell_type": "markdown",
   "metadata": {},
   "source": [
    "### Omitted blocks that are inside another block "
   ]
  },
  {
   "cell_type": "code",
   "execution_count": 26,
   "metadata": {},
   "outputs": [
    {
     "name": "stdout",
     "output_type": "stream",
     "text": [
      "There are 3 inside blocks\n"
     ]
    }
   ],
   "source": [
    "block_ends=[]\n",
    "inside_block=[]\n",
    "for i in range(len(BW25113_block)-1): \n",
    "    block_ends.append(BW25113_block.end[i])\n",
    "    if not(all(BW25113_block.end[i+1] > x for x in block_ends)):\n",
    "           inside_block.append(BW25113_block.block[i+1])\n",
    "\n",
    "print('There are',len(inside_block), 'inside blocks')"
   ]
  },
  {
   "cell_type": "code",
   "execution_count": 27,
   "metadata": {},
   "outputs": [
    {
     "name": "stdout",
     "output_type": "stream",
     "text": [
      "there are 3 inside blocks and 3 are inverted\n"
     ]
    },
    {
     "data": {
      "text/html": [
       "<div>\n",
       "<style scoped>\n",
       "    .dataframe tbody tr th:only-of-type {\n",
       "        vertical-align: middle;\n",
       "    }\n",
       "\n",
       "    .dataframe tbody tr th {\n",
       "        vertical-align: top;\n",
       "    }\n",
       "\n",
       "    .dataframe thead th {\n",
       "        text-align: right;\n",
       "    }\n",
       "</style>\n",
       "<table border=\"1\" class=\"dataframe\">\n",
       "  <thead>\n",
       "    <tr style=\"text-align: right;\">\n",
       "      <th></th>\n",
       "      <th>block</th>\n",
       "      <th>taxa</th>\n",
       "      <th>start</th>\n",
       "      <th>end</th>\n",
       "      <th>rev_comp</th>\n",
       "      <th>inversion</th>\n",
       "      <th>block_order</th>\n",
       "    </tr>\n",
       "  </thead>\n",
       "  <tbody>\n",
       "    <tr>\n",
       "      <th>0</th>\n",
       "      <td>Block17</td>\n",
       "      <td>NZ_CP009273</td>\n",
       "      <td>751912</td>\n",
       "      <td>751934</td>\n",
       "      <td>1</td>\n",
       "      <td>1</td>\n",
       "      <td>185</td>\n",
       "    </tr>\n",
       "    <tr>\n",
       "      <th>1</th>\n",
       "      <td>Block97</td>\n",
       "      <td>NZ_CP009273</td>\n",
       "      <td>1938486</td>\n",
       "      <td>1938513</td>\n",
       "      <td>1</td>\n",
       "      <td>1</td>\n",
       "      <td>500</td>\n",
       "    </tr>\n",
       "    <tr>\n",
       "      <th>2</th>\n",
       "      <td>Block96</td>\n",
       "      <td>NZ_CP009273</td>\n",
       "      <td>3591755</td>\n",
       "      <td>3591787</td>\n",
       "      <td>1</td>\n",
       "      <td>1</td>\n",
       "      <td>913</td>\n",
       "    </tr>\n",
       "  </tbody>\n",
       "</table>\n",
       "</div>"
      ],
      "text/plain": [
       "     block         taxa    start      end  rev_comp  inversion  block_order\n",
       "0  Block17  NZ_CP009273   751912   751934         1          1          185\n",
       "1  Block97  NZ_CP009273  1938486  1938513         1          1          500\n",
       "2  Block96  NZ_CP009273  3591755  3591787         1          1          913"
      ]
     },
     "execution_count": 27,
     "metadata": {},
     "output_type": "execute_result"
    }
   ],
   "source": [
    "##View inside block df \n",
    "inside_block_df = pd.merge(BW25113_block, pd.DataFrame({'block':inside_block}), how='right', on='block')\n",
    "inside_block_df.head()\n",
    "print('there are', len(inside_block_df), 'inside blocks and', sum(inside_block_df['inversion']), 'are inverted')\n",
    "BW25113_inside_inverted = inside_block_df[inside_block_df['inversion']==1]\n",
    "BW25113_inside_inverted"
   ]
  },
  {
   "cell_type": "code",
   "execution_count": 28,
   "metadata": {},
   "outputs": [],
   "source": [
    "BW25113_block_final = BW25113_block[~BW25113_block['block'].isin(inside_block)]"
   ]
  },
  {
   "cell_type": "code",
   "execution_count": 29,
   "metadata": {},
   "outputs": [
    {
     "data": {
      "text/plain": [
       "1145"
      ]
     },
     "execution_count": 29,
     "metadata": {},
     "output_type": "execute_result"
    }
   ],
   "source": [
    "BW25113_block_final['block'].nunique()"
   ]
  },
  {
   "cell_type": "markdown",
   "metadata": {},
   "source": [
    "## BW expression data "
   ]
  },
  {
   "cell_type": "code",
   "execution_count": 30,
   "metadata": {},
   "outputs": [],
   "source": [
    "BW25113['gbk_end'] = BW25113['gbk_end'].apply(lambda x:x.replace('>',''))"
   ]
  },
  {
   "cell_type": "code",
   "execution_count": 31,
   "metadata": {},
   "outputs": [],
   "source": [
    "BW25113['gbk_end'] = pd.to_numeric(BW25113['gbk_end'])"
   ]
  },
  {
   "cell_type": "code",
   "execution_count": 32,
   "metadata": {},
   "outputs": [],
   "source": [
    "#matching blocks by start\n",
    "BW25113_block_by_start = [match_block_start(i, BW25113_block_final) for i in BW25113['gbk_start']]"
   ]
  },
  {
   "cell_type": "code",
   "execution_count": 33,
   "metadata": {},
   "outputs": [],
   "source": [
    "#matching block by end\n",
    "BW25113_block_by_end = [match_block_end(i, BW25113_block_final) for i in BW25113['gbk_end']]"
   ]
  },
  {
   "cell_type": "code",
   "execution_count": 34,
   "metadata": {},
   "outputs": [
    {
     "name": "stdout",
     "output_type": "stream",
     "text": [
      "BW25113 has 4077 rows and 3040 are single blocks\n"
     ]
    }
   ],
   "source": [
    "#add new columns and make it a new dataframe\n",
    "BW25113_new = BW25113.copy()\n",
    "BW25113_new['block_by_start'] = BW25113_block_by_start\n",
    "BW25113_new['block_by_end'] = BW25113_block_by_end\n",
    "\n",
    "#check if the start and end identifies the same block\n",
    "BW25113_new['Single_block'] = BW25113_new['block_by_start'] == BW25113_new['block_by_end']\n",
    "print('BW25113 has', len(BW25113_new), 'rows and', sum(BW25113_new.Single_block), 'are single blocks')"
   ]
  },
  {
   "cell_type": "markdown",
   "metadata": {},
   "source": [
    "## single block and merge with block file "
   ]
  },
  {
   "cell_type": "code",
   "execution_count": 35,
   "metadata": {},
   "outputs": [
    {
     "name": "stdout",
     "output_type": "stream",
     "text": [
      "There are 3040 single block genes\n"
     ]
    }
   ],
   "source": [
    "BW25113_sb = BW25113_new[BW25113_new['Single_block']==True]\n",
    "BW25113_sb = pd.merge(BW25113_sb, BW25113_block, how='left', left_on='block_by_start', right_on='block')\n",
    "print('There are', len(BW25113_sb), 'single block genes')"
   ]
  },
  {
   "cell_type": "code",
   "execution_count": 36,
   "metadata": {},
   "outputs": [
    {
     "data": {
      "text/plain": [
       "Index(['Locus_tag', 'GSE73673_6', 'GSE73673_7', 'GSE73673_8', 'gene_id',\n",
       "       'GSE85914', 'gbk_locus_tag', 'gbk_start', 'gbk_end', 'gbk_midpoint',\n",
       "       'gbk_gene_id', 'gbk_old_locus_tag', 'gbk_strand'],\n",
       "      dtype='object')"
      ]
     },
     "execution_count": 36,
     "metadata": {},
     "output_type": "execute_result"
    }
   ],
   "source": [
    "BW25113.columns"
   ]
  },
  {
   "cell_type": "code",
   "execution_count": 37,
   "metadata": {},
   "outputs": [
    {
     "data": {
      "text/plain": [
       "Index(['Locus_tag', 'GSE73673_6', 'GSE73673_7', 'GSE73673_8', 'gene_id',\n",
       "       'GSE85914', 'gbk_locus_tag', 'gbk_start', 'gbk_end', 'gbk_midpoint',\n",
       "       'gbk_gene_id', 'gbk_old_locus_tag', 'gbk_strand', 'block_by_start',\n",
       "       'block_by_end', 'Single_block', 'block', 'taxa', 'start', 'end',\n",
       "       'rev_comp', 'inversion', 'block_order'],\n",
       "      dtype='object')"
      ]
     },
     "execution_count": 37,
     "metadata": {},
     "output_type": "execute_result"
    }
   ],
   "source": [
    "BW25113_sb.columns"
   ]
  },
  {
   "cell_type": "markdown",
   "metadata": {},
   "source": [
    "  "
   ]
  },
  {
   "cell_type": "markdown",
   "metadata": {},
   "source": [
    "# K12DH "
   ]
  },
  {
   "cell_type": "markdown",
   "metadata": {},
   "source": [
    "### Omitted blocks that are inside another block "
   ]
  },
  {
   "cell_type": "code",
   "execution_count": 38,
   "metadata": {},
   "outputs": [
    {
     "name": "stdout",
     "output_type": "stream",
     "text": [
      "There are 3 inside blocks\n"
     ]
    }
   ],
   "source": [
    "block_ends=[]\n",
    "inside_block=[]\n",
    "for i in range(len(K12DH_block)-1): \n",
    "    block_ends.append(K12DH_block.end[i])\n",
    "    if not(all(K12DH_block.end[i+1] > x for x in block_ends)):\n",
    "           inside_block.append(K12DH_block.block[i+1])\n",
    "\n",
    "print('There are',len(inside_block), 'inside blocks')"
   ]
  },
  {
   "cell_type": "code",
   "execution_count": 39,
   "metadata": {},
   "outputs": [
    {
     "name": "stdout",
     "output_type": "stream",
     "text": [
      "there are 3 inside blocks and 3 are inverted\n"
     ]
    },
    {
     "data": {
      "text/html": [
       "<div>\n",
       "<style scoped>\n",
       "    .dataframe tbody tr th:only-of-type {\n",
       "        vertical-align: middle;\n",
       "    }\n",
       "\n",
       "    .dataframe tbody tr th {\n",
       "        vertical-align: top;\n",
       "    }\n",
       "\n",
       "    .dataframe thead th {\n",
       "        text-align: right;\n",
       "    }\n",
       "</style>\n",
       "<table border=\"1\" class=\"dataframe\">\n",
       "  <thead>\n",
       "    <tr style=\"text-align: right;\">\n",
       "      <th></th>\n",
       "      <th>block</th>\n",
       "      <th>taxa</th>\n",
       "      <th>start</th>\n",
       "      <th>end</th>\n",
       "      <th>rev_comp</th>\n",
       "      <th>inversion</th>\n",
       "      <th>block_order</th>\n",
       "    </tr>\n",
       "  </thead>\n",
       "  <tbody>\n",
       "    <tr>\n",
       "      <th>0</th>\n",
       "      <td>Block17</td>\n",
       "      <td>NC_010473</td>\n",
       "      <td>808271</td>\n",
       "      <td>808293</td>\n",
       "      <td>1</td>\n",
       "      <td>1</td>\n",
       "      <td>183</td>\n",
       "    </tr>\n",
       "    <tr>\n",
       "      <th>1</th>\n",
       "      <td>Block97</td>\n",
       "      <td>NC_010473</td>\n",
       "      <td>2032824</td>\n",
       "      <td>2032851</td>\n",
       "      <td>1</td>\n",
       "      <td>1</td>\n",
       "      <td>500</td>\n",
       "    </tr>\n",
       "    <tr>\n",
       "      <th>2</th>\n",
       "      <td>Block96</td>\n",
       "      <td>NC_010473</td>\n",
       "      <td>3694163</td>\n",
       "      <td>3694195</td>\n",
       "      <td>1</td>\n",
       "      <td>1</td>\n",
       "      <td>913</td>\n",
       "    </tr>\n",
       "  </tbody>\n",
       "</table>\n",
       "</div>"
      ],
      "text/plain": [
       "     block       taxa    start      end  rev_comp  inversion  block_order\n",
       "0  Block17  NC_010473   808271   808293         1          1          183\n",
       "1  Block97  NC_010473  2032824  2032851         1          1          500\n",
       "2  Block96  NC_010473  3694163  3694195         1          1          913"
      ]
     },
     "execution_count": 39,
     "metadata": {},
     "output_type": "execute_result"
    }
   ],
   "source": [
    "##View inside block df \n",
    "inside_block_df = pd.merge(K12DH_block, pd.DataFrame({'block':inside_block}), how='right', on='block')\n",
    "inside_block_df.head()\n",
    "print('there are', len(inside_block_df), 'inside blocks and', sum(inside_block_df['inversion']), 'are inverted')\n",
    "K12DH_inside_inverted = inside_block_df[inside_block_df['inversion']==1]\n",
    "K12DH_inside_inverted"
   ]
  },
  {
   "cell_type": "code",
   "execution_count": 40,
   "metadata": {},
   "outputs": [],
   "source": [
    "K12DH_block_final = K12DH_block[~K12DH_block['block'].isin(inside_block)]"
   ]
  },
  {
   "cell_type": "markdown",
   "metadata": {},
   "source": [
    "## K12 DH Expression data "
   ]
  },
  {
   "cell_type": "code",
   "execution_count": 41,
   "metadata": {},
   "outputs": [],
   "source": [
    "K12DH['gbk_end'] = K12DH['gbk_end'].apply(lambda x:x.replace('>',''))\n",
    "K12DH['gbk_end'] = pd.to_numeric(K12DH['gbk_end'])"
   ]
  },
  {
   "cell_type": "code",
   "execution_count": 42,
   "metadata": {},
   "outputs": [],
   "source": [
    "#matching blocks by start\n",
    "K12DH_block_by_start = [match_block_start(i, K12DH_block_final) for i in K12DH['gbk_start']]"
   ]
  },
  {
   "cell_type": "code",
   "execution_count": 43,
   "metadata": {},
   "outputs": [],
   "source": [
    "#matching block by end\n",
    "K12DH_block_by_end = [match_block_end(i, K12DH_block_final) for i in K12DH['gbk_end']]"
   ]
  },
  {
   "cell_type": "code",
   "execution_count": 44,
   "metadata": {},
   "outputs": [
    {
     "name": "stdout",
     "output_type": "stream",
     "text": [
      "K12DH has 4247 rows and 3058 are single blocks\n"
     ]
    }
   ],
   "source": [
    "#add new columns and make it a new dataframe\n",
    "K12DH_new = K12DH.copy()\n",
    "K12DH_new['block_by_start'] = K12DH_block_by_start\n",
    "K12DH_new['block_by_end'] = K12DH_block_by_end\n",
    "\n",
    "#check if the start and end identifies the same block\n",
    "K12DH_new['Single_block'] = K12DH_new['block_by_start'] == K12DH_new['block_by_end']\n",
    "print('K12DH has', len(K12DH_new), 'rows and', sum(K12DH_new.Single_block), 'are single blocks')"
   ]
  },
  {
   "cell_type": "markdown",
   "metadata": {},
   "source": [
    "## single block and merge with block file "
   ]
  },
  {
   "cell_type": "code",
   "execution_count": 45,
   "metadata": {},
   "outputs": [
    {
     "name": "stdout",
     "output_type": "stream",
     "text": [
      "There are 3058 single block genes\n"
     ]
    }
   ],
   "source": [
    "K12DH_sb = K12DH_new[K12DH_new['Single_block']==True]\n",
    "K12DH_sb = pd.merge(K12DH_sb, K12DH_block, how='left', left_on='block_by_start', right_on='block')\n",
    "print('There are', len(K12DH_sb), 'single block genes')"
   ]
  },
  {
   "cell_type": "markdown",
   "metadata": {},
   "source": [
    "  "
   ]
  },
  {
   "cell_type": "markdown",
   "metadata": {},
   "source": [
    "# K12MG expression data "
   ]
  },
  {
   "cell_type": "markdown",
   "metadata": {},
   "source": [
    "## K12MG Expression data"
   ]
  },
  {
   "cell_type": "code",
   "execution_count": 46,
   "metadata": {},
   "outputs": [],
   "source": [
    "#matching blocks by start\n",
    "K12MG_block_by_start = [match_block_start(i, K12MG_block) for i in K12MG['gbk_start']]"
   ]
  },
  {
   "cell_type": "code",
   "execution_count": 47,
   "metadata": {},
   "outputs": [],
   "source": [
    "#matching block by end\n",
    "K12MG_block_by_end = [match_block_end(i, K12MG_block) for i in K12MG['gbk_end']]"
   ]
  },
  {
   "cell_type": "code",
   "execution_count": 48,
   "metadata": {},
   "outputs": [
    {
     "name": "stdout",
     "output_type": "stream",
     "text": [
      "K12MG has 3891 rows and 2969 are single blocks\n"
     ]
    }
   ],
   "source": [
    "#add new columns and make it a new dataframe\n",
    "K12MG_new = K12MG\n",
    "K12MG_new['block_by_start'] = K12MG_block_by_start\n",
    "K12MG_new['block_by_end'] = K12MG_block_by_end\n",
    "\n",
    "#check if the start and end identifies the same block\n",
    "K12MG_new['Single_block'] = K12MG_new['block_by_start'] == K12MG_new['block_by_end']\n",
    "print('K12MG has', len(K12MG_new), 'rows and', sum(K12MG_new.Single_block), 'are single blocks')"
   ]
  },
  {
   "cell_type": "markdown",
   "metadata": {},
   "source": [
    "## single block and merge with block file "
   ]
  },
  {
   "cell_type": "code",
   "execution_count": 49,
   "metadata": {},
   "outputs": [
    {
     "name": "stdout",
     "output_type": "stream",
     "text": [
      "There are 2969 single block genes\n"
     ]
    }
   ],
   "source": [
    "K12MG_sb = K12MG_new[K12MG_new['Single_block']==True]\n",
    "K12MG_sb = pd.merge(K12MG_sb, K12MG_block, how='left', left_on='block_by_start', right_on='block')\n",
    "print('There are', len(K12MG_sb), 'single block genes')"
   ]
  },
  {
   "cell_type": "code",
   "execution_count": 50,
   "metadata": {},
   "outputs": [
    {
     "data": {
      "text/plain": [
       "563"
      ]
     },
     "execution_count": 50,
     "metadata": {},
     "output_type": "execute_result"
    }
   ],
   "source": [
    "K12MG_sb['block'].nunique()"
   ]
  },
  {
   "cell_type": "markdown",
   "metadata": {},
   "source": [
    "## Sample dataframe"
   ]
  },
  {
   "cell_type": "code",
   "execution_count": 51,
   "metadata": {},
   "outputs": [
    {
     "data": {
      "text/plain": [
       "GSE94978    6362\n",
       "Name: exp, dtype: int64"
      ]
     },
     "execution_count": 51,
     "metadata": {},
     "output_type": "execute_result"
    }
   ],
   "source": [
    "ATCC_final = pd.melt(ATCC_sb, id_vars =list(ATCC_sb.columns[:7]) + list(ATCC_sb.columns[9:18]), \n",
    "                     value_vars =['GSE94978_1', 'GSE94978_2'], \n",
    "                     var_name ='replicates', value_name ='raw_exp') \n",
    "ATCC_final['Locus_tag'] = np.nan\n",
    "ATCC_final['exp'] = 'GSE94978'\n",
    "ATCC_final['exp'].value_counts()"
   ]
  },
  {
   "cell_type": "code",
   "execution_count": 52,
   "metadata": {},
   "outputs": [
    {
     "data": {
      "text/plain": [
       "GSE73673    9120\n",
       "GSE85914    3040\n",
       "Name: exp, dtype: int64"
      ]
     },
     "execution_count": 52,
     "metadata": {},
     "output_type": "execute_result"
    }
   ],
   "source": [
    "BW25113_final = pd.melt(BW25113_sb, id_vars =['Locus_tag', 'gene_id'] + list(BW25113_sb.columns[6:22]), \n",
    "                     value_vars =['GSE73673_6', 'GSE73673_7', 'GSE73673_8', 'GSE85914'], \n",
    "                     var_name ='replicates', value_name ='raw_exp') \n",
    "BW25113_final['exp'] = BW25113_final['replicates'].apply(lambda x:x.split('_')[0])\n",
    "BW25113_final['exp'].value_counts()"
   ]
  },
  {
   "cell_type": "code",
   "execution_count": 53,
   "metadata": {},
   "outputs": [
    {
     "data": {
      "text/plain": [
       "Index(['Locus_tag', 'gene_id', 'GSE98890_1', 'GSE98890_2', 'gbk_start',\n",
       "       'gbk_end', 'gbk_midpoint', 'gbk_gene_id', 'gbk_locus_tag', 'gbk_strand',\n",
       "       'block_by_start', 'block_by_end', 'Single_block', 'block', 'taxa',\n",
       "       'start', 'end', 'rev_comp', 'inversion', 'block_order'],\n",
       "      dtype='object')"
      ]
     },
     "execution_count": 53,
     "metadata": {},
     "output_type": "execute_result"
    }
   ],
   "source": [
    "K12DH_sb.columns"
   ]
  },
  {
   "cell_type": "code",
   "execution_count": 54,
   "metadata": {},
   "outputs": [],
   "source": [
    "K12DH_final = pd.melt(K12DH_sb, id_vars =['Locus_tag', 'gene_id'] + list(K12DH_sb.columns[4:19]), \n",
    "                     value_vars =['GSE98890_1', 'GSE98890_2'], \n",
    "                     var_name ='replicates', value_name ='raw_exp') \n",
    "K12DH_final['exp'] = 'GSE98890'"
   ]
  },
  {
   "cell_type": "code",
   "execution_count": 55,
   "metadata": {},
   "outputs": [
    {
     "data": {
      "text/plain": [
       "GSE114917    11876\n",
       "GSE60522      8907\n",
       "GSE54199      5938\n",
       "GSE40313      5938\n",
       "Name: exp, dtype: int64"
      ]
     },
     "execution_count": 55,
     "metadata": {},
     "output_type": "execute_result"
    }
   ],
   "source": [
    "K12MG_final = pd.melt(K12MG_sb, id_vars =['Locus_tag', 'gene_id'] + list(K12MG_sb.columns[13:28]), \n",
    "                     value_vars =list(K12MG_sb.columns[2:13]), \n",
    "                     var_name ='replicates', value_name ='raw_exp') \n",
    "K12MG_final['exp'] = K12MG_final['replicates'].apply(lambda x:x.split('_')[0])\n",
    "K12MG_final['exp'].value_counts()"
   ]
  },
  {
   "cell_type": "code",
   "execution_count": 56,
   "metadata": {},
   "outputs": [
    {
     "data": {
      "text/plain": [
       "Index(['Locus_tag', 'gene_id', 'GSE60522_1', 'GSE60522_2', 'GSE60522_3',\n",
       "       'GSE114917_LP1', 'GSE114917_LP2', 'GSE114917_LP3', 'GSE114917_LP4',\n",
       "       'GSE54199_RNA', 'GSE54199_DNA', 'GSE40313_1', 'GSE40313_2', 'gbk_start',\n",
       "       'gbk_end', 'gbk_midpoint', 'gbk_gene_id', 'gbk_old_locus_tag',\n",
       "       'gbk_strand', 'block_by_start', 'block_by_end', 'Single_block', 'block',\n",
       "       'taxa', 'start', 'end', 'rev_comp', 'inversion', 'block_order'],\n",
       "      dtype='object')"
      ]
     },
     "execution_count": 56,
     "metadata": {},
     "output_type": "execute_result"
    }
   ],
   "source": [
    "K12MG_sb.columns"
   ]
  },
  {
   "cell_type": "code",
   "execution_count": 57,
   "metadata": {},
   "outputs": [
    {
     "data": {
      "text/plain": [
       "22"
      ]
     },
     "execution_count": 57,
     "metadata": {},
     "output_type": "execute_result"
    }
   ],
   "source": [
    "len(K12MG.columns)"
   ]
  },
  {
   "cell_type": "code",
   "execution_count": 58,
   "metadata": {},
   "outputs": [],
   "source": [
    "K12MG_final['strain'] = 'K12MG'\n",
    "K12DH_final['strain'] = 'K12DH'\n",
    "ATCC_final['strain'] = 'ATCC'\n",
    "BW25113_final['strain'] = 'BW25113'"
   ]
  },
  {
   "cell_type": "code",
   "execution_count": 59,
   "metadata": {},
   "outputs": [
    {
     "data": {
      "text/plain": [
       "21"
      ]
     },
     "execution_count": 59,
     "metadata": {},
     "output_type": "execute_result"
    }
   ],
   "source": [
    "len(ATCC_final.columns)"
   ]
  },
  {
   "cell_type": "code",
   "execution_count": 60,
   "metadata": {},
   "outputs": [
    {
     "data": {
      "text/plain": [
       "22"
      ]
     },
     "execution_count": 60,
     "metadata": {},
     "output_type": "execute_result"
    }
   ],
   "source": [
    "len(BW25113_final.columns)"
   ]
  },
  {
   "cell_type": "code",
   "execution_count": 61,
   "metadata": {},
   "outputs": [
    {
     "data": {
      "text/plain": [
       "21"
      ]
     },
     "execution_count": 61,
     "metadata": {},
     "output_type": "execute_result"
    }
   ],
   "source": [
    "len(K12DH_final.columns)"
   ]
  },
  {
   "cell_type": "code",
   "execution_count": 62,
   "metadata": {},
   "outputs": [
    {
     "data": {
      "text/plain": [
       "21"
      ]
     },
     "execution_count": 62,
     "metadata": {},
     "output_type": "execute_result"
    }
   ],
   "source": [
    "len(K12MG_final.columns)"
   ]
  },
  {
   "cell_type": "code",
   "execution_count": 63,
   "metadata": {},
   "outputs": [
    {
     "data": {
      "text/plain": [
       "{'gbk_locus_tag'}"
      ]
     },
     "execution_count": 63,
     "metadata": {},
     "output_type": "execute_result"
    }
   ],
   "source": [
    "set(BW25113_final.columns)^set(ATCC_final.columns)"
   ]
  },
  {
   "cell_type": "code",
   "execution_count": 64,
   "metadata": {},
   "outputs": [],
   "source": [
    "df = pd.concat([K12DH_final,K12MG_final,BW25113_final, ATCC_final])"
   ]
  },
  {
   "cell_type": "code",
   "execution_count": 65,
   "metadata": {},
   "outputs": [
    {
     "data": {
      "text/plain": [
       "Index(['Locus_tag', 'gene_id', 'gbk_start', 'gbk_end', 'gbk_midpoint',\n",
       "       'gbk_gene_id', 'gbk_locus_tag', 'gbk_strand', 'block_by_start',\n",
       "       'block_by_end', 'Single_block', 'block', 'taxa', 'start', 'end',\n",
       "       'rev_comp', 'inversion', 'replicates', 'raw_exp', 'exp', 'strain',\n",
       "       'gbk_old_locus_tag'],\n",
       "      dtype='object')"
      ]
     },
     "execution_count": 65,
     "metadata": {},
     "output_type": "execute_result"
    }
   ],
   "source": [
    "df.columns"
   ]
  },
  {
   "cell_type": "code",
   "execution_count": 66,
   "metadata": {},
   "outputs": [],
   "source": [
    "df = df.drop(['gbk_old_locus_tag','Single_block', 'gbk_locus_tag','block_by_end','block_by_start'], axis=1)"
   ]
  },
  {
   "cell_type": "code",
   "execution_count": 67,
   "metadata": {},
   "outputs": [
    {
     "data": {
      "text/plain": [
       "Index(['Locus_tag', 'gene_id', 'gbk_start', 'gbk_end', 'gbk_midpoint',\n",
       "       'gbk_gene_id', 'gbk_strand', 'block', 'taxa', 'start', 'end',\n",
       "       'rev_comp', 'inversion', 'replicates', 'raw_exp', 'exp', 'strain'],\n",
       "      dtype='object')"
      ]
     },
     "execution_count": 67,
     "metadata": {},
     "output_type": "execute_result"
    }
   ],
   "source": [
    "df.columns"
   ]
  },
  {
   "cell_type": "code",
   "execution_count": 68,
   "metadata": {},
   "outputs": [],
   "source": [
    "df = df[['Locus_tag', 'gene_id', 'gbk_start','gbk_end','gbk_midpoint', 'gbk_strand', \n",
    "         'block','start', 'end', 'rev_comp', 'inversion', 'strain', 'taxa', 'replicates',\n",
    "        'exp','raw_exp']]"
   ]
  },
  {
   "cell_type": "code",
   "execution_count": 69,
   "metadata": {},
   "outputs": [
    {
     "data": {
      "text/html": [
       "<div>\n",
       "<style scoped>\n",
       "    .dataframe tbody tr th:only-of-type {\n",
       "        vertical-align: middle;\n",
       "    }\n",
       "\n",
       "    .dataframe tbody tr th {\n",
       "        vertical-align: top;\n",
       "    }\n",
       "\n",
       "    .dataframe thead th {\n",
       "        text-align: right;\n",
       "    }\n",
       "</style>\n",
       "<table border=\"1\" class=\"dataframe\">\n",
       "  <thead>\n",
       "    <tr style=\"text-align: right;\">\n",
       "      <th></th>\n",
       "      <th>Locus_tag</th>\n",
       "      <th>gene_id</th>\n",
       "      <th>gbk_start</th>\n",
       "      <th>gbk_end</th>\n",
       "      <th>gbk_midpoint</th>\n",
       "      <th>gbk_strand</th>\n",
       "      <th>block</th>\n",
       "      <th>start</th>\n",
       "      <th>end</th>\n",
       "      <th>rev_comp</th>\n",
       "      <th>inversion</th>\n",
       "      <th>strain</th>\n",
       "      <th>taxa</th>\n",
       "      <th>replicates</th>\n",
       "      <th>exp</th>\n",
       "      <th>raw_exp</th>\n",
       "    </tr>\n",
       "  </thead>\n",
       "  <tbody>\n",
       "    <tr>\n",
       "      <th>0</th>\n",
       "      <td>ECDH10B_0001</td>\n",
       "      <td>thrL</td>\n",
       "      <td>190</td>\n",
       "      <td>255</td>\n",
       "      <td>222</td>\n",
       "      <td>0</td>\n",
       "      <td>Block1</td>\n",
       "      <td>0</td>\n",
       "      <td>5468</td>\n",
       "      <td>0</td>\n",
       "      <td>0</td>\n",
       "      <td>K12DH</td>\n",
       "      <td>NC_010473</td>\n",
       "      <td>GSE98890_1</td>\n",
       "      <td>GSE98890</td>\n",
       "      <td>161.0</td>\n",
       "    </tr>\n",
       "    <tr>\n",
       "      <th>1</th>\n",
       "      <td>ECDH10B_0002</td>\n",
       "      <td>thrA</td>\n",
       "      <td>337</td>\n",
       "      <td>2799</td>\n",
       "      <td>1568</td>\n",
       "      <td>0</td>\n",
       "      <td>Block1</td>\n",
       "      <td>0</td>\n",
       "      <td>5468</td>\n",
       "      <td>0</td>\n",
       "      <td>0</td>\n",
       "      <td>K12DH</td>\n",
       "      <td>NC_010473</td>\n",
       "      <td>GSE98890_1</td>\n",
       "      <td>GSE98890</td>\n",
       "      <td>2634.0</td>\n",
       "    </tr>\n",
       "    <tr>\n",
       "      <th>2</th>\n",
       "      <td>ECDH10B_0003</td>\n",
       "      <td>thrB</td>\n",
       "      <td>2801</td>\n",
       "      <td>3733</td>\n",
       "      <td>3267</td>\n",
       "      <td>0</td>\n",
       "      <td>Block1</td>\n",
       "      <td>0</td>\n",
       "      <td>5468</td>\n",
       "      <td>0</td>\n",
       "      <td>0</td>\n",
       "      <td>K12DH</td>\n",
       "      <td>NC_010473</td>\n",
       "      <td>GSE98890_1</td>\n",
       "      <td>GSE98890</td>\n",
       "      <td>525.0</td>\n",
       "    </tr>\n",
       "    <tr>\n",
       "      <th>3</th>\n",
       "      <td>ECDH10B_0004</td>\n",
       "      <td>thrC</td>\n",
       "      <td>3734</td>\n",
       "      <td>5020</td>\n",
       "      <td>4377</td>\n",
       "      <td>0</td>\n",
       "      <td>Block1</td>\n",
       "      <td>0</td>\n",
       "      <td>5468</td>\n",
       "      <td>0</td>\n",
       "      <td>0</td>\n",
       "      <td>K12DH</td>\n",
       "      <td>NC_010473</td>\n",
       "      <td>GSE98890_1</td>\n",
       "      <td>GSE98890</td>\n",
       "      <td>589.0</td>\n",
       "    </tr>\n",
       "    <tr>\n",
       "      <th>4</th>\n",
       "      <td>ECDH10B_0007</td>\n",
       "      <td>yaaJ</td>\n",
       "      <td>6529</td>\n",
       "      <td>7959</td>\n",
       "      <td>7244</td>\n",
       "      <td>1</td>\n",
       "      <td>Block4</td>\n",
       "      <td>5692</td>\n",
       "      <td>9904</td>\n",
       "      <td>0</td>\n",
       "      <td>0</td>\n",
       "      <td>K12DH</td>\n",
       "      <td>NC_010473</td>\n",
       "      <td>GSE98890_1</td>\n",
       "      <td>GSE98890</td>\n",
       "      <td>92.0</td>\n",
       "    </tr>\n",
       "  </tbody>\n",
       "</table>\n",
       "</div>"
      ],
      "text/plain": [
       "      Locus_tag gene_id  gbk_start  gbk_end  gbk_midpoint  gbk_strand   block  \\\n",
       "0  ECDH10B_0001    thrL        190      255           222           0  Block1   \n",
       "1  ECDH10B_0002    thrA        337     2799          1568           0  Block1   \n",
       "2  ECDH10B_0003    thrB       2801     3733          3267           0  Block1   \n",
       "3  ECDH10B_0004    thrC       3734     5020          4377           0  Block1   \n",
       "4  ECDH10B_0007    yaaJ       6529     7959          7244           1  Block4   \n",
       "\n",
       "   start   end  rev_comp  inversion strain       taxa  replicates       exp  \\\n",
       "0      0  5468         0          0  K12DH  NC_010473  GSE98890_1  GSE98890   \n",
       "1      0  5468         0          0  K12DH  NC_010473  GSE98890_1  GSE98890   \n",
       "2      0  5468         0          0  K12DH  NC_010473  GSE98890_1  GSE98890   \n",
       "3      0  5468         0          0  K12DH  NC_010473  GSE98890_1  GSE98890   \n",
       "4   5692  9904         0          0  K12DH  NC_010473  GSE98890_1  GSE98890   \n",
       "\n",
       "   raw_exp  \n",
       "0    161.0  \n",
       "1   2634.0  \n",
       "2    525.0  \n",
       "3    589.0  \n",
       "4     92.0  "
      ]
     },
     "execution_count": 69,
     "metadata": {},
     "output_type": "execute_result"
    }
   ],
   "source": [
    "df.head()"
   ]
  },
  {
   "cell_type": "code",
   "execution_count": 70,
   "metadata": {},
   "outputs": [],
   "source": [
    "df.to_csv('Sample_final_df_RawExp.csv',index=False)"
   ]
  },
  {
   "cell_type": "code",
   "execution_count": null,
   "metadata": {},
   "outputs": [],
   "source": []
  },
  {
   "cell_type": "code",
   "execution_count": null,
   "metadata": {},
   "outputs": [],
   "source": []
  },
  {
   "cell_type": "code",
   "execution_count": null,
   "metadata": {},
   "outputs": [],
   "source": []
  },
  {
   "cell_type": "code",
   "execution_count": null,
   "metadata": {},
   "outputs": [],
   "source": []
  },
  {
   "cell_type": "code",
   "execution_count": null,
   "metadata": {},
   "outputs": [],
   "source": []
  },
  {
   "cell_type": "code",
   "execution_count": null,
   "metadata": {},
   "outputs": [],
   "source": []
  },
  {
   "cell_type": "code",
   "execution_count": null,
   "metadata": {},
   "outputs": [],
   "source": []
  },
  {
   "cell_type": "code",
   "execution_count": null,
   "metadata": {},
   "outputs": [],
   "source": []
  },
  {
   "cell_type": "code",
   "execution_count": null,
   "metadata": {},
   "outputs": [],
   "source": []
  }
 ],
 "metadata": {
  "kernelspec": {
   "display_name": "Python 3",
   "language": "python",
   "name": "python3"
  },
  "language_info": {
   "codemirror_mode": {
    "name": "ipython",
    "version": 3
   },
   "file_extension": ".py",
   "mimetype": "text/x-python",
   "name": "python",
   "nbconvert_exporter": "python",
   "pygments_lexer": "ipython3",
   "version": "3.6.8"
  }
 },
 "nbformat": 4,
 "nbformat_minor": 2
}
