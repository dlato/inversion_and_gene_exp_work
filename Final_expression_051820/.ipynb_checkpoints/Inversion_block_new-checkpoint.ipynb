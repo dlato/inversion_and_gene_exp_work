{
 "cells": [
  {
   "cell_type": "code",
   "execution_count": 1,
   "metadata": {},
   "outputs": [],
   "source": [
    "import os\n",
    "import warnings\n",
    "warnings.filterwarnings('ignore')\n",
    "import numpy as np\n",
    "import pandas as pd"
   ]
  },
  {
   "cell_type": "code",
   "execution_count": 2,
   "metadata": {},
   "outputs": [],
   "source": [
    "#load data\n",
    "block = pd.read_table(\"inversion_block_info_all.txt\", sep='\\t', header=None)\n",
    "ATCC = pd.read_csv(\"Ecoli_ATCC_25922_final_exp.csv\")\n",
    "BW25113 = pd.read_csv(\"Ecoli_BW25113_final_exp0707.csv\")\n",
    "K12DH = pd.read_csv(\"Ecoli_K12_DH10B_final_exp.csv\")\n",
    "K12MG = pd.read_csv(\"Ecoli_K12_MG1655_final_exp.csv\")"
   ]
  },
  {
   "cell_type": "code",
   "execution_count": 3,
   "metadata": {},
   "outputs": [],
   "source": [
    "block.columns = ['blockname','taxa','start','end','rev_comp','inversion']"
   ]
  },
  {
   "cell_type": "code",
   "execution_count": 4,
   "metadata": {},
   "outputs": [],
   "source": [
    "block['block'] = block['blockname'].apply(lambda x:x.split('.')[0])"
   ]
  },
  {
   "cell_type": "code",
   "execution_count": 7,
   "metadata": {},
   "outputs": [],
   "source": [
    "block = block[['block', 'taxa','start','end','rev_comp','inversion']]"
   ]
  },
  {
   "cell_type": "code",
   "execution_count": 18,
   "metadata": {},
   "outputs": [
    {
     "data": {
      "text/plain": [
       "CP009072       1148\n",
       "NZ_CP009273    1148\n",
       "NC_010473      1148\n",
       "U00096000      1148\n",
       "Name: taxa, dtype: int64"
      ]
     },
     "execution_count": 18,
     "metadata": {},
     "output_type": "execute_result"
    }
   ],
   "source": [
    "block['taxa'].value_counts()"
   ]
  },
  {
   "cell_type": "code",
   "execution_count": 19,
   "metadata": {
    "scrolled": true
   },
   "outputs": [],
   "source": [
    "#sort block files based on taxa\n",
    "ATCC_block = block[block.taxa=='CP009072'].sort_values(by='start').reset_index(drop=True)\n",
    "BW25113_block = block[block.taxa=='NZ_CP009273'].sort_values(by='start').reset_index(drop=True)\n",
    "K12DH_block = block[block.taxa=='NC_010473'].sort_values(by='start').reset_index(drop=True)\n",
    "K12MG_block = block[block.taxa=='U00096000'].sort_values(by='start').reset_index(drop=True)\n",
    "\n",
    "# #fixing rows that were not parse properly\n",
    "# fix = block.taxa.unique()[4:]\n",
    "# df = pd.DataFrame({})\n",
    "# for i in fix:\n",
    "#     df = df.append(block.loc[block.taxa==i])\n",
    "\n",
    "# df['block2'] = df['block'].apply(lambda x : x.split('NZ')[1])\n",
    "# df['block'] = df['block'].apply(lambda x : x.split('NZ')[0])\n",
    "\n",
    "# df = df.drop(['inversion'],1)\n",
    "# df.columns = ['block','start', 'end', 'rev_comp', 'inversion', 'taxa']\n",
    "# df = df[['block', 'taxa', 'start', 'end','rev_comp', 'inversion']]\n",
    "\n",
    "# df['taxa'] = df['taxa'].apply(lambda x : 'NZ'+x)\n",
    "\n",
    "# #add fixed rows into the block files\n",
    "# ATCC_block = ATCC_block.append(df.loc[df['taxa']==\"NZ_CP009072\"])\n",
    "# BW25113_block = BW25113_block.append(df.loc[df['taxa']==\"NZ_CP009273\"])\n",
    "\n",
    "ATCC_block['start'] = pd.to_numeric(ATCC_block['start'])\n",
    "ATCC_block = ATCC_block.sort_values(by='start').reset_index(drop=True)\n",
    "\n",
    "BW25113_block['start'] = pd.to_numeric(BW25113_block['start'])\n",
    "BW25113_block = BW25113_block.sort_values(by='start').reset_index(drop=True)"
   ]
  },
  {
   "cell_type": "code",
   "execution_count": 20,
   "metadata": {},
   "outputs": [],
   "source": [
    "#function to match by start\n",
    "def match_block_start(gene_start, block_file): \n",
    "    block_file = block_file.sort_values(by='start').reset_index(drop=True)\n",
    "    starts =[]\n",
    "    for i in block_file.start:\n",
    "        if i < gene_start: \n",
    "            starts.append(i)\n",
    "    if len(starts) == 0:\n",
    "        return None\n",
    "    else:\n",
    "        return(block_file.block[np.argmax(starts)])\n",
    "\n",
    "#function to match by gene end \n",
    "def match_block_end(gene_end, block_file):\n",
    "    block_file = block_file.sort_values(by='start', ascending=False).reset_index(drop=True)\n",
    "    ends =[]\n",
    "    for j in block_file.end:\n",
    "        if j > gene_end: \n",
    "            ends.append(j)\n",
    "    if len(ends)==0:\n",
    "        return(block_file.block[len(block_file)-1])\n",
    "    else:\n",
    "        return(block_file.block[np.argmin(ends)])"
   ]
  },
  {
   "cell_type": "markdown",
   "metadata": {},
   "source": [
    "## files to check neighbouring blocks"
   ]
  },
  {
   "cell_type": "code",
   "execution_count": 21,
   "metadata": {},
   "outputs": [],
   "source": [
    "ATCC_block['block_order'] = np.arange(1,len(ATCC_block)+1,1)\n",
    "BW25113_block['block_order'] = np.arange(1,len(BW25113_block)+1,1)\n",
    "K12DH_block['block_order'] = np.arange(1,len(K12DH_block)+1,1)\n",
    "K12MG_block['block_order'] = np.arange(1,len(K12MG_block)+1,1)"
   ]
  },
  {
   "cell_type": "code",
   "execution_count": 22,
   "metadata": {},
   "outputs": [
    {
     "data": {
      "text/plain": [
       "True"
      ]
     },
     "execution_count": 22,
     "metadata": {},
     "output_type": "execute_result"
    }
   ],
   "source": [
    "#number of rows check\n",
    "len(ATCC_block)==len(BW25113_block)==len(K12DH_block)==len(K12MG_block)"
   ]
  },
  {
   "cell_type": "markdown",
   "metadata": {},
   "source": [
    "# ATCC"
   ]
  },
  {
   "cell_type": "markdown",
   "metadata": {},
   "source": [
    "### block file - spaces between blocks"
   ]
  },
  {
   "cell_type": "code",
   "execution_count": 23,
   "metadata": {},
   "outputs": [],
   "source": [
    "##find difference between blocks\n",
    "diff = [0]\n",
    "for i in range(len(ATCC_block.start)-1):\n",
    "    diff.append(ATCC_block.start[i+1] - ATCC_block.end[i])\n",
    "\n",
    "ATCC_block['diff'] = diff\n",
    "ATCC_block['overlaps'] = ATCC_block['diff'] < 0 "
   ]
  },
  {
   "cell_type": "code",
   "execution_count": 24,
   "metadata": {},
   "outputs": [],
   "source": [
    "# block = ['a','b','c','d']\n",
    "# start = [1,6,10,21]\n",
    "# end = [20,9,12,25]\n",
    "\n",
    "block = ATCC_block['block']\n",
    "start = ATCC_block['start']\n",
    "end = ATCC_block['end']\n",
    "\n",
    "N = len(block)\n",
    "\n",
    "tally =[]\n",
    "for i in range(len(block)):\n",
    "    tally.append((start[i], block[i],\"start\"))\n",
    "    tally.append((end[i], block[i],\"end\"))\n",
    "    \n",
    "tally = sorted(tally, key=lambda x:x[0])\n",
    "\n",
    "groups={}\n",
    "stack={}\n",
    "for entry in tally:\n",
    "    t = entry[0]\n",
    "    name = entry[1]\n",
    "    action = entry[2]\n",
    "    \n",
    "    if action == \"start\":\n",
    "        stack[name]= True\n",
    "        if len(stack)>1:\n",
    "            groups[','.join(stack)] = True\n",
    "    if action == \"end\":\n",
    "        del stack[name]\n",
    "\n",
    "#print(tally)\n",
    "#print(groups)\n",
    "##Overlapping of 3 blocks, no inversion conflict\n",
    "# print([i for i in groups.keys()][40])\n",
    "# ATCC_block.loc[477:480]"
   ]
  },
  {
   "cell_type": "code",
   "execution_count": 25,
   "metadata": {},
   "outputs": [
    {
     "name": "stdout",
     "output_type": "stream",
     "text": [
      "there are 48 out of 68 overlaps that have inconsistent inversion\n",
      "46 inconsitencies are inside blocks\n"
     ]
    },
    {
     "data": {
      "text/html": [
       "<div>\n",
       "<style scoped>\n",
       "    .dataframe tbody tr th:only-of-type {\n",
       "        vertical-align: middle;\n",
       "    }\n",
       "\n",
       "    .dataframe tbody tr th {\n",
       "        vertical-align: top;\n",
       "    }\n",
       "\n",
       "    .dataframe thead th {\n",
       "        text-align: right;\n",
       "    }\n",
       "</style>\n",
       "<table border=\"1\" class=\"dataframe\">\n",
       "  <thead>\n",
       "    <tr style=\"text-align: right;\">\n",
       "      <th></th>\n",
       "      <th>Overlapping_blocks</th>\n",
       "      <th>Bigblock</th>\n",
       "      <th>Smallblock1</th>\n",
       "      <th>Smallblock2</th>\n",
       "      <th>block_x</th>\n",
       "      <th>start_x</th>\n",
       "      <th>end_x</th>\n",
       "      <th>inversion_x</th>\n",
       "      <th>block_y</th>\n",
       "      <th>start_y</th>\n",
       "      <th>end_y</th>\n",
       "      <th>inversion_y</th>\n",
       "      <th>inversion_conflict</th>\n",
       "      <th>inside_block</th>\n",
       "    </tr>\n",
       "  </thead>\n",
       "  <tbody>\n",
       "    <tr>\n",
       "      <th>0</th>\n",
       "      <td>Block627,Block625</td>\n",
       "      <td>Block627</td>\n",
       "      <td>Block625</td>\n",
       "      <td>None</td>\n",
       "      <td>Block627</td>\n",
       "      <td>74379</td>\n",
       "      <td>98581</td>\n",
       "      <td>0</td>\n",
       "      <td>Block625</td>\n",
       "      <td>76379</td>\n",
       "      <td>76482</td>\n",
       "      <td>0</td>\n",
       "      <td>False</td>\n",
       "      <td>True</td>\n",
       "    </tr>\n",
       "    <tr>\n",
       "      <th>1</th>\n",
       "      <td>Block627,Block626</td>\n",
       "      <td>Block627</td>\n",
       "      <td>Block626</td>\n",
       "      <td>None</td>\n",
       "      <td>Block627</td>\n",
       "      <td>74379</td>\n",
       "      <td>98581</td>\n",
       "      <td>0</td>\n",
       "      <td>Block626</td>\n",
       "      <td>76853</td>\n",
       "      <td>77129</td>\n",
       "      <td>0</td>\n",
       "      <td>False</td>\n",
       "      <td>True</td>\n",
       "    </tr>\n",
       "    <tr>\n",
       "      <th>2</th>\n",
       "      <td>Block637,Block609</td>\n",
       "      <td>Block637</td>\n",
       "      <td>Block609</td>\n",
       "      <td>None</td>\n",
       "      <td>Block637</td>\n",
       "      <td>133236</td>\n",
       "      <td>140045</td>\n",
       "      <td>0</td>\n",
       "      <td>Block609</td>\n",
       "      <td>133257</td>\n",
       "      <td>133286</td>\n",
       "      <td>1</td>\n",
       "      <td>True</td>\n",
       "      <td>True</td>\n",
       "    </tr>\n",
       "    <tr>\n",
       "      <th>3</th>\n",
       "      <td>Block637,Block515</td>\n",
       "      <td>Block637</td>\n",
       "      <td>Block515</td>\n",
       "      <td>None</td>\n",
       "      <td>Block637</td>\n",
       "      <td>133236</td>\n",
       "      <td>140045</td>\n",
       "      <td>0</td>\n",
       "      <td>Block515</td>\n",
       "      <td>139971</td>\n",
       "      <td>140002</td>\n",
       "      <td>1</td>\n",
       "      <td>True</td>\n",
       "      <td>True</td>\n",
       "    </tr>\n",
       "    <tr>\n",
       "      <th>4</th>\n",
       "      <td>Block644,Block1080</td>\n",
       "      <td>Block644</td>\n",
       "      <td>Block1080</td>\n",
       "      <td>None</td>\n",
       "      <td>Block644</td>\n",
       "      <td>168457</td>\n",
       "      <td>172345</td>\n",
       "      <td>0</td>\n",
       "      <td>Block1080</td>\n",
       "      <td>168513</td>\n",
       "      <td>168548</td>\n",
       "      <td>1</td>\n",
       "      <td>True</td>\n",
       "      <td>True</td>\n",
       "    </tr>\n",
       "  </tbody>\n",
       "</table>\n",
       "</div>"
      ],
      "text/plain": [
       "   Overlapping_blocks  Bigblock Smallblock1 Smallblock2   block_x  start_x  \\\n",
       "0   Block627,Block625  Block627    Block625        None  Block627    74379   \n",
       "1   Block627,Block626  Block627    Block626        None  Block627    74379   \n",
       "2   Block637,Block609  Block637    Block609        None  Block637   133236   \n",
       "3   Block637,Block515  Block637    Block515        None  Block637   133236   \n",
       "4  Block644,Block1080  Block644   Block1080        None  Block644   168457   \n",
       "\n",
       "    end_x  inversion_x    block_y  start_y   end_y  inversion_y  \\\n",
       "0   98581            0   Block625    76379   76482            0   \n",
       "1   98581            0   Block626    76853   77129            0   \n",
       "2  140045            0   Block609   133257  133286            1   \n",
       "3  140045            0   Block515   139971  140002            1   \n",
       "4  172345            0  Block1080   168513  168548            1   \n",
       "\n",
       "   inversion_conflict  inside_block  \n",
       "0               False          True  \n",
       "1               False          True  \n",
       "2                True          True  \n",
       "3                True          True  \n",
       "4                True          True  "
      ]
     },
     "execution_count": 25,
     "metadata": {},
     "output_type": "execute_result"
    }
   ],
   "source": [
    "ATCC_overlaps = pd.DataFrame({'Overlapping_blocks':[x for x in groups.keys()]})\n",
    "blocks = ATCC_overlaps['Overlapping_blocks'].str.split(',',n=2, expand=True)\n",
    "ATCC_overlaps['Bigblock'] = blocks[0]\n",
    "ATCC_overlaps['Smallblock1'] = blocks[1]\n",
    "ATCC_overlaps['Smallblock2'] = blocks[2]\n",
    "ATCC_overlaps = pd.merge(ATCC_overlaps, ATCC_block[['block','start','end','inversion']], left_on='Bigblock',right_on='block', how='left')\n",
    "ATCC_overlaps = pd.merge(ATCC_overlaps, ATCC_block[['block','start','end','inversion']], left_on='Smallblock1',right_on='block', how='left')\n",
    "ATCC_overlaps['inversion_conflict'] = ATCC_overlaps['inversion_x'] != ATCC_overlaps['inversion_y']\n",
    "ATCC_overlaps['inside_block'] = ATCC_overlaps['end_y'] < ATCC_overlaps['end_x']\n",
    "print('there are', sum(ATCC_overlaps['inversion_conflict']), 'out of', len(ATCC_overlaps),'overlaps that have inconsistent inversion')\n",
    "print(sum(ATCC_overlaps[ATCC_overlaps['inversion_conflict']]['inside_block']),'inconsitencies are inside blocks')\n",
    "ATCC_overlaps.head()"
   ]
  },
  {
   "cell_type": "markdown",
   "metadata": {},
   "source": [
    "## Overlapping gene check"
   ]
  },
  {
   "cell_type": "code",
   "execution_count": 26,
   "metadata": {},
   "outputs": [
    {
     "data": {
      "text/html": [
       "<div>\n",
       "<style scoped>\n",
       "    .dataframe tbody tr th:only-of-type {\n",
       "        vertical-align: middle;\n",
       "    }\n",
       "\n",
       "    .dataframe tbody tr th {\n",
       "        vertical-align: top;\n",
       "    }\n",
       "\n",
       "    .dataframe thead th {\n",
       "        text-align: right;\n",
       "    }\n",
       "</style>\n",
       "<table border=\"1\" class=\"dataframe\">\n",
       "  <thead>\n",
       "    <tr style=\"text-align: right;\">\n",
       "      <th></th>\n",
       "      <th>block</th>\n",
       "      <th>start</th>\n",
       "      <th>end</th>\n",
       "      <th>inversion_conflict</th>\n",
       "    </tr>\n",
       "  </thead>\n",
       "  <tbody>\n",
       "    <tr>\n",
       "      <th>0</th>\n",
       "      <td>Block709,Block710</td>\n",
       "      <td>463359</td>\n",
       "      <td>463448</td>\n",
       "      <td>False</td>\n",
       "    </tr>\n",
       "    <tr>\n",
       "      <th>1</th>\n",
       "      <td>Block721,Block723</td>\n",
       "      <td>518405</td>\n",
       "      <td>518420</td>\n",
       "      <td>False</td>\n",
       "    </tr>\n",
       "    <tr>\n",
       "      <th>2</th>\n",
       "      <td>Block824,Block823</td>\n",
       "      <td>1550682</td>\n",
       "      <td>1550866</td>\n",
       "      <td>False</td>\n",
       "    </tr>\n",
       "    <tr>\n",
       "      <th>3</th>\n",
       "      <td>Block1036,Block1037</td>\n",
       "      <td>2146364</td>\n",
       "      <td>2146397</td>\n",
       "      <td>False</td>\n",
       "    </tr>\n",
       "    <tr>\n",
       "      <th>4</th>\n",
       "      <td>Block79,Block1127</td>\n",
       "      <td>2511196</td>\n",
       "      <td>2511354</td>\n",
       "      <td>False</td>\n",
       "    </tr>\n",
       "    <tr>\n",
       "      <th>5</th>\n",
       "      <td>Block27,Block28</td>\n",
       "      <td>2811080</td>\n",
       "      <td>2811133</td>\n",
       "      <td>False</td>\n",
       "    </tr>\n",
       "    <tr>\n",
       "      <th>6</th>\n",
       "      <td>Block308,Block741</td>\n",
       "      <td>3876291</td>\n",
       "      <td>3876494</td>\n",
       "      <td>True</td>\n",
       "    </tr>\n",
       "    <tr>\n",
       "      <th>7</th>\n",
       "      <td>Block741,Block307</td>\n",
       "      <td>3876516</td>\n",
       "      <td>3876582</td>\n",
       "      <td>True</td>\n",
       "    </tr>\n",
       "  </tbody>\n",
       "</table>\n",
       "</div>"
      ],
      "text/plain": [
       "                 block    start      end  inversion_conflict\n",
       "0    Block709,Block710   463359   463448               False\n",
       "1    Block721,Block723   518405   518420               False\n",
       "2    Block824,Block823  1550682  1550866               False\n",
       "3  Block1036,Block1037  2146364  2146397               False\n",
       "4    Block79,Block1127  2511196  2511354               False\n",
       "5      Block27,Block28  2811080  2811133               False\n",
       "6    Block308,Block741  3876291  3876494                True\n",
       "7    Block741,Block307  3876516  3876582                True"
      ]
     },
     "execution_count": 26,
     "metadata": {},
     "output_type": "execute_result"
    }
   ],
   "source": [
    "overlapping_region = ATCC_overlaps[ATCC_overlaps['inside_block']==False].reset_index(drop=True)\n",
    "\n",
    "overlapping_region['start'] = overlapping_region['start_y']\n",
    "overlapping_region['end'] = overlapping_region['end_x']\n",
    "overlapping_region['block'] = overlapping_region['Overlapping_blocks']\n",
    "overlapping_region = overlapping_region[['block', 'start', 'end', 'inversion_conflict']]\n",
    "overlapping_region "
   ]
  },
  {
   "cell_type": "code",
   "execution_count": 27,
   "metadata": {},
   "outputs": [
    {
     "data": {
      "text/html": [
       "<div>\n",
       "<style scoped>\n",
       "    .dataframe tbody tr th:only-of-type {\n",
       "        vertical-align: middle;\n",
       "    }\n",
       "\n",
       "    .dataframe tbody tr th {\n",
       "        vertical-align: top;\n",
       "    }\n",
       "\n",
       "    .dataframe thead th {\n",
       "        text-align: right;\n",
       "    }\n",
       "</style>\n",
       "<table border=\"1\" class=\"dataframe\">\n",
       "  <thead>\n",
       "    <tr style=\"text-align: right;\">\n",
       "      <th></th>\n",
       "      <th>Overlapping_blocks</th>\n",
       "      <th>Bigblock</th>\n",
       "      <th>Smallblock1</th>\n",
       "      <th>Smallblock2</th>\n",
       "      <th>block_x</th>\n",
       "      <th>start_x</th>\n",
       "      <th>end_x</th>\n",
       "      <th>inversion_x</th>\n",
       "      <th>block_y</th>\n",
       "      <th>start_y</th>\n",
       "      <th>end_y</th>\n",
       "      <th>inversion_y</th>\n",
       "      <th>inversion_conflict</th>\n",
       "      <th>inside_block</th>\n",
       "    </tr>\n",
       "  </thead>\n",
       "  <tbody>\n",
       "    <tr>\n",
       "      <th>0</th>\n",
       "      <td>Block709,Block710</td>\n",
       "      <td>Block709</td>\n",
       "      <td>Block710</td>\n",
       "      <td>None</td>\n",
       "      <td>Block709</td>\n",
       "      <td>452281</td>\n",
       "      <td>463448</td>\n",
       "      <td>0</td>\n",
       "      <td>Block710</td>\n",
       "      <td>463359</td>\n",
       "      <td>464582</td>\n",
       "      <td>0</td>\n",
       "      <td>False</td>\n",
       "      <td>False</td>\n",
       "    </tr>\n",
       "    <tr>\n",
       "      <th>1</th>\n",
       "      <td>Block721,Block723</td>\n",
       "      <td>Block721</td>\n",
       "      <td>Block723</td>\n",
       "      <td>None</td>\n",
       "      <td>Block721</td>\n",
       "      <td>495769</td>\n",
       "      <td>518420</td>\n",
       "      <td>0</td>\n",
       "      <td>Block723</td>\n",
       "      <td>518405</td>\n",
       "      <td>529887</td>\n",
       "      <td>0</td>\n",
       "      <td>False</td>\n",
       "      <td>False</td>\n",
       "    </tr>\n",
       "    <tr>\n",
       "      <th>2</th>\n",
       "      <td>Block824,Block823</td>\n",
       "      <td>Block824</td>\n",
       "      <td>Block823</td>\n",
       "      <td>None</td>\n",
       "      <td>Block824</td>\n",
       "      <td>1544980</td>\n",
       "      <td>1550866</td>\n",
       "      <td>1</td>\n",
       "      <td>Block823</td>\n",
       "      <td>1550682</td>\n",
       "      <td>1553430</td>\n",
       "      <td>1</td>\n",
       "      <td>False</td>\n",
       "      <td>False</td>\n",
       "    </tr>\n",
       "    <tr>\n",
       "      <th>3</th>\n",
       "      <td>Block1036,Block1037</td>\n",
       "      <td>Block1036</td>\n",
       "      <td>Block1037</td>\n",
       "      <td>None</td>\n",
       "      <td>Block1036</td>\n",
       "      <td>2146159</td>\n",
       "      <td>2146397</td>\n",
       "      <td>0</td>\n",
       "      <td>Block1037</td>\n",
       "      <td>2146364</td>\n",
       "      <td>2150588</td>\n",
       "      <td>0</td>\n",
       "      <td>False</td>\n",
       "      <td>False</td>\n",
       "    </tr>\n",
       "    <tr>\n",
       "      <th>4</th>\n",
       "      <td>Block79,Block1127</td>\n",
       "      <td>Block79</td>\n",
       "      <td>Block1127</td>\n",
       "      <td>None</td>\n",
       "      <td>Block79</td>\n",
       "      <td>2510755</td>\n",
       "      <td>2511354</td>\n",
       "      <td>0</td>\n",
       "      <td>Block1127</td>\n",
       "      <td>2511196</td>\n",
       "      <td>2521120</td>\n",
       "      <td>0</td>\n",
       "      <td>False</td>\n",
       "      <td>False</td>\n",
       "    </tr>\n",
       "  </tbody>\n",
       "</table>\n",
       "</div>"
      ],
      "text/plain": [
       "    Overlapping_blocks   Bigblock Smallblock1 Smallblock2    block_x  start_x  \\\n",
       "0    Block709,Block710   Block709    Block710        None   Block709   452281   \n",
       "1    Block721,Block723   Block721    Block723        None   Block721   495769   \n",
       "2    Block824,Block823   Block824    Block823        None   Block824  1544980   \n",
       "3  Block1036,Block1037  Block1036   Block1037        None  Block1036  2146159   \n",
       "4    Block79,Block1127    Block79   Block1127        None    Block79  2510755   \n",
       "\n",
       "     end_x  inversion_x    block_y  start_y    end_y  inversion_y  \\\n",
       "0   463448            0   Block710   463359   464582            0   \n",
       "1   518420            0   Block723   518405   529887            0   \n",
       "2  1550866            1   Block823  1550682  1553430            1   \n",
       "3  2146397            0  Block1037  2146364  2150588            0   \n",
       "4  2511354            0  Block1127  2511196  2521120            0   \n",
       "\n",
       "   inversion_conflict  inside_block  \n",
       "0               False         False  \n",
       "1               False         False  \n",
       "2               False         False  \n",
       "3               False         False  \n",
       "4               False         False  "
      ]
     },
     "execution_count": 27,
     "metadata": {},
     "output_type": "execute_result"
    }
   ],
   "source": [
    "#for overlap mapping\n",
    "mapdf = ATCC_overlaps[ATCC_overlaps['inside_block']==False].reset_index(drop=True)\n",
    "mapdf.head()"
   ]
  },
  {
   "cell_type": "code",
   "execution_count": 28,
   "metadata": {},
   "outputs": [],
   "source": [
    "# blocs = mapdf[['Bigblock']]\n",
    "\n",
    "# blocs2 = mapdf[['Smallblock1']]\n",
    "# blocs2 = blocs2.rename(columns={'Smallblock1': 'Bigblock'})\n",
    "\n",
    "# blocs = pd.concat([blocs,blocs2])\n",
    "\n",
    "# len(blocs)"
   ]
  },
  {
   "cell_type": "code",
   "execution_count": 29,
   "metadata": {},
   "outputs": [],
   "source": [
    "def overlapping_gene(start, end, block_file):\n",
    "    inside_gene, overlapping_start, overlapping_end=[],[],[]\n",
    "    for i in range(len(block_file)):\n",
    "        if (block_file['gbk_start'][i] < start and block_file['gbk_end'][i] > start):\n",
    "            overlapping_start.append(block_file['gene_id'][i])\n",
    "        if (block_file['gbk_start'][i] > start and block_file['gbk_end'][i] < end):\n",
    "            inside_gene.append(block_file['gene_id'][i]) \n",
    "        if (block_file['gbk_start'][i] > start and block_file['gbk_start'][i] < end):\n",
    "            overlapping_end.append(block_file['gene_id'][i]) \n",
    "    return [overlapping_start,inside_gene,overlapping_end]"
   ]
  },
  {
   "cell_type": "code",
   "execution_count": 30,
   "metadata": {},
   "outputs": [
    {
     "data": {
      "text/plain": [
       "{'Block709,Block710': [[], [], []],\n",
       " 'Block721,Block723': [[], [], ['DR76_RS02385']],\n",
       " 'Block824,Block823': [[], [], []],\n",
       " 'Block1036,Block1037': [[], [], []],\n",
       " 'Block79,Block1127': [[], [], []],\n",
       " 'Block27,Block28': [['DR76_RS13700'], [], []],\n",
       " 'Block308,Block741': [['DR76_RS18985'], [], []],\n",
       " 'Block741,Block307': [['DR76_RS18985'], [], []]}"
      ]
     },
     "execution_count": 30,
     "metadata": {},
     "output_type": "execute_result"
    }
   ],
   "source": [
    "ATCC.gbk_end = [i.replace('>','') for i in ATCC.gbk_end]\n",
    "ATCC['gbk_end'] = pd.to_numeric(ATCC['gbk_end'])\n",
    "ATCC_regions = {}\n",
    "regions={}\n",
    "for i in range(len(overlapping_region)):\n",
    "    regions[overlapping_region['block'][i]] = overlapping_gene(overlapping_region['start'][i], \n",
    "                                                               overlapping_region['end'][i], ATCC)\n",
    "regions"
   ]
  },
  {
   "cell_type": "code",
   "execution_count": 31,
   "metadata": {},
   "outputs": [
    {
     "data": {
      "text/html": [
       "<div>\n",
       "<style scoped>\n",
       "    .dataframe tbody tr th:only-of-type {\n",
       "        vertical-align: middle;\n",
       "    }\n",
       "\n",
       "    .dataframe tbody tr th {\n",
       "        vertical-align: top;\n",
       "    }\n",
       "\n",
       "    .dataframe thead th {\n",
       "        text-align: right;\n",
       "    }\n",
       "</style>\n",
       "<table border=\"1\" class=\"dataframe\">\n",
       "  <thead>\n",
       "    <tr style=\"text-align: right;\">\n",
       "      <th></th>\n",
       "      <th>Overlapping_blocks</th>\n",
       "      <th>Bigblock</th>\n",
       "      <th>Smallblock1</th>\n",
       "      <th>Smallblock2</th>\n",
       "      <th>block_x</th>\n",
       "      <th>start_x</th>\n",
       "      <th>end_x</th>\n",
       "      <th>inversion_x</th>\n",
       "      <th>block_y</th>\n",
       "      <th>start_y</th>\n",
       "      <th>end_y</th>\n",
       "      <th>inversion_y</th>\n",
       "      <th>inversion_conflict</th>\n",
       "      <th>inside_block</th>\n",
       "    </tr>\n",
       "  </thead>\n",
       "  <tbody>\n",
       "    <tr>\n",
       "      <th>0</th>\n",
       "      <td>Block627,Block625</td>\n",
       "      <td>Block627</td>\n",
       "      <td>Block625</td>\n",
       "      <td>None</td>\n",
       "      <td>Block627</td>\n",
       "      <td>74379</td>\n",
       "      <td>98581</td>\n",
       "      <td>0</td>\n",
       "      <td>Block625</td>\n",
       "      <td>76379</td>\n",
       "      <td>76482</td>\n",
       "      <td>0</td>\n",
       "      <td>False</td>\n",
       "      <td>True</td>\n",
       "    </tr>\n",
       "    <tr>\n",
       "      <th>1</th>\n",
       "      <td>Block627,Block626</td>\n",
       "      <td>Block627</td>\n",
       "      <td>Block626</td>\n",
       "      <td>None</td>\n",
       "      <td>Block627</td>\n",
       "      <td>74379</td>\n",
       "      <td>98581</td>\n",
       "      <td>0</td>\n",
       "      <td>Block626</td>\n",
       "      <td>76853</td>\n",
       "      <td>77129</td>\n",
       "      <td>0</td>\n",
       "      <td>False</td>\n",
       "      <td>True</td>\n",
       "    </tr>\n",
       "    <tr>\n",
       "      <th>2</th>\n",
       "      <td>Block637,Block609</td>\n",
       "      <td>Block637</td>\n",
       "      <td>Block609</td>\n",
       "      <td>None</td>\n",
       "      <td>Block637</td>\n",
       "      <td>133236</td>\n",
       "      <td>140045</td>\n",
       "      <td>0</td>\n",
       "      <td>Block609</td>\n",
       "      <td>133257</td>\n",
       "      <td>133286</td>\n",
       "      <td>1</td>\n",
       "      <td>True</td>\n",
       "      <td>True</td>\n",
       "    </tr>\n",
       "    <tr>\n",
       "      <th>3</th>\n",
       "      <td>Block637,Block515</td>\n",
       "      <td>Block637</td>\n",
       "      <td>Block515</td>\n",
       "      <td>None</td>\n",
       "      <td>Block637</td>\n",
       "      <td>133236</td>\n",
       "      <td>140045</td>\n",
       "      <td>0</td>\n",
       "      <td>Block515</td>\n",
       "      <td>139971</td>\n",
       "      <td>140002</td>\n",
       "      <td>1</td>\n",
       "      <td>True</td>\n",
       "      <td>True</td>\n",
       "    </tr>\n",
       "    <tr>\n",
       "      <th>4</th>\n",
       "      <td>Block644,Block1080</td>\n",
       "      <td>Block644</td>\n",
       "      <td>Block1080</td>\n",
       "      <td>None</td>\n",
       "      <td>Block644</td>\n",
       "      <td>168457</td>\n",
       "      <td>172345</td>\n",
       "      <td>0</td>\n",
       "      <td>Block1080</td>\n",
       "      <td>168513</td>\n",
       "      <td>168548</td>\n",
       "      <td>1</td>\n",
       "      <td>True</td>\n",
       "      <td>True</td>\n",
       "    </tr>\n",
       "  </tbody>\n",
       "</table>\n",
       "</div>"
      ],
      "text/plain": [
       "   Overlapping_blocks  Bigblock Smallblock1 Smallblock2   block_x  start_x  \\\n",
       "0   Block627,Block625  Block627    Block625        None  Block627    74379   \n",
       "1   Block627,Block626  Block627    Block626        None  Block627    74379   \n",
       "2   Block637,Block609  Block637    Block609        None  Block637   133236   \n",
       "3   Block637,Block515  Block637    Block515        None  Block637   133236   \n",
       "4  Block644,Block1080  Block644   Block1080        None  Block644   168457   \n",
       "\n",
       "    end_x  inversion_x    block_y  start_y   end_y  inversion_y  \\\n",
       "0   98581            0   Block625    76379   76482            0   \n",
       "1   98581            0   Block626    76853   77129            0   \n",
       "2  140045            0   Block609   133257  133286            1   \n",
       "3  140045            0   Block515   139971  140002            1   \n",
       "4  172345            0  Block1080   168513  168548            1   \n",
       "\n",
       "   inversion_conflict  inside_block  \n",
       "0               False          True  \n",
       "1               False          True  \n",
       "2                True          True  \n",
       "3                True          True  \n",
       "4                True          True  "
      ]
     },
     "execution_count": 31,
     "metadata": {},
     "output_type": "execute_result"
    }
   ],
   "source": [
    "ATCC_overlaps.head()"
   ]
  },
  {
   "cell_type": "markdown",
   "metadata": {},
   "source": [
    "## inside block genes check"
   ]
  },
  {
   "cell_type": "markdown",
   "metadata": {},
   "source": [
    "### no inversion conflict"
   ]
  },
  {
   "cell_type": "code",
   "execution_count": 32,
   "metadata": {},
   "outputs": [],
   "source": [
    "insideblock_region = ATCC_overlaps[ATCC_overlaps['inside_block']==True].reset_index(drop=True)\n",
    "insideblock_region = insideblock_region[insideblock_region['inversion_conflict']==False].reset_index(drop=True)\n",
    "\n",
    "insideblock_region['start'] = insideblock_region['start_y']\n",
    "insideblock_region['end'] = insideblock_region['end_y']\n",
    "insideblock_region['block'] = insideblock_region['Overlapping_blocks']\n",
    "insideblock_region = insideblock_region[['block', 'start', 'end', 'inversion_conflict']]"
   ]
  },
  {
   "cell_type": "code",
   "execution_count": 33,
   "metadata": {
    "scrolled": true
   },
   "outputs": [
    {
     "data": {
      "text/html": [
       "<div>\n",
       "<style scoped>\n",
       "    .dataframe tbody tr th:only-of-type {\n",
       "        vertical-align: middle;\n",
       "    }\n",
       "\n",
       "    .dataframe tbody tr th {\n",
       "        vertical-align: top;\n",
       "    }\n",
       "\n",
       "    .dataframe thead th {\n",
       "        text-align: right;\n",
       "    }\n",
       "</style>\n",
       "<table border=\"1\" class=\"dataframe\">\n",
       "  <thead>\n",
       "    <tr style=\"text-align: right;\">\n",
       "      <th></th>\n",
       "      <th>Block627,Block625</th>\n",
       "      <th>Block627,Block626</th>\n",
       "      <th>Block678,Block65</th>\n",
       "      <th>Block1011,Block719</th>\n",
       "      <th>Block913,Block96</th>\n",
       "      <th>Block838,Block912</th>\n",
       "      <th>Block1044,Block56</th>\n",
       "      <th>Block1074,Block21</th>\n",
       "      <th>Block1074,Block21,Block1072</th>\n",
       "      <th>Block1123,Block78</th>\n",
       "      <th>Block1127,Block267</th>\n",
       "      <th>Block485,Block261</th>\n",
       "      <th>Block585,Block584</th>\n",
       "      <th>Block598,Block599</th>\n",
       "    </tr>\n",
       "  </thead>\n",
       "  <tbody>\n",
       "    <tr>\n",
       "      <th>0</th>\n",
       "      <td>[]</td>\n",
       "      <td>[DR76_RS00355]</td>\n",
       "      <td>[]</td>\n",
       "      <td>[DR76_RS03020]</td>\n",
       "      <td>[]</td>\n",
       "      <td>[]</td>\n",
       "      <td>[DR76_RS10610]</td>\n",
       "      <td>[]</td>\n",
       "      <td>[]</td>\n",
       "      <td>[]</td>\n",
       "      <td>[]</td>\n",
       "      <td>[]</td>\n",
       "      <td>[]</td>\n",
       "      <td>[]</td>\n",
       "    </tr>\n",
       "    <tr>\n",
       "      <th>1</th>\n",
       "      <td>[]</td>\n",
       "      <td>[]</td>\n",
       "      <td>[]</td>\n",
       "      <td>[]</td>\n",
       "      <td>[]</td>\n",
       "      <td>[]</td>\n",
       "      <td>[]</td>\n",
       "      <td>[]</td>\n",
       "      <td>[]</td>\n",
       "      <td>[]</td>\n",
       "      <td>[]</td>\n",
       "      <td>[]</td>\n",
       "      <td>[]</td>\n",
       "      <td>[]</td>\n",
       "    </tr>\n",
       "    <tr>\n",
       "      <th>2</th>\n",
       "      <td>[DR76_RS00355]</td>\n",
       "      <td>[]</td>\n",
       "      <td>[]</td>\n",
       "      <td>[]</td>\n",
       "      <td>[]</td>\n",
       "      <td>[]</td>\n",
       "      <td>[]</td>\n",
       "      <td>[]</td>\n",
       "      <td>[]</td>\n",
       "      <td>[DR76_RS12165]</td>\n",
       "      <td>[]</td>\n",
       "      <td>[]</td>\n",
       "      <td>[]</td>\n",
       "      <td>[]</td>\n",
       "    </tr>\n",
       "  </tbody>\n",
       "</table>\n",
       "</div>"
      ],
      "text/plain": [
       "  Block627,Block625 Block627,Block626 Block678,Block65 Block1011,Block719  \\\n",
       "0                []    [DR76_RS00355]               []     [DR76_RS03020]   \n",
       "1                []                []               []                 []   \n",
       "2    [DR76_RS00355]                []               []                 []   \n",
       "\n",
       "  Block913,Block96 Block838,Block912 Block1044,Block56 Block1074,Block21  \\\n",
       "0               []                []    [DR76_RS10610]                []   \n",
       "1               []                []                []                []   \n",
       "2               []                []                []                []   \n",
       "\n",
       "  Block1074,Block21,Block1072 Block1123,Block78 Block1127,Block267  \\\n",
       "0                          []                []                 []   \n",
       "1                          []                []                 []   \n",
       "2                          []    [DR76_RS12165]                 []   \n",
       "\n",
       "  Block485,Block261 Block585,Block584 Block598,Block599  \n",
       "0                []                []                []  \n",
       "1                []                []                []  \n",
       "2                []                []                []  "
      ]
     },
     "execution_count": 33,
     "metadata": {},
     "output_type": "execute_result"
    }
   ],
   "source": [
    "inside_regions={}\n",
    "for i in range(len(insideblock_region)):\n",
    "    inside_regions[insideblock_region['block'][i]] = overlapping_gene(insideblock_region['start'][i], \n",
    "                                                                      insideblock_region['end'][i], ATCC)\n",
    "pd.DataFrame(inside_regions)"
   ]
  },
  {
   "cell_type": "code",
   "execution_count": 34,
   "metadata": {},
   "outputs": [
    {
     "data": {
      "text/html": [
       "<div>\n",
       "<style scoped>\n",
       "    .dataframe tbody tr th:only-of-type {\n",
       "        vertical-align: middle;\n",
       "    }\n",
       "\n",
       "    .dataframe tbody tr th {\n",
       "        vertical-align: top;\n",
       "    }\n",
       "\n",
       "    .dataframe thead th {\n",
       "        text-align: right;\n",
       "    }\n",
       "</style>\n",
       "<table border=\"1\" class=\"dataframe\">\n",
       "  <thead>\n",
       "    <tr style=\"text-align: right;\">\n",
       "      <th></th>\n",
       "      <th>block</th>\n",
       "      <th>start</th>\n",
       "      <th>end</th>\n",
       "      <th>inversion_conflict</th>\n",
       "    </tr>\n",
       "  </thead>\n",
       "  <tbody>\n",
       "    <tr>\n",
       "      <th>0</th>\n",
       "      <td>Block627,Block625</td>\n",
       "      <td>76379</td>\n",
       "      <td>76482</td>\n",
       "      <td>False</td>\n",
       "    </tr>\n",
       "    <tr>\n",
       "      <th>1</th>\n",
       "      <td>Block627,Block626</td>\n",
       "      <td>76853</td>\n",
       "      <td>77129</td>\n",
       "      <td>False</td>\n",
       "    </tr>\n",
       "    <tr>\n",
       "      <th>2</th>\n",
       "      <td>Block678,Block65</td>\n",
       "      <td>335018</td>\n",
       "      <td>335048</td>\n",
       "      <td>False</td>\n",
       "    </tr>\n",
       "    <tr>\n",
       "      <th>3</th>\n",
       "      <td>Block1011,Block719</td>\n",
       "      <td>654048</td>\n",
       "      <td>654075</td>\n",
       "      <td>False</td>\n",
       "    </tr>\n",
       "    <tr>\n",
       "      <th>4</th>\n",
       "      <td>Block913,Block96</td>\n",
       "      <td>1147977</td>\n",
       "      <td>1148009</td>\n",
       "      <td>False</td>\n",
       "    </tr>\n",
       "  </tbody>\n",
       "</table>\n",
       "</div>"
      ],
      "text/plain": [
       "                block    start      end  inversion_conflict\n",
       "0   Block627,Block625    76379    76482               False\n",
       "1   Block627,Block626    76853    77129               False\n",
       "2    Block678,Block65   335018   335048               False\n",
       "3  Block1011,Block719   654048   654075               False\n",
       "4    Block913,Block96  1147977  1148009               False"
      ]
     },
     "execution_count": 34,
     "metadata": {},
     "output_type": "execute_result"
    }
   ],
   "source": [
    "insideblock_region.head()"
   ]
  },
  {
   "cell_type": "code",
   "execution_count": 35,
   "metadata": {},
   "outputs": [
    {
     "name": "stdout",
     "output_type": "stream",
     "text": [
      "3 0 2\n"
     ]
    }
   ],
   "source": [
    "genes = [i for i in inside_regions.values()]\n",
    "overlap_start, overlap, overlap_end = [],[],[]\n",
    "for i in range(len(genes)):\n",
    "    overlap_start.append(len(genes[i][0]))\n",
    "    overlap.append(len(genes[i][1]))\n",
    "    overlap_end.append(len(genes[i][2]))\n",
    "\n",
    "print(sum(overlap_start), sum(overlap), sum(overlap_end))\n",
    "    "
   ]
  },
  {
   "cell_type": "markdown",
   "metadata": {},
   "source": [
    "### With inversion conflict"
   ]
  },
  {
   "cell_type": "code",
   "execution_count": 36,
   "metadata": {},
   "outputs": [],
   "source": [
    "block_region = ATCC_overlaps[ATCC_overlaps['inside_block']==True].reset_index(drop=True)\n",
    "block_region = block_region[block_region['inversion_conflict']==True].reset_index(drop=True)\n",
    "\n",
    "block_region['start'] = block_region['start_y']\n",
    "block_region['end'] = block_region['end_y']\n",
    "block_region['block'] = block_region['Overlapping_blocks']\n",
    "block_region = block_region[['block', 'start', 'end', 'inversion_conflict']]"
   ]
  },
  {
   "cell_type": "code",
   "execution_count": 37,
   "metadata": {
    "scrolled": true
   },
   "outputs": [
    {
     "data": {
      "text/html": [
       "<div>\n",
       "<style scoped>\n",
       "    .dataframe tbody tr th:only-of-type {\n",
       "        vertical-align: middle;\n",
       "    }\n",
       "\n",
       "    .dataframe tbody tr th {\n",
       "        vertical-align: top;\n",
       "    }\n",
       "\n",
       "    .dataframe thead th {\n",
       "        text-align: right;\n",
       "    }\n",
       "</style>\n",
       "<table border=\"1\" class=\"dataframe\">\n",
       "  <thead>\n",
       "    <tr style=\"text-align: right;\">\n",
       "      <th></th>\n",
       "      <th>Block637,Block609</th>\n",
       "      <th>Block637,Block515</th>\n",
       "      <th>Block644,Block1080</th>\n",
       "      <th>Block707,Block699</th>\n",
       "      <th>Block710,Block686</th>\n",
       "      <th>Block1029,Block701</th>\n",
       "      <th>Block1028,Block1020</th>\n",
       "      <th>Block1028,Block229</th>\n",
       "      <th>Block1023,Block152</th>\n",
       "      <th>Block1017,Block415</th>\n",
       "      <th>...</th>\n",
       "      <th>Block1141,Block189</th>\n",
       "      <th>Block57,Block885</th>\n",
       "      <th>Block509,Block51</th>\n",
       "      <th>Block506,Block398</th>\n",
       "      <th>Block503,Block104</th>\n",
       "      <th>Block485,Block690</th>\n",
       "      <th>Block416,Block213</th>\n",
       "      <th>Block307,Block742</th>\n",
       "      <th>Block216,Block254</th>\n",
       "      <th>Block208,Block25</th>\n",
       "    </tr>\n",
       "  </thead>\n",
       "  <tbody>\n",
       "    <tr>\n",
       "      <th>0</th>\n",
       "      <td>[]</td>\n",
       "      <td>[DR76_RS00735]</td>\n",
       "      <td>[]</td>\n",
       "      <td>[]</td>\n",
       "      <td>[]</td>\n",
       "      <td>[]</td>\n",
       "      <td>[DR76_RS02575]</td>\n",
       "      <td>[]</td>\n",
       "      <td>[]</td>\n",
       "      <td>[DR76_RS02875]</td>\n",
       "      <td>...</td>\n",
       "      <td>[]</td>\n",
       "      <td>[]</td>\n",
       "      <td>[]</td>\n",
       "      <td>[DR76_RS15375]</td>\n",
       "      <td>[]</td>\n",
       "      <td>[]</td>\n",
       "      <td>[]</td>\n",
       "      <td>[DR76_RS18985]</td>\n",
       "      <td>[]</td>\n",
       "      <td>[]</td>\n",
       "    </tr>\n",
       "    <tr>\n",
       "      <th>1</th>\n",
       "      <td>[]</td>\n",
       "      <td>[]</td>\n",
       "      <td>[]</td>\n",
       "      <td>[]</td>\n",
       "      <td>[]</td>\n",
       "      <td>[]</td>\n",
       "      <td>[]</td>\n",
       "      <td>[]</td>\n",
       "      <td>[]</td>\n",
       "      <td>[]</td>\n",
       "      <td>...</td>\n",
       "      <td>[]</td>\n",
       "      <td>[DR76_RS14140]</td>\n",
       "      <td>[]</td>\n",
       "      <td>[]</td>\n",
       "      <td>[]</td>\n",
       "      <td>[]</td>\n",
       "      <td>[]</td>\n",
       "      <td>[]</td>\n",
       "      <td>[]</td>\n",
       "      <td>[]</td>\n",
       "    </tr>\n",
       "    <tr>\n",
       "      <th>2</th>\n",
       "      <td>[]</td>\n",
       "      <td>[]</td>\n",
       "      <td>[]</td>\n",
       "      <td>[]</td>\n",
       "      <td>[]</td>\n",
       "      <td>[]</td>\n",
       "      <td>[]</td>\n",
       "      <td>[]</td>\n",
       "      <td>[]</td>\n",
       "      <td>[]</td>\n",
       "      <td>...</td>\n",
       "      <td>[]</td>\n",
       "      <td>[DR76_RS14140]</td>\n",
       "      <td>[]</td>\n",
       "      <td>[]</td>\n",
       "      <td>[]</td>\n",
       "      <td>[]</td>\n",
       "      <td>[]</td>\n",
       "      <td>[]</td>\n",
       "      <td>[]</td>\n",
       "      <td>[]</td>\n",
       "    </tr>\n",
       "  </tbody>\n",
       "</table>\n",
       "<p>3 rows × 46 columns</p>\n",
       "</div>"
      ],
      "text/plain": [
       "  Block637,Block609 Block637,Block515 Block644,Block1080 Block707,Block699  \\\n",
       "0                []    [DR76_RS00735]                 []                []   \n",
       "1                []                []                 []                []   \n",
       "2                []                []                 []                []   \n",
       "\n",
       "  Block710,Block686 Block1029,Block701 Block1028,Block1020 Block1028,Block229  \\\n",
       "0                []                 []      [DR76_RS02575]                 []   \n",
       "1                []                 []                  []                 []   \n",
       "2                []                 []                  []                 []   \n",
       "\n",
       "  Block1023,Block152 Block1017,Block415  ... Block1141,Block189  \\\n",
       "0                 []     [DR76_RS02875]  ...                 []   \n",
       "1                 []                 []  ...                 []   \n",
       "2                 []                 []  ...                 []   \n",
       "\n",
       "  Block57,Block885 Block509,Block51 Block506,Block398 Block503,Block104  \\\n",
       "0               []               []    [DR76_RS15375]                []   \n",
       "1   [DR76_RS14140]               []                []                []   \n",
       "2   [DR76_RS14140]               []                []                []   \n",
       "\n",
       "  Block485,Block690 Block416,Block213 Block307,Block742 Block216,Block254  \\\n",
       "0                []                []    [DR76_RS18985]                []   \n",
       "1                []                []                []                []   \n",
       "2                []                []                []                []   \n",
       "\n",
       "  Block208,Block25  \n",
       "0               []  \n",
       "1               []  \n",
       "2               []  \n",
       "\n",
       "[3 rows x 46 columns]"
      ]
     },
     "execution_count": 37,
     "metadata": {},
     "output_type": "execute_result"
    }
   ],
   "source": [
    "block_regions={}\n",
    "for i in range(len(block_region)):\n",
    "    block_regions[block_region['block'][i]] = overlapping_gene(block_region['start'][i], \n",
    "                                                                      block_region['end'][i], ATCC)\n",
    "pd.DataFrame(block_regions)"
   ]
  },
  {
   "cell_type": "code",
   "execution_count": 38,
   "metadata": {},
   "outputs": [
    {
     "data": {
      "text/html": [
       "<div>\n",
       "<style scoped>\n",
       "    .dataframe tbody tr th:only-of-type {\n",
       "        vertical-align: middle;\n",
       "    }\n",
       "\n",
       "    .dataframe tbody tr th {\n",
       "        vertical-align: top;\n",
       "    }\n",
       "\n",
       "    .dataframe thead th {\n",
       "        text-align: right;\n",
       "    }\n",
       "</style>\n",
       "<table border=\"1\" class=\"dataframe\">\n",
       "  <thead>\n",
       "    <tr style=\"text-align: right;\">\n",
       "      <th></th>\n",
       "      <th>block</th>\n",
       "      <th>start</th>\n",
       "      <th>end</th>\n",
       "      <th>inversion_conflict</th>\n",
       "    </tr>\n",
       "  </thead>\n",
       "  <tbody>\n",
       "    <tr>\n",
       "      <th>0</th>\n",
       "      <td>Block637,Block609</td>\n",
       "      <td>133257</td>\n",
       "      <td>133286</td>\n",
       "      <td>True</td>\n",
       "    </tr>\n",
       "    <tr>\n",
       "      <th>1</th>\n",
       "      <td>Block637,Block515</td>\n",
       "      <td>139971</td>\n",
       "      <td>140002</td>\n",
       "      <td>True</td>\n",
       "    </tr>\n",
       "    <tr>\n",
       "      <th>2</th>\n",
       "      <td>Block644,Block1080</td>\n",
       "      <td>168513</td>\n",
       "      <td>168548</td>\n",
       "      <td>True</td>\n",
       "    </tr>\n",
       "    <tr>\n",
       "      <th>3</th>\n",
       "      <td>Block707,Block699</td>\n",
       "      <td>416208</td>\n",
       "      <td>416240</td>\n",
       "      <td>True</td>\n",
       "    </tr>\n",
       "    <tr>\n",
       "      <th>4</th>\n",
       "      <td>Block710,Block686</td>\n",
       "      <td>464547</td>\n",
       "      <td>464580</td>\n",
       "      <td>True</td>\n",
       "    </tr>\n",
       "  </tbody>\n",
       "</table>\n",
       "</div>"
      ],
      "text/plain": [
       "                block   start     end  inversion_conflict\n",
       "0   Block637,Block609  133257  133286                True\n",
       "1   Block637,Block515  139971  140002                True\n",
       "2  Block644,Block1080  168513  168548                True\n",
       "3   Block707,Block699  416208  416240                True\n",
       "4   Block710,Block686  464547  464580                True"
      ]
     },
     "execution_count": 38,
     "metadata": {},
     "output_type": "execute_result"
    }
   ],
   "source": [
    "block_region.head()"
   ]
  },
  {
   "cell_type": "code",
   "execution_count": 39,
   "metadata": {},
   "outputs": [
    {
     "name": "stdout",
     "output_type": "stream",
     "text": [
      "17 1 1\n"
     ]
    }
   ],
   "source": [
    "genes = [i for i in block_regions.values()]\n",
    "overlap_start, overlap, overlap_end = [],[],[]\n",
    "for i in range(len(genes)):\n",
    "    overlap_start.append(len(genes[i][0]))\n",
    "    overlap.append(len(genes[i][1]))\n",
    "    overlap_end.append(len(genes[i][2]))\n",
    "\n",
    "print(sum(overlap_start), sum(overlap), sum(overlap_end))\n",
    "    "
   ]
  },
  {
   "cell_type": "code",
   "execution_count": 40,
   "metadata": {},
   "outputs": [
    {
     "data": {
      "text/plain": [
       "Index(['gene_id', 'gbk_start', 'gbk_end', 'gbk_midpoint', 'gbk_gene_id',\n",
       "       'gbk_old_locus_tag', 'gbk_strand', 'norm_exp'],\n",
       "      dtype='object')"
      ]
     },
     "execution_count": 40,
     "metadata": {},
     "output_type": "execute_result"
    }
   ],
   "source": [
    "ATCC.columns"
   ]
  },
  {
   "cell_type": "code",
   "execution_count": 41,
   "metadata": {},
   "outputs": [
    {
     "data": {
      "text/html": [
       "<div>\n",
       "<style scoped>\n",
       "    .dataframe tbody tr th:only-of-type {\n",
       "        vertical-align: middle;\n",
       "    }\n",
       "\n",
       "    .dataframe tbody tr th {\n",
       "        vertical-align: top;\n",
       "    }\n",
       "\n",
       "    .dataframe thead th {\n",
       "        text-align: right;\n",
       "    }\n",
       "</style>\n",
       "<table border=\"1\" class=\"dataframe\">\n",
       "  <thead>\n",
       "    <tr style=\"text-align: right;\">\n",
       "      <th></th>\n",
       "      <th>gene_id</th>\n",
       "      <th>gbk_start</th>\n",
       "      <th>gbk_end</th>\n",
       "      <th>gbk_midpoint</th>\n",
       "      <th>gbk_gene_id</th>\n",
       "      <th>gbk_old_locus_tag</th>\n",
       "      <th>gbk_strand</th>\n",
       "      <th>norm_exp</th>\n",
       "    </tr>\n",
       "  </thead>\n",
       "  <tbody>\n",
       "    <tr>\n",
       "      <th>1234</th>\n",
       "      <td>DR76_RS06360</td>\n",
       "      <td>1331719</td>\n",
       "      <td>1332900</td>\n",
       "      <td>1332309</td>\n",
       "      <td>NaN</td>\n",
       "      <td>DR76_1229</td>\n",
       "      <td>1</td>\n",
       "      <td>4.471491</td>\n",
       "    </tr>\n",
       "  </tbody>\n",
       "</table>\n",
       "</div>"
      ],
      "text/plain": [
       "           gene_id  gbk_start  gbk_end  gbk_midpoint gbk_gene_id  \\\n",
       "1234  DR76_RS06360    1331719  1332900       1332309         NaN   \n",
       "\n",
       "     gbk_old_locus_tag  gbk_strand  norm_exp  \n",
       "1234         DR76_1229           1  4.471491  "
      ]
     },
     "execution_count": 41,
     "metadata": {},
     "output_type": "execute_result"
    }
   ],
   "source": [
    "ATCC[ATCC['gene_id']=='DR76_RS06360']"
   ]
  },
  {
   "cell_type": "markdown",
   "metadata": {},
   "source": [
    "### Omitted blocks that are inside another block "
   ]
  },
  {
   "cell_type": "code",
   "execution_count": 42,
   "metadata": {},
   "outputs": [],
   "source": [
    "block_ends=[]\n",
    "inside_block=[]\n",
    "for i in range(len(ATCC_block)-1): \n",
    "    block_ends.append(ATCC_block.end[i])\n",
    "    if not(all(ATCC_block.end[i+1] > x for x in block_ends)):\n",
    "           inside_block.append(ATCC_block.block[i+1])"
   ]
  },
  {
   "cell_type": "code",
   "execution_count": 43,
   "metadata": {},
   "outputs": [
    {
     "name": "stdout",
     "output_type": "stream",
     "text": [
      "there are 60 inside blocks and 22 are inverted\n"
     ]
    }
   ],
   "source": [
    "##View inside block df \n",
    "inside_block_df = pd.merge(ATCC_block, pd.DataFrame({'block':inside_block}), how='right', on='block')\n",
    "print('there are', len(inside_block_df), 'inside blocks and', sum(inside_block_df['inversion']), 'are inverted')\n",
    "ATCC_inside_inverted = inside_block_df[inside_block_df['inversion']==1]"
   ]
  },
  {
   "cell_type": "code",
   "execution_count": 44,
   "metadata": {},
   "outputs": [],
   "source": [
    "ATCC_block_final = ATCC_block[~ATCC_block['block'].isin(inside_block)]"
   ]
  },
  {
   "cell_type": "code",
   "execution_count": 45,
   "metadata": {},
   "outputs": [
    {
     "data": {
      "text/plain": [
       "1148"
      ]
     },
     "execution_count": 45,
     "metadata": {},
     "output_type": "execute_result"
    }
   ],
   "source": [
    "len(ATCC_block)"
   ]
  },
  {
   "cell_type": "code",
   "execution_count": 46,
   "metadata": {},
   "outputs": [
    {
     "data": {
      "text/html": [
       "<div>\n",
       "<style scoped>\n",
       "    .dataframe tbody tr th:only-of-type {\n",
       "        vertical-align: middle;\n",
       "    }\n",
       "\n",
       "    .dataframe tbody tr th {\n",
       "        vertical-align: top;\n",
       "    }\n",
       "\n",
       "    .dataframe thead th {\n",
       "        text-align: right;\n",
       "    }\n",
       "</style>\n",
       "<table border=\"1\" class=\"dataframe\">\n",
       "  <thead>\n",
       "    <tr style=\"text-align: right;\">\n",
       "      <th></th>\n",
       "      <th>block</th>\n",
       "      <th>taxa</th>\n",
       "      <th>start</th>\n",
       "      <th>end</th>\n",
       "      <th>rev_comp</th>\n",
       "      <th>inversion</th>\n",
       "      <th>block_order</th>\n",
       "      <th>diff</th>\n",
       "      <th>overlaps</th>\n",
       "    </tr>\n",
       "  </thead>\n",
       "  <tbody>\n",
       "    <tr>\n",
       "      <th>0</th>\n",
       "      <td>Block611</td>\n",
       "      <td>CP009072</td>\n",
       "      <td>0</td>\n",
       "      <td>19237</td>\n",
       "      <td>0</td>\n",
       "      <td>0</td>\n",
       "      <td>1</td>\n",
       "      <td>0</td>\n",
       "      <td>False</td>\n",
       "    </tr>\n",
       "    <tr>\n",
       "      <th>1</th>\n",
       "      <td>Block612</td>\n",
       "      <td>CP009072</td>\n",
       "      <td>19639</td>\n",
       "      <td>25321</td>\n",
       "      <td>0</td>\n",
       "      <td>0</td>\n",
       "      <td>2</td>\n",
       "      <td>402</td>\n",
       "      <td>False</td>\n",
       "    </tr>\n",
       "    <tr>\n",
       "      <th>2</th>\n",
       "      <td>Block613</td>\n",
       "      <td>CP009072</td>\n",
       "      <td>25328</td>\n",
       "      <td>25469</td>\n",
       "      <td>0</td>\n",
       "      <td>0</td>\n",
       "      <td>3</td>\n",
       "      <td>7</td>\n",
       "      <td>False</td>\n",
       "    </tr>\n",
       "    <tr>\n",
       "      <th>3</th>\n",
       "      <td>Block614</td>\n",
       "      <td>CP009072</td>\n",
       "      <td>25805</td>\n",
       "      <td>30879</td>\n",
       "      <td>0</td>\n",
       "      <td>0</td>\n",
       "      <td>4</td>\n",
       "      <td>336</td>\n",
       "      <td>False</td>\n",
       "    </tr>\n",
       "    <tr>\n",
       "      <th>4</th>\n",
       "      <td>Block615</td>\n",
       "      <td>CP009072</td>\n",
       "      <td>30896</td>\n",
       "      <td>41163</td>\n",
       "      <td>0</td>\n",
       "      <td>0</td>\n",
       "      <td>5</td>\n",
       "      <td>17</td>\n",
       "      <td>False</td>\n",
       "    </tr>\n",
       "  </tbody>\n",
       "</table>\n",
       "</div>"
      ],
      "text/plain": [
       "      block      taxa  start    end  rev_comp  inversion  block_order  diff  \\\n",
       "0  Block611  CP009072      0  19237         0          0            1     0   \n",
       "1  Block612  CP009072  19639  25321         0          0            2   402   \n",
       "2  Block613  CP009072  25328  25469         0          0            3     7   \n",
       "3  Block614  CP009072  25805  30879         0          0            4   336   \n",
       "4  Block615  CP009072  30896  41163         0          0            5    17   \n",
       "\n",
       "   overlaps  \n",
       "0     False  \n",
       "1     False  \n",
       "2     False  \n",
       "3     False  \n",
       "4     False  "
      ]
     },
     "execution_count": 46,
     "metadata": {},
     "output_type": "execute_result"
    }
   ],
   "source": [
    "ATCC_block_final.head()"
   ]
  },
  {
   "cell_type": "code",
   "execution_count": 47,
   "metadata": {},
   "outputs": [
    {
     "data": {
      "text/plain": [
       "1088"
      ]
     },
     "execution_count": 47,
     "metadata": {},
     "output_type": "execute_result"
    }
   ],
   "source": [
    "ATCC_block_final['block'].nunique()"
   ]
  },
  {
   "cell_type": "markdown",
   "metadata": {},
   "source": [
    "## ATCC expression data                  "
   ]
  },
  {
   "cell_type": "code",
   "execution_count": 48,
   "metadata": {},
   "outputs": [],
   "source": [
    "#matching blocks by start\n",
    "ATCC_block_by_start = [match_block_start(i, ATCC_block_final) for i in ATCC.gbk_start]"
   ]
  },
  {
   "cell_type": "code",
   "execution_count": 49,
   "metadata": {},
   "outputs": [],
   "source": [
    "#matching block by end\n",
    "ATCC_block_by_end = [match_block_end(i, ATCC_block_final) for i in ATCC.gbk_end]"
   ]
  },
  {
   "cell_type": "code",
   "execution_count": 50,
   "metadata": {},
   "outputs": [
    {
     "name": "stdout",
     "output_type": "stream",
     "text": [
      "ATCC has 4825 rows and 3181 are single blocks\n"
     ]
    }
   ],
   "source": [
    "#add new columns and make it a new dataframe\n",
    "ATCC_new = ATCC.copy()\n",
    "ATCC_new['block_by_start'] = ATCC_block_by_start\n",
    "ATCC_new['block_by_end'] = ATCC_block_by_end\n",
    "\n",
    "#check if the start and end identifies the same block\n",
    "ATCC_new['Single_block'] = ATCC_new['block_by_start'] == ATCC_new['block_by_end']\n",
    "print('ATCC has', len(ATCC_new), 'rows and', sum(ATCC_new.Single_block), 'are single blocks')"
   ]
  },
  {
   "cell_type": "code",
   "execution_count": 51,
   "metadata": {},
   "outputs": [
    {
     "name": "stdout",
     "output_type": "stream",
     "text": [
      "There are 1644 spitted genes\n"
     ]
    }
   ],
   "source": [
    "#non single blocks - check for neighbouring \n",
    "ATCC_non_sb = ATCC_new[ATCC_new.Single_block==False]\n",
    "print('There are',len(ATCC_non_sb), 'spitted genes')\n",
    "\n",
    "#merging by the gene start \n",
    "ATCC_non_sb = pd.merge(ATCC_non_sb, ATCC_block_final, how='left', left_on='block_by_start', right_on='block')\n",
    "ATCC_non_sb = ATCC_non_sb.drop(['Single_block','block', 'taxa', 'start', 'end', 'rev_comp','inversion','diff'],1)\n",
    "ATCC_non_sb.columns.values[-2] = 'start_order'\n",
    "ATCC_non_sb.columns.values[-1] = 'start_block_overlap'\n",
    "\n",
    "#merging by the gene end \n",
    "ATCC_non_sb = pd.merge(ATCC_non_sb, ATCC_block_final, how='left', left_on='block_by_end', right_on='block')\n",
    "ATCC_non_sb = ATCC_non_sb.drop(['block', 'taxa', 'start', 'end', 'rev_comp','inversion','diff'],1)\n",
    "ATCC_non_sb.columns.values[-2] = 'end_order'\n",
    "ATCC_non_sb.columns.values[-1] = 'end_block_overlap'"
   ]
  },
  {
   "cell_type": "code",
   "execution_count": 52,
   "metadata": {},
   "outputs": [
    {
     "name": "stdout",
     "output_type": "stream",
     "text": [
      "There are 1644 spitted genes, 1644 are continous.\n",
      "There are 1644 spitted genes, 1509 are neighbouring blocks\n"
     ]
    }
   ],
   "source": [
    "#check continuity, neighbour and overlapping blocks \n",
    "ATCC_non_sb['check_continuity'] = ATCC_non_sb['start_order'] < ATCC_non_sb['end_order']\n",
    "print('There are', len(ATCC_non_sb), 'spitted genes,', sum(ATCC_non_sb['check_continuity']), 'are continous.') \n",
    "ATCC_non_sb['check_neighbour'] = ATCC_non_sb['start_order']+1 == ATCC_non_sb['end_order']\n",
    "print('There are', len(ATCC_non_sb), 'spitted genes,', sum(ATCC_non_sb['check_neighbour']), 'are neighbouring blocks') "
   ]
  },
  {
   "cell_type": "code",
   "execution_count": 53,
   "metadata": {},
   "outputs": [],
   "source": [
    "ATCC_non_sb = pd.merge(ATCC_non_sb, ATCC_block[['block','end']], left_on='block_by_start',\n",
    "                      right_on='block', how='left')\n",
    "ATCC_non_sb = pd.merge(ATCC_non_sb, ATCC_block[['block','start']], left_on='block_by_end',\n",
    "                      right_on='block', how='left')"
   ]
  },
  {
   "cell_type": "code",
   "execution_count": 54,
   "metadata": {},
   "outputs": [
    {
     "data": {
      "text/plain": [
       "count     1644.000000\n",
       "mean     14627.071168\n",
       "std      17184.982068\n",
       "min          1.000000\n",
       "25%       1237.500000\n",
       "50%       8394.000000\n",
       "75%      20418.000000\n",
       "max      67454.000000\n",
       "Name: space_between_block, dtype: float64"
      ]
     },
     "execution_count": 54,
     "metadata": {},
     "output_type": "execute_result"
    }
   ],
   "source": [
    "ATCC_non_sb['space_between_block'] = ATCC_non_sb['start'] - ATCC_non_sb['end']\n",
    "ATCC_non_sb['space_between_block'].describe()"
   ]
  },
  {
   "cell_type": "code",
   "execution_count": 55,
   "metadata": {},
   "outputs": [
    {
     "data": {
      "text/html": [
       "<div>\n",
       "<style scoped>\n",
       "    .dataframe tbody tr th:only-of-type {\n",
       "        vertical-align: middle;\n",
       "    }\n",
       "\n",
       "    .dataframe tbody tr th {\n",
       "        vertical-align: top;\n",
       "    }\n",
       "\n",
       "    .dataframe thead th {\n",
       "        text-align: right;\n",
       "    }\n",
       "</style>\n",
       "<table border=\"1\" class=\"dataframe\">\n",
       "  <thead>\n",
       "    <tr style=\"text-align: right;\">\n",
       "      <th></th>\n",
       "      <th>gbk_start</th>\n",
       "      <th>gbk_end</th>\n",
       "      <th>start</th>\n",
       "    </tr>\n",
       "  </thead>\n",
       "  <tbody>\n",
       "    <tr>\n",
       "      <th>0</th>\n",
       "      <td>17656</td>\n",
       "      <td>21444</td>\n",
       "      <td>19639</td>\n",
       "    </tr>\n",
       "    <tr>\n",
       "      <th>1</th>\n",
       "      <td>25147</td>\n",
       "      <td>25463</td>\n",
       "      <td>25328</td>\n",
       "    </tr>\n",
       "    <tr>\n",
       "      <th>2</th>\n",
       "      <td>30599</td>\n",
       "      <td>32602</td>\n",
       "      <td>30896</td>\n",
       "    </tr>\n",
       "    <tr>\n",
       "      <th>3</th>\n",
       "      <td>41174</td>\n",
       "      <td>43471</td>\n",
       "      <td>41179</td>\n",
       "    </tr>\n",
       "    <tr>\n",
       "      <th>4</th>\n",
       "      <td>50926</td>\n",
       "      <td>51876</td>\n",
       "      <td>50938</td>\n",
       "    </tr>\n",
       "    <tr>\n",
       "      <th>...</th>\n",
       "      <td>...</td>\n",
       "      <td>...</td>\n",
       "      <td>...</td>\n",
       "    </tr>\n",
       "    <tr>\n",
       "      <th>1639</th>\n",
       "      <td>5114873</td>\n",
       "      <td>5116981</td>\n",
       "      <td>5119318</td>\n",
       "    </tr>\n",
       "    <tr>\n",
       "      <th>1640</th>\n",
       "      <td>5116992</td>\n",
       "      <td>5117708</td>\n",
       "      <td>5119318</td>\n",
       "    </tr>\n",
       "    <tr>\n",
       "      <th>1641</th>\n",
       "      <td>5117708</td>\n",
       "      <td>5118922</td>\n",
       "      <td>5119318</td>\n",
       "    </tr>\n",
       "    <tr>\n",
       "      <th>1642</th>\n",
       "      <td>5122984</td>\n",
       "      <td>5123763</td>\n",
       "      <td>5123461</td>\n",
       "    </tr>\n",
       "    <tr>\n",
       "      <th>1643</th>\n",
       "      <td>5124951</td>\n",
       "      <td>5126306</td>\n",
       "      <td>5125392</td>\n",
       "    </tr>\n",
       "  </tbody>\n",
       "</table>\n",
       "<p>1644 rows × 3 columns</p>\n",
       "</div>"
      ],
      "text/plain": [
       "      gbk_start  gbk_end    start\n",
       "0         17656    21444    19639\n",
       "1         25147    25463    25328\n",
       "2         30599    32602    30896\n",
       "3         41174    43471    41179\n",
       "4         50926    51876    50938\n",
       "...         ...      ...      ...\n",
       "1639    5114873  5116981  5119318\n",
       "1640    5116992  5117708  5119318\n",
       "1641    5117708  5118922  5119318\n",
       "1642    5122984  5123763  5123461\n",
       "1643    5124951  5126306  5125392\n",
       "\n",
       "[1644 rows x 3 columns]"
      ]
     },
     "execution_count": 55,
     "metadata": {},
     "output_type": "execute_result"
    }
   ],
   "source": [
    "ATCC_non_sb[['gbk_start', 'gbk_end','start',]]"
   ]
  },
  {
   "cell_type": "markdown",
   "metadata": {},
   "source": [
    "## single block and merge with block file "
   ]
  },
  {
   "cell_type": "code",
   "execution_count": 56,
   "metadata": {},
   "outputs": [],
   "source": [
    "ATCC_sb = ATCC_new[ATCC_new['Single_block']==True]"
   ]
  },
  {
   "cell_type": "code",
   "execution_count": 57,
   "metadata": {},
   "outputs": [],
   "source": [
    "ATCC_sb = pd.merge(ATCC_sb, ATCC_block_final, how='left', left_on='block_by_start', right_on='block')"
   ]
  },
  {
   "cell_type": "code",
   "execution_count": 58,
   "metadata": {},
   "outputs": [
    {
     "name": "stdout",
     "output_type": "stream",
     "text": [
      "There are 3181 genes and 33 are in overlapping block\n"
     ]
    }
   ],
   "source": [
    "print('There are', len(ATCC_sb), 'genes and', sum(ATCC_sb['overlaps']), 'are in overlapping block')"
   ]
  },
  {
   "cell_type": "code",
   "execution_count": 59,
   "metadata": {},
   "outputs": [
    {
     "data": {
      "text/plain": [
       "5"
      ]
     },
     "execution_count": 59,
     "metadata": {},
     "output_type": "execute_result"
    }
   ],
   "source": [
    "ATCC_sb_overlap = ATCC_sb[ATCC_sb['overlaps']==1]\n",
    "sum(ATCC_sb_overlap['inversion'])"
   ]
  },
  {
   "cell_type": "code",
   "execution_count": 60,
   "metadata": {},
   "outputs": [
    {
     "data": {
      "text/plain": [
       "599"
      ]
     },
     "execution_count": 60,
     "metadata": {},
     "output_type": "execute_result"
    }
   ],
   "source": [
    "ATCC_sb['block'].nunique()"
   ]
  },
  {
   "cell_type": "markdown",
   "metadata": {},
   "source": [
    " "
   ]
  },
  {
   "cell_type": "markdown",
   "metadata": {},
   "source": [
    "# BW25113"
   ]
  },
  {
   "cell_type": "code",
   "execution_count": 61,
   "metadata": {},
   "outputs": [
    {
     "name": "stdout",
     "output_type": "stream",
     "text": [
      "There are 1148 blocks and 5 are overlapping blocks\n"
     ]
    }
   ],
   "source": [
    "##find difference between blocks\n",
    "diff = [0]\n",
    "for i in range(len(BW25113_block.start)-1):\n",
    "    diff.append(BW25113_block.start[i+1] - BW25113_block.end[i])\n",
    "\n",
    "BW25113_block['diff'] = diff\n",
    "BW25113_block['overlaps'] = BW25113_block['diff'] < 0 \n",
    "\n",
    "print('There are', len(BW25113_block), 'blocks and', sum(BW25113_block['overlaps']), 'are overlapping blocks')\n",
    "#this current block is starting inside the last block\n",
    "#BW25113_block[BW25113_block['overlaps']==True] \n",
    "#BW25113_block.loc[15:20]"
   ]
  },
  {
   "cell_type": "markdown",
   "metadata": {},
   "source": [
    "## Overlapping genes"
   ]
  },
  {
   "cell_type": "code",
   "execution_count": 62,
   "metadata": {},
   "outputs": [],
   "source": [
    "# block = ['a','b','c','d']\n",
    "# start = [1,6,10,21]\n",
    "# end = [20,9,12,25]\n",
    "\n",
    "block = BW25113_block['block']\n",
    "start = BW25113_block['start']\n",
    "end = BW25113_block['end']\n",
    "\n",
    "N = len(block)\n",
    "\n",
    "tally =[]\n",
    "for i in range(len(block)):\n",
    "    tally.append((start[i], block[i],\"start\"))\n",
    "    tally.append((end[i], block[i],\"end\"))\n",
    "    \n",
    "tally = sorted(tally, key=lambda x:x[0])\n",
    "\n",
    "groups={}\n",
    "stack={}\n",
    "for entry in tally:\n",
    "    t = entry[0]\n",
    "    name = entry[1]\n",
    "    action = entry[2]\n",
    "    \n",
    "    if action == \"start\":\n",
    "        stack[name]= True\n",
    "        if len(stack)>1:\n",
    "            groups[','.join(stack)] = True\n",
    "    if action == \"end\":\n",
    "        del stack[name]\n",
    "\n",
    "#print(tally)\n",
    "#print(groups)"
   ]
  },
  {
   "cell_type": "code",
   "execution_count": 63,
   "metadata": {},
   "outputs": [
    {
     "name": "stdout",
     "output_type": "stream",
     "text": [
      "there are 1 out of 5 overlaps that have inconsistent inversion\n",
      "0 inconsitencies are inside blocks\n"
     ]
    },
    {
     "data": {
      "text/html": [
       "<div>\n",
       "<style scoped>\n",
       "    .dataframe tbody tr th:only-of-type {\n",
       "        vertical-align: middle;\n",
       "    }\n",
       "\n",
       "    .dataframe tbody tr th {\n",
       "        vertical-align: top;\n",
       "    }\n",
       "\n",
       "    .dataframe thead th {\n",
       "        text-align: right;\n",
       "    }\n",
       "</style>\n",
       "<table border=\"1\" class=\"dataframe\">\n",
       "  <thead>\n",
       "    <tr style=\"text-align: right;\">\n",
       "      <th></th>\n",
       "      <th>Overlapping_blocks</th>\n",
       "      <th>Bigblock</th>\n",
       "      <th>Smallblock1</th>\n",
       "      <th>block_x</th>\n",
       "      <th>start_x</th>\n",
       "      <th>end_x</th>\n",
       "      <th>inversion_x</th>\n",
       "      <th>block_y</th>\n",
       "      <th>start_y</th>\n",
       "      <th>end_y</th>\n",
       "      <th>inversion_y</th>\n",
       "      <th>inversion_conflict</th>\n",
       "      <th>inside_block</th>\n",
       "    </tr>\n",
       "  </thead>\n",
       "  <tbody>\n",
       "    <tr>\n",
       "      <th>0</th>\n",
       "      <td>Block56,Block57</td>\n",
       "      <td>Block56</td>\n",
       "      <td>Block57</td>\n",
       "      <td>Block56</td>\n",
       "      <td>220668</td>\n",
       "      <td>221215</td>\n",
       "      <td>0</td>\n",
       "      <td>Block57</td>\n",
       "      <td>220669</td>\n",
       "      <td>223414</td>\n",
       "      <td>0</td>\n",
       "      <td>False</td>\n",
       "      <td>False</td>\n",
       "    </tr>\n",
       "    <tr>\n",
       "      <th>1</th>\n",
       "      <td>Block187,Block17</td>\n",
       "      <td>Block187</td>\n",
       "      <td>Block17</td>\n",
       "      <td>Block187</td>\n",
       "      <td>748625</td>\n",
       "      <td>753863</td>\n",
       "      <td>1</td>\n",
       "      <td>Block17</td>\n",
       "      <td>751912</td>\n",
       "      <td>751934</td>\n",
       "      <td>1</td>\n",
       "      <td>False</td>\n",
       "      <td>True</td>\n",
       "    </tr>\n",
       "    <tr>\n",
       "      <th>2</th>\n",
       "      <td>Block501,Block97</td>\n",
       "      <td>Block501</td>\n",
       "      <td>Block97</td>\n",
       "      <td>Block501</td>\n",
       "      <td>1933474</td>\n",
       "      <td>1940335</td>\n",
       "      <td>1</td>\n",
       "      <td>Block97</td>\n",
       "      <td>1938486</td>\n",
       "      <td>1938513</td>\n",
       "      <td>1</td>\n",
       "      <td>False</td>\n",
       "      <td>True</td>\n",
       "    </tr>\n",
       "    <tr>\n",
       "      <th>3</th>\n",
       "      <td>Block913,Block96</td>\n",
       "      <td>Block913</td>\n",
       "      <td>Block96</td>\n",
       "      <td>Block913</td>\n",
       "      <td>3585984</td>\n",
       "      <td>3597071</td>\n",
       "      <td>1</td>\n",
       "      <td>Block96</td>\n",
       "      <td>3591755</td>\n",
       "      <td>3591787</td>\n",
       "      <td>1</td>\n",
       "      <td>False</td>\n",
       "      <td>True</td>\n",
       "    </tr>\n",
       "    <tr>\n",
       "      <th>4</th>\n",
       "      <td>Block1105,Block1106</td>\n",
       "      <td>Block1105</td>\n",
       "      <td>Block1106</td>\n",
       "      <td>Block1105</td>\n",
       "      <td>4460195</td>\n",
       "      <td>4460227</td>\n",
       "      <td>1</td>\n",
       "      <td>Block1106</td>\n",
       "      <td>4460214</td>\n",
       "      <td>4462437</td>\n",
       "      <td>0</td>\n",
       "      <td>True</td>\n",
       "      <td>False</td>\n",
       "    </tr>\n",
       "  </tbody>\n",
       "</table>\n",
       "</div>"
      ],
      "text/plain": [
       "    Overlapping_blocks   Bigblock Smallblock1    block_x  start_x    end_x  \\\n",
       "0      Block56,Block57    Block56     Block57    Block56   220668   221215   \n",
       "1     Block187,Block17   Block187     Block17   Block187   748625   753863   \n",
       "2     Block501,Block97   Block501     Block97   Block501  1933474  1940335   \n",
       "3     Block913,Block96   Block913     Block96   Block913  3585984  3597071   \n",
       "4  Block1105,Block1106  Block1105   Block1106  Block1105  4460195  4460227   \n",
       "\n",
       "   inversion_x    block_y  start_y    end_y  inversion_y  inversion_conflict  \\\n",
       "0            0    Block57   220669   223414            0               False   \n",
       "1            1    Block17   751912   751934            1               False   \n",
       "2            1    Block97  1938486  1938513            1               False   \n",
       "3            1    Block96  3591755  3591787            1               False   \n",
       "4            1  Block1106  4460214  4462437            0                True   \n",
       "\n",
       "   inside_block  \n",
       "0         False  \n",
       "1          True  \n",
       "2          True  \n",
       "3          True  \n",
       "4         False  "
      ]
     },
     "execution_count": 63,
     "metadata": {},
     "output_type": "execute_result"
    }
   ],
   "source": [
    "BW25113_overlaps = pd.DataFrame({'Overlapping_blocks':[x for x in groups.keys()]})\n",
    "blocks = BW25113_overlaps['Overlapping_blocks'].str.split(',',n=2, expand=True)\n",
    "BW25113_overlaps['Bigblock'] = blocks[0]\n",
    "BW25113_overlaps['Smallblock1'] = blocks[1]\n",
    "BW25113_overlaps = pd.merge(BW25113_overlaps, BW25113_block[['block','start','end','inversion']], left_on='Bigblock',right_on='block', how='left')\n",
    "BW25113_overlaps = pd.merge(BW25113_overlaps, BW25113_block[['block','start','end','inversion']], left_on='Smallblock1',right_on='block', how='left')\n",
    "BW25113_overlaps['inversion_conflict'] = BW25113_overlaps['inversion_x'] != BW25113_overlaps['inversion_y']\n",
    "BW25113_overlaps['inside_block'] = BW25113_overlaps['end_y'] < BW25113_overlaps['end_x']\n",
    "print('there are', sum(BW25113_overlaps['inversion_conflict']), 'out of', len(BW25113_overlaps),'overlaps that have inconsistent inversion')\n",
    "print(sum(BW25113_overlaps[BW25113_overlaps['inversion_conflict']]['inside_block']),'inconsitencies are inside blocks')\n",
    "BW25113_overlaps.head()"
   ]
  },
  {
   "cell_type": "code",
   "execution_count": 64,
   "metadata": {},
   "outputs": [
    {
     "data": {
      "text/html": [
       "<div>\n",
       "<style scoped>\n",
       "    .dataframe tbody tr th:only-of-type {\n",
       "        vertical-align: middle;\n",
       "    }\n",
       "\n",
       "    .dataframe tbody tr th {\n",
       "        vertical-align: top;\n",
       "    }\n",
       "\n",
       "    .dataframe thead th {\n",
       "        text-align: right;\n",
       "    }\n",
       "</style>\n",
       "<table border=\"1\" class=\"dataframe\">\n",
       "  <thead>\n",
       "    <tr style=\"text-align: right;\">\n",
       "      <th></th>\n",
       "      <th>block</th>\n",
       "      <th>start</th>\n",
       "      <th>end</th>\n",
       "      <th>inversion_conflict</th>\n",
       "    </tr>\n",
       "  </thead>\n",
       "  <tbody>\n",
       "    <tr>\n",
       "      <th>0</th>\n",
       "      <td>Block56,Block57</td>\n",
       "      <td>220669</td>\n",
       "      <td>221215</td>\n",
       "      <td>False</td>\n",
       "    </tr>\n",
       "    <tr>\n",
       "      <th>1</th>\n",
       "      <td>Block1105,Block1106</td>\n",
       "      <td>4460214</td>\n",
       "      <td>4460227</td>\n",
       "      <td>True</td>\n",
       "    </tr>\n",
       "  </tbody>\n",
       "</table>\n",
       "</div>"
      ],
      "text/plain": [
       "                 block    start      end  inversion_conflict\n",
       "0      Block56,Block57   220669   221215               False\n",
       "1  Block1105,Block1106  4460214  4460227                True"
      ]
     },
     "execution_count": 64,
     "metadata": {},
     "output_type": "execute_result"
    }
   ],
   "source": [
    "overlapping_region = BW25113_overlaps[BW25113_overlaps['inside_block']==False].reset_index(drop=True)\n",
    "\n",
    "overlapping_region['start'] = overlapping_region['start_y']\n",
    "overlapping_region['end'] = overlapping_region['end_x']\n",
    "overlapping_region['block'] = overlapping_region['Overlapping_blocks']\n",
    "overlapping_region = overlapping_region[['block', 'start', 'end', 'inversion_conflict']]\n",
    "overlapping_region "
   ]
  },
  {
   "cell_type": "code",
   "execution_count": 65,
   "metadata": {},
   "outputs": [],
   "source": [
    "def overlapping_gene2(start, end, block_file):\n",
    "    inside_gene, overlapping_start, overlapping_end=[],[],[]\n",
    "    for i in range(len(block_file)):\n",
    "        if (block_file['gbk_start'][i] < start and block_file['gbk_end'][i] > start):\n",
    "            overlapping_start.append(block_file['Locus_tag'][i])\n",
    "        if (block_file['gbk_start'][i] > start and block_file['gbk_end'][i] < end):\n",
    "            inside_gene.append(block_file['Locus_tag'][i]) \n",
    "        if (block_file['gbk_start'][i] > start and block_file['gbk_start'][i] < end):\n",
    "            overlapping_end.append(block_file['Locus_tag'][i]) \n",
    "    return [overlapping_start,inside_gene,overlapping_end]"
   ]
  },
  {
   "cell_type": "code",
   "execution_count": 66,
   "metadata": {},
   "outputs": [
    {
     "data": {
      "text/plain": [
       "{'Block56,Block57': [[], [], []], 'Block1105,Block1106': [[], [], []]}"
      ]
     },
     "execution_count": 66,
     "metadata": {},
     "output_type": "execute_result"
    }
   ],
   "source": [
    "BW25113.gbk_end = [i.replace('>','') for i in BW25113.gbk_end]\n",
    "BW25113['gbk_end'] = pd.to_numeric(BW25113['gbk_end'])\n",
    "BW25113_regions = {}\n",
    "regions={}\n",
    "for i in range(len(overlapping_region)):\n",
    "    regions[overlapping_region['block'][i]] = overlapping_gene2(overlapping_region['start'][i], \n",
    "                                                               overlapping_region['end'][i], BW25113)\n",
    "regions"
   ]
  },
  {
   "cell_type": "markdown",
   "metadata": {},
   "source": [
    "## inside block genes check"
   ]
  },
  {
   "cell_type": "markdown",
   "metadata": {},
   "source": [
    "### no inversion conflict"
   ]
  },
  {
   "cell_type": "code",
   "execution_count": 67,
   "metadata": {},
   "outputs": [],
   "source": [
    "insideblock_region = BW25113_overlaps[BW25113_overlaps['inside_block']==True].reset_index(drop=True)\n",
    "insideblock_region = insideblock_region[insideblock_region['inversion_conflict']==False].reset_index(drop=True)\n",
    "\n",
    "insideblock_region['start'] = insideblock_region['start_y']\n",
    "insideblock_region['end'] = insideblock_region['end_y']\n",
    "insideblock_region['block'] = insideblock_region['Overlapping_blocks']\n",
    "insideblock_region = insideblock_region[['block', 'start', 'end', 'inversion_conflict']]"
   ]
  },
  {
   "cell_type": "code",
   "execution_count": 68,
   "metadata": {
    "scrolled": true
   },
   "outputs": [
    {
     "data": {
      "text/html": [
       "<div>\n",
       "<style scoped>\n",
       "    .dataframe tbody tr th:only-of-type {\n",
       "        vertical-align: middle;\n",
       "    }\n",
       "\n",
       "    .dataframe tbody tr th {\n",
       "        vertical-align: top;\n",
       "    }\n",
       "\n",
       "    .dataframe thead th {\n",
       "        text-align: right;\n",
       "    }\n",
       "</style>\n",
       "<table border=\"1\" class=\"dataframe\">\n",
       "  <thead>\n",
       "    <tr style=\"text-align: right;\">\n",
       "      <th></th>\n",
       "      <th>Block187,Block17</th>\n",
       "      <th>Block501,Block97</th>\n",
       "      <th>Block913,Block96</th>\n",
       "    </tr>\n",
       "  </thead>\n",
       "  <tbody>\n",
       "    <tr>\n",
       "      <th>0</th>\n",
       "      <td>[b0723]</td>\n",
       "      <td>[]</td>\n",
       "      <td>[]</td>\n",
       "    </tr>\n",
       "    <tr>\n",
       "      <th>1</th>\n",
       "      <td>[]</td>\n",
       "      <td>[]</td>\n",
       "      <td>[]</td>\n",
       "    </tr>\n",
       "    <tr>\n",
       "      <th>2</th>\n",
       "      <td>[]</td>\n",
       "      <td>[]</td>\n",
       "      <td>[]</td>\n",
       "    </tr>\n",
       "  </tbody>\n",
       "</table>\n",
       "</div>"
      ],
      "text/plain": [
       "  Block187,Block17 Block501,Block97 Block913,Block96\n",
       "0          [b0723]               []               []\n",
       "1               []               []               []\n",
       "2               []               []               []"
      ]
     },
     "execution_count": 68,
     "metadata": {},
     "output_type": "execute_result"
    }
   ],
   "source": [
    "inside_regions={}\n",
    "for i in range(len(insideblock_region)):\n",
    "    inside_regions[insideblock_region['block'][i]] = overlapping_gene2(insideblock_region['start'][i], \n",
    "                                                                      insideblock_region['end'][i], BW25113)\n",
    "pd.DataFrame(inside_regions)"
   ]
  },
  {
   "cell_type": "code",
   "execution_count": 69,
   "metadata": {},
   "outputs": [
    {
     "data": {
      "text/html": [
       "<div>\n",
       "<style scoped>\n",
       "    .dataframe tbody tr th:only-of-type {\n",
       "        vertical-align: middle;\n",
       "    }\n",
       "\n",
       "    .dataframe tbody tr th {\n",
       "        vertical-align: top;\n",
       "    }\n",
       "\n",
       "    .dataframe thead th {\n",
       "        text-align: right;\n",
       "    }\n",
       "</style>\n",
       "<table border=\"1\" class=\"dataframe\">\n",
       "  <thead>\n",
       "    <tr style=\"text-align: right;\">\n",
       "      <th></th>\n",
       "      <th>block</th>\n",
       "      <th>start</th>\n",
       "      <th>end</th>\n",
       "      <th>inversion_conflict</th>\n",
       "    </tr>\n",
       "  </thead>\n",
       "  <tbody>\n",
       "    <tr>\n",
       "      <th>0</th>\n",
       "      <td>Block187,Block17</td>\n",
       "      <td>751912</td>\n",
       "      <td>751934</td>\n",
       "      <td>False</td>\n",
       "    </tr>\n",
       "    <tr>\n",
       "      <th>1</th>\n",
       "      <td>Block501,Block97</td>\n",
       "      <td>1938486</td>\n",
       "      <td>1938513</td>\n",
       "      <td>False</td>\n",
       "    </tr>\n",
       "    <tr>\n",
       "      <th>2</th>\n",
       "      <td>Block913,Block96</td>\n",
       "      <td>3591755</td>\n",
       "      <td>3591787</td>\n",
       "      <td>False</td>\n",
       "    </tr>\n",
       "  </tbody>\n",
       "</table>\n",
       "</div>"
      ],
      "text/plain": [
       "              block    start      end  inversion_conflict\n",
       "0  Block187,Block17   751912   751934               False\n",
       "1  Block501,Block97  1938486  1938513               False\n",
       "2  Block913,Block96  3591755  3591787               False"
      ]
     },
     "execution_count": 69,
     "metadata": {},
     "output_type": "execute_result"
    }
   ],
   "source": [
    "insideblock_region.head()"
   ]
  },
  {
   "cell_type": "code",
   "execution_count": 70,
   "metadata": {},
   "outputs": [
    {
     "name": "stdout",
     "output_type": "stream",
     "text": [
      "1 0 0\n"
     ]
    }
   ],
   "source": [
    "genes = [i for i in inside_regions.values()]\n",
    "overlap_start, overlap, overlap_end = [],[],[]\n",
    "for i in range(len(genes)):\n",
    "    overlap_start.append(len(genes[i][0]))\n",
    "    overlap.append(len(genes[i][1]))\n",
    "    overlap_end.append(len(genes[i][2]))\n",
    "\n",
    "print(sum(overlap_start), sum(overlap), sum(overlap_end))\n",
    "    "
   ]
  },
  {
   "cell_type": "markdown",
   "metadata": {},
   "source": [
    "### With inversion conflict"
   ]
  },
  {
   "cell_type": "code",
   "execution_count": 71,
   "metadata": {},
   "outputs": [],
   "source": [
    "block_region = BW25113_overlaps[BW25113_overlaps['inside_block']==True].reset_index(drop=True)\n",
    "block_region = block_region[block_region['inversion_conflict']==True].reset_index(drop=True)\n",
    "\n",
    "block_region['start'] = block_region['start_y']\n",
    "block_region['end'] = block_region['end_y']\n",
    "block_region['block'] = block_region['Overlapping_blocks']\n",
    "block_region = block_region[['block', 'start', 'end', 'inversion_conflict']]"
   ]
  },
  {
   "cell_type": "code",
   "execution_count": 72,
   "metadata": {
    "scrolled": true
   },
   "outputs": [
    {
     "data": {
      "text/html": [
       "<div>\n",
       "<style scoped>\n",
       "    .dataframe tbody tr th:only-of-type {\n",
       "        vertical-align: middle;\n",
       "    }\n",
       "\n",
       "    .dataframe tbody tr th {\n",
       "        vertical-align: top;\n",
       "    }\n",
       "\n",
       "    .dataframe thead th {\n",
       "        text-align: right;\n",
       "    }\n",
       "</style>\n",
       "<table border=\"1\" class=\"dataframe\">\n",
       "  <thead>\n",
       "    <tr style=\"text-align: right;\">\n",
       "      <th></th>\n",
       "    </tr>\n",
       "  </thead>\n",
       "  <tbody>\n",
       "  </tbody>\n",
       "</table>\n",
       "</div>"
      ],
      "text/plain": [
       "Empty DataFrame\n",
       "Columns: []\n",
       "Index: []"
      ]
     },
     "execution_count": 72,
     "metadata": {},
     "output_type": "execute_result"
    }
   ],
   "source": [
    "block_regions={}\n",
    "for i in range(len(block_region)):\n",
    "    block_regions[block_region['block'][i]] = overlapping_gene2(block_region['start'][i], \n",
    "                                                                      block_region['end'][i], BW25113)\n",
    "pd.DataFrame(block_regions)"
   ]
  },
  {
   "cell_type": "code",
   "execution_count": 73,
   "metadata": {},
   "outputs": [
    {
     "data": {
      "text/html": [
       "<div>\n",
       "<style scoped>\n",
       "    .dataframe tbody tr th:only-of-type {\n",
       "        vertical-align: middle;\n",
       "    }\n",
       "\n",
       "    .dataframe tbody tr th {\n",
       "        vertical-align: top;\n",
       "    }\n",
       "\n",
       "    .dataframe thead th {\n",
       "        text-align: right;\n",
       "    }\n",
       "</style>\n",
       "<table border=\"1\" class=\"dataframe\">\n",
       "  <thead>\n",
       "    <tr style=\"text-align: right;\">\n",
       "      <th></th>\n",
       "      <th>block</th>\n",
       "      <th>start</th>\n",
       "      <th>end</th>\n",
       "      <th>inversion_conflict</th>\n",
       "    </tr>\n",
       "  </thead>\n",
       "  <tbody>\n",
       "  </tbody>\n",
       "</table>\n",
       "</div>"
      ],
      "text/plain": [
       "Empty DataFrame\n",
       "Columns: [block, start, end, inversion_conflict]\n",
       "Index: []"
      ]
     },
     "execution_count": 73,
     "metadata": {},
     "output_type": "execute_result"
    }
   ],
   "source": [
    "block_region.head()"
   ]
  },
  {
   "cell_type": "code",
   "execution_count": 74,
   "metadata": {},
   "outputs": [
    {
     "name": "stdout",
     "output_type": "stream",
     "text": [
      "0 0 0\n"
     ]
    }
   ],
   "source": [
    "genes = [i for i in block_regions.values()]\n",
    "overlap_start, overlap, overlap_end = [],[],[]\n",
    "for i in range(len(genes)):\n",
    "    overlap_start.append(len(genes[i][0]))\n",
    "    overlap.append(len(genes[i][1]))\n",
    "    overlap_end.append(len(genes[i][2]))\n",
    "\n",
    "print(sum(overlap_start), sum(overlap), sum(overlap_end))\n",
    "    "
   ]
  },
  {
   "cell_type": "code",
   "execution_count": null,
   "metadata": {},
   "outputs": [],
   "source": []
  },
  {
   "cell_type": "markdown",
   "metadata": {},
   "source": [
    "### Omitted blocks that are inside another block "
   ]
  },
  {
   "cell_type": "code",
   "execution_count": 75,
   "metadata": {},
   "outputs": [
    {
     "name": "stdout",
     "output_type": "stream",
     "text": [
      "There are 3 inside blocks\n"
     ]
    }
   ],
   "source": [
    "block_ends=[]\n",
    "inside_block=[]\n",
    "for i in range(len(BW25113_block)-1): \n",
    "    block_ends.append(BW25113_block.end[i])\n",
    "    if not(all(BW25113_block.end[i+1] > x for x in block_ends)):\n",
    "           inside_block.append(BW25113_block.block[i+1])\n",
    "\n",
    "print('There are',len(inside_block), 'inside blocks')"
   ]
  },
  {
   "cell_type": "code",
   "execution_count": 76,
   "metadata": {},
   "outputs": [
    {
     "name": "stdout",
     "output_type": "stream",
     "text": [
      "there are 3 inside blocks and 3 are inverted\n"
     ]
    },
    {
     "data": {
      "text/html": [
       "<div>\n",
       "<style scoped>\n",
       "    .dataframe tbody tr th:only-of-type {\n",
       "        vertical-align: middle;\n",
       "    }\n",
       "\n",
       "    .dataframe tbody tr th {\n",
       "        vertical-align: top;\n",
       "    }\n",
       "\n",
       "    .dataframe thead th {\n",
       "        text-align: right;\n",
       "    }\n",
       "</style>\n",
       "<table border=\"1\" class=\"dataframe\">\n",
       "  <thead>\n",
       "    <tr style=\"text-align: right;\">\n",
       "      <th></th>\n",
       "      <th>block</th>\n",
       "      <th>taxa</th>\n",
       "      <th>start</th>\n",
       "      <th>end</th>\n",
       "      <th>rev_comp</th>\n",
       "      <th>inversion</th>\n",
       "      <th>block_order</th>\n",
       "      <th>diff</th>\n",
       "      <th>overlaps</th>\n",
       "    </tr>\n",
       "  </thead>\n",
       "  <tbody>\n",
       "    <tr>\n",
       "      <th>0</th>\n",
       "      <td>Block17</td>\n",
       "      <td>NZ_CP009273</td>\n",
       "      <td>751912</td>\n",
       "      <td>751934</td>\n",
       "      <td>1</td>\n",
       "      <td>1</td>\n",
       "      <td>185</td>\n",
       "      <td>-1951</td>\n",
       "      <td>True</td>\n",
       "    </tr>\n",
       "    <tr>\n",
       "      <th>1</th>\n",
       "      <td>Block97</td>\n",
       "      <td>NZ_CP009273</td>\n",
       "      <td>1938486</td>\n",
       "      <td>1938513</td>\n",
       "      <td>1</td>\n",
       "      <td>1</td>\n",
       "      <td>500</td>\n",
       "      <td>-1849</td>\n",
       "      <td>True</td>\n",
       "    </tr>\n",
       "    <tr>\n",
       "      <th>2</th>\n",
       "      <td>Block96</td>\n",
       "      <td>NZ_CP009273</td>\n",
       "      <td>3591755</td>\n",
       "      <td>3591787</td>\n",
       "      <td>1</td>\n",
       "      <td>1</td>\n",
       "      <td>913</td>\n",
       "      <td>-5316</td>\n",
       "      <td>True</td>\n",
       "    </tr>\n",
       "  </tbody>\n",
       "</table>\n",
       "</div>"
      ],
      "text/plain": [
       "     block         taxa    start      end  rev_comp  inversion  block_order  \\\n",
       "0  Block17  NZ_CP009273   751912   751934         1          1          185   \n",
       "1  Block97  NZ_CP009273  1938486  1938513         1          1          500   \n",
       "2  Block96  NZ_CP009273  3591755  3591787         1          1          913   \n",
       "\n",
       "   diff  overlaps  \n",
       "0 -1951      True  \n",
       "1 -1849      True  \n",
       "2 -5316      True  "
      ]
     },
     "execution_count": 76,
     "metadata": {},
     "output_type": "execute_result"
    }
   ],
   "source": [
    "##View inside block df \n",
    "inside_block_df = pd.merge(BW25113_block, pd.DataFrame({'block':inside_block}), how='right', on='block')\n",
    "inside_block_df.head()\n",
    "print('there are', len(inside_block_df), 'inside blocks and', sum(inside_block_df['inversion']), 'are inverted')\n",
    "BW25113_inside_inverted = inside_block_df[inside_block_df['inversion']==1]\n",
    "BW25113_inside_inverted"
   ]
  },
  {
   "cell_type": "code",
   "execution_count": 77,
   "metadata": {},
   "outputs": [],
   "source": [
    "BW25113_block_final = BW25113_block[~BW25113_block['block'].isin(inside_block)]"
   ]
  },
  {
   "cell_type": "code",
   "execution_count": 78,
   "metadata": {},
   "outputs": [
    {
     "name": "stdout",
     "output_type": "stream",
     "text": [
      "there are 2 overlapping blocks and 0 are inverted\n"
     ]
    }
   ],
   "source": [
    "print('there are', sum(BW25113_block_final['overlaps']), 'overlapping blocks and', \n",
    "                      sum(pd.DataFrame(BW25113_block_final[BW25113_block_final['overlaps']==1])['inversion']), 'are inverted')"
   ]
  },
  {
   "cell_type": "code",
   "execution_count": 79,
   "metadata": {},
   "outputs": [
    {
     "data": {
      "text/html": [
       "<div>\n",
       "<style scoped>\n",
       "    .dataframe tbody tr th:only-of-type {\n",
       "        vertical-align: middle;\n",
       "    }\n",
       "\n",
       "    .dataframe tbody tr th {\n",
       "        vertical-align: top;\n",
       "    }\n",
       "\n",
       "    .dataframe thead th {\n",
       "        text-align: right;\n",
       "    }\n",
       "</style>\n",
       "<table border=\"1\" class=\"dataframe\">\n",
       "  <thead>\n",
       "    <tr style=\"text-align: right;\">\n",
       "      <th></th>\n",
       "      <th>block</th>\n",
       "      <th>taxa</th>\n",
       "      <th>start</th>\n",
       "      <th>end</th>\n",
       "      <th>rev_comp</th>\n",
       "      <th>inversion</th>\n",
       "      <th>block_order</th>\n",
       "      <th>diff</th>\n",
       "      <th>overlaps</th>\n",
       "    </tr>\n",
       "  </thead>\n",
       "  <tbody>\n",
       "    <tr>\n",
       "      <th>55</th>\n",
       "      <td>Block57</td>\n",
       "      <td>NZ_CP009273</td>\n",
       "      <td>220669</td>\n",
       "      <td>223414</td>\n",
       "      <td>0</td>\n",
       "      <td>0</td>\n",
       "      <td>56</td>\n",
       "      <td>-546</td>\n",
       "      <td>True</td>\n",
       "    </tr>\n",
       "    <tr>\n",
       "      <th>1105</th>\n",
       "      <td>Block1106</td>\n",
       "      <td>NZ_CP009273</td>\n",
       "      <td>4460214</td>\n",
       "      <td>4462437</td>\n",
       "      <td>0</td>\n",
       "      <td>0</td>\n",
       "      <td>1106</td>\n",
       "      <td>-13</td>\n",
       "      <td>True</td>\n",
       "    </tr>\n",
       "  </tbody>\n",
       "</table>\n",
       "</div>"
      ],
      "text/plain": [
       "          block         taxa    start      end  rev_comp  inversion  \\\n",
       "55      Block57  NZ_CP009273   220669   223414         0          0   \n",
       "1105  Block1106  NZ_CP009273  4460214  4462437         0          0   \n",
       "\n",
       "      block_order  diff  overlaps  \n",
       "55             56  -546      True  \n",
       "1105         1106   -13      True  "
      ]
     },
     "execution_count": 79,
     "metadata": {},
     "output_type": "execute_result"
    }
   ],
   "source": [
    "BW25113_overlapped = pd.DataFrame(BW25113_block_final[BW25113_block_final['overlaps']==1])\n",
    "BW25113_overlapped"
   ]
  },
  {
   "cell_type": "code",
   "execution_count": 80,
   "metadata": {},
   "outputs": [
    {
     "data": {
      "text/plain": [
       "1145"
      ]
     },
     "execution_count": 80,
     "metadata": {},
     "output_type": "execute_result"
    }
   ],
   "source": [
    "BW25113_block_final['block'].nunique()"
   ]
  },
  {
   "cell_type": "markdown",
   "metadata": {},
   "source": [
    "## BW expression data "
   ]
  },
  {
   "cell_type": "code",
   "execution_count": 81,
   "metadata": {},
   "outputs": [],
   "source": [
    "#matching blocks by start\n",
    "BW25113_block_by_start = [match_block_start(i, BW25113_block_final) for i in BW25113.gbk_start]"
   ]
  },
  {
   "cell_type": "code",
   "execution_count": 82,
   "metadata": {},
   "outputs": [
    {
     "name": "stdout",
     "output_type": "stream",
     "text": [
      "4631461 4631445\n"
     ]
    }
   ],
   "source": [
    "print(max(BW25113_block_final['end']),max(BW25113['gbk_end']))"
   ]
  },
  {
   "cell_type": "code",
   "execution_count": 83,
   "metadata": {},
   "outputs": [],
   "source": [
    "#matching block by end\n",
    "BW25113_block_by_end = [match_block_end(i, BW25113_block_final) for i in BW25113.gbk_end]"
   ]
  },
  {
   "cell_type": "code",
   "execution_count": 84,
   "metadata": {},
   "outputs": [
    {
     "name": "stdout",
     "output_type": "stream",
     "text": [
      "BW25113 has 4077 rows and 3040 are single blocks\n"
     ]
    }
   ],
   "source": [
    "#add new columns and make it a new dataframe\n",
    "BW25113_new = BW25113.copy()\n",
    "BW25113_new['block_by_start'] = BW25113_block_by_start\n",
    "BW25113_new['block_by_end'] = BW25113_block_by_end\n",
    "\n",
    "#check if the start and end identifies the same block\n",
    "BW25113_new['Single_block'] = BW25113_new['block_by_start'] == BW25113_new['block_by_end']\n",
    "print('BW25113 has', len(BW25113_new), 'rows and', sum(BW25113_new.Single_block), 'are single blocks')"
   ]
  },
  {
   "cell_type": "code",
   "execution_count": 85,
   "metadata": {},
   "outputs": [
    {
     "name": "stdout",
     "output_type": "stream",
     "text": [
      "There are 1037 spitted genes\n"
     ]
    }
   ],
   "source": [
    "#non single blocks - check for neighbouring \n",
    "BW25113_non_sb = BW25113_new[BW25113_new.Single_block==False]\n",
    "print('There are',len(BW25113_non_sb), 'spitted genes')\n",
    "\n",
    "#merging by the gene start \n",
    "BW25113_non_sb = pd.merge(BW25113_non_sb, BW25113_block_final, how='left', left_on='block_by_start', right_on='block')\n",
    "BW25113_non_sb = BW25113_non_sb.drop(['Single_block','block', 'taxa', 'start', 'end', 'rev_comp','inversion','diff'],1)\n",
    "BW25113_non_sb.columns.values[-2] = 'start_order'\n",
    "BW25113_non_sb.columns.values[-1] = 'start_block_overlap'\n",
    "\n",
    "#merging by the gene end \n",
    "BW25113_non_sb = pd.merge(BW25113_non_sb, BW25113_block_final, how='left', left_on='block_by_end', right_on='block')\n",
    "BW25113_non_sb = BW25113_non_sb.drop(['block', 'taxa', 'start', 'end', 'rev_comp','inversion','diff'],1)\n",
    "BW25113_non_sb.columns.values[-2] = 'end_order'\n",
    "BW25113_non_sb.columns.values[-1] = 'end_block_overlap'"
   ]
  },
  {
   "cell_type": "code",
   "execution_count": 86,
   "metadata": {},
   "outputs": [
    {
     "name": "stdout",
     "output_type": "stream",
     "text": [
      "There are 1037 spitted genes, 1037 are continous.\n",
      "There are 1037 spitted genes, 954 are neighbouring blocks\n"
     ]
    }
   ],
   "source": [
    "#check continuity, neighbour and overlapping blocks \n",
    "BW25113_non_sb['check_continuity'] = BW25113_non_sb['start_order'] < BW25113_non_sb['end_order']\n",
    "print('There are', len(BW25113_non_sb), 'spitted genes,', sum(BW25113_non_sb['check_continuity']), 'are continous.') \n",
    "BW25113_non_sb['check_neighbour'] = BW25113_non_sb['start_order']+1 == BW25113_non_sb['end_order']\n",
    "print('There are', len(BW25113_non_sb), 'spitted genes,', sum(BW25113_non_sb['check_neighbour']), 'are neighbouring blocks') "
   ]
  },
  {
   "cell_type": "code",
   "execution_count": 87,
   "metadata": {},
   "outputs": [],
   "source": [
    "BW25113_non_sb = pd.merge(BW25113_non_sb, BW25113_block[['block','end']], left_on='block_by_start',\n",
    "                      right_on='block', how='left')\n",
    "BW25113_non_sb = pd.merge(BW25113_non_sb, BW25113_block[['block','start']], left_on='block_by_end',\n",
    "                      right_on='block', how='left')"
   ]
  },
  {
   "cell_type": "code",
   "execution_count": 88,
   "metadata": {},
   "outputs": [],
   "source": [
    "BW25113_non_sb['space_between_block'] = BW25113_non_sb['start'] - BW25113_non_sb['end']"
   ]
  },
  {
   "cell_type": "code",
   "execution_count": 89,
   "metadata": {},
   "outputs": [
    {
     "data": {
      "text/plain": [
       "count      1037.000000\n",
       "mean      17734.105111\n",
       "std       34112.310906\n",
       "min           1.000000\n",
       "25%         381.000000\n",
       "50%        3070.000000\n",
       "75%       11926.000000\n",
       "max      114522.000000\n",
       "Name: space_between_block, dtype: float64"
      ]
     },
     "execution_count": 89,
     "metadata": {},
     "output_type": "execute_result"
    }
   ],
   "source": [
    "pd.DataFrame(BW25113_non_sb[BW25113_non_sb['space_between_block']>0])['space_between_block'].describe()"
   ]
  },
  {
   "cell_type": "code",
   "execution_count": 90,
   "metadata": {},
   "outputs": [
    {
     "data": {
      "text/html": [
       "<div>\n",
       "<style scoped>\n",
       "    .dataframe tbody tr th:only-of-type {\n",
       "        vertical-align: middle;\n",
       "    }\n",
       "\n",
       "    .dataframe tbody tr th {\n",
       "        vertical-align: top;\n",
       "    }\n",
       "\n",
       "    .dataframe thead th {\n",
       "        text-align: right;\n",
       "    }\n",
       "</style>\n",
       "<table border=\"1\" class=\"dataframe\">\n",
       "  <thead>\n",
       "    <tr style=\"text-align: right;\">\n",
       "      <th></th>\n",
       "      <th>Locus_tag</th>\n",
       "      <th>gbk_locus_tag</th>\n",
       "      <th>gbk_start</th>\n",
       "      <th>gbk_end</th>\n",
       "      <th>gbk_midpoint</th>\n",
       "      <th>gbk_gene_id</th>\n",
       "      <th>gbk_old_locus_tag</th>\n",
       "      <th>gbk_strand</th>\n",
       "      <th>norm_exp</th>\n",
       "      <th>block_by_start</th>\n",
       "      <th>...</th>\n",
       "      <th>start_block_overlap</th>\n",
       "      <th>end_order</th>\n",
       "      <th>end_block_overlap</th>\n",
       "      <th>check_continuity</th>\n",
       "      <th>check_neighbour</th>\n",
       "      <th>block_x</th>\n",
       "      <th>end</th>\n",
       "      <th>block_y</th>\n",
       "      <th>start</th>\n",
       "      <th>space_between_block</th>\n",
       "    </tr>\n",
       "  </thead>\n",
       "  <tbody>\n",
       "  </tbody>\n",
       "</table>\n",
       "<p>0 rows × 22 columns</p>\n",
       "</div>"
      ],
      "text/plain": [
       "Empty DataFrame\n",
       "Columns: [Locus_tag, gbk_locus_tag, gbk_start, gbk_end, gbk_midpoint, gbk_gene_id, gbk_old_locus_tag, gbk_strand, norm_exp, block_by_start, block_by_end, start_order, start_block_overlap, end_order, end_block_overlap, check_continuity, check_neighbour, block_x, end, block_y, start, space_between_block]\n",
       "Index: []\n",
       "\n",
       "[0 rows x 22 columns]"
      ]
     },
     "execution_count": 90,
     "metadata": {},
     "output_type": "execute_result"
    }
   ],
   "source": [
    "BW25113_non_sb[BW25113_non_sb['space_between_block']<0]"
   ]
  },
  {
   "cell_type": "markdown",
   "metadata": {},
   "source": [
    "## single block and merge with block file "
   ]
  },
  {
   "cell_type": "code",
   "execution_count": 91,
   "metadata": {},
   "outputs": [
    {
     "name": "stdout",
     "output_type": "stream",
     "text": [
      "There are 3040 single block genes\n"
     ]
    }
   ],
   "source": [
    "BW25113_sb = BW25113_new[BW25113_new['Single_block']==True]\n",
    "BW25113_sb = pd.merge(BW25113_sb, BW25113_block, how='left', left_on='block_by_start', right_on='block')\n",
    "print('There are', len(BW25113_sb), 'single block genes')"
   ]
  },
  {
   "cell_type": "code",
   "execution_count": 92,
   "metadata": {},
   "outputs": [
    {
     "name": "stdout",
     "output_type": "stream",
     "text": [
      "There are 3040 genes and 4 are in overlapping block\n"
     ]
    }
   ],
   "source": [
    "print('There are', len(BW25113_sb), 'genes and', sum(BW25113_sb['overlaps']), 'are in overlapping block')"
   ]
  },
  {
   "cell_type": "code",
   "execution_count": 93,
   "metadata": {},
   "outputs": [
    {
     "data": {
      "text/plain": [
       "577"
      ]
     },
     "execution_count": 93,
     "metadata": {},
     "output_type": "execute_result"
    }
   ],
   "source": [
    "BW25113_sb['block'].nunique()"
   ]
  },
  {
   "cell_type": "markdown",
   "metadata": {},
   "source": [
    "  "
   ]
  },
  {
   "cell_type": "markdown",
   "metadata": {},
   "source": [
    "# K12DH "
   ]
  },
  {
   "cell_type": "markdown",
   "metadata": {},
   "source": [
    "### block file - spaces between blocks"
   ]
  },
  {
   "cell_type": "code",
   "execution_count": 94,
   "metadata": {},
   "outputs": [
    {
     "name": "stdout",
     "output_type": "stream",
     "text": [
      "There are 1148 blocks and 5 are overlapping blocks\n"
     ]
    }
   ],
   "source": [
    "##find difference between blocks\n",
    "diff = [0]\n",
    "for i in range(len(K12DH_block.start)-1):\n",
    "    diff.append(K12DH_block.start[i+1] - K12DH_block.end[i])\n",
    "\n",
    "K12DH_block['diff'] = diff\n",
    "K12DH_block['overlaps'] = K12DH_block['diff'] < 0 \n",
    "\n",
    "print('There are', len(K12DH_block), 'blocks and', sum(K12DH_block['overlaps']), 'are overlapping blocks')\n",
    "#this current block is starting inside the last block\n",
    "#K12DH_block[K12DH_block['overlaps']==True] \n",
    "#K12DH_block.loc[15:20]"
   ]
  },
  {
   "cell_type": "markdown",
   "metadata": {},
   "source": [
    "## Overlapping genes"
   ]
  },
  {
   "cell_type": "code",
   "execution_count": 95,
   "metadata": {},
   "outputs": [],
   "source": [
    "# block = ['a','b','c','d']\n",
    "# start = [1,6,10,21]\n",
    "# end = [20,9,12,25]\n",
    "\n",
    "block = K12DH_block['block']\n",
    "start = K12DH_block['start']\n",
    "end = K12DH_block['end']\n",
    "\n",
    "N = len(block)\n",
    "\n",
    "tally =[]\n",
    "for i in range(len(block)):\n",
    "    tally.append((start[i], block[i],\"start\"))\n",
    "    tally.append((end[i], block[i],\"end\"))\n",
    "    \n",
    "tally = sorted(tally, key=lambda x:x[0])\n",
    "\n",
    "groups={}\n",
    "stack={}\n",
    "for entry in tally:\n",
    "    t = entry[0]\n",
    "    name = entry[1]\n",
    "    action = entry[2]\n",
    "    \n",
    "    if action == \"start\":\n",
    "        stack[name]= True\n",
    "        if len(stack)>1:\n",
    "            groups[','.join(stack)] = True\n",
    "    if action == \"end\":\n",
    "        del stack[name]\n",
    "\n",
    "#print(tally)\n",
    "#print(groups)"
   ]
  },
  {
   "cell_type": "code",
   "execution_count": 96,
   "metadata": {},
   "outputs": [
    {
     "name": "stdout",
     "output_type": "stream",
     "text": [
      "there are 1 out of 5 overlaps that have inconsistent inversion\n",
      "0 inconsitencies are inside blocks\n"
     ]
    },
    {
     "data": {
      "text/html": [
       "<div>\n",
       "<style scoped>\n",
       "    .dataframe tbody tr th:only-of-type {\n",
       "        vertical-align: middle;\n",
       "    }\n",
       "\n",
       "    .dataframe tbody tr th {\n",
       "        vertical-align: top;\n",
       "    }\n",
       "\n",
       "    .dataframe thead th {\n",
       "        text-align: right;\n",
       "    }\n",
       "</style>\n",
       "<table border=\"1\" class=\"dataframe\">\n",
       "  <thead>\n",
       "    <tr style=\"text-align: right;\">\n",
       "      <th></th>\n",
       "      <th>Overlapping_blocks</th>\n",
       "      <th>Bigblock</th>\n",
       "      <th>Smallblock1</th>\n",
       "      <th>block_x</th>\n",
       "      <th>start_x</th>\n",
       "      <th>end_x</th>\n",
       "      <th>inversion_x</th>\n",
       "      <th>block_y</th>\n",
       "      <th>start_y</th>\n",
       "      <th>end_y</th>\n",
       "      <th>inversion_y</th>\n",
       "      <th>inversion_conflict</th>\n",
       "      <th>inside_block</th>\n",
       "    </tr>\n",
       "  </thead>\n",
       "  <tbody>\n",
       "    <tr>\n",
       "      <th>0</th>\n",
       "      <td>Block56,Block57</td>\n",
       "      <td>Block56</td>\n",
       "      <td>Block57</td>\n",
       "      <td>Block56</td>\n",
       "      <td>198285</td>\n",
       "      <td>198832</td>\n",
       "      <td>0</td>\n",
       "      <td>Block57</td>\n",
       "      <td>198286</td>\n",
       "      <td>201031</td>\n",
       "      <td>0</td>\n",
       "      <td>False</td>\n",
       "      <td>False</td>\n",
       "    </tr>\n",
       "    <tr>\n",
       "      <th>1</th>\n",
       "      <td>Block187,Block17</td>\n",
       "      <td>Block187</td>\n",
       "      <td>Block17</td>\n",
       "      <td>Block187</td>\n",
       "      <td>804984</td>\n",
       "      <td>810222</td>\n",
       "      <td>1</td>\n",
       "      <td>Block17</td>\n",
       "      <td>808271</td>\n",
       "      <td>808293</td>\n",
       "      <td>1</td>\n",
       "      <td>False</td>\n",
       "      <td>True</td>\n",
       "    </tr>\n",
       "    <tr>\n",
       "      <th>2</th>\n",
       "      <td>Block501,Block97</td>\n",
       "      <td>Block501</td>\n",
       "      <td>Block97</td>\n",
       "      <td>Block501</td>\n",
       "      <td>2027812</td>\n",
       "      <td>2034673</td>\n",
       "      <td>1</td>\n",
       "      <td>Block97</td>\n",
       "      <td>2032824</td>\n",
       "      <td>2032851</td>\n",
       "      <td>1</td>\n",
       "      <td>False</td>\n",
       "      <td>True</td>\n",
       "    </tr>\n",
       "    <tr>\n",
       "      <th>3</th>\n",
       "      <td>Block913,Block96</td>\n",
       "      <td>Block913</td>\n",
       "      <td>Block96</td>\n",
       "      <td>Block913</td>\n",
       "      <td>3688392</td>\n",
       "      <td>3699479</td>\n",
       "      <td>1</td>\n",
       "      <td>Block96</td>\n",
       "      <td>3694163</td>\n",
       "      <td>3694195</td>\n",
       "      <td>1</td>\n",
       "      <td>False</td>\n",
       "      <td>True</td>\n",
       "    </tr>\n",
       "    <tr>\n",
       "      <th>4</th>\n",
       "      <td>Block1105,Block1106</td>\n",
       "      <td>Block1105</td>\n",
       "      <td>Block1106</td>\n",
       "      <td>Block1105</td>\n",
       "      <td>4570209</td>\n",
       "      <td>4570241</td>\n",
       "      <td>1</td>\n",
       "      <td>Block1106</td>\n",
       "      <td>4570228</td>\n",
       "      <td>4572451</td>\n",
       "      <td>0</td>\n",
       "      <td>True</td>\n",
       "      <td>False</td>\n",
       "    </tr>\n",
       "  </tbody>\n",
       "</table>\n",
       "</div>"
      ],
      "text/plain": [
       "    Overlapping_blocks   Bigblock Smallblock1    block_x  start_x    end_x  \\\n",
       "0      Block56,Block57    Block56     Block57    Block56   198285   198832   \n",
       "1     Block187,Block17   Block187     Block17   Block187   804984   810222   \n",
       "2     Block501,Block97   Block501     Block97   Block501  2027812  2034673   \n",
       "3     Block913,Block96   Block913     Block96   Block913  3688392  3699479   \n",
       "4  Block1105,Block1106  Block1105   Block1106  Block1105  4570209  4570241   \n",
       "\n",
       "   inversion_x    block_y  start_y    end_y  inversion_y  inversion_conflict  \\\n",
       "0            0    Block57   198286   201031            0               False   \n",
       "1            1    Block17   808271   808293            1               False   \n",
       "2            1    Block97  2032824  2032851            1               False   \n",
       "3            1    Block96  3694163  3694195            1               False   \n",
       "4            1  Block1106  4570228  4572451            0                True   \n",
       "\n",
       "   inside_block  \n",
       "0         False  \n",
       "1          True  \n",
       "2          True  \n",
       "3          True  \n",
       "4         False  "
      ]
     },
     "execution_count": 96,
     "metadata": {},
     "output_type": "execute_result"
    }
   ],
   "source": [
    "K12DH_overlaps = pd.DataFrame({'Overlapping_blocks':[x for x in groups.keys()]})\n",
    "blocks = K12DH_overlaps['Overlapping_blocks'].str.split(',',n=2, expand=True)\n",
    "K12DH_overlaps['Bigblock'] = blocks[0]\n",
    "K12DH_overlaps['Smallblock1'] = blocks[1]\n",
    "K12DH_overlaps = pd.merge(K12DH_overlaps, K12DH_block[['block','start','end','inversion']], left_on='Bigblock',right_on='block', how='left')\n",
    "K12DH_overlaps = pd.merge(K12DH_overlaps, K12DH_block[['block','start','end','inversion']], left_on='Smallblock1',right_on='block', how='left')\n",
    "K12DH_overlaps['inversion_conflict'] = K12DH_overlaps['inversion_x'] != K12DH_overlaps['inversion_y']\n",
    "K12DH_overlaps['inside_block'] = K12DH_overlaps['end_y'] < K12DH_overlaps['end_x']\n",
    "print('there are', sum(K12DH_overlaps['inversion_conflict']), 'out of', len(K12DH_overlaps),'overlaps that have inconsistent inversion')\n",
    "print(sum(K12DH_overlaps[K12DH_overlaps['inversion_conflict']]['inside_block']),'inconsitencies are inside blocks')\n",
    "K12DH_overlaps.head()"
   ]
  },
  {
   "cell_type": "code",
   "execution_count": 97,
   "metadata": {},
   "outputs": [
    {
     "data": {
      "text/html": [
       "<div>\n",
       "<style scoped>\n",
       "    .dataframe tbody tr th:only-of-type {\n",
       "        vertical-align: middle;\n",
       "    }\n",
       "\n",
       "    .dataframe tbody tr th {\n",
       "        vertical-align: top;\n",
       "    }\n",
       "\n",
       "    .dataframe thead th {\n",
       "        text-align: right;\n",
       "    }\n",
       "</style>\n",
       "<table border=\"1\" class=\"dataframe\">\n",
       "  <thead>\n",
       "    <tr style=\"text-align: right;\">\n",
       "      <th></th>\n",
       "      <th>block</th>\n",
       "      <th>start</th>\n",
       "      <th>end</th>\n",
       "      <th>inversion_conflict</th>\n",
       "    </tr>\n",
       "  </thead>\n",
       "  <tbody>\n",
       "    <tr>\n",
       "      <th>0</th>\n",
       "      <td>Block56,Block57</td>\n",
       "      <td>198286</td>\n",
       "      <td>198832</td>\n",
       "      <td>False</td>\n",
       "    </tr>\n",
       "    <tr>\n",
       "      <th>1</th>\n",
       "      <td>Block1105,Block1106</td>\n",
       "      <td>4570228</td>\n",
       "      <td>4570241</td>\n",
       "      <td>True</td>\n",
       "    </tr>\n",
       "  </tbody>\n",
       "</table>\n",
       "</div>"
      ],
      "text/plain": [
       "                 block    start      end  inversion_conflict\n",
       "0      Block56,Block57   198286   198832               False\n",
       "1  Block1105,Block1106  4570228  4570241                True"
      ]
     },
     "execution_count": 97,
     "metadata": {},
     "output_type": "execute_result"
    }
   ],
   "source": [
    "overlapping_region = K12DH_overlaps[K12DH_overlaps['inside_block']==False].reset_index(drop=True)\n",
    "\n",
    "overlapping_region['start'] = overlapping_region['start_y']\n",
    "overlapping_region['end'] = overlapping_region['end_x']\n",
    "overlapping_region['block'] = overlapping_region['Overlapping_blocks']\n",
    "overlapping_region = overlapping_region[['block', 'start', 'end', 'inversion_conflict']]\n",
    "overlapping_region "
   ]
  },
  {
   "cell_type": "code",
   "execution_count": 98,
   "metadata": {},
   "outputs": [],
   "source": [
    "K12DH['gbk_end'] = K12DH['gbk_end'].apply(lambda x:x.replace('>',''))"
   ]
  },
  {
   "cell_type": "code",
   "execution_count": 99,
   "metadata": {},
   "outputs": [],
   "source": [
    "K12DH['gbk_end'] = pd.to_numeric(K12DH['gbk_end'])"
   ]
  },
  {
   "cell_type": "code",
   "execution_count": 100,
   "metadata": {},
   "outputs": [],
   "source": [
    "def overlapping_gene3(start, end, block_file):\n",
    "    inside_gene, overlapping_start, overlapping_end=[],[],[]\n",
    "    for i in range(len(block_file)):\n",
    "        if (block_file['gbk_start'][i] < start and block_file['gbk_end'][i] > start):\n",
    "            overlapping_start.append(block_file['locus_tag'][i])\n",
    "        if (block_file['gbk_start'][i] > start and block_file['gbk_end'][i] < end):\n",
    "            inside_gene.append(block_file['locus_tag'][i]) \n",
    "        if (block_file['gbk_start'][i] > start and block_file['gbk_start'][i] < end):\n",
    "            overlapping_end.append(block_file['locus_tag'][i]) \n",
    "    return [overlapping_start,inside_gene,overlapping_end]"
   ]
  },
  {
   "cell_type": "code",
   "execution_count": 101,
   "metadata": {},
   "outputs": [
    {
     "data": {
      "text/plain": [
       "{'Block56,Block57': [['ECDH10B_0182'], [], []],\n",
       " 'Block1105,Block1106': [[], [], []]}"
      ]
     },
     "execution_count": 101,
     "metadata": {},
     "output_type": "execute_result"
    }
   ],
   "source": [
    "K12DH_regions = {}\n",
    "regions={}\n",
    "for i in range(len(overlapping_region)):\n",
    "    regions[overlapping_region['block'][i]] = overlapping_gene3(overlapping_region['start'][i], \n",
    "                                                               overlapping_region['end'][i], K12DH)\n",
    "regions"
   ]
  },
  {
   "cell_type": "markdown",
   "metadata": {},
   "source": [
    "## inside block genes check"
   ]
  },
  {
   "cell_type": "markdown",
   "metadata": {},
   "source": [
    "### no inversion conflict"
   ]
  },
  {
   "cell_type": "code",
   "execution_count": 102,
   "metadata": {},
   "outputs": [],
   "source": [
    "insideblock_region = K12DH_overlaps[K12DH_overlaps['inside_block']==True].reset_index(drop=True)\n",
    "insideblock_region = insideblock_region[insideblock_region['inversion_conflict']==False].reset_index(drop=True)\n",
    "\n",
    "insideblock_region['start'] = insideblock_region['start_y']\n",
    "insideblock_region['end'] = insideblock_region['end_y']\n",
    "insideblock_region['block'] = insideblock_region['Overlapping_blocks']\n",
    "insideblock_region = insideblock_region[['block', 'start', 'end', 'inversion_conflict']]"
   ]
  },
  {
   "cell_type": "code",
   "execution_count": 103,
   "metadata": {
    "scrolled": true
   },
   "outputs": [
    {
     "data": {
      "text/html": [
       "<div>\n",
       "<style scoped>\n",
       "    .dataframe tbody tr th:only-of-type {\n",
       "        vertical-align: middle;\n",
       "    }\n",
       "\n",
       "    .dataframe tbody tr th {\n",
       "        vertical-align: top;\n",
       "    }\n",
       "\n",
       "    .dataframe thead th {\n",
       "        text-align: right;\n",
       "    }\n",
       "</style>\n",
       "<table border=\"1\" class=\"dataframe\">\n",
       "  <thead>\n",
       "    <tr style=\"text-align: right;\">\n",
       "      <th></th>\n",
       "      <th>Block187,Block17</th>\n",
       "      <th>Block501,Block97</th>\n",
       "      <th>Block913,Block96</th>\n",
       "    </tr>\n",
       "  </thead>\n",
       "  <tbody>\n",
       "    <tr>\n",
       "      <th>0</th>\n",
       "      <td>[ECDH10B_0790]</td>\n",
       "      <td>[]</td>\n",
       "      <td>[]</td>\n",
       "    </tr>\n",
       "    <tr>\n",
       "      <th>1</th>\n",
       "      <td>[]</td>\n",
       "      <td>[]</td>\n",
       "      <td>[]</td>\n",
       "    </tr>\n",
       "    <tr>\n",
       "      <th>2</th>\n",
       "      <td>[]</td>\n",
       "      <td>[]</td>\n",
       "      <td>[]</td>\n",
       "    </tr>\n",
       "  </tbody>\n",
       "</table>\n",
       "</div>"
      ],
      "text/plain": [
       "  Block187,Block17 Block501,Block97 Block913,Block96\n",
       "0   [ECDH10B_0790]               []               []\n",
       "1               []               []               []\n",
       "2               []               []               []"
      ]
     },
     "execution_count": 103,
     "metadata": {},
     "output_type": "execute_result"
    }
   ],
   "source": [
    "inside_regions={}\n",
    "for i in range(len(insideblock_region)):\n",
    "    inside_regions[insideblock_region['block'][i]] = overlapping_gene3(insideblock_region['start'][i], \n",
    "                                                                      insideblock_region['end'][i], K12DH)\n",
    "pd.DataFrame(inside_regions)"
   ]
  },
  {
   "cell_type": "code",
   "execution_count": 104,
   "metadata": {},
   "outputs": [
    {
     "data": {
      "text/html": [
       "<div>\n",
       "<style scoped>\n",
       "    .dataframe tbody tr th:only-of-type {\n",
       "        vertical-align: middle;\n",
       "    }\n",
       "\n",
       "    .dataframe tbody tr th {\n",
       "        vertical-align: top;\n",
       "    }\n",
       "\n",
       "    .dataframe thead th {\n",
       "        text-align: right;\n",
       "    }\n",
       "</style>\n",
       "<table border=\"1\" class=\"dataframe\">\n",
       "  <thead>\n",
       "    <tr style=\"text-align: right;\">\n",
       "      <th></th>\n",
       "      <th>block</th>\n",
       "      <th>start</th>\n",
       "      <th>end</th>\n",
       "      <th>inversion_conflict</th>\n",
       "    </tr>\n",
       "  </thead>\n",
       "  <tbody>\n",
       "    <tr>\n",
       "      <th>0</th>\n",
       "      <td>Block187,Block17</td>\n",
       "      <td>808271</td>\n",
       "      <td>808293</td>\n",
       "      <td>False</td>\n",
       "    </tr>\n",
       "    <tr>\n",
       "      <th>1</th>\n",
       "      <td>Block501,Block97</td>\n",
       "      <td>2032824</td>\n",
       "      <td>2032851</td>\n",
       "      <td>False</td>\n",
       "    </tr>\n",
       "    <tr>\n",
       "      <th>2</th>\n",
       "      <td>Block913,Block96</td>\n",
       "      <td>3694163</td>\n",
       "      <td>3694195</td>\n",
       "      <td>False</td>\n",
       "    </tr>\n",
       "  </tbody>\n",
       "</table>\n",
       "</div>"
      ],
      "text/plain": [
       "              block    start      end  inversion_conflict\n",
       "0  Block187,Block17   808271   808293               False\n",
       "1  Block501,Block97  2032824  2032851               False\n",
       "2  Block913,Block96  3694163  3694195               False"
      ]
     },
     "execution_count": 104,
     "metadata": {},
     "output_type": "execute_result"
    }
   ],
   "source": [
    "insideblock_region.head()"
   ]
  },
  {
   "cell_type": "code",
   "execution_count": 105,
   "metadata": {},
   "outputs": [
    {
     "name": "stdout",
     "output_type": "stream",
     "text": [
      "1 0 0\n"
     ]
    }
   ],
   "source": [
    "genes = [i for i in inside_regions.values()]\n",
    "overlap_start, overlap, overlap_end = [],[],[]\n",
    "for i in range(len(genes)):\n",
    "    overlap_start.append(len(genes[i][0]))\n",
    "    overlap.append(len(genes[i][1]))\n",
    "    overlap_end.append(len(genes[i][2]))\n",
    "\n",
    "print(sum(overlap_start), sum(overlap), sum(overlap_end))\n",
    "    "
   ]
  },
  {
   "cell_type": "markdown",
   "metadata": {},
   "source": [
    "### With inversion conflict"
   ]
  },
  {
   "cell_type": "code",
   "execution_count": 106,
   "metadata": {},
   "outputs": [],
   "source": [
    "block_region = K12DH_overlaps[K12DH_overlaps['inside_block']==True].reset_index(drop=True)\n",
    "block_region = block_region[block_region['inversion_conflict']==True].reset_index(drop=True)\n",
    "\n",
    "block_region['start'] = block_region['start_y']\n",
    "block_region['end'] = block_region['end_y']\n",
    "block_region['block'] = block_region['Overlapping_blocks']\n",
    "block_region = block_region[['block', 'start', 'end', 'inversion_conflict']]"
   ]
  },
  {
   "cell_type": "code",
   "execution_count": 107,
   "metadata": {
    "scrolled": true
   },
   "outputs": [
    {
     "data": {
      "text/html": [
       "<div>\n",
       "<style scoped>\n",
       "    .dataframe tbody tr th:only-of-type {\n",
       "        vertical-align: middle;\n",
       "    }\n",
       "\n",
       "    .dataframe tbody tr th {\n",
       "        vertical-align: top;\n",
       "    }\n",
       "\n",
       "    .dataframe thead th {\n",
       "        text-align: right;\n",
       "    }\n",
       "</style>\n",
       "<table border=\"1\" class=\"dataframe\">\n",
       "  <thead>\n",
       "    <tr style=\"text-align: right;\">\n",
       "      <th></th>\n",
       "    </tr>\n",
       "  </thead>\n",
       "  <tbody>\n",
       "  </tbody>\n",
       "</table>\n",
       "</div>"
      ],
      "text/plain": [
       "Empty DataFrame\n",
       "Columns: []\n",
       "Index: []"
      ]
     },
     "execution_count": 107,
     "metadata": {},
     "output_type": "execute_result"
    }
   ],
   "source": [
    "block_regions={}\n",
    "for i in range(len(block_region)):\n",
    "    block_regions[block_region['block'][i]] = overlapping_gene3(block_region['start'][i], \n",
    "                                                                      block_region['end'][i], K12DH)\n",
    "pd.DataFrame(block_regions)"
   ]
  },
  {
   "cell_type": "code",
   "execution_count": 108,
   "metadata": {},
   "outputs": [
    {
     "data": {
      "text/html": [
       "<div>\n",
       "<style scoped>\n",
       "    .dataframe tbody tr th:only-of-type {\n",
       "        vertical-align: middle;\n",
       "    }\n",
       "\n",
       "    .dataframe tbody tr th {\n",
       "        vertical-align: top;\n",
       "    }\n",
       "\n",
       "    .dataframe thead th {\n",
       "        text-align: right;\n",
       "    }\n",
       "</style>\n",
       "<table border=\"1\" class=\"dataframe\">\n",
       "  <thead>\n",
       "    <tr style=\"text-align: right;\">\n",
       "      <th></th>\n",
       "      <th>block</th>\n",
       "      <th>start</th>\n",
       "      <th>end</th>\n",
       "      <th>inversion_conflict</th>\n",
       "    </tr>\n",
       "  </thead>\n",
       "  <tbody>\n",
       "  </tbody>\n",
       "</table>\n",
       "</div>"
      ],
      "text/plain": [
       "Empty DataFrame\n",
       "Columns: [block, start, end, inversion_conflict]\n",
       "Index: []"
      ]
     },
     "execution_count": 108,
     "metadata": {},
     "output_type": "execute_result"
    }
   ],
   "source": [
    "block_region.head()"
   ]
  },
  {
   "cell_type": "code",
   "execution_count": 109,
   "metadata": {},
   "outputs": [
    {
     "name": "stdout",
     "output_type": "stream",
     "text": [
      "0 0 0\n"
     ]
    }
   ],
   "source": [
    "genes = [i for i in block_regions.values()]\n",
    "overlap_start, overlap, overlap_end = [],[],[]\n",
    "for i in range(len(genes)):\n",
    "    overlap_start.append(len(genes[i][0]))\n",
    "    overlap.append(len(genes[i][1]))\n",
    "    overlap_end.append(len(genes[i][2]))\n",
    "\n",
    "print(sum(overlap_start), sum(overlap), sum(overlap_end))\n",
    "    "
   ]
  },
  {
   "cell_type": "code",
   "execution_count": null,
   "metadata": {},
   "outputs": [],
   "source": []
  },
  {
   "cell_type": "markdown",
   "metadata": {},
   "source": [
    "### Omitted blocks that are inside another block "
   ]
  },
  {
   "cell_type": "code",
   "execution_count": 110,
   "metadata": {},
   "outputs": [
    {
     "name": "stdout",
     "output_type": "stream",
     "text": [
      "There are 3 inside blocks\n"
     ]
    }
   ],
   "source": [
    "block_ends=[]\n",
    "inside_block=[]\n",
    "for i in range(len(K12DH_block)-1): \n",
    "    block_ends.append(K12DH_block.end[i])\n",
    "    if not(all(K12DH_block.end[i+1] > x for x in block_ends)):\n",
    "           inside_block.append(K12DH_block.block[i+1])\n",
    "\n",
    "print('There are',len(inside_block), 'inside blocks')"
   ]
  },
  {
   "cell_type": "code",
   "execution_count": 111,
   "metadata": {},
   "outputs": [
    {
     "name": "stdout",
     "output_type": "stream",
     "text": [
      "there are 3 inside blocks and 3 are inverted\n"
     ]
    },
    {
     "data": {
      "text/html": [
       "<div>\n",
       "<style scoped>\n",
       "    .dataframe tbody tr th:only-of-type {\n",
       "        vertical-align: middle;\n",
       "    }\n",
       "\n",
       "    .dataframe tbody tr th {\n",
       "        vertical-align: top;\n",
       "    }\n",
       "\n",
       "    .dataframe thead th {\n",
       "        text-align: right;\n",
       "    }\n",
       "</style>\n",
       "<table border=\"1\" class=\"dataframe\">\n",
       "  <thead>\n",
       "    <tr style=\"text-align: right;\">\n",
       "      <th></th>\n",
       "      <th>block</th>\n",
       "      <th>taxa</th>\n",
       "      <th>start</th>\n",
       "      <th>end</th>\n",
       "      <th>rev_comp</th>\n",
       "      <th>inversion</th>\n",
       "      <th>block_order</th>\n",
       "      <th>diff</th>\n",
       "      <th>overlaps</th>\n",
       "    </tr>\n",
       "  </thead>\n",
       "  <tbody>\n",
       "    <tr>\n",
       "      <th>0</th>\n",
       "      <td>Block17</td>\n",
       "      <td>NC_010473</td>\n",
       "      <td>808271</td>\n",
       "      <td>808293</td>\n",
       "      <td>1</td>\n",
       "      <td>1</td>\n",
       "      <td>183</td>\n",
       "      <td>-1951</td>\n",
       "      <td>True</td>\n",
       "    </tr>\n",
       "    <tr>\n",
       "      <th>1</th>\n",
       "      <td>Block97</td>\n",
       "      <td>NC_010473</td>\n",
       "      <td>2032824</td>\n",
       "      <td>2032851</td>\n",
       "      <td>1</td>\n",
       "      <td>1</td>\n",
       "      <td>500</td>\n",
       "      <td>-1849</td>\n",
       "      <td>True</td>\n",
       "    </tr>\n",
       "    <tr>\n",
       "      <th>2</th>\n",
       "      <td>Block96</td>\n",
       "      <td>NC_010473</td>\n",
       "      <td>3694163</td>\n",
       "      <td>3694195</td>\n",
       "      <td>1</td>\n",
       "      <td>1</td>\n",
       "      <td>913</td>\n",
       "      <td>-5316</td>\n",
       "      <td>True</td>\n",
       "    </tr>\n",
       "  </tbody>\n",
       "</table>\n",
       "</div>"
      ],
      "text/plain": [
       "     block       taxa    start      end  rev_comp  inversion  block_order  \\\n",
       "0  Block17  NC_010473   808271   808293         1          1          183   \n",
       "1  Block97  NC_010473  2032824  2032851         1          1          500   \n",
       "2  Block96  NC_010473  3694163  3694195         1          1          913   \n",
       "\n",
       "   diff  overlaps  \n",
       "0 -1951      True  \n",
       "1 -1849      True  \n",
       "2 -5316      True  "
      ]
     },
     "execution_count": 111,
     "metadata": {},
     "output_type": "execute_result"
    }
   ],
   "source": [
    "##View inside block df \n",
    "inside_block_df = pd.merge(K12DH_block, pd.DataFrame({'block':inside_block}), how='right', on='block')\n",
    "inside_block_df.head()\n",
    "print('there are', len(inside_block_df), 'inside blocks and', sum(inside_block_df['inversion']), 'are inverted')\n",
    "K12DH_inside_inverted = inside_block_df[inside_block_df['inversion']==1]\n",
    "K12DH_inside_inverted"
   ]
  },
  {
   "cell_type": "code",
   "execution_count": 112,
   "metadata": {},
   "outputs": [],
   "source": [
    "K12DH_block_final = K12DH_block[~K12DH_block['block'].isin(inside_block)]"
   ]
  },
  {
   "cell_type": "code",
   "execution_count": 113,
   "metadata": {},
   "outputs": [
    {
     "name": "stdout",
     "output_type": "stream",
     "text": [
      "there are 2 overlapping blocks and 0 are inverted\n"
     ]
    }
   ],
   "source": [
    "print('there are', sum(K12DH_block_final['overlaps']), 'overlapping blocks and', \n",
    "                      sum(pd.DataFrame(K12DH_block_final[K12DH_block_final['overlaps']==1])['inversion']), 'are inverted')"
   ]
  },
  {
   "cell_type": "code",
   "execution_count": 114,
   "metadata": {},
   "outputs": [
    {
     "data": {
      "text/html": [
       "<div>\n",
       "<style scoped>\n",
       "    .dataframe tbody tr th:only-of-type {\n",
       "        vertical-align: middle;\n",
       "    }\n",
       "\n",
       "    .dataframe tbody tr th {\n",
       "        vertical-align: top;\n",
       "    }\n",
       "\n",
       "    .dataframe thead th {\n",
       "        text-align: right;\n",
       "    }\n",
       "</style>\n",
       "<table border=\"1\" class=\"dataframe\">\n",
       "  <thead>\n",
       "    <tr style=\"text-align: right;\">\n",
       "      <th></th>\n",
       "      <th>block</th>\n",
       "      <th>taxa</th>\n",
       "      <th>start</th>\n",
       "      <th>end</th>\n",
       "      <th>rev_comp</th>\n",
       "      <th>inversion</th>\n",
       "      <th>block_order</th>\n",
       "      <th>diff</th>\n",
       "      <th>overlaps</th>\n",
       "    </tr>\n",
       "  </thead>\n",
       "  <tbody>\n",
       "    <tr>\n",
       "      <th>55</th>\n",
       "      <td>Block57</td>\n",
       "      <td>NC_010473</td>\n",
       "      <td>198286</td>\n",
       "      <td>201031</td>\n",
       "      <td>0</td>\n",
       "      <td>0</td>\n",
       "      <td>56</td>\n",
       "      <td>-546</td>\n",
       "      <td>True</td>\n",
       "    </tr>\n",
       "    <tr>\n",
       "      <th>1105</th>\n",
       "      <td>Block1106</td>\n",
       "      <td>NC_010473</td>\n",
       "      <td>4570228</td>\n",
       "      <td>4572451</td>\n",
       "      <td>0</td>\n",
       "      <td>0</td>\n",
       "      <td>1106</td>\n",
       "      <td>-13</td>\n",
       "      <td>True</td>\n",
       "    </tr>\n",
       "  </tbody>\n",
       "</table>\n",
       "</div>"
      ],
      "text/plain": [
       "          block       taxa    start      end  rev_comp  inversion  \\\n",
       "55      Block57  NC_010473   198286   201031         0          0   \n",
       "1105  Block1106  NC_010473  4570228  4572451         0          0   \n",
       "\n",
       "      block_order  diff  overlaps  \n",
       "55             56  -546      True  \n",
       "1105         1106   -13      True  "
      ]
     },
     "execution_count": 114,
     "metadata": {},
     "output_type": "execute_result"
    }
   ],
   "source": [
    "K12DH_overlapped = pd.DataFrame(K12DH_block_final[K12DH_block_final['overlaps']==1])\n",
    "K12DH_overlapped"
   ]
  },
  {
   "cell_type": "code",
   "execution_count": null,
   "metadata": {},
   "outputs": [],
   "source": []
  },
  {
   "cell_type": "markdown",
   "metadata": {},
   "source": [
    "## K12 DH Expression data "
   ]
  },
  {
   "cell_type": "code",
   "execution_count": 115,
   "metadata": {},
   "outputs": [],
   "source": [
    "#matching blocks by start\n",
    "K12DH_block_by_start = [match_block_start(i, K12DH_block_final) for i in K12DH.gbk_start]"
   ]
  },
  {
   "cell_type": "code",
   "execution_count": 116,
   "metadata": {},
   "outputs": [],
   "source": [
    "#matching block by end\n",
    "K12DH_block_by_end = [match_block_end(i, K12DH_block_final) for i in K12DH.gbk_end]"
   ]
  },
  {
   "cell_type": "code",
   "execution_count": 117,
   "metadata": {},
   "outputs": [
    {
     "name": "stdout",
     "output_type": "stream",
     "text": [
      "K12DH has 4247 rows and 3058 are single blocks\n"
     ]
    }
   ],
   "source": [
    "#add new columns and make it a new dataframe\n",
    "K12DH_new = K12DH\n",
    "K12DH_new['block_by_start'] = K12DH_block_by_start\n",
    "K12DH_new['block_by_end'] = K12DH_block_by_end\n",
    "\n",
    "#check if the start and end identifies the same block\n",
    "K12DH_new['Single_block'] = K12DH_new['block_by_start'] == K12DH_new['block_by_end']\n",
    "print('K12DH has', len(K12DH_new), 'rows and', sum(K12DH_new.Single_block), 'are single blocks')"
   ]
  },
  {
   "cell_type": "code",
   "execution_count": 118,
   "metadata": {},
   "outputs": [
    {
     "name": "stdout",
     "output_type": "stream",
     "text": [
      "There are 1189 spitted genes\n"
     ]
    }
   ],
   "source": [
    "#non single blocks - check for neighbouring \n",
    "K12DH_non_sb = K12DH_new[K12DH_new.Single_block==False]\n",
    "print('There are',len(K12DH_non_sb), 'spitted genes')\n",
    "\n",
    "#merging by the gene start \n",
    "K12DH_non_sb = pd.merge(K12DH_non_sb, K12DH_block, how='left', left_on='block_by_start', right_on='block')\n",
    "K12DH_non_sb = K12DH_non_sb.drop(['Single_block','block', 'taxa', 'start', 'end', 'rev_comp','inversion','diff'],1)\n",
    "K12DH_non_sb.columns.values[-2] = 'start_order'\n",
    "K12DH_non_sb.columns.values[-1] = 'start_block_overlap'\n",
    "\n",
    "#merging by the gene end \n",
    "K12DH_non_sb = pd.merge(K12DH_non_sb, K12DH_block, how='left', left_on='block_by_end', right_on='block')\n",
    "K12DH_non_sb = K12DH_non_sb.drop(['block', 'taxa', 'start', 'end', 'rev_comp','inversion','diff'],1)\n",
    "K12DH_non_sb.columns.values[-2] = 'end_order'\n",
    "K12DH_non_sb.columns.values[-1] = 'end_block_overlap'"
   ]
  },
  {
   "cell_type": "code",
   "execution_count": 119,
   "metadata": {},
   "outputs": [
    {
     "name": "stdout",
     "output_type": "stream",
     "text": [
      "There are 1189 spitted genes, 1189 are continous.\n",
      "There are 1189 spitted genes, 1094 are neighbouring blocks\n"
     ]
    }
   ],
   "source": [
    "#check continuity, neighbour and overlapping blocks \n",
    "K12DH_non_sb['check_continuity'] = K12DH_non_sb['start_order'] < K12DH_non_sb['end_order']\n",
    "print('There are', len(K12DH_non_sb), 'spitted genes,', sum(K12DH_non_sb['check_continuity']), 'are continous.') \n",
    "K12DH_non_sb['check_neighbour'] = K12DH_non_sb['start_order']+1 == K12DH_non_sb['end_order']\n",
    "print('There are', len(K12DH_non_sb), 'spitted genes,', sum(K12DH_non_sb['check_neighbour']), 'are neighbouring blocks') "
   ]
  },
  {
   "cell_type": "code",
   "execution_count": 120,
   "metadata": {},
   "outputs": [],
   "source": [
    "K12DH_non_sb = pd.merge(K12DH_non_sb, K12DH_block[['block','end']], left_on='block_by_start',\n",
    "                      right_on='block', how='left')\n",
    "K12DH_non_sb = pd.merge(K12DH_non_sb, K12DH_block[['block','start']], left_on='block_by_end',\n",
    "                      right_on='block', how='left')"
   ]
  },
  {
   "cell_type": "code",
   "execution_count": 121,
   "metadata": {},
   "outputs": [
    {
     "data": {
      "text/plain": [
       "count      1189.000000\n",
       "mean      44080.492010\n",
       "std       85125.201727\n",
       "min           1.000000\n",
       "25%         465.000000\n",
       "50%        3493.000000\n",
       "75%       13842.000000\n",
       "max      227782.000000\n",
       "Name: space_between_block, dtype: float64"
      ]
     },
     "execution_count": 121,
     "metadata": {},
     "output_type": "execute_result"
    }
   ],
   "source": [
    "K12DH_non_sb['space_between_block'] = K12DH_non_sb['start'] - K12DH_non_sb['end']\n",
    "K12DH_non_sb['space_between_block'].describe()"
   ]
  },
  {
   "cell_type": "markdown",
   "metadata": {},
   "source": [
    "## single block and merge with block file "
   ]
  },
  {
   "cell_type": "code",
   "execution_count": 122,
   "metadata": {},
   "outputs": [
    {
     "name": "stdout",
     "output_type": "stream",
     "text": [
      "There are 3058 single block genes\n"
     ]
    }
   ],
   "source": [
    "K12DH_sb = K12DH_new[K12DH_new['Single_block']==True]\n",
    "K12DH_sb = pd.merge(K12DH_sb, K12DH_block, how='left', left_on='block_by_start', right_on='block')\n",
    "print('There are', len(K12DH_sb), 'single block genes')"
   ]
  },
  {
   "cell_type": "code",
   "execution_count": 123,
   "metadata": {},
   "outputs": [
    {
     "name": "stdout",
     "output_type": "stream",
     "text": [
      "There are 3058 genes and 6 are in overlapping block\n"
     ]
    }
   ],
   "source": [
    "print('There are', len(K12DH_sb), 'genes and', sum(K12DH_sb['overlaps']), 'are in overlapping block')"
   ]
  },
  {
   "cell_type": "code",
   "execution_count": 124,
   "metadata": {},
   "outputs": [
    {
     "data": {
      "text/plain": [
       "594"
      ]
     },
     "execution_count": 124,
     "metadata": {},
     "output_type": "execute_result"
    }
   ],
   "source": [
    "K12DH_sb['block'].nunique()  "
   ]
  },
  {
   "cell_type": "markdown",
   "metadata": {},
   "source": [
    "  "
   ]
  },
  {
   "cell_type": "markdown",
   "metadata": {},
   "source": [
    "# K12MG expression data "
   ]
  },
  {
   "cell_type": "markdown",
   "metadata": {},
   "source": [
    "### block file - spaces between blocks"
   ]
  },
  {
   "cell_type": "code",
   "execution_count": 125,
   "metadata": {},
   "outputs": [
    {
     "name": "stdout",
     "output_type": "stream",
     "text": [
      "There are 1148 blocks and 2 are overlapping blocks\n"
     ]
    }
   ],
   "source": [
    "##find difference between blocks\n",
    "diff = [0]\n",
    "for i in range(len(K12MG_block.start)-1):\n",
    "    diff.append(K12MG_block.start[i+1] - K12MG_block.end[i])\n",
    "\n",
    "K12MG_block['diff'] = diff\n",
    "K12MG_block['overlaps'] = K12MG_block['diff'] < 0 \n",
    "\n",
    "print('There are', len(K12MG_block), 'blocks and', sum(K12MG_block['overlaps']), 'are overlapping blocks')\n",
    "#this current block is starting inside the last block\n",
    "#K12MG_block[K12MG_block['overlaps']==True] \n",
    "#K12MG_block.loc[15:20]"
   ]
  },
  {
   "cell_type": "code",
   "execution_count": 126,
   "metadata": {},
   "outputs": [
    {
     "name": "stdout",
     "output_type": "stream",
     "text": [
      "there are 2 overlapping blocks and 0 are inverted\n"
     ]
    }
   ],
   "source": [
    "print('there are', sum(K12MG_block['overlaps']), 'overlapping blocks and', \n",
    "                      sum(pd.DataFrame(K12MG_block[K12MG_block['overlaps']==1])['inversion']), 'are inverted')"
   ]
  },
  {
   "cell_type": "code",
   "execution_count": 127,
   "metadata": {},
   "outputs": [
    {
     "data": {
      "text/html": [
       "<div>\n",
       "<style scoped>\n",
       "    .dataframe tbody tr th:only-of-type {\n",
       "        vertical-align: middle;\n",
       "    }\n",
       "\n",
       "    .dataframe tbody tr th {\n",
       "        vertical-align: top;\n",
       "    }\n",
       "\n",
       "    .dataframe thead th {\n",
       "        text-align: right;\n",
       "    }\n",
       "</style>\n",
       "<table border=\"1\" class=\"dataframe\">\n",
       "  <thead>\n",
       "    <tr style=\"text-align: right;\">\n",
       "      <th></th>\n",
       "      <th>block</th>\n",
       "      <th>taxa</th>\n",
       "      <th>start</th>\n",
       "      <th>end</th>\n",
       "      <th>rev_comp</th>\n",
       "      <th>inversion</th>\n",
       "      <th>block_order</th>\n",
       "      <th>diff</th>\n",
       "      <th>overlaps</th>\n",
       "    </tr>\n",
       "  </thead>\n",
       "  <tbody>\n",
       "    <tr>\n",
       "      <th>56</th>\n",
       "      <td>Block57</td>\n",
       "      <td>U00096000</td>\n",
       "      <td>224182</td>\n",
       "      <td>226927</td>\n",
       "      <td>0</td>\n",
       "      <td>0</td>\n",
       "      <td>57</td>\n",
       "      <td>-546</td>\n",
       "      <td>True</td>\n",
       "    </tr>\n",
       "    <tr>\n",
       "      <th>1105</th>\n",
       "      <td>Block1106</td>\n",
       "      <td>U00096000</td>\n",
       "      <td>4470397</td>\n",
       "      <td>4472620</td>\n",
       "      <td>0</td>\n",
       "      <td>0</td>\n",
       "      <td>1106</td>\n",
       "      <td>-13</td>\n",
       "      <td>True</td>\n",
       "    </tr>\n",
       "  </tbody>\n",
       "</table>\n",
       "</div>"
      ],
      "text/plain": [
       "          block       taxa    start      end  rev_comp  inversion  \\\n",
       "56      Block57  U00096000   224182   226927         0          0   \n",
       "1105  Block1106  U00096000  4470397  4472620         0          0   \n",
       "\n",
       "      block_order  diff  overlaps  \n",
       "56             57  -546      True  \n",
       "1105         1106   -13      True  "
      ]
     },
     "execution_count": 127,
     "metadata": {},
     "output_type": "execute_result"
    }
   ],
   "source": [
    "K12MG_overlapped = pd.DataFrame(K12MG_block[K12MG_block['overlaps']==1])\n",
    "K12MG_overlapped"
   ]
  },
  {
   "cell_type": "code",
   "execution_count": 128,
   "metadata": {},
   "outputs": [],
   "source": [
    "# block = ['a','b','c','d']\n",
    "# start = [1,6,10,21]\n",
    "# end = [20,9,12,25]\n",
    "\n",
    "block = K12MG_block['block']\n",
    "start = K12MG_block['start']\n",
    "end = K12MG_block['end']\n",
    "\n",
    "N = len(block)\n",
    "\n",
    "tally =[]\n",
    "for i in range(len(block)):\n",
    "    tally.append((start[i], block[i],\"start\"))\n",
    "    tally.append((end[i], block[i],\"end\"))\n",
    "    \n",
    "tally = sorted(tally, key=lambda x:x[0])\n",
    "\n",
    "groups={}\n",
    "stack={}\n",
    "for entry in tally:\n",
    "    t = entry[0]\n",
    "    name = entry[1]\n",
    "    action = entry[2]\n",
    "    \n",
    "    if action == \"start\":\n",
    "        stack[name]= True\n",
    "        if len(stack)>1:\n",
    "            groups[','.join(stack)] = True\n",
    "    if action == \"end\":\n",
    "        del stack[name]\n",
    "\n",
    "#print(tally)\n",
    "#print(groups)"
   ]
  },
  {
   "cell_type": "code",
   "execution_count": 129,
   "metadata": {},
   "outputs": [
    {
     "name": "stdout",
     "output_type": "stream",
     "text": [
      "there are 1 out of 2 overlaps that have inconsistent inversion\n",
      "0 inconsitencies are inside blocks\n"
     ]
    },
    {
     "data": {
      "text/html": [
       "<div>\n",
       "<style scoped>\n",
       "    .dataframe tbody tr th:only-of-type {\n",
       "        vertical-align: middle;\n",
       "    }\n",
       "\n",
       "    .dataframe tbody tr th {\n",
       "        vertical-align: top;\n",
       "    }\n",
       "\n",
       "    .dataframe thead th {\n",
       "        text-align: right;\n",
       "    }\n",
       "</style>\n",
       "<table border=\"1\" class=\"dataframe\">\n",
       "  <thead>\n",
       "    <tr style=\"text-align: right;\">\n",
       "      <th></th>\n",
       "      <th>Overlapping_blocks</th>\n",
       "      <th>Bigblock</th>\n",
       "      <th>Smallblock1</th>\n",
       "      <th>block_x</th>\n",
       "      <th>start_x</th>\n",
       "      <th>end_x</th>\n",
       "      <th>inversion_x</th>\n",
       "      <th>block_y</th>\n",
       "      <th>start_y</th>\n",
       "      <th>end_y</th>\n",
       "      <th>inversion_y</th>\n",
       "      <th>inversion_conflict</th>\n",
       "      <th>inside_block</th>\n",
       "    </tr>\n",
       "  </thead>\n",
       "  <tbody>\n",
       "    <tr>\n",
       "      <th>0</th>\n",
       "      <td>Block56,Block57</td>\n",
       "      <td>Block56</td>\n",
       "      <td>Block57</td>\n",
       "      <td>Block56</td>\n",
       "      <td>224181</td>\n",
       "      <td>224728</td>\n",
       "      <td>0</td>\n",
       "      <td>Block57</td>\n",
       "      <td>224182</td>\n",
       "      <td>226927</td>\n",
       "      <td>0</td>\n",
       "      <td>False</td>\n",
       "      <td>False</td>\n",
       "    </tr>\n",
       "    <tr>\n",
       "      <th>1</th>\n",
       "      <td>Block1105,Block1106</td>\n",
       "      <td>Block1105</td>\n",
       "      <td>Block1106</td>\n",
       "      <td>Block1105</td>\n",
       "      <td>4470378</td>\n",
       "      <td>4470410</td>\n",
       "      <td>1</td>\n",
       "      <td>Block1106</td>\n",
       "      <td>4470397</td>\n",
       "      <td>4472620</td>\n",
       "      <td>0</td>\n",
       "      <td>True</td>\n",
       "      <td>False</td>\n",
       "    </tr>\n",
       "  </tbody>\n",
       "</table>\n",
       "</div>"
      ],
      "text/plain": [
       "    Overlapping_blocks   Bigblock Smallblock1    block_x  start_x    end_x  \\\n",
       "0      Block56,Block57    Block56     Block57    Block56   224181   224728   \n",
       "1  Block1105,Block1106  Block1105   Block1106  Block1105  4470378  4470410   \n",
       "\n",
       "   inversion_x    block_y  start_y    end_y  inversion_y  inversion_conflict  \\\n",
       "0            0    Block57   224182   226927            0               False   \n",
       "1            1  Block1106  4470397  4472620            0                True   \n",
       "\n",
       "   inside_block  \n",
       "0         False  \n",
       "1         False  "
      ]
     },
     "execution_count": 129,
     "metadata": {},
     "output_type": "execute_result"
    }
   ],
   "source": [
    "K12MG_overlaps = pd.DataFrame({'Overlapping_blocks':[x for x in groups.keys()]})\n",
    "blocks = K12MG_overlaps['Overlapping_blocks'].str.split(',',n=2, expand=True)\n",
    "K12MG_overlaps['Bigblock'] = blocks[0]\n",
    "K12MG_overlaps['Smallblock1'] = blocks[1]\n",
    "K12MG_overlaps = pd.merge(K12MG_overlaps, K12MG_block[['block','start','end','inversion']], left_on='Bigblock',right_on='block', how='left')\n",
    "K12MG_overlaps = pd.merge(K12MG_overlaps, K12MG_block[['block','start','end','inversion']], left_on='Smallblock1',right_on='block', how='left')\n",
    "K12MG_overlaps['inversion_conflict'] = K12MG_overlaps['inversion_x'] != K12MG_overlaps['inversion_y']\n",
    "K12MG_overlaps['inside_block'] = K12MG_overlaps['end_y'] < K12MG_overlaps['end_x']\n",
    "print('there are', sum(K12MG_overlaps['inversion_conflict']), 'out of', len(K12MG_overlaps),'overlaps that have inconsistent inversion')\n",
    "print(sum(K12MG_overlaps[K12MG_overlaps['inversion_conflict']]['inside_block']),'inconsitencies are inside blocks')\n",
    "K12MG_overlaps.head()"
   ]
  },
  {
   "cell_type": "code",
   "execution_count": 130,
   "metadata": {},
   "outputs": [
    {
     "data": {
      "text/html": [
       "<div>\n",
       "<style scoped>\n",
       "    .dataframe tbody tr th:only-of-type {\n",
       "        vertical-align: middle;\n",
       "    }\n",
       "\n",
       "    .dataframe tbody tr th {\n",
       "        vertical-align: top;\n",
       "    }\n",
       "\n",
       "    .dataframe thead th {\n",
       "        text-align: right;\n",
       "    }\n",
       "</style>\n",
       "<table border=\"1\" class=\"dataframe\">\n",
       "  <thead>\n",
       "    <tr style=\"text-align: right;\">\n",
       "      <th></th>\n",
       "      <th>block</th>\n",
       "      <th>start</th>\n",
       "      <th>end</th>\n",
       "      <th>inversion_conflict</th>\n",
       "    </tr>\n",
       "  </thead>\n",
       "  <tbody>\n",
       "    <tr>\n",
       "      <th>0</th>\n",
       "      <td>Block56,Block57</td>\n",
       "      <td>224182</td>\n",
       "      <td>224728</td>\n",
       "      <td>False</td>\n",
       "    </tr>\n",
       "    <tr>\n",
       "      <th>1</th>\n",
       "      <td>Block1105,Block1106</td>\n",
       "      <td>4470397</td>\n",
       "      <td>4470410</td>\n",
       "      <td>True</td>\n",
       "    </tr>\n",
       "  </tbody>\n",
       "</table>\n",
       "</div>"
      ],
      "text/plain": [
       "                 block    start      end  inversion_conflict\n",
       "0      Block56,Block57   224182   224728               False\n",
       "1  Block1105,Block1106  4470397  4470410                True"
      ]
     },
     "execution_count": 130,
     "metadata": {},
     "output_type": "execute_result"
    }
   ],
   "source": [
    "overlapping_region = K12MG_overlaps[K12MG_overlaps['inside_block']==False].reset_index(drop=True)\n",
    "\n",
    "overlapping_region['start'] = overlapping_region['start_y']\n",
    "overlapping_region['end'] = overlapping_region['end_x']\n",
    "overlapping_region['block'] = overlapping_region['Overlapping_blocks']\n",
    "overlapping_region = overlapping_region[['block', 'start', 'end', 'inversion_conflict']]\n",
    "overlapping_region "
   ]
  },
  {
   "cell_type": "code",
   "execution_count": 131,
   "metadata": {},
   "outputs": [
    {
     "data": {
      "text/plain": [
       "{'Block56,Block57': [[], [], []], 'Block1105,Block1106': [[], [], []]}"
      ]
     },
     "execution_count": 131,
     "metadata": {},
     "output_type": "execute_result"
    }
   ],
   "source": [
    "K12MG_regions = {}\n",
    "regions={}\n",
    "for i in range(len(overlapping_region)):\n",
    "    regions[overlapping_region['block'][i]] = overlapping_gene(overlapping_region['start'][i], \n",
    "                                                               overlapping_region['end'][i], K12MG)\n",
    "regions"
   ]
  },
  {
   "cell_type": "code",
   "execution_count": 132,
   "metadata": {},
   "outputs": [
    {
     "data": {
      "text/html": [
       "<div>\n",
       "<style scoped>\n",
       "    .dataframe tbody tr th:only-of-type {\n",
       "        vertical-align: middle;\n",
       "    }\n",
       "\n",
       "    .dataframe tbody tr th {\n",
       "        vertical-align: top;\n",
       "    }\n",
       "\n",
       "    .dataframe thead th {\n",
       "        text-align: right;\n",
       "    }\n",
       "</style>\n",
       "<table border=\"1\" class=\"dataframe\">\n",
       "  <thead>\n",
       "    <tr style=\"text-align: right;\">\n",
       "      <th></th>\n",
       "      <th>Locus_tag</th>\n",
       "      <th>gene_id</th>\n",
       "      <th>gbk_start</th>\n",
       "      <th>gbk_end</th>\n",
       "      <th>gbk_midpoint</th>\n",
       "      <th>gbk_gene_id</th>\n",
       "      <th>gbk_old_locus_tag</th>\n",
       "      <th>gbk_strand</th>\n",
       "      <th>norm_exp</th>\n",
       "    </tr>\n",
       "  </thead>\n",
       "  <tbody>\n",
       "  </tbody>\n",
       "</table>\n",
       "</div>"
      ],
      "text/plain": [
       "Empty DataFrame\n",
       "Columns: [Locus_tag, gene_id, gbk_start, gbk_end, gbk_midpoint, gbk_gene_id, gbk_old_locus_tag, gbk_strand, norm_exp]\n",
       "Index: []"
      ]
     },
     "execution_count": 132,
     "metadata": {},
     "output_type": "execute_result"
    }
   ],
   "source": [
    "K12MG[K12MG['gene_id']=='rrsH']"
   ]
  },
  {
   "cell_type": "markdown",
   "metadata": {},
   "source": [
    "### Omitted blocks that are inside another block "
   ]
  },
  {
   "cell_type": "code",
   "execution_count": 133,
   "metadata": {},
   "outputs": [
    {
     "name": "stdout",
     "output_type": "stream",
     "text": [
      "There are 0 inside blocks\n"
     ]
    }
   ],
   "source": [
    "block_ends=[]\n",
    "inside_block=[]\n",
    "for i in range(len(K12MG_block)-1): \n",
    "    block_ends.append(K12MG_block.end[i])\n",
    "    if not(all(K12MG_block.end[i+1] > x for x in block_ends)):\n",
    "           inside_block.append(K12MG_block.block[i+1])\n",
    "\n",
    "print('There are',len(inside_block), 'inside blocks')"
   ]
  },
  {
   "cell_type": "code",
   "execution_count": 134,
   "metadata": {},
   "outputs": [
    {
     "data": {
      "text/plain": [
       "1148"
      ]
     },
     "execution_count": 134,
     "metadata": {},
     "output_type": "execute_result"
    }
   ],
   "source": [
    "K12MG_block['block'].nunique()"
   ]
  },
  {
   "cell_type": "markdown",
   "metadata": {},
   "source": [
    "## K12MG Expression data"
   ]
  },
  {
   "cell_type": "code",
   "execution_count": 135,
   "metadata": {},
   "outputs": [],
   "source": [
    "#matching blocks by start\n",
    "K12MG_block_by_start = [match_block_start(i, K12MG_block) for i in K12MG.gbk_start]"
   ]
  },
  {
   "cell_type": "code",
   "execution_count": 136,
   "metadata": {},
   "outputs": [],
   "source": [
    "#matching block by end\n",
    "K12MG_block_by_end = [match_block_end(i, K12MG_block) for i in K12MG.gbk_end]"
   ]
  },
  {
   "cell_type": "code",
   "execution_count": 137,
   "metadata": {},
   "outputs": [
    {
     "name": "stdout",
     "output_type": "stream",
     "text": [
      "K12MG has 3891 rows and 2969 are single blocks\n"
     ]
    }
   ],
   "source": [
    "#add new columns and make it a new dataframe\n",
    "K12MG_new = K12MG\n",
    "K12MG_new['block_by_start'] = K12MG_block_by_start\n",
    "K12MG_new['block_by_end'] = K12MG_block_by_end\n",
    "\n",
    "#check if the start and end identifies the same block\n",
    "K12MG_new['Single_block'] = K12MG_new['block_by_start'] == K12MG_new['block_by_end']\n",
    "print('K12MG has', len(K12MG_new), 'rows and', sum(K12MG_new.Single_block), 'are single blocks')"
   ]
  },
  {
   "cell_type": "code",
   "execution_count": 138,
   "metadata": {},
   "outputs": [
    {
     "name": "stdout",
     "output_type": "stream",
     "text": [
      "There are 922 spitted genes\n"
     ]
    }
   ],
   "source": [
    "#non single blocks - check for neighbouring \n",
    "K12MG_non_sb = K12MG_new[K12MG_new.Single_block==False]\n",
    "print('There are',len(K12MG_non_sb), 'spitted genes')\n",
    "\n",
    "#merging by the gene start \n",
    "K12MG_non_sb = pd.merge(K12MG_non_sb, K12MG_block, how='left', left_on='block_by_start', right_on='block')\n",
    "K12MG_non_sb = K12MG_non_sb.drop(['Single_block','block', 'taxa', 'start', 'end', 'rev_comp','inversion','diff'],1)\n",
    "K12MG_non_sb.columns.values[-2] = 'start_order'\n",
    "K12MG_non_sb.columns.values[-1] = 'start_block_overlap'\n",
    "\n",
    "#merging by the gene end \n",
    "K12MG_non_sb = pd.merge(K12MG_non_sb, K12MG_block, how='left', left_on='block_by_end', right_on='block')\n",
    "K12MG_non_sb = K12MG_non_sb.drop(['block', 'taxa', 'start', 'end', 'rev_comp','inversion','diff'],1)\n",
    "K12MG_non_sb.columns.values[-2] = 'end_order'\n",
    "K12MG_non_sb.columns.values[-1] = 'end_block_overlap'"
   ]
  },
  {
   "cell_type": "code",
   "execution_count": 139,
   "metadata": {},
   "outputs": [
    {
     "name": "stdout",
     "output_type": "stream",
     "text": [
      "There are 922 spitted genes, 922 are continous.\n",
      "There are 922 spitted genes, 842 are neighbouring blocks\n"
     ]
    }
   ],
   "source": [
    "#check continuity, neighbour and overlapping blocks \n",
    "K12MG_non_sb['check_continuity'] = K12MG_non_sb['start_order'] < K12MG_non_sb['end_order']\n",
    "print('There are', len(K12MG_non_sb), 'spitted genes,', sum(K12MG_non_sb['check_continuity']), 'are continous.') \n",
    "K12MG_non_sb['check_neighbour'] = K12MG_non_sb['start_order']+1 == K12MG_non_sb['end_order']\n",
    "print('There are', len(K12MG_non_sb), 'spitted genes,', sum(K12MG_non_sb['check_neighbour']), 'are neighbouring blocks') "
   ]
  },
  {
   "cell_type": "code",
   "execution_count": 140,
   "metadata": {},
   "outputs": [],
   "source": [
    "K12MG_non_sb = pd.merge(K12MG_non_sb, K12MG_block[['block','end']], left_on='block_by_start',\n",
    "                      right_on='block', how='left')\n",
    "K12MG_non_sb = pd.merge(K12MG_non_sb, K12MG_block[['block','start']], left_on='block_by_end',\n",
    "                      right_on='block', how='left')"
   ]
  },
  {
   "cell_type": "code",
   "execution_count": 141,
   "metadata": {},
   "outputs": [
    {
     "data": {
      "text/plain": [
       "count       922.000000\n",
       "mean      17646.595445\n",
       "std       35228.601285\n",
       "min           1.000000\n",
       "25%         250.250000\n",
       "50%        2069.000000\n",
       "75%        9745.000000\n",
       "max      114522.000000\n",
       "Name: space_between_block, dtype: float64"
      ]
     },
     "execution_count": 141,
     "metadata": {},
     "output_type": "execute_result"
    }
   ],
   "source": [
    "K12MG_non_sb['space_between_block'] = K12MG_non_sb['start'] - K12MG_non_sb['end']\n",
    "K12MG_non_sb['space_between_block'].describe()"
   ]
  },
  {
   "cell_type": "markdown",
   "metadata": {},
   "source": [
    "## Non neighbouring blocks check"
   ]
  },
  {
   "cell_type": "code",
   "execution_count": 142,
   "metadata": {},
   "outputs": [],
   "source": [
    "all_check = pd.DataFrame(K12MG_non_sb.block_by_start.value_counts())\n",
    "nb_check = pd.DataFrame(K12MG_non_sb[K12MG_non_sb['check_neighbour']==True].block_by_end.value_counts())\n",
    "non_nb_check = pd.DataFrame(K12MG_non_sb[K12MG_non_sb['check_neighbour']==False].block_by_end.value_counts())"
   ]
  },
  {
   "cell_type": "markdown",
   "metadata": {},
   "source": [
    "## single block and merge with block file "
   ]
  },
  {
   "cell_type": "code",
   "execution_count": 143,
   "metadata": {},
   "outputs": [
    {
     "name": "stdout",
     "output_type": "stream",
     "text": [
      "There are 2969 single block genes\n"
     ]
    }
   ],
   "source": [
    "K12MG_sb = K12MG_new[K12MG_new['Single_block']==True]\n",
    "K12MG_sb = pd.merge(K12MG_sb, K12MG_block, how='left', left_on='block_by_start', right_on='block')\n",
    "print('There are', len(K12MG_sb), 'single block genes')"
   ]
  },
  {
   "cell_type": "code",
   "execution_count": 144,
   "metadata": {},
   "outputs": [
    {
     "name": "stdout",
     "output_type": "stream",
     "text": [
      "There are 2969 genes and 4 are in overlapping block\n"
     ]
    }
   ],
   "source": [
    "print('There are', len(K12MG_sb), 'genes and', sum(K12MG_sb['overlaps']), 'are in overlapping block')"
   ]
  },
  {
   "cell_type": "code",
   "execution_count": 145,
   "metadata": {},
   "outputs": [
    {
     "data": {
      "text/plain": [
       "563"
      ]
     },
     "execution_count": 145,
     "metadata": {},
     "output_type": "execute_result"
    }
   ],
   "source": [
    "K12MG_sb['block'].nunique()"
   ]
  },
  {
   "cell_type": "markdown",
   "metadata": {},
   "source": [
    "## Block analysis"
   ]
  },
  {
   "cell_type": "markdown",
   "metadata": {},
   "source": [
    "### length of the block"
   ]
  },
  {
   "cell_type": "code",
   "execution_count": 146,
   "metadata": {},
   "outputs": [
    {
     "data": {
      "text/plain": [
       "count     1088.000000\n",
       "mean      3444.801471\n",
       "std       5002.603361\n",
       "min         21.000000\n",
       "25%         98.000000\n",
       "50%       1307.000000\n",
       "75%       4815.250000\n",
       "max      38568.000000\n",
       "Name: length, dtype: float64"
      ]
     },
     "execution_count": 146,
     "metadata": {},
     "output_type": "execute_result"
    }
   ],
   "source": [
    "ATCC_block_final['length'] = ATCC_block_final['end'] - ATCC_block_final['start']\n",
    "ATCC_block_final['length'].describe()"
   ]
  },
  {
   "cell_type": "code",
   "execution_count": 147,
   "metadata": {},
   "outputs": [
    {
     "data": {
      "text/plain": [
       "count     1145.000000\n",
       "mean      3275.960699\n",
       "std       4932.066595\n",
       "min         21.000000\n",
       "25%         68.000000\n",
       "50%       1084.000000\n",
       "75%       4635.000000\n",
       "max      38569.000000\n",
       "Name: length, dtype: float64"
      ]
     },
     "execution_count": 147,
     "metadata": {},
     "output_type": "execute_result"
    }
   ],
   "source": [
    "BW25113_block_final['length'] = BW25113_block_final['end'] - BW25113_block_final['start']\n",
    "BW25113_block_final['length'].describe()"
   ]
  },
  {
   "cell_type": "code",
   "execution_count": 148,
   "metadata": {},
   "outputs": [
    {
     "data": {
      "text/plain": [
       "count     1145.000000\n",
       "mean      3275.952838\n",
       "std       4932.048535\n",
       "min         21.000000\n",
       "25%         68.000000\n",
       "50%       1084.000000\n",
       "75%       4635.000000\n",
       "max      38569.000000\n",
       "Name: length, dtype: float64"
      ]
     },
     "execution_count": 148,
     "metadata": {},
     "output_type": "execute_result"
    }
   ],
   "source": [
    "K12DH_block_final['length'] = K12DH_block_final['end'] - K12DH_block_final['start']\n",
    "K12DH_block_final['length'].describe()"
   ]
  },
  {
   "cell_type": "code",
   "execution_count": 149,
   "metadata": {},
   "outputs": [
    {
     "data": {
      "text/plain": [
       "count     1148.000000\n",
       "mean      3267.469512\n",
       "std       4928.405578\n",
       "min         21.000000\n",
       "25%         65.750000\n",
       "50%       1071.000000\n",
       "75%       4631.250000\n",
       "max      38569.000000\n",
       "Name: length, dtype: float64"
      ]
     },
     "execution_count": 149,
     "metadata": {},
     "output_type": "execute_result"
    }
   ],
   "source": [
    "K12MG_block['length'] = K12MG_block['end'] - K12MG_block['start']\n",
    "K12MG_block['length'].describe()"
   ]
  },
  {
   "cell_type": "code",
   "execution_count": 150,
   "metadata": {},
   "outputs": [
    {
     "name": "stdout",
     "output_type": "stream",
     "text": [
      "16\n",
      "16\n",
      "1141\n",
      "1145\n"
     ]
    }
   ],
   "source": [
    "test = pd.merge(BW25113_block_final, K12DH_block_final, on='block')\n",
    "print(sum(test['start_x']==test['start_y']))\n",
    "print(sum(test['end_x']==test['end_y']))\n",
    "print(sum(test['rev_comp_x']==test['rev_comp_y']))\n",
    "print(sum(test['inversion_x']==test['inversion_y']))"
   ]
  },
  {
   "cell_type": "code",
   "execution_count": 151,
   "metadata": {},
   "outputs": [
    {
     "name": "stdout",
     "output_type": "stream",
     "text": [
      "16\n",
      "16\n",
      "1138\n",
      "1145\n"
     ]
    }
   ],
   "source": [
    "test2 = pd.merge(K12DH_block_final, K12MG_block, on='block')\n",
    "print(sum(test2['start_x']==test2['start_y']))\n",
    "print(sum(test2['end_x']==test2['end_y']))\n",
    "print(sum(test2['rev_comp_x']==test2['rev_comp_y']))\n",
    "print(sum(test2['inversion_x']==test2['inversion_y']))"
   ]
  },
  {
   "cell_type": "code",
   "execution_count": 152,
   "metadata": {},
   "outputs": [
    {
     "name": "stdout",
     "output_type": "stream",
     "text": [
      "16\n",
      "16\n",
      "1142\n",
      "1145\n"
     ]
    }
   ],
   "source": [
    "test3 = pd.merge(BW25113_block_final, K12MG_block, on='block')\n",
    "print(sum(test3['start_x']==test3['start_y']))\n",
    "print(sum(test3['end_x']==test3['end_y']))\n",
    "print(sum(test3['rev_comp_x']==test3['rev_comp_y']))\n",
    "print(sum(test3['inversion_x']==test3['inversion_y']))"
   ]
  },
  {
   "cell_type": "markdown",
   "metadata": {},
   "source": [
    "### Space between blocks"
   ]
  },
  {
   "cell_type": "code",
   "execution_count": 153,
   "metadata": {},
   "outputs": [
    {
     "data": {
      "text/plain": [
       "count     1088.000000\n",
       "mean      1474.011029\n",
       "std       5076.324827\n",
       "min       -203.000000\n",
       "25%         19.750000\n",
       "50%         66.000000\n",
       "75%        303.250000\n",
       "max      67454.000000\n",
       "Name: diff, dtype: float64"
      ]
     },
     "execution_count": 153,
     "metadata": {},
     "output_type": "execute_result"
    }
   ],
   "source": [
    "ATCC_block_final['diff'].describe()"
   ]
  },
  {
   "cell_type": "code",
   "execution_count": 154,
   "metadata": {},
   "outputs": [
    {
     "data": {
      "text/plain": [
       "count      1145.000000\n",
       "mean        776.874236\n",
       "std        4249.358170\n",
       "min        -546.000000\n",
       "25%          11.000000\n",
       "50%          52.000000\n",
       "75%         230.000000\n",
       "max      114522.000000\n",
       "Name: diff, dtype: float64"
      ]
     },
     "execution_count": 154,
     "metadata": {},
     "output_type": "execute_result"
    }
   ],
   "source": [
    "BW25113_block_final['diff'].describe()"
   ]
  },
  {
   "cell_type": "code",
   "execution_count": 155,
   "metadata": {},
   "outputs": [
    {
     "data": {
      "text/plain": [
       "count      1145.000000\n",
       "mean        824.627074\n",
       "std        6998.438207\n",
       "min        -546.000000\n",
       "25%          11.000000\n",
       "50%          54.000000\n",
       "75%         247.000000\n",
       "max      227782.000000\n",
       "Name: diff, dtype: float64"
      ]
     },
     "execution_count": 155,
     "metadata": {},
     "output_type": "execute_result"
    }
   ],
   "source": [
    "K12DH_block_final['diff'].describe()"
   ]
  },
  {
   "cell_type": "code",
   "execution_count": 156,
   "metadata": {},
   "outputs": [
    {
     "data": {
      "text/plain": [
       "count      1148.000000\n",
       "mean        775.774390\n",
       "std        4213.000846\n",
       "min        -546.000000\n",
       "25%          11.000000\n",
       "50%          53.000000\n",
       "75%         238.750000\n",
       "max      114522.000000\n",
       "Name: diff, dtype: float64"
      ]
     },
     "execution_count": 156,
     "metadata": {},
     "output_type": "execute_result"
    }
   ],
   "source": [
    "K12MG_block['diff'].describe()"
   ]
  },
  {
   "cell_type": "markdown",
   "metadata": {},
   "source": [
    "### Space between blocks (non-overlapping)"
   ]
  },
  {
   "cell_type": "code",
   "execution_count": 157,
   "metadata": {},
   "outputs": [
    {
     "data": {
      "text/plain": [
       "count     1080.000000\n",
       "mean      1485.671296\n",
       "std       5093.288836\n",
       "min          0.000000\n",
       "25%         20.000000\n",
       "50%         67.500000\n",
       "75%        306.250000\n",
       "max      67454.000000\n",
       "Name: diff, dtype: float64"
      ]
     },
     "execution_count": 157,
     "metadata": {},
     "output_type": "execute_result"
    }
   ],
   "source": [
    "pd.DataFrame(ATCC_block_final[ATCC_block_final['overlaps']==0])['diff'].describe()"
   ]
  },
  {
   "cell_type": "code",
   "execution_count": 158,
   "metadata": {},
   "outputs": [
    {
     "data": {
      "text/plain": [
       "count      1143.000000\n",
       "mean        778.722660\n",
       "std        4252.832734\n",
       "min           0.000000\n",
       "25%          11.000000\n",
       "50%          52.000000\n",
       "75%         230.000000\n",
       "max      114522.000000\n",
       "Name: diff, dtype: float64"
      ]
     },
     "execution_count": 158,
     "metadata": {},
     "output_type": "execute_result"
    }
   ],
   "source": [
    "pd.DataFrame(BW25113_block_final[BW25113_block_final['overlaps']==0])['diff'].describe()"
   ]
  },
  {
   "cell_type": "code",
   "execution_count": 159,
   "metadata": {},
   "outputs": [
    {
     "data": {
      "text/plain": [
       "count      1143.000000\n",
       "mean        826.559055\n",
       "std        7004.402207\n",
       "min           0.000000\n",
       "25%          12.000000\n",
       "50%          54.000000\n",
       "75%         248.500000\n",
       "max      227782.000000\n",
       "Name: diff, dtype: float64"
      ]
     },
     "execution_count": 159,
     "metadata": {},
     "output_type": "execute_result"
    }
   ],
   "source": [
    "pd.DataFrame(K12DH_block_final[K12DH_block_final['overlaps']==0])['diff'].describe()"
   ]
  },
  {
   "cell_type": "code",
   "execution_count": 160,
   "metadata": {},
   "outputs": [
    {
     "data": {
      "text/plain": [
       "count      1146.000000\n",
       "mean        777.616056\n",
       "std        4216.432947\n",
       "min           0.000000\n",
       "25%          11.000000\n",
       "50%          53.000000\n",
       "75%         240.250000\n",
       "max      114522.000000\n",
       "Name: diff, dtype: float64"
      ]
     },
     "execution_count": 160,
     "metadata": {},
     "output_type": "execute_result"
    }
   ],
   "source": [
    "pd.DataFrame(K12MG_block[K12MG_block['overlaps']==0])['diff'].describe()"
   ]
  },
  {
   "cell_type": "code",
   "execution_count": null,
   "metadata": {},
   "outputs": [],
   "source": []
  },
  {
   "cell_type": "markdown",
   "metadata": {},
   "source": [
    "## Sample dataframe"
   ]
  },
  {
   "cell_type": "code",
   "execution_count": 161,
   "metadata": {},
   "outputs": [
    {
     "data": {
      "text/plain": [
       "True"
      ]
     },
     "execution_count": 161,
     "metadata": {},
     "output_type": "execute_result"
    }
   ],
   "source": [
    "ATCC_final = ATCC_sb.copy()\n",
    "ATCC_final['locus_tag'] = np.nan\n",
    "ATCC_final.head()\n",
    "\n",
    "BW25113_sb = BW25113_sb.rename(columns={'Locus_tag': 'locus_tag'})\n",
    "\n",
    "BW25113_final = BW25113_sb.copy()\n",
    "BW25113_final['gene_id'] = np.nan\n",
    "BW25113_final.head()\n",
    "\n",
    "K12DH_sb.head()\n",
    "\n",
    "K12MG_sb = K12MG_sb.rename(columns={'Locus_tag': 'locus_tag'})\n",
    "K12MG_sb.head()\n",
    "\n",
    "K12MG_sb.columns\n",
    "\n",
    "K12MG_sb['strain'] = 'K12MG'\n",
    "K12MG_sb = K12MG_sb.drop(['block_by_start','block_by_end', 'Single_block', 'block_order','diff','overlaps'], axis=1)\n",
    "\n",
    "K12DH_sb['strain'] = 'K12DH'\n",
    "K12DH_sb = K12DH_sb.drop(['block_by_start','block_by_end', 'Single_block', 'block_order','diff','overlaps'], axis=1)\n",
    "\n",
    "ATCC_final['strain'] = 'ATCC'\n",
    "ATCC_final = ATCC_final.drop(['block_by_start','block_by_end', 'Single_block', 'block_order','diff','overlaps'], axis=1)\n",
    "\n",
    "BW25113_final['strain'] = 'BW25113'\n",
    "BW25113_final = BW25113_final.drop(['block_by_start','block_by_end', 'Single_block', 'block_order','diff','overlaps'], axis=1)\n",
    "\n",
    "df = pd.concat([K12DH_sb,K12MG_sb,BW25113_final, ATCC_final])\n",
    "\n",
    "len(df) == len(ATCC_final) + len(BW25113_final) + len(K12DH_sb) + len(K12MG_sb)\n",
    "\n",
    "\n",
    "\n"
   ]
  },
  {
   "cell_type": "code",
   "execution_count": 162,
   "metadata": {},
   "outputs": [],
   "source": [
    "df.to_csv('Sample_final_df_1025.csv',index=False)"
   ]
  },
  {
   "cell_type": "code",
   "execution_count": 163,
   "metadata": {},
   "outputs": [
    {
     "data": {
      "text/plain": [
       "12248"
      ]
     },
     "execution_count": 163,
     "metadata": {},
     "output_type": "execute_result"
    }
   ],
   "source": [
    "len(df)"
   ]
  },
  {
   "cell_type": "code",
   "execution_count": 164,
   "metadata": {},
   "outputs": [
    {
     "data": {
      "text/plain": [
       "3040"
      ]
     },
     "execution_count": 164,
     "metadata": {},
     "output_type": "execute_result"
    }
   ],
   "source": [
    "len(BW25113_sb)"
   ]
  },
  {
   "cell_type": "code",
   "execution_count": 165,
   "metadata": {},
   "outputs": [
    {
     "data": {
      "text/plain": [
       "3181"
      ]
     },
     "execution_count": 165,
     "metadata": {},
     "output_type": "execute_result"
    }
   ],
   "source": [
    "len(ATCC_final)"
   ]
  },
  {
   "cell_type": "code",
   "execution_count": 166,
   "metadata": {},
   "outputs": [
    {
     "data": {
      "text/plain": [
       "3058"
      ]
     },
     "execution_count": 166,
     "metadata": {},
     "output_type": "execute_result"
    }
   ],
   "source": [
    "len(K12DH_sb)"
   ]
  },
  {
   "cell_type": "code",
   "execution_count": 167,
   "metadata": {},
   "outputs": [
    {
     "data": {
      "text/plain": [
       "2969"
      ]
     },
     "execution_count": 167,
     "metadata": {},
     "output_type": "execute_result"
    }
   ],
   "source": [
    "len(K12MG_sb)"
   ]
  },
  {
   "cell_type": "code",
   "execution_count": 168,
   "metadata": {},
   "outputs": [
    {
     "data": {
      "text/plain": [
       "4077"
      ]
     },
     "execution_count": 168,
     "metadata": {},
     "output_type": "execute_result"
    }
   ],
   "source": [
    "len(BW25113)"
   ]
  },
  {
   "cell_type": "code",
   "execution_count": null,
   "metadata": {},
   "outputs": [],
   "source": []
  },
  {
   "cell_type": "code",
   "execution_count": null,
   "metadata": {},
   "outputs": [],
   "source": []
  }
 ],
 "metadata": {
  "kernelspec": {
   "display_name": "Python 3",
   "language": "python",
   "name": "python3"
  },
  "language_info": {
   "codemirror_mode": {
    "name": "ipython",
    "version": 3
   },
   "file_extension": ".py",
   "mimetype": "text/x-python",
   "name": "python",
   "nbconvert_exporter": "python",
   "pygments_lexer": "ipython3",
   "version": "3.6.8"
  }
 },
 "nbformat": 4,
 "nbformat_minor": 2
}
