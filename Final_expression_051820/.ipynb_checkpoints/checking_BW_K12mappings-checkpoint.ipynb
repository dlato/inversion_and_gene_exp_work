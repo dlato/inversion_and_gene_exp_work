{
 "cells": [
  {
   "cell_type": "code",
   "execution_count": 1,
   "metadata": {},
   "outputs": [],
   "source": [
    "import os"
   ]
  },
  {
   "cell_type": "code",
   "execution_count": 2,
   "metadata": {},
   "outputs": [
    {
     "name": "stdout",
     "output_type": "stream",
     "text": [
      "/Users/quee/Backup/Final_expression_051820\n"
     ]
    }
   ],
   "source": [
    "print(os.getcwd())"
   ]
  },
  {
   "cell_type": "code",
   "execution_count": 3,
   "metadata": {},
   "outputs": [],
   "source": [
    "#os.cwd()\n",
    "import numpy as np\n",
    "import pandas as pd"
   ]
  },
  {
   "cell_type": "code",
   "execution_count": 4,
   "metadata": {},
   "outputs": [],
   "source": [
    "#load data\n",
    "block = pd.read_table(\"inversion_block_info_all.txt\")\n",
    "ATCC = pd.read_csv(\"Ecoli_ATCC_25922_final_exp.csv\")\n",
    "BW25113 = pd.read_csv(\"Ecoli_BW25113_final_exp.csv\")\n",
    "K12DH = pd.read_csv(\"Ecoli_K12_DH10B_final_exp.csv\")\n",
    "K12MG = pd.read_csv(\"Ecoli_K12_MG1655_final_exp.csv\")"
   ]
  },
  {
   "cell_type": "code",
   "execution_count": 144,
   "metadata": {},
   "outputs": [],
   "source": [
    "#sort block files based on taxa\n",
    "ATCC_block = block[block.taxa=='NZ_CP009072'].sort_values(by='start').reset_index(drop=True)\n",
    "BW25113_block = block[block.taxa=='NZ_CP009273'].sort_values(by='start').reset_index(drop=True)\n",
    "K12DH_block = block[block.taxa=='NC_010473'].sort_values(by='start').reset_index(drop=True)\n",
    "K12MG_block = block[block.taxa=='U00096'].sort_values(by='start').reset_index(drop=True)"
   ]
  },
  {
   "cell_type": "code",
   "execution_count": 6,
   "metadata": {},
   "outputs": [],
   "source": [
    "#function to match by start\n",
    "def match_block_start(gene_start, block_file): \n",
    "    block_file = block_file.sort_values(by='start').reset_index(drop=True)\n",
    "    starts =[]\n",
    "    for i in block_file.start:\n",
    "        if i < gene_start: \n",
    "            starts.append(i)\n",
    "    return(block_file.block[np.argmax(starts)])"
   ]
  },
  {
   "cell_type": "code",
   "execution_count": 7,
   "metadata": {},
   "outputs": [],
   "source": [
    "#function to match by gene end \n",
    "def match_block_end(gene_end, block_file):\n",
    "    block_file = block_file.sort_values(by='start', ascending=False).reset_index(drop=True)\n",
    "    ends =[]\n",
    "    for j in block_file.end:\n",
    "        if j > gene_end: \n",
    "            ends.append(j)\n",
    "    return(block_file.block[np.argmin(ends)])"
   ]
  },
  {
   "cell_type": "markdown",
   "metadata": {},
   "source": [
    "### BW map to K12 \n",
    "#### check difference between gen_info "
   ]
  },
  {
   "cell_type": "markdown",
   "metadata": {},
   "source": [
    "## files to check neighbouring blocks"
   ]
  },
  {
   "cell_type": "code",
   "execution_count": 8,
   "metadata": {},
   "outputs": [],
   "source": [
    "ATCC_block['block_order'] = np.arange(1,len(ATCC_block)+1,1)\n",
    "BW25113_block['block_order'] = np.arange(1,len(BW25113_block)+1,1)\n",
    "K12DH_block['block_order'] = np.arange(1,len(K12DH_block)+1,1)\n",
    "K12MG_block['block_order'] = np.arange(1,len(K12MG_block)+1,1)"
   ]
  },
  {
   "cell_type": "markdown",
   "metadata": {},
   "source": [
    " ## is there space between blocks \n",
    " ## same blocks that are usually spitted up genes \n",
    " ## compare K12 and BW "
   ]
  },
  {
   "cell_type": "markdown",
   "metadata": {},
   "source": [
    "# ATCC"
   ]
  },
  {
   "cell_type": "markdown",
   "metadata": {},
   "source": [
    "### block file - spaces between blocks"
   ]
  },
  {
   "cell_type": "code",
   "execution_count": 112,
   "metadata": {},
   "outputs": [
    {
     "data": {
      "text/html": [
       "<div>\n",
       "<style scoped>\n",
       "    .dataframe tbody tr th:only-of-type {\n",
       "        vertical-align: middle;\n",
       "    }\n",
       "\n",
       "    .dataframe tbody tr th {\n",
       "        vertical-align: top;\n",
       "    }\n",
       "\n",
       "    .dataframe thead th {\n",
       "        text-align: right;\n",
       "    }\n",
       "</style>\n",
       "<table border=\"1\" class=\"dataframe\">\n",
       "  <thead>\n",
       "    <tr style=\"text-align: right;\">\n",
       "      <th></th>\n",
       "      <th>block</th>\n",
       "      <th>taxa</th>\n",
       "      <th>start</th>\n",
       "      <th>end</th>\n",
       "      <th>rev_comp</th>\n",
       "      <th>inversion</th>\n",
       "      <th>block_order</th>\n",
       "      <th>diff</th>\n",
       "      <th>overlaps</th>\n",
       "    </tr>\n",
       "  </thead>\n",
       "  <tbody>\n",
       "    <tr>\n",
       "      <th>0</th>\n",
       "      <td>Block611</td>\n",
       "      <td>NZ_CP009072</td>\n",
       "      <td>0</td>\n",
       "      <td>19237</td>\n",
       "      <td>0</td>\n",
       "      <td>0</td>\n",
       "      <td>1</td>\n",
       "      <td>0</td>\n",
       "      <td>False</td>\n",
       "    </tr>\n",
       "    <tr>\n",
       "      <th>1</th>\n",
       "      <td>Block612</td>\n",
       "      <td>NZ_CP009072</td>\n",
       "      <td>19639</td>\n",
       "      <td>25321</td>\n",
       "      <td>0</td>\n",
       "      <td>0</td>\n",
       "      <td>2</td>\n",
       "      <td>402</td>\n",
       "      <td>False</td>\n",
       "    </tr>\n",
       "    <tr>\n",
       "      <th>2</th>\n",
       "      <td>Block613</td>\n",
       "      <td>NZ_CP009072</td>\n",
       "      <td>25328</td>\n",
       "      <td>25469</td>\n",
       "      <td>0</td>\n",
       "      <td>0</td>\n",
       "      <td>3</td>\n",
       "      <td>7</td>\n",
       "      <td>False</td>\n",
       "    </tr>\n",
       "    <tr>\n",
       "      <th>3</th>\n",
       "      <td>Block614</td>\n",
       "      <td>NZ_CP009072</td>\n",
       "      <td>25805</td>\n",
       "      <td>30879</td>\n",
       "      <td>0</td>\n",
       "      <td>0</td>\n",
       "      <td>4</td>\n",
       "      <td>336</td>\n",
       "      <td>False</td>\n",
       "    </tr>\n",
       "    <tr>\n",
       "      <th>4</th>\n",
       "      <td>Block615</td>\n",
       "      <td>NZ_CP009072</td>\n",
       "      <td>30896</td>\n",
       "      <td>41163</td>\n",
       "      <td>0</td>\n",
       "      <td>0</td>\n",
       "      <td>5</td>\n",
       "      <td>17</td>\n",
       "      <td>False</td>\n",
       "    </tr>\n",
       "  </tbody>\n",
       "</table>\n",
       "</div>"
      ],
      "text/plain": [
       "      block         taxa  start    end  rev_comp  inversion  block_order  \\\n",
       "0  Block611  NZ_CP009072      0  19237         0          0            1   \n",
       "1  Block612  NZ_CP009072  19639  25321         0          0            2   \n",
       "2  Block613  NZ_CP009072  25328  25469         0          0            3   \n",
       "3  Block614  NZ_CP009072  25805  30879         0          0            4   \n",
       "4  Block615  NZ_CP009072  30896  41163         0          0            5   \n",
       "\n",
       "   diff  overlaps  \n",
       "0     0     False  \n",
       "1   402     False  \n",
       "2     7     False  \n",
       "3   336     False  \n",
       "4    17     False  "
      ]
     },
     "execution_count": 112,
     "metadata": {},
     "output_type": "execute_result"
    }
   ],
   "source": [
    "ATCC_block.head()"
   ]
  },
  {
   "cell_type": "code",
   "execution_count": 102,
   "metadata": {},
   "outputs": [],
   "source": [
    "diff = [0]"
   ]
  },
  {
   "cell_type": "code",
   "execution_count": 103,
   "metadata": {},
   "outputs": [],
   "source": [
    "for i in range(len(ATCC_block.start)-1):\n",
    "    diff.append(ATCC_block.start[i+1] - ATCC_block.end[i])"
   ]
  },
  {
   "cell_type": "code",
   "execution_count": 107,
   "metadata": {},
   "outputs": [],
   "source": [
    "ATCC_block['diff'] = diff"
   ]
  },
  {
   "cell_type": "code",
   "execution_count": 111,
   "metadata": {},
   "outputs": [],
   "source": [
    "ATCC_block['overlaps'] = ATCC_block['diff'] < 0 "
   ]
  },
  {
   "cell_type": "code",
   "execution_count": 116,
   "metadata": {},
   "outputs": [
    {
     "data": {
      "text/html": [
       "<div>\n",
       "<style scoped>\n",
       "    .dataframe tbody tr th:only-of-type {\n",
       "        vertical-align: middle;\n",
       "    }\n",
       "\n",
       "    .dataframe tbody tr th {\n",
       "        vertical-align: top;\n",
       "    }\n",
       "\n",
       "    .dataframe thead th {\n",
       "        text-align: right;\n",
       "    }\n",
       "</style>\n",
       "<table border=\"1\" class=\"dataframe\">\n",
       "  <thead>\n",
       "    <tr style=\"text-align: right;\">\n",
       "      <th></th>\n",
       "      <th>block</th>\n",
       "      <th>taxa</th>\n",
       "      <th>start</th>\n",
       "      <th>end</th>\n",
       "      <th>rev_comp</th>\n",
       "      <th>inversion</th>\n",
       "      <th>block_order</th>\n",
       "      <th>diff</th>\n",
       "      <th>overlaps</th>\n",
       "    </tr>\n",
       "  </thead>\n",
       "  <tbody>\n",
       "    <tr>\n",
       "      <th>15</th>\n",
       "      <td>Block625</td>\n",
       "      <td>NZ_CP009072</td>\n",
       "      <td>76379</td>\n",
       "      <td>76482</td>\n",
       "      <td>0</td>\n",
       "      <td>0</td>\n",
       "      <td>16</td>\n",
       "      <td>-22202</td>\n",
       "      <td>True</td>\n",
       "    </tr>\n",
       "    <tr>\n",
       "      <th>61</th>\n",
       "      <td>Block65</td>\n",
       "      <td>NZ_CP009072</td>\n",
       "      <td>335018</td>\n",
       "      <td>335048</td>\n",
       "      <td>0</td>\n",
       "      <td>0</td>\n",
       "      <td>62</td>\n",
       "      <td>-68</td>\n",
       "      <td>True</td>\n",
       "    </tr>\n",
       "    <tr>\n",
       "      <th>86</th>\n",
       "      <td>Block710</td>\n",
       "      <td>NZ_CP009072</td>\n",
       "      <td>463359</td>\n",
       "      <td>464582</td>\n",
       "      <td>0</td>\n",
       "      <td>0</td>\n",
       "      <td>87</td>\n",
       "      <td>-89</td>\n",
       "      <td>True</td>\n",
       "    </tr>\n",
       "    <tr>\n",
       "      <th>95</th>\n",
       "      <td>Block723</td>\n",
       "      <td>NZ_CP009072</td>\n",
       "      <td>518405</td>\n",
       "      <td>529887</td>\n",
       "      <td>0</td>\n",
       "      <td>0</td>\n",
       "      <td>96</td>\n",
       "      <td>-15</td>\n",
       "      <td>True</td>\n",
       "    </tr>\n",
       "    <tr>\n",
       "      <th>147</th>\n",
       "      <td>Block1037</td>\n",
       "      <td>NZ_CP009072</td>\n",
       "      <td>2146364</td>\n",
       "      <td>2150588</td>\n",
       "      <td>0</td>\n",
       "      <td>0</td>\n",
       "      <td>148</td>\n",
       "      <td>-33</td>\n",
       "      <td>True</td>\n",
       "    </tr>\n",
       "    <tr>\n",
       "      <th>155</th>\n",
       "      <td>Block56</td>\n",
       "      <td>NZ_CP009072</td>\n",
       "      <td>2181931</td>\n",
       "      <td>2182478</td>\n",
       "      <td>0</td>\n",
       "      <td>0</td>\n",
       "      <td>156</td>\n",
       "      <td>-2653</td>\n",
       "      <td>True</td>\n",
       "    </tr>\n",
       "    <tr>\n",
       "      <th>186</th>\n",
       "      <td>Block21</td>\n",
       "      <td>NZ_CP009072</td>\n",
       "      <td>2291613</td>\n",
       "      <td>2291650</td>\n",
       "      <td>0</td>\n",
       "      <td>0</td>\n",
       "      <td>187</td>\n",
       "      <td>-172</td>\n",
       "      <td>True</td>\n",
       "    </tr>\n",
       "    <tr>\n",
       "      <th>187</th>\n",
       "      <td>Block1072</td>\n",
       "      <td>NZ_CP009072</td>\n",
       "      <td>2291628</td>\n",
       "      <td>2291672</td>\n",
       "      <td>0</td>\n",
       "      <td>0</td>\n",
       "      <td>188</td>\n",
       "      <td>-22</td>\n",
       "      <td>True</td>\n",
       "    </tr>\n",
       "    <tr>\n",
       "      <th>228</th>\n",
       "      <td>Block78</td>\n",
       "      <td>NZ_CP009072</td>\n",
       "      <td>2509523</td>\n",
       "      <td>2509557</td>\n",
       "      <td>0</td>\n",
       "      <td>0</td>\n",
       "      <td>229</td>\n",
       "      <td>-1231</td>\n",
       "      <td>True</td>\n",
       "    </tr>\n",
       "    <tr>\n",
       "      <th>230</th>\n",
       "      <td>Block1127</td>\n",
       "      <td>NZ_CP009072</td>\n",
       "      <td>2511196</td>\n",
       "      <td>2521120</td>\n",
       "      <td>0</td>\n",
       "      <td>0</td>\n",
       "      <td>231</td>\n",
       "      <td>-158</td>\n",
       "      <td>True</td>\n",
       "    </tr>\n",
       "    <tr>\n",
       "      <th>231</th>\n",
       "      <td>Block267</td>\n",
       "      <td>NZ_CP009072</td>\n",
       "      <td>2520456</td>\n",
       "      <td>2520508</td>\n",
       "      <td>0</td>\n",
       "      <td>0</td>\n",
       "      <td>232</td>\n",
       "      <td>-664</td>\n",
       "      <td>True</td>\n",
       "    </tr>\n",
       "    <tr>\n",
       "      <th>291</th>\n",
       "      <td>Block28</td>\n",
       "      <td>NZ_CP009072</td>\n",
       "      <td>2811080</td>\n",
       "      <td>2811750</td>\n",
       "      <td>0</td>\n",
       "      <td>0</td>\n",
       "      <td>292</td>\n",
       "      <td>-53</td>\n",
       "      <td>True</td>\n",
       "    </tr>\n",
       "    <tr>\n",
       "      <th>412</th>\n",
       "      <td>Block584</td>\n",
       "      <td>NZ_CP009072</td>\n",
       "      <td>5067796</td>\n",
       "      <td>5067848</td>\n",
       "      <td>0</td>\n",
       "      <td>0</td>\n",
       "      <td>413</td>\n",
       "      <td>-91</td>\n",
       "      <td>True</td>\n",
       "    </tr>\n",
       "    <tr>\n",
       "      <th>426</th>\n",
       "      <td>Block599</td>\n",
       "      <td>NZ_CP009072</td>\n",
       "      <td>5101968</td>\n",
       "      <td>5101997</td>\n",
       "      <td>0</td>\n",
       "      <td>0</td>\n",
       "      <td>427</td>\n",
       "      <td>-327</td>\n",
       "      <td>True</td>\n",
       "    </tr>\n",
       "  </tbody>\n",
       "</table>\n",
       "</div>"
      ],
      "text/plain": [
       "         block         taxa    start      end  rev_comp  inversion  \\\n",
       "15    Block625  NZ_CP009072    76379    76482         0          0   \n",
       "61     Block65  NZ_CP009072   335018   335048         0          0   \n",
       "86    Block710  NZ_CP009072   463359   464582         0          0   \n",
       "95    Block723  NZ_CP009072   518405   529887         0          0   \n",
       "147  Block1037  NZ_CP009072  2146364  2150588         0          0   \n",
       "155    Block56  NZ_CP009072  2181931  2182478         0          0   \n",
       "186    Block21  NZ_CP009072  2291613  2291650         0          0   \n",
       "187  Block1072  NZ_CP009072  2291628  2291672         0          0   \n",
       "228    Block78  NZ_CP009072  2509523  2509557         0          0   \n",
       "230  Block1127  NZ_CP009072  2511196  2521120         0          0   \n",
       "231   Block267  NZ_CP009072  2520456  2520508         0          0   \n",
       "291    Block28  NZ_CP009072  2811080  2811750         0          0   \n",
       "412   Block584  NZ_CP009072  5067796  5067848         0          0   \n",
       "426   Block599  NZ_CP009072  5101968  5101997         0          0   \n",
       "\n",
       "     block_order   diff  overlaps  \n",
       "15            16 -22202      True  \n",
       "61            62    -68      True  \n",
       "86            87    -89      True  \n",
       "95            96    -15      True  \n",
       "147          148    -33      True  \n",
       "155          156  -2653      True  \n",
       "186          187   -172      True  \n",
       "187          188    -22      True  \n",
       "228          229  -1231      True  \n",
       "230          231   -158      True  \n",
       "231          232   -664      True  \n",
       "291          292    -53      True  \n",
       "412          413    -91      True  \n",
       "426          427   -327      True  "
      ]
     },
     "execution_count": 116,
     "metadata": {},
     "output_type": "execute_result"
    }
   ],
   "source": [
    "ATCC_block[ATCC_block['overlaps']==True]"
   ]
  },
  {
   "cell_type": "code",
   "execution_count": 120,
   "metadata": {},
   "outputs": [
    {
     "data": {
      "text/html": [
       "<div>\n",
       "<style scoped>\n",
       "    .dataframe tbody tr th:only-of-type {\n",
       "        vertical-align: middle;\n",
       "    }\n",
       "\n",
       "    .dataframe tbody tr th {\n",
       "        vertical-align: top;\n",
       "    }\n",
       "\n",
       "    .dataframe thead th {\n",
       "        text-align: right;\n",
       "    }\n",
       "</style>\n",
       "<table border=\"1\" class=\"dataframe\">\n",
       "  <thead>\n",
       "    <tr style=\"text-align: right;\">\n",
       "      <th></th>\n",
       "      <th>block</th>\n",
       "      <th>taxa</th>\n",
       "      <th>start</th>\n",
       "      <th>end</th>\n",
       "      <th>rev_comp</th>\n",
       "      <th>inversion</th>\n",
       "      <th>block_order</th>\n",
       "      <th>diff</th>\n",
       "      <th>overlaps</th>\n",
       "    </tr>\n",
       "  </thead>\n",
       "  <tbody>\n",
       "    <tr>\n",
       "      <th>14</th>\n",
       "      <td>Block627</td>\n",
       "      <td>NZ_CP009072</td>\n",
       "      <td>74379</td>\n",
       "      <td>98581</td>\n",
       "      <td>0</td>\n",
       "      <td>0</td>\n",
       "      <td>15</td>\n",
       "      <td>79</td>\n",
       "      <td>False</td>\n",
       "    </tr>\n",
       "    <tr>\n",
       "      <th>15</th>\n",
       "      <td>Block625</td>\n",
       "      <td>NZ_CP009072</td>\n",
       "      <td>76379</td>\n",
       "      <td>76482</td>\n",
       "      <td>0</td>\n",
       "      <td>0</td>\n",
       "      <td>16</td>\n",
       "      <td>-22202</td>\n",
       "      <td>True</td>\n",
       "    </tr>\n",
       "  </tbody>\n",
       "</table>\n",
       "</div>"
      ],
      "text/plain": [
       "       block         taxa  start    end  rev_comp  inversion  block_order  \\\n",
       "14  Block627  NZ_CP009072  74379  98581         0          0           15   \n",
       "15  Block625  NZ_CP009072  76379  76482         0          0           16   \n",
       "\n",
       "     diff  overlaps  \n",
       "14     79     False  \n",
       "15 -22202      True  "
      ]
     },
     "execution_count": 120,
     "metadata": {},
     "output_type": "execute_result"
    }
   ],
   "source": [
    "ATCC_block.loc[14:15]"
   ]
  },
  {
   "cell_type": "markdown",
   "metadata": {},
   "source": [
    "## ATCC expression data "
   ]
  },
  {
   "cell_type": "code",
   "execution_count": 121,
   "metadata": {},
   "outputs": [],
   "source": [
    "ATCC_block_by_start = [match_block_start(i, ATCC_block) for i in ATCC.gbk_start]"
   ]
  },
  {
   "cell_type": "code",
   "execution_count": 122,
   "metadata": {},
   "outputs": [
    {
     "ename": "AttributeError",
     "evalue": "'int' object has no attribute 'replace'",
     "output_type": "error",
     "traceback": [
      "\u001b[0;31m---------------------------------------------------------------------------\u001b[0m",
      "\u001b[0;31mAttributeError\u001b[0m                            Traceback (most recent call last)",
      "\u001b[0;32m<ipython-input-122-f070a2e87c46>\u001b[0m in \u001b[0;36m<module>\u001b[0;34m()\u001b[0m\n\u001b[1;32m      1\u001b[0m \u001b[0;31m#manual adjustments, e.g 551, 1630\u001b[0m\u001b[0;34m\u001b[0m\u001b[0;34m\u001b[0m\u001b[0;34m\u001b[0m\u001b[0m\n\u001b[0;32m----> 2\u001b[0;31m \u001b[0mATCC\u001b[0m\u001b[0;34m.\u001b[0m\u001b[0mgbk_end\u001b[0m \u001b[0;34m=\u001b[0m \u001b[0;34m[\u001b[0m\u001b[0mi\u001b[0m\u001b[0;34m.\u001b[0m\u001b[0mreplace\u001b[0m\u001b[0;34m(\u001b[0m\u001b[0;34m'>'\u001b[0m\u001b[0;34m,\u001b[0m\u001b[0;34m''\u001b[0m\u001b[0;34m)\u001b[0m \u001b[0;32mfor\u001b[0m \u001b[0mi\u001b[0m \u001b[0;32min\u001b[0m \u001b[0mATCC\u001b[0m\u001b[0;34m.\u001b[0m\u001b[0mgbk_end\u001b[0m\u001b[0;34m]\u001b[0m\u001b[0;34m\u001b[0m\u001b[0;34m\u001b[0m\u001b[0m\n\u001b[0m",
      "\u001b[0;32m<ipython-input-122-f070a2e87c46>\u001b[0m in \u001b[0;36m<listcomp>\u001b[0;34m(.0)\u001b[0m\n\u001b[1;32m      1\u001b[0m \u001b[0;31m#manual adjustments, e.g 551, 1630\u001b[0m\u001b[0;34m\u001b[0m\u001b[0;34m\u001b[0m\u001b[0;34m\u001b[0m\u001b[0m\n\u001b[0;32m----> 2\u001b[0;31m \u001b[0mATCC\u001b[0m\u001b[0;34m.\u001b[0m\u001b[0mgbk_end\u001b[0m \u001b[0;34m=\u001b[0m \u001b[0;34m[\u001b[0m\u001b[0mi\u001b[0m\u001b[0;34m.\u001b[0m\u001b[0mreplace\u001b[0m\u001b[0;34m(\u001b[0m\u001b[0;34m'>'\u001b[0m\u001b[0;34m,\u001b[0m\u001b[0;34m''\u001b[0m\u001b[0;34m)\u001b[0m \u001b[0;32mfor\u001b[0m \u001b[0mi\u001b[0m \u001b[0;32min\u001b[0m \u001b[0mATCC\u001b[0m\u001b[0;34m.\u001b[0m\u001b[0mgbk_end\u001b[0m\u001b[0;34m]\u001b[0m\u001b[0;34m\u001b[0m\u001b[0;34m\u001b[0m\u001b[0m\n\u001b[0m",
      "\u001b[0;31mAttributeError\u001b[0m: 'int' object has no attribute 'replace'"
     ]
    }
   ],
   "source": [
    "#manual adjustments, e.g 551, 1630 \n",
    "ATCC.gbk_end = [i.replace('>','') for i in ATCC.gbk_end]"
   ]
  },
  {
   "cell_type": "code",
   "execution_count": 128,
   "metadata": {},
   "outputs": [],
   "source": [
    "ATCC['gbk_end'] = pd.to_numeric(ATCC['gbk_end'])\n",
    "ATCC_block_by_end = [match_block_end(i, ATCC_block) for i in ATCC.gbk_end]"
   ]
  },
  {
   "cell_type": "code",
   "execution_count": 138,
   "metadata": {},
   "outputs": [],
   "source": [
    "ATCC_new = ATCC\n",
    "ATCC_new['block_by_start'] = ATCC_block_by_start\n",
    "ATCC_new['block_by_end'] = ATCC_block_by_end"
   ]
  },
  {
   "cell_type": "code",
   "execution_count": 139,
   "metadata": {},
   "outputs": [],
   "source": [
    "ATCC_new['Single_block'] = ATCC_new['block_by_start'] == ATCC_new['block_by_end']"
   ]
  },
  {
   "cell_type": "code",
   "execution_count": 145,
   "metadata": {},
   "outputs": [
    {
     "name": "stdout",
     "output_type": "stream",
     "text": [
      "4825 941\n"
     ]
    }
   ],
   "source": [
    "print(len(ATCC_new), sum(ATCC_new.Single_block))"
   ]
  },
  {
   "cell_type": "code",
   "execution_count": 146,
   "metadata": {},
   "outputs": [
    {
     "data": {
      "text/html": [
       "<div>\n",
       "<style scoped>\n",
       "    .dataframe tbody tr th:only-of-type {\n",
       "        vertical-align: middle;\n",
       "    }\n",
       "\n",
       "    .dataframe tbody tr th {\n",
       "        vertical-align: top;\n",
       "    }\n",
       "\n",
       "    .dataframe thead th {\n",
       "        text-align: right;\n",
       "    }\n",
       "</style>\n",
       "<table border=\"1\" class=\"dataframe\">\n",
       "  <thead>\n",
       "    <tr style=\"text-align: right;\">\n",
       "      <th></th>\n",
       "      <th>gene_id</th>\n",
       "      <th>gbk_start</th>\n",
       "      <th>gbk_end</th>\n",
       "      <th>gbk_midpoint</th>\n",
       "      <th>gbk_gene_id</th>\n",
       "      <th>gbk_old_locus_tag</th>\n",
       "      <th>norm_exp</th>\n",
       "      <th>block_by_start</th>\n",
       "      <th>block_by_end</th>\n",
       "      <th>Single_block</th>\n",
       "    </tr>\n",
       "  </thead>\n",
       "  <tbody>\n",
       "    <tr>\n",
       "      <th>0</th>\n",
       "      <td>DR76_RS00005</td>\n",
       "      <td>1</td>\n",
       "      <td>1278</td>\n",
       "      <td>639</td>\n",
       "      <td>NaN</td>\n",
       "      <td>DR76_1</td>\n",
       "      <td>6.407149</td>\n",
       "      <td>Block611</td>\n",
       "      <td>Block611</td>\n",
       "      <td>True</td>\n",
       "    </tr>\n",
       "    <tr>\n",
       "      <th>1</th>\n",
       "      <td>DR76_RS00010</td>\n",
       "      <td>1275</td>\n",
       "      <td>2279</td>\n",
       "      <td>1777</td>\n",
       "      <td>NaN</td>\n",
       "      <td>DR76_2</td>\n",
       "      <td>9.374275</td>\n",
       "      <td>Block611</td>\n",
       "      <td>Block611</td>\n",
       "      <td>True</td>\n",
       "    </tr>\n",
       "    <tr>\n",
       "      <th>2</th>\n",
       "      <td>DR76_RS00015</td>\n",
       "      <td>2276</td>\n",
       "      <td>3241</td>\n",
       "      <td>2758</td>\n",
       "      <td>NaN</td>\n",
       "      <td>DR76_4</td>\n",
       "      <td>12.994059</td>\n",
       "      <td>Block611</td>\n",
       "      <td>Block611</td>\n",
       "      <td>True</td>\n",
       "    </tr>\n",
       "    <tr>\n",
       "      <th>3</th>\n",
       "      <td>DR76_RS00020</td>\n",
       "      <td>3215</td>\n",
       "      <td>3961</td>\n",
       "      <td>3588</td>\n",
       "      <td>NaN</td>\n",
       "      <td>DR76_3</td>\n",
       "      <td>36.333188</td>\n",
       "      <td>Block611</td>\n",
       "      <td>Block611</td>\n",
       "      <td>True</td>\n",
       "    </tr>\n",
       "    <tr>\n",
       "      <th>4</th>\n",
       "      <td>DR76_RS00025</td>\n",
       "      <td>4013</td>\n",
       "      <td>4831</td>\n",
       "      <td>4422</td>\n",
       "      <td>NaN</td>\n",
       "      <td>DR76_5</td>\n",
       "      <td>8.955027</td>\n",
       "      <td>Block611</td>\n",
       "      <td>Block611</td>\n",
       "      <td>True</td>\n",
       "    </tr>\n",
       "  </tbody>\n",
       "</table>\n",
       "</div>"
      ],
      "text/plain": [
       "        gene_id  gbk_start  gbk_end  gbk_midpoint gbk_gene_id  \\\n",
       "0  DR76_RS00005          1     1278           639         NaN   \n",
       "1  DR76_RS00010       1275     2279          1777         NaN   \n",
       "2  DR76_RS00015       2276     3241          2758         NaN   \n",
       "3  DR76_RS00020       3215     3961          3588         NaN   \n",
       "4  DR76_RS00025       4013     4831          4422         NaN   \n",
       "\n",
       "  gbk_old_locus_tag   norm_exp block_by_start block_by_end  Single_block  \n",
       "0            DR76_1   6.407149       Block611     Block611          True  \n",
       "1            DR76_2   9.374275       Block611     Block611          True  \n",
       "2            DR76_4  12.994059       Block611     Block611          True  \n",
       "3            DR76_3  36.333188       Block611     Block611          True  \n",
       "4            DR76_5   8.955027       Block611     Block611          True  "
      ]
     },
     "execution_count": 146,
     "metadata": {},
     "output_type": "execute_result"
    }
   ],
   "source": [
    "ATCC_new.head()"
   ]
  },
  {
   "cell_type": "code",
   "execution_count": 147,
   "metadata": {},
   "outputs": [
    {
     "name": "stdout",
     "output_type": "stream",
     "text": [
      "3884\n",
      "3884\n"
     ]
    }
   ],
   "source": [
    "#non single blocks - check for neighbouring \n",
    "ATCC_non_sb = ATCC_new[ATCC_new.Single_block==False]\n",
    "print(len(ATCC_non_sb))\n",
    "ATCC_non_sb = pd.merge(ATCC_non_sb, ATCC_block, how='left', left_on='block_by_start', right_on='block')\n",
    "ATCC_non_sb = ATCC_non_sb.drop(['Single_block','block', 'taxa', 'start', 'end', 'rev_comp','inversion'],1)\n",
    "print(len(ATCC_non_sb))"
   ]
  },
  {
   "cell_type": "code",
   "execution_count": 150,
   "metadata": {},
   "outputs": [
    {
     "data": {
      "text/html": [
       "<div>\n",
       "<style scoped>\n",
       "    .dataframe tbody tr th:only-of-type {\n",
       "        vertical-align: middle;\n",
       "    }\n",
       "\n",
       "    .dataframe tbody tr th {\n",
       "        vertical-align: top;\n",
       "    }\n",
       "\n",
       "    .dataframe thead th {\n",
       "        text-align: right;\n",
       "    }\n",
       "</style>\n",
       "<table border=\"1\" class=\"dataframe\">\n",
       "  <thead>\n",
       "    <tr style=\"text-align: right;\">\n",
       "      <th></th>\n",
       "      <th>gene_id</th>\n",
       "      <th>gbk_start</th>\n",
       "      <th>gbk_end</th>\n",
       "      <th>gbk_midpoint</th>\n",
       "      <th>gbk_gene_id</th>\n",
       "      <th>gbk_old_locus_tag</th>\n",
       "      <th>norm_exp</th>\n",
       "      <th>block_by_start</th>\n",
       "      <th>start_order</th>\n",
       "    </tr>\n",
       "  </thead>\n",
       "  <tbody>\n",
       "    <tr>\n",
       "      <th>0</th>\n",
       "      <td>DR76_RS00095</td>\n",
       "      <td>17656</td>\n",
       "      <td>21444</td>\n",
       "      <td>19550</td>\n",
       "      <td>NaN</td>\n",
       "      <td>DR76_19</td>\n",
       "      <td>24.623102</td>\n",
       "      <td>Block611</td>\n",
       "      <td>Block612</td>\n",
       "    </tr>\n",
       "    <tr>\n",
       "      <th>1</th>\n",
       "      <td>DR76_RS00105</td>\n",
       "      <td>25147</td>\n",
       "      <td>25463</td>\n",
       "      <td>25305</td>\n",
       "      <td>NaN</td>\n",
       "      <td>NaN</td>\n",
       "      <td>0.783176</td>\n",
       "      <td>Block612</td>\n",
       "      <td>Block613</td>\n",
       "    </tr>\n",
       "    <tr>\n",
       "      <th>2</th>\n",
       "      <td>DR76_RS00130</td>\n",
       "      <td>30599</td>\n",
       "      <td>32602</td>\n",
       "      <td>31600</td>\n",
       "      <td>NaN</td>\n",
       "      <td>DR76_25</td>\n",
       "      <td>14.611222</td>\n",
       "      <td>Block614</td>\n",
       "      <td>Block615</td>\n",
       "    </tr>\n",
       "    <tr>\n",
       "      <th>3</th>\n",
       "      <td>DR76_RS00185</td>\n",
       "      <td>41174</td>\n",
       "      <td>43471</td>\n",
       "      <td>42322</td>\n",
       "      <td>NaN</td>\n",
       "      <td>DR76_36</td>\n",
       "      <td>189.892515</td>\n",
       "      <td>Block615</td>\n",
       "      <td>Block616</td>\n",
       "    </tr>\n",
       "    <tr>\n",
       "      <th>4</th>\n",
       "      <td>DR76_RS00225</td>\n",
       "      <td>50926</td>\n",
       "      <td>51876</td>\n",
       "      <td>51401</td>\n",
       "      <td>NaN</td>\n",
       "      <td>DR76_44</td>\n",
       "      <td>14.716209</td>\n",
       "      <td>Block243</td>\n",
       "      <td>Block619</td>\n",
       "    </tr>\n",
       "  </tbody>\n",
       "</table>\n",
       "</div>"
      ],
      "text/plain": [
       "        gene_id  gbk_start  gbk_end  gbk_midpoint gbk_gene_id  \\\n",
       "0  DR76_RS00095      17656    21444         19550         NaN   \n",
       "1  DR76_RS00105      25147    25463         25305         NaN   \n",
       "2  DR76_RS00130      30599    32602         31600         NaN   \n",
       "3  DR76_RS00185      41174    43471         42322         NaN   \n",
       "4  DR76_RS00225      50926    51876         51401         NaN   \n",
       "\n",
       "  gbk_old_locus_tag    norm_exp block_by_start start_order  \n",
       "0           DR76_19   24.623102       Block611    Block612  \n",
       "1               NaN    0.783176       Block612    Block613  \n",
       "2           DR76_25   14.611222       Block614    Block615  \n",
       "3           DR76_36  189.892515       Block615    Block616  \n",
       "4           DR76_44   14.716209       Block243    Block619  "
      ]
     },
     "execution_count": 150,
     "metadata": {},
     "output_type": "execute_result"
    }
   ],
   "source": [
    "ATCC_non_sb.head()"
   ]
  },
  {
   "cell_type": "code",
   "execution_count": 149,
   "metadata": {},
   "outputs": [],
   "source": [
    "ATCC_non_sb.columns.values[-1] = 'start_order'"
   ]
  },
  {
   "cell_type": "code",
   "execution_count": 135,
   "metadata": {},
   "outputs": [
    {
     "name": "stdout",
     "output_type": "stream",
     "text": [
      "3884\n"
     ]
    }
   ],
   "source": [
    "ATCC_non_sb = pd.merge(ATCC_non_sb, ATCC_block, how='left', left_on='block_by_end', right_on='block')\n",
    "ATCC_non_sb = ATCC_non_sb.drop(['block', 'taxa', 'start', 'end', 'rev_comp','inversion'],1)\n",
    "print(len(ATCC_non_sb))"
   ]
  },
  {
   "cell_type": "code",
   "execution_count": 136,
   "metadata": {},
   "outputs": [],
   "source": [
    "ATCC_non_sb.columns.values[-1] = 'end_order'"
   ]
  },
  {
   "cell_type": "code",
   "execution_count": 137,
   "metadata": {},
   "outputs": [
    {
     "data": {
      "text/html": [
       "<div>\n",
       "<style scoped>\n",
       "    .dataframe tbody tr th:only-of-type {\n",
       "        vertical-align: middle;\n",
       "    }\n",
       "\n",
       "    .dataframe tbody tr th {\n",
       "        vertical-align: top;\n",
       "    }\n",
       "\n",
       "    .dataframe thead th {\n",
       "        text-align: right;\n",
       "    }\n",
       "</style>\n",
       "<table border=\"1\" class=\"dataframe\">\n",
       "  <thead>\n",
       "    <tr style=\"text-align: right;\">\n",
       "      <th></th>\n",
       "      <th>gene_id</th>\n",
       "      <th>gbk_start</th>\n",
       "      <th>gbk_end</th>\n",
       "      <th>gbk_midpoint</th>\n",
       "      <th>gbk_gene_id</th>\n",
       "      <th>gbk_old_locus_tag</th>\n",
       "      <th>norm_exp</th>\n",
       "      <th>block_by_start</th>\n",
       "      <th>block_by_end</th>\n",
       "      <th>block_order_x</th>\n",
       "      <th>diff_x</th>\n",
       "      <th>start_order</th>\n",
       "      <th>block_order_y</th>\n",
       "      <th>diff_y</th>\n",
       "      <th>end_order</th>\n",
       "    </tr>\n",
       "  </thead>\n",
       "  <tbody>\n",
       "    <tr>\n",
       "      <th>0</th>\n",
       "      <td>DR76_RS00095</td>\n",
       "      <td>17656</td>\n",
       "      <td>21444</td>\n",
       "      <td>19550</td>\n",
       "      <td>NaN</td>\n",
       "      <td>DR76_19</td>\n",
       "      <td>24.623102</td>\n",
       "      <td>Block611</td>\n",
       "      <td>Block612</td>\n",
       "      <td>1</td>\n",
       "      <td>0</td>\n",
       "      <td>False</td>\n",
       "      <td>2</td>\n",
       "      <td>402</td>\n",
       "      <td>False</td>\n",
       "    </tr>\n",
       "    <tr>\n",
       "      <th>1</th>\n",
       "      <td>DR76_RS00105</td>\n",
       "      <td>25147</td>\n",
       "      <td>25463</td>\n",
       "      <td>25305</td>\n",
       "      <td>NaN</td>\n",
       "      <td>NaN</td>\n",
       "      <td>0.783176</td>\n",
       "      <td>Block612</td>\n",
       "      <td>Block613</td>\n",
       "      <td>2</td>\n",
       "      <td>402</td>\n",
       "      <td>False</td>\n",
       "      <td>3</td>\n",
       "      <td>7</td>\n",
       "      <td>False</td>\n",
       "    </tr>\n",
       "    <tr>\n",
       "      <th>2</th>\n",
       "      <td>DR76_RS00130</td>\n",
       "      <td>30599</td>\n",
       "      <td>32602</td>\n",
       "      <td>31600</td>\n",
       "      <td>NaN</td>\n",
       "      <td>DR76_25</td>\n",
       "      <td>14.611222</td>\n",
       "      <td>Block614</td>\n",
       "      <td>Block615</td>\n",
       "      <td>4</td>\n",
       "      <td>336</td>\n",
       "      <td>False</td>\n",
       "      <td>5</td>\n",
       "      <td>17</td>\n",
       "      <td>False</td>\n",
       "    </tr>\n",
       "    <tr>\n",
       "      <th>3</th>\n",
       "      <td>DR76_RS00185</td>\n",
       "      <td>41174</td>\n",
       "      <td>43471</td>\n",
       "      <td>42322</td>\n",
       "      <td>NaN</td>\n",
       "      <td>DR76_36</td>\n",
       "      <td>189.892515</td>\n",
       "      <td>Block615</td>\n",
       "      <td>Block616</td>\n",
       "      <td>5</td>\n",
       "      <td>17</td>\n",
       "      <td>False</td>\n",
       "      <td>6</td>\n",
       "      <td>16</td>\n",
       "      <td>False</td>\n",
       "    </tr>\n",
       "    <tr>\n",
       "      <th>4</th>\n",
       "      <td>DR76_RS00225</td>\n",
       "      <td>50926</td>\n",
       "      <td>51876</td>\n",
       "      <td>51401</td>\n",
       "      <td>NaN</td>\n",
       "      <td>DR76_44</td>\n",
       "      <td>14.716209</td>\n",
       "      <td>Block243</td>\n",
       "      <td>Block619</td>\n",
       "      <td>9</td>\n",
       "      <td>276</td>\n",
       "      <td>False</td>\n",
       "      <td>10</td>\n",
       "      <td>96</td>\n",
       "      <td>False</td>\n",
       "    </tr>\n",
       "  </tbody>\n",
       "</table>\n",
       "</div>"
      ],
      "text/plain": [
       "        gene_id  gbk_start  gbk_end  gbk_midpoint gbk_gene_id  \\\n",
       "0  DR76_RS00095      17656    21444         19550         NaN   \n",
       "1  DR76_RS00105      25147    25463         25305         NaN   \n",
       "2  DR76_RS00130      30599    32602         31600         NaN   \n",
       "3  DR76_RS00185      41174    43471         42322         NaN   \n",
       "4  DR76_RS00225      50926    51876         51401         NaN   \n",
       "\n",
       "  gbk_old_locus_tag    norm_exp block_by_start block_by_end  block_order_x  \\\n",
       "0           DR76_19   24.623102       Block611     Block612              1   \n",
       "1               NaN    0.783176       Block612     Block613              2   \n",
       "2           DR76_25   14.611222       Block614     Block615              4   \n",
       "3           DR76_36  189.892515       Block615     Block616              5   \n",
       "4           DR76_44   14.716209       Block243     Block619              9   \n",
       "\n",
       "   diff_x  start_order  block_order_y  diff_y  end_order  \n",
       "0       0        False              2     402      False  \n",
       "1     402        False              3       7      False  \n",
       "2     336        False              5      17      False  \n",
       "3      17        False              6      16      False  \n",
       "4     276        False             10      96      False  "
      ]
     },
     "execution_count": 137,
     "metadata": {},
     "output_type": "execute_result"
    }
   ],
   "source": [
    "ATCC_non_sb.head()"
   ]
  },
  {
   "cell_type": "code",
   "execution_count": 125,
   "metadata": {},
   "outputs": [
    {
     "name": "stdout",
     "output_type": "stream",
     "text": [
      "3884 3884\n",
      "3884 3816\n"
     ]
    }
   ],
   "source": [
    "ATCC_non_sb['check_continuity'] = ATCC_non_sb['start_order'] < ATCC_non_sb['end_order']\n",
    "print(len(ATCC_non_sb), sum(ATCC_non_sb['check_continuity'])) ##continuous\n",
    "ATCC_non_sb['check_neighbour'] = ATCC_non_sb['start_order']+1 == ATCC_non_sb['end_order']\n",
    "print(len(ATCC_non_sb), sum(ATCC_non_sb['check_neighbour'])) "
   ]
  },
  {
   "cell_type": "code",
   "execution_count": 126,
   "metadata": {},
   "outputs": [],
   "source": [
    "##single block and merge with block file \n",
    "ATCC_sb = ATCC_new[ATCC_new['Single_block']==True]\n",
    "ATCC_sb = pd.merge(ATCC_sb, ATCC_block, how='left', left_on='block_by_start', right_on='block')"
   ]
  },
  {
   "cell_type": "code",
   "execution_count": 127,
   "metadata": {},
   "outputs": [
    {
     "data": {
      "text/html": [
       "<div>\n",
       "<style scoped>\n",
       "    .dataframe tbody tr th:only-of-type {\n",
       "        vertical-align: middle;\n",
       "    }\n",
       "\n",
       "    .dataframe tbody tr th {\n",
       "        vertical-align: top;\n",
       "    }\n",
       "\n",
       "    .dataframe thead th {\n",
       "        text-align: right;\n",
       "    }\n",
       "</style>\n",
       "<table border=\"1\" class=\"dataframe\">\n",
       "  <thead>\n",
       "    <tr style=\"text-align: right;\">\n",
       "      <th></th>\n",
       "      <th>gene_id</th>\n",
       "      <th>gbk_start</th>\n",
       "      <th>gbk_end</th>\n",
       "      <th>gbk_midpoint</th>\n",
       "      <th>gbk_gene_id</th>\n",
       "      <th>gbk_old_locus_tag</th>\n",
       "      <th>norm_exp</th>\n",
       "      <th>block_by_start</th>\n",
       "      <th>block_by_end</th>\n",
       "      <th>start_order</th>\n",
       "      <th>end_order</th>\n",
       "      <th>check_continuity</th>\n",
       "      <th>end_order</th>\n",
       "    </tr>\n",
       "  </thead>\n",
       "  <tbody>\n",
       "    <tr>\n",
       "      <th>0</th>\n",
       "      <td>DR76_RS00095</td>\n",
       "      <td>17656</td>\n",
       "      <td>21444</td>\n",
       "      <td>19550</td>\n",
       "      <td>NaN</td>\n",
       "      <td>DR76_19</td>\n",
       "      <td>24.623102</td>\n",
       "      <td>Block611</td>\n",
       "      <td>Block612</td>\n",
       "      <td>1</td>\n",
       "      <td>2</td>\n",
       "      <td>True</td>\n",
       "      <td>True</td>\n",
       "    </tr>\n",
       "    <tr>\n",
       "      <th>1</th>\n",
       "      <td>DR76_RS00105</td>\n",
       "      <td>25147</td>\n",
       "      <td>25463</td>\n",
       "      <td>25305</td>\n",
       "      <td>NaN</td>\n",
       "      <td>NaN</td>\n",
       "      <td>0.783176</td>\n",
       "      <td>Block612</td>\n",
       "      <td>Block613</td>\n",
       "      <td>2</td>\n",
       "      <td>3</td>\n",
       "      <td>True</td>\n",
       "      <td>True</td>\n",
       "    </tr>\n",
       "    <tr>\n",
       "      <th>2</th>\n",
       "      <td>DR76_RS00130</td>\n",
       "      <td>30599</td>\n",
       "      <td>32602</td>\n",
       "      <td>31600</td>\n",
       "      <td>NaN</td>\n",
       "      <td>DR76_25</td>\n",
       "      <td>14.611222</td>\n",
       "      <td>Block614</td>\n",
       "      <td>Block615</td>\n",
       "      <td>4</td>\n",
       "      <td>5</td>\n",
       "      <td>True</td>\n",
       "      <td>True</td>\n",
       "    </tr>\n",
       "    <tr>\n",
       "      <th>3</th>\n",
       "      <td>DR76_RS00185</td>\n",
       "      <td>41174</td>\n",
       "      <td>43471</td>\n",
       "      <td>42322</td>\n",
       "      <td>NaN</td>\n",
       "      <td>DR76_36</td>\n",
       "      <td>189.892515</td>\n",
       "      <td>Block615</td>\n",
       "      <td>Block616</td>\n",
       "      <td>5</td>\n",
       "      <td>6</td>\n",
       "      <td>True</td>\n",
       "      <td>True</td>\n",
       "    </tr>\n",
       "    <tr>\n",
       "      <th>4</th>\n",
       "      <td>DR76_RS00225</td>\n",
       "      <td>50926</td>\n",
       "      <td>51876</td>\n",
       "      <td>51401</td>\n",
       "      <td>NaN</td>\n",
       "      <td>DR76_44</td>\n",
       "      <td>14.716209</td>\n",
       "      <td>Block243</td>\n",
       "      <td>Block619</td>\n",
       "      <td>9</td>\n",
       "      <td>10</td>\n",
       "      <td>True</td>\n",
       "      <td>True</td>\n",
       "    </tr>\n",
       "  </tbody>\n",
       "</table>\n",
       "</div>"
      ],
      "text/plain": [
       "        gene_id  gbk_start  gbk_end  gbk_midpoint gbk_gene_id  \\\n",
       "0  DR76_RS00095      17656    21444         19550         NaN   \n",
       "1  DR76_RS00105      25147    25463         25305         NaN   \n",
       "2  DR76_RS00130      30599    32602         31600         NaN   \n",
       "3  DR76_RS00185      41174    43471         42322         NaN   \n",
       "4  DR76_RS00225      50926    51876         51401         NaN   \n",
       "\n",
       "  gbk_old_locus_tag    norm_exp block_by_start block_by_end  start_order  \\\n",
       "0           DR76_19   24.623102       Block611     Block612            1   \n",
       "1               NaN    0.783176       Block612     Block613            2   \n",
       "2           DR76_25   14.611222       Block614     Block615            4   \n",
       "3           DR76_36  189.892515       Block615     Block616            5   \n",
       "4           DR76_44   14.716209       Block243     Block619            9   \n",
       "\n",
       "   end_order  check_continuity  end_order  \n",
       "0          2              True       True  \n",
       "1          3              True       True  \n",
       "2          5              True       True  \n",
       "3          6              True       True  \n",
       "4         10              True       True  "
      ]
     },
     "execution_count": 127,
     "metadata": {},
     "output_type": "execute_result"
    }
   ],
   "source": [
    "ATCC_non_sb.head()"
   ]
  },
  {
   "cell_type": "code",
   "execution_count": null,
   "metadata": {},
   "outputs": [],
   "source": []
  },
  {
   "cell_type": "code",
   "execution_count": null,
   "metadata": {},
   "outputs": [],
   "source": []
  },
  {
   "cell_type": "markdown",
   "metadata": {},
   "source": [
    " "
   ]
  },
  {
   "cell_type": "markdown",
   "metadata": {},
   "source": [
    "# BW25113"
   ]
  },
  {
   "cell_type": "code",
   "execution_count": 23,
   "metadata": {},
   "outputs": [],
   "source": [
    "BW_block_by_start = [match_block_start(i, BW25113_block) for i in BW25113.gbk_start]"
   ]
  },
  {
   "cell_type": "code",
   "execution_count": 24,
   "metadata": {},
   "outputs": [],
   "source": [
    "BW25113.gbk_end = [i.replace('>', '') for i in BW25113.gbk_end]"
   ]
  },
  {
   "cell_type": "code",
   "execution_count": 25,
   "metadata": {},
   "outputs": [],
   "source": [
    "BW25113.gbk_end = pd.to_numeric(BW25113.gbk_end)"
   ]
  },
  {
   "cell_type": "code",
   "execution_count": 26,
   "metadata": {},
   "outputs": [],
   "source": [
    "BW25113_block_by_end = [match_block_end(i, BW25113_block) for i in BW25113.gbk_end]"
   ]
  },
  {
   "cell_type": "code",
   "execution_count": 27,
   "metadata": {},
   "outputs": [],
   "source": [
    "BW25113_new = BW25113\n",
    "BW25113_new['block_by_start'] = BW_block_by_start\n",
    "BW25113_new['block_by_end'] = BW25113_block_by_end"
   ]
  },
  {
   "cell_type": "code",
   "execution_count": 28,
   "metadata": {},
   "outputs": [
    {
     "data": {
      "text/html": [
       "<div>\n",
       "<style scoped>\n",
       "    .dataframe tbody tr th:only-of-type {\n",
       "        vertical-align: middle;\n",
       "    }\n",
       "\n",
       "    .dataframe tbody tr th {\n",
       "        vertical-align: top;\n",
       "    }\n",
       "\n",
       "    .dataframe thead th {\n",
       "        text-align: right;\n",
       "    }\n",
       "</style>\n",
       "<table border=\"1\" class=\"dataframe\">\n",
       "  <thead>\n",
       "    <tr style=\"text-align: right;\">\n",
       "      <th></th>\n",
       "      <th>gene_id</th>\n",
       "      <th>Locus_tag</th>\n",
       "      <th>gbk_start</th>\n",
       "      <th>gbk_end</th>\n",
       "      <th>gbk_midpoint</th>\n",
       "      <th>gbk_gene_id</th>\n",
       "      <th>gbk_locus_tag</th>\n",
       "      <th>norm_exp</th>\n",
       "      <th>block_by_start</th>\n",
       "      <th>block_by_end</th>\n",
       "    </tr>\n",
       "  </thead>\n",
       "  <tbody>\n",
       "    <tr>\n",
       "      <th>0</th>\n",
       "      <td>araD</td>\n",
       "      <td>b0061</td>\n",
       "      <td>4413517</td>\n",
       "      <td>4414203</td>\n",
       "      <td>4413860</td>\n",
       "      <td>araD</td>\n",
       "      <td>BW25113_RS21810</td>\n",
       "      <td>0.000000</td>\n",
       "      <td>Block1094</td>\n",
       "      <td>Block1094</td>\n",
       "    </tr>\n",
       "    <tr>\n",
       "      <th>1</th>\n",
       "      <td>lacZ</td>\n",
       "      <td>b0344</td>\n",
       "      <td>358942</td>\n",
       "      <td>360144</td>\n",
       "      <td>359543</td>\n",
       "      <td>lacZ</td>\n",
       "      <td>BW25113_RS01765</td>\n",
       "      <td>0.686840</td>\n",
       "      <td>Block98</td>\n",
       "      <td>Block99</td>\n",
       "    </tr>\n",
       "    <tr>\n",
       "      <th>2</th>\n",
       "      <td>thrL</td>\n",
       "      <td>b0001</td>\n",
       "      <td>190</td>\n",
       "      <td>255</td>\n",
       "      <td>222</td>\n",
       "      <td>NaN</td>\n",
       "      <td>BW25113_RS00005</td>\n",
       "      <td>139.132614</td>\n",
       "      <td>Block1</td>\n",
       "      <td>Block1</td>\n",
       "    </tr>\n",
       "    <tr>\n",
       "      <th>3</th>\n",
       "      <td>thrA</td>\n",
       "      <td>b0002</td>\n",
       "      <td>337</td>\n",
       "      <td>2799</td>\n",
       "      <td>1568</td>\n",
       "      <td>NaN</td>\n",
       "      <td>BW25113_RS00010</td>\n",
       "      <td>710.751412</td>\n",
       "      <td>Block1</td>\n",
       "      <td>Block1</td>\n",
       "    </tr>\n",
       "    <tr>\n",
       "      <th>4</th>\n",
       "      <td>thrB</td>\n",
       "      <td>b0003</td>\n",
       "      <td>2801</td>\n",
       "      <td>3733</td>\n",
       "      <td>3267</td>\n",
       "      <td>NaN</td>\n",
       "      <td>BW25113_RS00015</td>\n",
       "      <td>430.081192</td>\n",
       "      <td>Block1</td>\n",
       "      <td>Block1</td>\n",
       "    </tr>\n",
       "  </tbody>\n",
       "</table>\n",
       "</div>"
      ],
      "text/plain": [
       "  gene_id Locus_tag  gbk_start  gbk_end  gbk_midpoint gbk_gene_id  \\\n",
       "0    araD     b0061    4413517  4414203       4413860        araD   \n",
       "1    lacZ     b0344     358942   360144        359543        lacZ   \n",
       "2    thrL     b0001        190      255           222         NaN   \n",
       "3    thrA     b0002        337     2799          1568         NaN   \n",
       "4    thrB     b0003       2801     3733          3267         NaN   \n",
       "\n",
       "     gbk_locus_tag    norm_exp block_by_start block_by_end  \n",
       "0  BW25113_RS21810    0.000000      Block1094    Block1094  \n",
       "1  BW25113_RS01765    0.686840        Block98      Block99  \n",
       "2  BW25113_RS00005  139.132614         Block1       Block1  \n",
       "3  BW25113_RS00010  710.751412         Block1       Block1  \n",
       "4  BW25113_RS00015  430.081192         Block1       Block1  "
      ]
     },
     "execution_count": 28,
     "metadata": {},
     "output_type": "execute_result"
    }
   ],
   "source": [
    "BW25113_new.head()"
   ]
  },
  {
   "cell_type": "code",
   "execution_count": 29,
   "metadata": {},
   "outputs": [
    {
     "name": "stdout",
     "output_type": "stream",
     "text": [
      "4049 3024\n"
     ]
    }
   ],
   "source": [
    "BW25113_new['Single_block'] = BW25113_new.block_by_start == BW25113_block_by_end\n",
    "print(len(BW25113_new), sum(BW25113_new.Single_block))"
   ]
  },
  {
   "cell_type": "code",
   "execution_count": null,
   "metadata": {},
   "outputs": [],
   "source": []
  },
  {
   "cell_type": "code",
   "execution_count": 30,
   "metadata": {},
   "outputs": [
    {
     "name": "stdout",
     "output_type": "stream",
     "text": [
      "1025\n",
      "1025\n"
     ]
    }
   ],
   "source": [
    "#non single blocks - check for neighbouring \n",
    "BW25113_non_sb = BW25113_new[BW25113_new.Single_block==False]\n",
    "print(len(BW25113_non_sb))\n",
    "BW25113_non_sb = pd.merge(BW25113_non_sb, BW25113_block, how='left', left_on='block_by_start', right_on='block')\n",
    "BW25113_non_sb = BW25113_non_sb.drop(['Single_block','block', 'taxa', 'start', 'end', 'rev_comp','inversion'],1)\n",
    "print(len(BW25113_non_sb))"
   ]
  },
  {
   "cell_type": "code",
   "execution_count": 31,
   "metadata": {},
   "outputs": [],
   "source": [
    "BW25113_non_sb.columns.values[-1] = 'start_order'"
   ]
  },
  {
   "cell_type": "code",
   "execution_count": 32,
   "metadata": {},
   "outputs": [
    {
     "name": "stdout",
     "output_type": "stream",
     "text": [
      "1025\n"
     ]
    }
   ],
   "source": [
    "BW25113_non_sb = pd.merge(BW25113_non_sb, BW25113_block, how='left', left_on='block_by_end', right_on='block')\n",
    "BW25113_non_sb = BW25113_non_sb.drop(['block', 'taxa', 'start', 'end', 'rev_comp','inversion'],1)\n",
    "print(len(BW25113_non_sb))"
   ]
  },
  {
   "cell_type": "code",
   "execution_count": 33,
   "metadata": {},
   "outputs": [],
   "source": [
    "BW25113_non_sb.columns.values[-1] = 'end_order'"
   ]
  },
  {
   "cell_type": "code",
   "execution_count": 34,
   "metadata": {},
   "outputs": [
    {
     "data": {
      "text/html": [
       "<div>\n",
       "<style scoped>\n",
       "    .dataframe tbody tr th:only-of-type {\n",
       "        vertical-align: middle;\n",
       "    }\n",
       "\n",
       "    .dataframe tbody tr th {\n",
       "        vertical-align: top;\n",
       "    }\n",
       "\n",
       "    .dataframe thead th {\n",
       "        text-align: right;\n",
       "    }\n",
       "</style>\n",
       "<table border=\"1\" class=\"dataframe\">\n",
       "  <thead>\n",
       "    <tr style=\"text-align: right;\">\n",
       "      <th></th>\n",
       "      <th>gene_id</th>\n",
       "      <th>Locus_tag</th>\n",
       "      <th>gbk_start</th>\n",
       "      <th>gbk_end</th>\n",
       "      <th>gbk_midpoint</th>\n",
       "      <th>gbk_gene_id</th>\n",
       "      <th>gbk_locus_tag</th>\n",
       "      <th>norm_exp</th>\n",
       "      <th>block_by_start</th>\n",
       "      <th>block_by_end</th>\n",
       "      <th>start_order</th>\n",
       "      <th>end_order</th>\n",
       "    </tr>\n",
       "  </thead>\n",
       "  <tbody>\n",
       "    <tr>\n",
       "      <th>0</th>\n",
       "      <td>lacZ</td>\n",
       "      <td>b0344</td>\n",
       "      <td>358942</td>\n",
       "      <td>360144</td>\n",
       "      <td>359543</td>\n",
       "      <td>lacZ</td>\n",
       "      <td>BW25113_RS01765</td>\n",
       "      <td>0.686840</td>\n",
       "      <td>Block98</td>\n",
       "      <td>Block99</td>\n",
       "      <td>94</td>\n",
       "      <td>95</td>\n",
       "    </tr>\n",
       "    <tr>\n",
       "      <th>1</th>\n",
       "      <td>yaaX</td>\n",
       "      <td>b0005</td>\n",
       "      <td>5234</td>\n",
       "      <td>5530</td>\n",
       "      <td>5382</td>\n",
       "      <td>NaN</td>\n",
       "      <td>BW25113_RS00030</td>\n",
       "      <td>7.524657</td>\n",
       "      <td>Block1</td>\n",
       "      <td>Block2</td>\n",
       "      <td>1</td>\n",
       "      <td>2</td>\n",
       "    </tr>\n",
       "    <tr>\n",
       "      <th>2</th>\n",
       "      <td>yaaA</td>\n",
       "      <td>b0006</td>\n",
       "      <td>5683</td>\n",
       "      <td>6459</td>\n",
       "      <td>6071</td>\n",
       "      <td>NaN</td>\n",
       "      <td>BW25113_RS00035</td>\n",
       "      <td>22.820500</td>\n",
       "      <td>Block3</td>\n",
       "      <td>Block4</td>\n",
       "      <td>3</td>\n",
       "      <td>4</td>\n",
       "    </tr>\n",
       "    <tr>\n",
       "      <th>3</th>\n",
       "      <td>satP</td>\n",
       "      <td>b0010</td>\n",
       "      <td>9928</td>\n",
       "      <td>10494</td>\n",
       "      <td>10211</td>\n",
       "      <td>NaN</td>\n",
       "      <td>BW25113_RS00055</td>\n",
       "      <td>4.849270</td>\n",
       "      <td>Block4</td>\n",
       "      <td>Block5</td>\n",
       "      <td>4</td>\n",
       "      <td>5</td>\n",
       "    </tr>\n",
       "    <tr>\n",
       "      <th>4</th>\n",
       "      <td>insL1</td>\n",
       "      <td>b0016</td>\n",
       "      <td>15445</td>\n",
       "      <td>16557</td>\n",
       "      <td>16001</td>\n",
       "      <td>NaN</td>\n",
       "      <td>BW25113_RS00080</td>\n",
       "      <td>10.509688</td>\n",
       "      <td>Block6</td>\n",
       "      <td>Block7</td>\n",
       "      <td>6</td>\n",
       "      <td>7</td>\n",
       "    </tr>\n",
       "  </tbody>\n",
       "</table>\n",
       "</div>"
      ],
      "text/plain": [
       "  gene_id Locus_tag  gbk_start  gbk_end  gbk_midpoint gbk_gene_id  \\\n",
       "0    lacZ     b0344     358942   360144        359543        lacZ   \n",
       "1    yaaX     b0005       5234     5530          5382         NaN   \n",
       "2    yaaA     b0006       5683     6459          6071         NaN   \n",
       "3    satP     b0010       9928    10494         10211         NaN   \n",
       "4   insL1     b0016      15445    16557         16001         NaN   \n",
       "\n",
       "     gbk_locus_tag   norm_exp block_by_start block_by_end  start_order  \\\n",
       "0  BW25113_RS01765   0.686840        Block98      Block99           94   \n",
       "1  BW25113_RS00030   7.524657         Block1       Block2            1   \n",
       "2  BW25113_RS00035  22.820500         Block3       Block4            3   \n",
       "3  BW25113_RS00055   4.849270         Block4       Block5            4   \n",
       "4  BW25113_RS00080  10.509688         Block6       Block7            6   \n",
       "\n",
       "   end_order  \n",
       "0         95  \n",
       "1          2  \n",
       "2          4  \n",
       "3          5  \n",
       "4          7  "
      ]
     },
     "execution_count": 34,
     "metadata": {},
     "output_type": "execute_result"
    }
   ],
   "source": [
    "BW25113_non_sb.head()"
   ]
  },
  {
   "cell_type": "code",
   "execution_count": 35,
   "metadata": {},
   "outputs": [
    {
     "name": "stdout",
     "output_type": "stream",
     "text": [
      "1025 1025\n",
      "1025 943\n"
     ]
    }
   ],
   "source": [
    "BW25113_non_sb['check_continuity'] = BW25113_non_sb['start_order'] < BW25113_non_sb['end_order']\n",
    "print(len(BW25113_non_sb), sum(BW25113_non_sb['check_continuity'])) ##continuous\n",
    "BW25113_non_sb['check_neighbour'] = BW25113_non_sb['start_order']+1 == BW25113_non_sb['end_order']\n",
    "print(len(BW25113_non_sb), sum(BW25113_non_sb['check_neighbour'])) "
   ]
  },
  {
   "cell_type": "code",
   "execution_count": 36,
   "metadata": {},
   "outputs": [],
   "source": [
    "##single block and merge with block file \n",
    "BW25113_sb = BW25113_new[BW25113_new['Single_block']==True]\n",
    "BW25113_sb = pd.merge(BW25113_sb, BW25113_block, how='left', left_on='block_by_start', right_on='block')"
   ]
  },
  {
   "cell_type": "markdown",
   "metadata": {},
   "source": [
    " "
   ]
  },
  {
   "cell_type": "code",
   "execution_count": null,
   "metadata": {},
   "outputs": [],
   "source": []
  },
  {
   "cell_type": "code",
   "execution_count": null,
   "metadata": {},
   "outputs": [],
   "source": []
  },
  {
   "cell_type": "code",
   "execution_count": null,
   "metadata": {},
   "outputs": [],
   "source": []
  },
  {
   "cell_type": "markdown",
   "metadata": {},
   "source": [
    "  "
   ]
  },
  {
   "cell_type": "markdown",
   "metadata": {},
   "source": [
    "# K12DH "
   ]
  },
  {
   "cell_type": "code",
   "execution_count": 37,
   "metadata": {},
   "outputs": [],
   "source": [
    "K12DH_block_by_start = [match_block_start(i, K12DH_block) for i in K12DH.gbk_start]"
   ]
  },
  {
   "cell_type": "code",
   "execution_count": 38,
   "metadata": {},
   "outputs": [],
   "source": [
    "K12DH.gbk_end = [i.replace('>', '') for i in K12DH.gbk_end]"
   ]
  },
  {
   "cell_type": "code",
   "execution_count": 39,
   "metadata": {},
   "outputs": [],
   "source": [
    "K12DH.gbk_end = pd.to_numeric(K12DH.gbk_end)"
   ]
  },
  {
   "cell_type": "code",
   "execution_count": 40,
   "metadata": {},
   "outputs": [],
   "source": [
    "K12DH_block_by_end = [match_block_end(i, K12DH_block) for i in K12DH.gbk_end]"
   ]
  },
  {
   "cell_type": "code",
   "execution_count": 41,
   "metadata": {},
   "outputs": [],
   "source": [
    "K12DH_new = K12DH\n",
    "K12DH_new['block_by_start'] = K12DH_block_by_start\n",
    "K12DH_new['block_by_end'] = K12DH_block_by_end"
   ]
  },
  {
   "cell_type": "code",
   "execution_count": 42,
   "metadata": {},
   "outputs": [
    {
     "data": {
      "text/html": [
       "<div>\n",
       "<style scoped>\n",
       "    .dataframe tbody tr th:only-of-type {\n",
       "        vertical-align: middle;\n",
       "    }\n",
       "\n",
       "    .dataframe tbody tr th {\n",
       "        vertical-align: top;\n",
       "    }\n",
       "\n",
       "    .dataframe thead th {\n",
       "        text-align: right;\n",
       "    }\n",
       "</style>\n",
       "<table border=\"1\" class=\"dataframe\">\n",
       "  <thead>\n",
       "    <tr style=\"text-align: right;\">\n",
       "      <th></th>\n",
       "      <th>locus_tag</th>\n",
       "      <th>gene_id</th>\n",
       "      <th>gbk_start</th>\n",
       "      <th>gbk_end</th>\n",
       "      <th>gbk_midpoint</th>\n",
       "      <th>gbk_gene_id</th>\n",
       "      <th>gbk_locus_tag</th>\n",
       "      <th>norm_exp</th>\n",
       "      <th>block_by_start</th>\n",
       "      <th>block_by_end</th>\n",
       "    </tr>\n",
       "  </thead>\n",
       "  <tbody>\n",
       "    <tr>\n",
       "      <th>0</th>\n",
       "      <td>ECDH10B_0001</td>\n",
       "      <td>thrL</td>\n",
       "      <td>190</td>\n",
       "      <td>255</td>\n",
       "      <td>222</td>\n",
       "      <td>thrL</td>\n",
       "      <td>ECDH10B_RS00005</td>\n",
       "      <td>61.593544</td>\n",
       "      <td>Block1</td>\n",
       "      <td>Block1</td>\n",
       "    </tr>\n",
       "    <tr>\n",
       "      <th>1</th>\n",
       "      <td>ECDH10B_0002</td>\n",
       "      <td>thrA</td>\n",
       "      <td>337</td>\n",
       "      <td>2799</td>\n",
       "      <td>1568</td>\n",
       "      <td>thrA</td>\n",
       "      <td>ECDH10B_RS00010</td>\n",
       "      <td>1271.681520</td>\n",
       "      <td>Block1</td>\n",
       "      <td>Block1</td>\n",
       "    </tr>\n",
       "    <tr>\n",
       "      <th>2</th>\n",
       "      <td>ECDH10B_0003</td>\n",
       "      <td>thrB</td>\n",
       "      <td>2801</td>\n",
       "      <td>3733</td>\n",
       "      <td>3267</td>\n",
       "      <td>thrB</td>\n",
       "      <td>ECDH10B_RS00015</td>\n",
       "      <td>264.755959</td>\n",
       "      <td>Block1</td>\n",
       "      <td>Block1</td>\n",
       "    </tr>\n",
       "    <tr>\n",
       "      <th>3</th>\n",
       "      <td>ECDH10B_0004</td>\n",
       "      <td>thrC</td>\n",
       "      <td>3734</td>\n",
       "      <td>5020</td>\n",
       "      <td>4377</td>\n",
       "      <td>thrC</td>\n",
       "      <td>ECDH10B_RS00020</td>\n",
       "      <td>340.097388</td>\n",
       "      <td>Block1</td>\n",
       "      <td>Block1</td>\n",
       "    </tr>\n",
       "    <tr>\n",
       "      <th>4</th>\n",
       "      <td>ECDH10B_0005</td>\n",
       "      <td>yaaX</td>\n",
       "      <td>5234</td>\n",
       "      <td>5530</td>\n",
       "      <td>5382</td>\n",
       "      <td>NaN</td>\n",
       "      <td>ECDH10B_RS00030</td>\n",
       "      <td>15.062409</td>\n",
       "      <td>Block1</td>\n",
       "      <td>Block2</td>\n",
       "    </tr>\n",
       "  </tbody>\n",
       "</table>\n",
       "</div>"
      ],
      "text/plain": [
       "      locus_tag gene_id  gbk_start  gbk_end  gbk_midpoint gbk_gene_id  \\\n",
       "0  ECDH10B_0001    thrL        190      255           222        thrL   \n",
       "1  ECDH10B_0002    thrA        337     2799          1568        thrA   \n",
       "2  ECDH10B_0003    thrB       2801     3733          3267        thrB   \n",
       "3  ECDH10B_0004    thrC       3734     5020          4377        thrC   \n",
       "4  ECDH10B_0005    yaaX       5234     5530          5382         NaN   \n",
       "\n",
       "     gbk_locus_tag     norm_exp block_by_start block_by_end  \n",
       "0  ECDH10B_RS00005    61.593544         Block1       Block1  \n",
       "1  ECDH10B_RS00010  1271.681520         Block1       Block1  \n",
       "2  ECDH10B_RS00015   264.755959         Block1       Block1  \n",
       "3  ECDH10B_RS00020   340.097388         Block1       Block1  \n",
       "4  ECDH10B_RS00030    15.062409         Block1       Block2  "
      ]
     },
     "execution_count": 42,
     "metadata": {},
     "output_type": "execute_result"
    }
   ],
   "source": [
    "K12DH_new.head()"
   ]
  },
  {
   "cell_type": "code",
   "execution_count": 43,
   "metadata": {},
   "outputs": [
    {
     "name": "stdout",
     "output_type": "stream",
     "text": [
      "4247 3043\n"
     ]
    }
   ],
   "source": [
    "K12DH_new['Single_block'] = K12DH_new.block_by_start == K12DH_block_by_end\n",
    "print(len(K12DH_new), sum(K12DH_new.Single_block))"
   ]
  },
  {
   "cell_type": "code",
   "execution_count": 44,
   "metadata": {},
   "outputs": [
    {
     "name": "stdout",
     "output_type": "stream",
     "text": [
      "1204\n",
      "1204\n"
     ]
    }
   ],
   "source": [
    "#non single blocks - check for neighbouring \n",
    "K12DH_non_sb = K12DH_new[K12DH_new.Single_block==False]\n",
    "print(len(K12DH_non_sb))\n",
    "K12DH_non_sb = pd.merge(K12DH_non_sb, K12DH_block, how='left', left_on='block_by_start', right_on='block')\n",
    "K12DH_non_sb = K12DH_non_sb.drop(['Single_block','block', 'taxa', 'start', 'end', 'rev_comp','inversion'],1)\n",
    "print(len(K12DH_non_sb))"
   ]
  },
  {
   "cell_type": "code",
   "execution_count": 45,
   "metadata": {},
   "outputs": [],
   "source": [
    "K12DH_non_sb.columns.values[-1] = 'start_order'"
   ]
  },
  {
   "cell_type": "code",
   "execution_count": 46,
   "metadata": {},
   "outputs": [
    {
     "name": "stdout",
     "output_type": "stream",
     "text": [
      "1204\n"
     ]
    }
   ],
   "source": [
    "K12DH_non_sb = pd.merge(K12DH_non_sb, K12DH_block, how='left', left_on='block_by_end', right_on='block')\n",
    "K12DH_non_sb = K12DH_non_sb.drop(['block', 'taxa', 'start', 'end', 'rev_comp','inversion'],1)\n",
    "print(len(K12DH_non_sb))"
   ]
  },
  {
   "cell_type": "code",
   "execution_count": 47,
   "metadata": {},
   "outputs": [],
   "source": [
    "K12DH_non_sb.columns.values[-1] = 'end_order'"
   ]
  },
  {
   "cell_type": "code",
   "execution_count": 48,
   "metadata": {},
   "outputs": [
    {
     "data": {
      "text/html": [
       "<div>\n",
       "<style scoped>\n",
       "    .dataframe tbody tr th:only-of-type {\n",
       "        vertical-align: middle;\n",
       "    }\n",
       "\n",
       "    .dataframe tbody tr th {\n",
       "        vertical-align: top;\n",
       "    }\n",
       "\n",
       "    .dataframe thead th {\n",
       "        text-align: right;\n",
       "    }\n",
       "</style>\n",
       "<table border=\"1\" class=\"dataframe\">\n",
       "  <thead>\n",
       "    <tr style=\"text-align: right;\">\n",
       "      <th></th>\n",
       "      <th>locus_tag</th>\n",
       "      <th>gene_id</th>\n",
       "      <th>gbk_start</th>\n",
       "      <th>gbk_end</th>\n",
       "      <th>gbk_midpoint</th>\n",
       "      <th>gbk_gene_id</th>\n",
       "      <th>gbk_locus_tag</th>\n",
       "      <th>norm_exp</th>\n",
       "      <th>block_by_start</th>\n",
       "      <th>block_by_end</th>\n",
       "      <th>start_order</th>\n",
       "      <th>end_order</th>\n",
       "    </tr>\n",
       "  </thead>\n",
       "  <tbody>\n",
       "    <tr>\n",
       "      <th>0</th>\n",
       "      <td>ECDH10B_0005</td>\n",
       "      <td>yaaX</td>\n",
       "      <td>5234</td>\n",
       "      <td>5530</td>\n",
       "      <td>5382</td>\n",
       "      <td>NaN</td>\n",
       "      <td>ECDH10B_RS00030</td>\n",
       "      <td>15.062409</td>\n",
       "      <td>Block1</td>\n",
       "      <td>Block2</td>\n",
       "      <td>1</td>\n",
       "      <td>2</td>\n",
       "    </tr>\n",
       "    <tr>\n",
       "      <th>1</th>\n",
       "      <td>ECDH10B_0006</td>\n",
       "      <td>yaaA</td>\n",
       "      <td>5683</td>\n",
       "      <td>6459</td>\n",
       "      <td>6071</td>\n",
       "      <td>yaaA</td>\n",
       "      <td>ECDH10B_RS00035</td>\n",
       "      <td>77.615241</td>\n",
       "      <td>Block3</td>\n",
       "      <td>Block4</td>\n",
       "      <td>3</td>\n",
       "      <td>4</td>\n",
       "    </tr>\n",
       "    <tr>\n",
       "      <th>2</th>\n",
       "      <td>ECDH10B_0010</td>\n",
       "      <td>yaaH</td>\n",
       "      <td>9928</td>\n",
       "      <td>10494</td>\n",
       "      <td>10211</td>\n",
       "      <td>satP</td>\n",
       "      <td>ECDH10B_RS00055</td>\n",
       "      <td>20.681454</td>\n",
       "      <td>Block4</td>\n",
       "      <td>Block5</td>\n",
       "      <td>4</td>\n",
       "      <td>5</td>\n",
       "    </tr>\n",
       "    <tr>\n",
       "      <th>3</th>\n",
       "      <td>ECDH10B_0016</td>\n",
       "      <td>insL-1</td>\n",
       "      <td>15445</td>\n",
       "      <td>16557</td>\n",
       "      <td>16001</td>\n",
       "      <td>NaN</td>\n",
       "      <td>ECDH10B_RS00080</td>\n",
       "      <td>12.867090</td>\n",
       "      <td>Block6</td>\n",
       "      <td>Block7</td>\n",
       "      <td>6</td>\n",
       "      <td>7</td>\n",
       "    </tr>\n",
       "    <tr>\n",
       "      <th>4</th>\n",
       "      <td>ECDH10B_0021</td>\n",
       "      <td>nhaR</td>\n",
       "      <td>18721</td>\n",
       "      <td>19620</td>\n",
       "      <td>19170</td>\n",
       "      <td>nhaR</td>\n",
       "      <td>ECDH10B_RS00095</td>\n",
       "      <td>52.599502</td>\n",
       "      <td>Block8</td>\n",
       "      <td>Block9</td>\n",
       "      <td>8</td>\n",
       "      <td>9</td>\n",
       "    </tr>\n",
       "  </tbody>\n",
       "</table>\n",
       "</div>"
      ],
      "text/plain": [
       "      locus_tag gene_id  gbk_start  gbk_end  gbk_midpoint gbk_gene_id  \\\n",
       "0  ECDH10B_0005    yaaX       5234     5530          5382         NaN   \n",
       "1  ECDH10B_0006    yaaA       5683     6459          6071        yaaA   \n",
       "2  ECDH10B_0010    yaaH       9928    10494         10211        satP   \n",
       "3  ECDH10B_0016  insL-1      15445    16557         16001         NaN   \n",
       "4  ECDH10B_0021    nhaR      18721    19620         19170        nhaR   \n",
       "\n",
       "     gbk_locus_tag   norm_exp block_by_start block_by_end  start_order  \\\n",
       "0  ECDH10B_RS00030  15.062409         Block1       Block2            1   \n",
       "1  ECDH10B_RS00035  77.615241         Block3       Block4            3   \n",
       "2  ECDH10B_RS00055  20.681454         Block4       Block5            4   \n",
       "3  ECDH10B_RS00080  12.867090         Block6       Block7            6   \n",
       "4  ECDH10B_RS00095  52.599502         Block8       Block9            8   \n",
       "\n",
       "   end_order  \n",
       "0          2  \n",
       "1          4  \n",
       "2          5  \n",
       "3          7  \n",
       "4          9  "
      ]
     },
     "execution_count": 48,
     "metadata": {},
     "output_type": "execute_result"
    }
   ],
   "source": [
    "K12DH_non_sb.head()"
   ]
  },
  {
   "cell_type": "code",
   "execution_count": 49,
   "metadata": {},
   "outputs": [
    {
     "name": "stdout",
     "output_type": "stream",
     "text": [
      "1204 1204\n",
      "1204 1106\n"
     ]
    }
   ],
   "source": [
    "K12DH_non_sb['check_continuity'] = K12DH_non_sb['start_order'] < K12DH_non_sb['end_order']\n",
    "print(len(K12DH_non_sb), sum(K12DH_non_sb['check_continuity'])) ##continuous\n",
    "K12DH_non_sb['check_neighbour'] = K12DH_non_sb['start_order']+1 == K12DH_non_sb['end_order']\n",
    "print(len(K12DH_non_sb), sum(K12DH_non_sb['check_neighbour'])) "
   ]
  },
  {
   "cell_type": "code",
   "execution_count": 50,
   "metadata": {},
   "outputs": [],
   "source": [
    "##single block and merge with block file \n",
    "K12DH_sb = K12DH_new[K12DH_new['Single_block']==True]\n",
    "K12DH_sb = pd.merge(K12DH_sb, K12DH_block, how='left', left_on='block_by_start', right_on='block')"
   ]
  },
  {
   "cell_type": "code",
   "execution_count": 51,
   "metadata": {},
   "outputs": [
    {
     "data": {
      "text/plain": [
       "3043"
      ]
     },
     "execution_count": 51,
     "metadata": {},
     "output_type": "execute_result"
    }
   ],
   "source": [
    "len(K12DH_sb)"
   ]
  },
  {
   "cell_type": "markdown",
   "metadata": {},
   "source": [
    " "
   ]
  },
  {
   "cell_type": "code",
   "execution_count": null,
   "metadata": {},
   "outputs": [],
   "source": []
  },
  {
   "cell_type": "code",
   "execution_count": null,
   "metadata": {},
   "outputs": [],
   "source": []
  },
  {
   "cell_type": "code",
   "execution_count": null,
   "metadata": {},
   "outputs": [],
   "source": []
  },
  {
   "cell_type": "markdown",
   "metadata": {},
   "source": [
    "  "
   ]
  },
  {
   "cell_type": "markdown",
   "metadata": {},
   "source": [
    "  "
   ]
  },
  {
   "cell_type": "markdown",
   "metadata": {},
   "source": [
    "# K12MG"
   ]
  },
  {
   "cell_type": "code",
   "execution_count": 52,
   "metadata": {},
   "outputs": [],
   "source": [
    "K12MG_block_by_start = [match_block_start(i, K12MG_block) for i in K12MG.gbk_start]"
   ]
  },
  {
   "cell_type": "code",
   "execution_count": 53,
   "metadata": {},
   "outputs": [],
   "source": [
    "K12MG_block_by_end = [match_block_end(i, K12MG_block) for i in K12MG.gbk_end]"
   ]
  },
  {
   "cell_type": "code",
   "execution_count": 54,
   "metadata": {},
   "outputs": [],
   "source": [
    "K12MG_new = K12MG\n",
    "K12MG_new['block_by_start'] = K12MG_block_by_start\n",
    "K12MG_new['block_by_end'] = K12MG_block_by_end"
   ]
  },
  {
   "cell_type": "code",
   "execution_count": 55,
   "metadata": {},
   "outputs": [
    {
     "data": {
      "text/html": [
       "<div>\n",
       "<style scoped>\n",
       "    .dataframe tbody tr th:only-of-type {\n",
       "        vertical-align: middle;\n",
       "    }\n",
       "\n",
       "    .dataframe tbody tr th {\n",
       "        vertical-align: top;\n",
       "    }\n",
       "\n",
       "    .dataframe thead th {\n",
       "        text-align: right;\n",
       "    }\n",
       "</style>\n",
       "<table border=\"1\" class=\"dataframe\">\n",
       "  <thead>\n",
       "    <tr style=\"text-align: right;\">\n",
       "      <th></th>\n",
       "      <th>Locus_tag</th>\n",
       "      <th>gene_id</th>\n",
       "      <th>gbk_start</th>\n",
       "      <th>gbk_end</th>\n",
       "      <th>gbk_midpoint</th>\n",
       "      <th>gbk_gene_id</th>\n",
       "      <th>gbk_old_locus_tag</th>\n",
       "      <th>norm_exp</th>\n",
       "      <th>block_by_start</th>\n",
       "      <th>block_by_end</th>\n",
       "    </tr>\n",
       "  </thead>\n",
       "  <tbody>\n",
       "    <tr>\n",
       "      <th>0</th>\n",
       "      <td>b0001</td>\n",
       "      <td>thrL</td>\n",
       "      <td>190</td>\n",
       "      <td>255</td>\n",
       "      <td>222</td>\n",
       "      <td>thrL</td>\n",
       "      <td>NaN</td>\n",
       "      <td>10.199788</td>\n",
       "      <td>Block1</td>\n",
       "      <td>Block1</td>\n",
       "    </tr>\n",
       "    <tr>\n",
       "      <th>1</th>\n",
       "      <td>b0002</td>\n",
       "      <td>thrA</td>\n",
       "      <td>337</td>\n",
       "      <td>2799</td>\n",
       "      <td>1568</td>\n",
       "      <td>thrA</td>\n",
       "      <td>NaN</td>\n",
       "      <td>795.007797</td>\n",
       "      <td>Block1</td>\n",
       "      <td>Block1</td>\n",
       "    </tr>\n",
       "    <tr>\n",
       "      <th>2</th>\n",
       "      <td>b0003</td>\n",
       "      <td>thrB</td>\n",
       "      <td>2801</td>\n",
       "      <td>3733</td>\n",
       "      <td>3267</td>\n",
       "      <td>thrB</td>\n",
       "      <td>NaN</td>\n",
       "      <td>332.045802</td>\n",
       "      <td>Block1</td>\n",
       "      <td>Block1</td>\n",
       "    </tr>\n",
       "    <tr>\n",
       "      <th>3</th>\n",
       "      <td>b0004</td>\n",
       "      <td>thrC</td>\n",
       "      <td>3734</td>\n",
       "      <td>5020</td>\n",
       "      <td>4377</td>\n",
       "      <td>thrC</td>\n",
       "      <td>NaN</td>\n",
       "      <td>380.080043</td>\n",
       "      <td>Block1</td>\n",
       "      <td>Block1</td>\n",
       "    </tr>\n",
       "    <tr>\n",
       "      <th>4</th>\n",
       "      <td>b0005</td>\n",
       "      <td>yaaX</td>\n",
       "      <td>5234</td>\n",
       "      <td>5530</td>\n",
       "      <td>5382</td>\n",
       "      <td>yaaX</td>\n",
       "      <td>NaN</td>\n",
       "      <td>10.616967</td>\n",
       "      <td>Block1</td>\n",
       "      <td>Block2</td>\n",
       "    </tr>\n",
       "  </tbody>\n",
       "</table>\n",
       "</div>"
      ],
      "text/plain": [
       "  Locus_tag gene_id  gbk_start  gbk_end  gbk_midpoint gbk_gene_id  \\\n",
       "0     b0001    thrL        190      255           222        thrL   \n",
       "1     b0002    thrA        337     2799          1568        thrA   \n",
       "2     b0003    thrB       2801     3733          3267        thrB   \n",
       "3     b0004    thrC       3734     5020          4377        thrC   \n",
       "4     b0005    yaaX       5234     5530          5382        yaaX   \n",
       "\n",
       "   gbk_old_locus_tag    norm_exp block_by_start block_by_end  \n",
       "0                NaN   10.199788         Block1       Block1  \n",
       "1                NaN  795.007797         Block1       Block1  \n",
       "2                NaN  332.045802         Block1       Block1  \n",
       "3                NaN  380.080043         Block1       Block1  \n",
       "4                NaN   10.616967         Block1       Block2  "
      ]
     },
     "execution_count": 55,
     "metadata": {},
     "output_type": "execute_result"
    }
   ],
   "source": [
    "K12MG_new.head()"
   ]
  },
  {
   "cell_type": "code",
   "execution_count": 56,
   "metadata": {},
   "outputs": [
    {
     "name": "stdout",
     "output_type": "stream",
     "text": [
      "3891 2969\n"
     ]
    }
   ],
   "source": [
    "K12MG_new['Single_block'] = K12MG_new.block_by_start == K12MG_block_by_end\n",
    "print(len(K12MG_new), sum(K12MG_new.Single_block))"
   ]
  },
  {
   "cell_type": "code",
   "execution_count": 57,
   "metadata": {},
   "outputs": [
    {
     "name": "stdout",
     "output_type": "stream",
     "text": [
      "922\n",
      "922\n"
     ]
    }
   ],
   "source": [
    "#non single blocks - check for neighbouring \n",
    "K12MG_non_sb = K12MG_new[K12MG_new.Single_block==False]\n",
    "print(len(K12MG_non_sb))\n",
    "K12MG_non_sb = pd.merge(K12MG_non_sb, K12MG_block, how='left', left_on='block_by_start', right_on='block')\n",
    "K12MG_non_sb = K12MG_non_sb.drop(['Single_block','block', 'taxa', 'start', 'end', 'rev_comp','inversion'],1)\n",
    "print(len(K12MG_non_sb))"
   ]
  },
  {
   "cell_type": "code",
   "execution_count": 58,
   "metadata": {},
   "outputs": [],
   "source": [
    "K12MG_non_sb.columns.values[-1] = 'start_order'"
   ]
  },
  {
   "cell_type": "code",
   "execution_count": 59,
   "metadata": {},
   "outputs": [
    {
     "name": "stdout",
     "output_type": "stream",
     "text": [
      "922\n"
     ]
    }
   ],
   "source": [
    "K12MG_non_sb = pd.merge(K12MG_non_sb, K12MG_block, how='left', left_on='block_by_end', right_on='block')\n",
    "K12MG_non_sb = K12MG_non_sb.drop(['block', 'taxa', 'start', 'end', 'rev_comp','inversion'],1)\n",
    "print(len(K12MG_non_sb))"
   ]
  },
  {
   "cell_type": "code",
   "execution_count": 60,
   "metadata": {},
   "outputs": [],
   "source": [
    "K12MG_non_sb.columns.values[-1] = 'end_order'"
   ]
  },
  {
   "cell_type": "code",
   "execution_count": 61,
   "metadata": {},
   "outputs": [
    {
     "data": {
      "text/html": [
       "<div>\n",
       "<style scoped>\n",
       "    .dataframe tbody tr th:only-of-type {\n",
       "        vertical-align: middle;\n",
       "    }\n",
       "\n",
       "    .dataframe tbody tr th {\n",
       "        vertical-align: top;\n",
       "    }\n",
       "\n",
       "    .dataframe thead th {\n",
       "        text-align: right;\n",
       "    }\n",
       "</style>\n",
       "<table border=\"1\" class=\"dataframe\">\n",
       "  <thead>\n",
       "    <tr style=\"text-align: right;\">\n",
       "      <th></th>\n",
       "      <th>Locus_tag</th>\n",
       "      <th>gene_id</th>\n",
       "      <th>gbk_start</th>\n",
       "      <th>gbk_end</th>\n",
       "      <th>gbk_midpoint</th>\n",
       "      <th>gbk_gene_id</th>\n",
       "      <th>gbk_old_locus_tag</th>\n",
       "      <th>norm_exp</th>\n",
       "      <th>block_by_start</th>\n",
       "      <th>block_by_end</th>\n",
       "      <th>start_order</th>\n",
       "      <th>end_order</th>\n",
       "    </tr>\n",
       "  </thead>\n",
       "  <tbody>\n",
       "    <tr>\n",
       "      <th>0</th>\n",
       "      <td>b0005</td>\n",
       "      <td>yaaX</td>\n",
       "      <td>5234</td>\n",
       "      <td>5530</td>\n",
       "      <td>5382</td>\n",
       "      <td>yaaX</td>\n",
       "      <td>NaN</td>\n",
       "      <td>10.616967</td>\n",
       "      <td>Block1</td>\n",
       "      <td>Block2</td>\n",
       "      <td>1</td>\n",
       "      <td>2</td>\n",
       "    </tr>\n",
       "    <tr>\n",
       "      <th>1</th>\n",
       "      <td>b0006</td>\n",
       "      <td>yaaA</td>\n",
       "      <td>5683</td>\n",
       "      <td>6459</td>\n",
       "      <td>6071</td>\n",
       "      <td>yaaA</td>\n",
       "      <td>NaN</td>\n",
       "      <td>65.346988</td>\n",
       "      <td>Block3</td>\n",
       "      <td>Block4</td>\n",
       "      <td>3</td>\n",
       "      <td>4</td>\n",
       "    </tr>\n",
       "    <tr>\n",
       "      <th>2</th>\n",
       "      <td>b0020</td>\n",
       "      <td>nhaR</td>\n",
       "      <td>18715</td>\n",
       "      <td>19620</td>\n",
       "      <td>19167</td>\n",
       "      <td>nhaR</td>\n",
       "      <td>NaN</td>\n",
       "      <td>68.588083</td>\n",
       "      <td>Block8</td>\n",
       "      <td>Block9</td>\n",
       "      <td>8</td>\n",
       "      <td>9</td>\n",
       "    </tr>\n",
       "    <tr>\n",
       "      <th>3</th>\n",
       "      <td>b0027</td>\n",
       "      <td>lspA</td>\n",
       "      <td>25207</td>\n",
       "      <td>25701</td>\n",
       "      <td>25454</td>\n",
       "      <td>lspA</td>\n",
       "      <td>NaN</td>\n",
       "      <td>83.041373</td>\n",
       "      <td>Block9</td>\n",
       "      <td>Block10</td>\n",
       "      <td>9</td>\n",
       "      <td>10</td>\n",
       "    </tr>\n",
       "    <tr>\n",
       "      <th>4</th>\n",
       "      <td>b0030</td>\n",
       "      <td>rihC</td>\n",
       "      <td>27293</td>\n",
       "      <td>28207</td>\n",
       "      <td>27750</td>\n",
       "      <td>rihC</td>\n",
       "      <td>NaN</td>\n",
       "      <td>118.748638</td>\n",
       "      <td>Block10</td>\n",
       "      <td>Block11</td>\n",
       "      <td>10</td>\n",
       "      <td>11</td>\n",
       "    </tr>\n",
       "  </tbody>\n",
       "</table>\n",
       "</div>"
      ],
      "text/plain": [
       "  Locus_tag gene_id  gbk_start  gbk_end  gbk_midpoint gbk_gene_id  \\\n",
       "0     b0005    yaaX       5234     5530          5382        yaaX   \n",
       "1     b0006    yaaA       5683     6459          6071        yaaA   \n",
       "2     b0020    nhaR      18715    19620         19167        nhaR   \n",
       "3     b0027    lspA      25207    25701         25454        lspA   \n",
       "4     b0030    rihC      27293    28207         27750        rihC   \n",
       "\n",
       "   gbk_old_locus_tag    norm_exp block_by_start block_by_end  start_order  \\\n",
       "0                NaN   10.616967         Block1       Block2            1   \n",
       "1                NaN   65.346988         Block3       Block4            3   \n",
       "2                NaN   68.588083         Block8       Block9            8   \n",
       "3                NaN   83.041373         Block9      Block10            9   \n",
       "4                NaN  118.748638        Block10      Block11           10   \n",
       "\n",
       "   end_order  \n",
       "0          2  \n",
       "1          4  \n",
       "2          9  \n",
       "3         10  \n",
       "4         11  "
      ]
     },
     "execution_count": 61,
     "metadata": {},
     "output_type": "execute_result"
    }
   ],
   "source": [
    "K12MG_non_sb.head()"
   ]
  },
  {
   "cell_type": "code",
   "execution_count": 62,
   "metadata": {},
   "outputs": [
    {
     "name": "stdout",
     "output_type": "stream",
     "text": [
      "922 922\n",
      "922 842\n"
     ]
    }
   ],
   "source": [
    "K12MG_non_sb['check_continuity'] = K12MG_non_sb['start_order'] < K12MG_non_sb['end_order']\n",
    "print(len(K12MG_non_sb), sum(K12MG_non_sb['check_continuity'])) ##continuous\n",
    "K12MG_non_sb['check_neighbour'] = K12MG_non_sb['start_order']+1 == K12MG_non_sb['end_order']\n",
    "print(len(K12MG_non_sb), sum(K12MG_non_sb['check_neighbour'])) "
   ]
  },
  {
   "cell_type": "code",
   "execution_count": 63,
   "metadata": {},
   "outputs": [],
   "source": [
    "##single block and merge with block file \n",
    "K12MG_sb = K12MG_new[K12MG_new['Single_block']==True]\n",
    "K12MG_sb = pd.merge(K12MG_sb, K12MG_block, how='left', left_on='block_by_start', right_on='block')"
   ]
  },
  {
   "cell_type": "code",
   "execution_count": 64,
   "metadata": {},
   "outputs": [
    {
     "name": "stdout",
     "output_type": "stream",
     "text": [
      "2969\n"
     ]
    }
   ],
   "source": [
    "print(len(K12MG_sb))"
   ]
  },
  {
   "cell_type": "markdown",
   "metadata": {},
   "source": []
  },
  {
   "cell_type": "code",
   "execution_count": null,
   "metadata": {},
   "outputs": [],
   "source": []
  },
  {
   "cell_type": "code",
   "execution_count": null,
   "metadata": {},
   "outputs": [],
   "source": []
  },
  {
   "cell_type": "code",
   "execution_count": null,
   "metadata": {},
   "outputs": [],
   "source": []
  },
  {
   "cell_type": "markdown",
   "metadata": {},
   "source": [
    "# Check gen_info for K12MG and BW "
   ]
  },
  {
   "cell_type": "code",
   "execution_count": 65,
   "metadata": {},
   "outputs": [],
   "source": [
    "#load data\n",
    "K12_info = pd.read_table(\"../Genomes/Ecoli_K12_MG1655_chrom_U00096_gene_info.txt\")\n",
    "BW_info = pd.read_table(\"../Genomes/Ecoli_BW25113_NZ_CP009273_gene_info.txt\")"
   ]
  },
  {
   "cell_type": "code",
   "execution_count": 66,
   "metadata": {},
   "outputs": [
    {
     "data": {
      "text/html": [
       "<div>\n",
       "<style scoped>\n",
       "    .dataframe tbody tr th:only-of-type {\n",
       "        vertical-align: middle;\n",
       "    }\n",
       "\n",
       "    .dataframe tbody tr th {\n",
       "        vertical-align: top;\n",
       "    }\n",
       "\n",
       "    .dataframe thead th {\n",
       "        text-align: right;\n",
       "    }\n",
       "</style>\n",
       "<table border=\"1\" class=\"dataframe\">\n",
       "  <thead>\n",
       "    <tr style=\"text-align: right;\">\n",
       "      <th></th>\n",
       "      <th>gbk_start</th>\n",
       "      <th>gbk_end</th>\n",
       "      <th>gbk_midpoint</th>\n",
       "      <th>gbk_gene_id</th>\n",
       "      <th>gbk_locus_tag</th>\n",
       "      <th>gbk_old_locus_tag</th>\n",
       "      <th>gbk_strand</th>\n",
       "    </tr>\n",
       "  </thead>\n",
       "  <tbody>\n",
       "    <tr>\n",
       "      <th>0</th>\n",
       "      <td>190</td>\n",
       "      <td>255</td>\n",
       "      <td>222</td>\n",
       "      <td>thrL</td>\n",
       "      <td>b0001</td>\n",
       "      <td>NaN</td>\n",
       "      <td>0</td>\n",
       "    </tr>\n",
       "    <tr>\n",
       "      <th>1</th>\n",
       "      <td>337</td>\n",
       "      <td>2799</td>\n",
       "      <td>1568</td>\n",
       "      <td>thrA</td>\n",
       "      <td>b0002</td>\n",
       "      <td>NaN</td>\n",
       "      <td>0</td>\n",
       "    </tr>\n",
       "    <tr>\n",
       "      <th>2</th>\n",
       "      <td>2801</td>\n",
       "      <td>3733</td>\n",
       "      <td>3267</td>\n",
       "      <td>thrB</td>\n",
       "      <td>b0003</td>\n",
       "      <td>NaN</td>\n",
       "      <td>0</td>\n",
       "    </tr>\n",
       "    <tr>\n",
       "      <th>3</th>\n",
       "      <td>3734</td>\n",
       "      <td>5020</td>\n",
       "      <td>4377</td>\n",
       "      <td>thrC</td>\n",
       "      <td>b0004</td>\n",
       "      <td>NaN</td>\n",
       "      <td>0</td>\n",
       "    </tr>\n",
       "    <tr>\n",
       "      <th>4</th>\n",
       "      <td>5234</td>\n",
       "      <td>5530</td>\n",
       "      <td>5382</td>\n",
       "      <td>yaaX</td>\n",
       "      <td>b0005</td>\n",
       "      <td>NaN</td>\n",
       "      <td>0</td>\n",
       "    </tr>\n",
       "  </tbody>\n",
       "</table>\n",
       "</div>"
      ],
      "text/plain": [
       "   gbk_start  gbk_end  gbk_midpoint gbk_gene_id gbk_locus_tag  \\\n",
       "0        190      255           222        thrL         b0001   \n",
       "1        337     2799          1568        thrA         b0002   \n",
       "2       2801     3733          3267        thrB         b0003   \n",
       "3       3734     5020          4377        thrC         b0004   \n",
       "4       5234     5530          5382        yaaX         b0005   \n",
       "\n",
       "  gbk_old_locus_tag  gbk_strand  \n",
       "0               NaN           0  \n",
       "1               NaN           0  \n",
       "2               NaN           0  \n",
       "3               NaN           0  \n",
       "4               NaN           0  "
      ]
     },
     "execution_count": 66,
     "metadata": {},
     "output_type": "execute_result"
    }
   ],
   "source": [
    "K12_info.head()"
   ]
  },
  {
   "cell_type": "code",
   "execution_count": 67,
   "metadata": {},
   "outputs": [
    {
     "data": {
      "text/html": [
       "<div>\n",
       "<style scoped>\n",
       "    .dataframe tbody tr th:only-of-type {\n",
       "        vertical-align: middle;\n",
       "    }\n",
       "\n",
       "    .dataframe tbody tr th {\n",
       "        vertical-align: top;\n",
       "    }\n",
       "\n",
       "    .dataframe thead th {\n",
       "        text-align: right;\n",
       "    }\n",
       "</style>\n",
       "<table border=\"1\" class=\"dataframe\">\n",
       "  <thead>\n",
       "    <tr style=\"text-align: right;\">\n",
       "      <th></th>\n",
       "      <th>gbk_start</th>\n",
       "      <th>gbk_end</th>\n",
       "      <th>gbk_midpoint</th>\n",
       "      <th>gbk_gene_id</th>\n",
       "      <th>gbk_locus_tag</th>\n",
       "      <th>gbk_old_locus_tag</th>\n",
       "      <th>gbk_strand</th>\n",
       "    </tr>\n",
       "  </thead>\n",
       "  <tbody>\n",
       "    <tr>\n",
       "      <th>0</th>\n",
       "      <td>190</td>\n",
       "      <td>255</td>\n",
       "      <td>222</td>\n",
       "      <td>NaN</td>\n",
       "      <td>BW25113_RS00005</td>\n",
       "      <td>BW25113_0001</td>\n",
       "      <td>0</td>\n",
       "    </tr>\n",
       "    <tr>\n",
       "      <th>1</th>\n",
       "      <td>337</td>\n",
       "      <td>2799</td>\n",
       "      <td>1568</td>\n",
       "      <td>NaN</td>\n",
       "      <td>BW25113_RS00010</td>\n",
       "      <td>BW25113_0002</td>\n",
       "      <td>0</td>\n",
       "    </tr>\n",
       "    <tr>\n",
       "      <th>2</th>\n",
       "      <td>2801</td>\n",
       "      <td>3733</td>\n",
       "      <td>3267</td>\n",
       "      <td>NaN</td>\n",
       "      <td>BW25113_RS00015</td>\n",
       "      <td>BW25113_0003</td>\n",
       "      <td>0</td>\n",
       "    </tr>\n",
       "    <tr>\n",
       "      <th>3</th>\n",
       "      <td>3734</td>\n",
       "      <td>5020</td>\n",
       "      <td>4377</td>\n",
       "      <td>NaN</td>\n",
       "      <td>BW25113_RS00020</td>\n",
       "      <td>BW25113_0004</td>\n",
       "      <td>0</td>\n",
       "    </tr>\n",
       "    <tr>\n",
       "      <th>4</th>\n",
       "      <td>5234</td>\n",
       "      <td>5530</td>\n",
       "      <td>5382</td>\n",
       "      <td>NaN</td>\n",
       "      <td>BW25113_RS00030</td>\n",
       "      <td>BW25113_0005</td>\n",
       "      <td>0</td>\n",
       "    </tr>\n",
       "  </tbody>\n",
       "</table>\n",
       "</div>"
      ],
      "text/plain": [
       "   gbk_start gbk_end  gbk_midpoint gbk_gene_id    gbk_locus_tag  \\\n",
       "0        190     255           222         NaN  BW25113_RS00005   \n",
       "1        337    2799          1568         NaN  BW25113_RS00010   \n",
       "2       2801    3733          3267         NaN  BW25113_RS00015   \n",
       "3       3734    5020          4377         NaN  BW25113_RS00020   \n",
       "4       5234    5530          5382         NaN  BW25113_RS00030   \n",
       "\n",
       "  gbk_old_locus_tag  gbk_strand  \n",
       "0      BW25113_0001           0  \n",
       "1      BW25113_0002           0  \n",
       "2      BW25113_0003           0  \n",
       "3      BW25113_0004           0  \n",
       "4      BW25113_0005           0  "
      ]
     },
     "execution_count": 67,
     "metadata": {},
     "output_type": "execute_result"
    }
   ],
   "source": [
    "BW_info.head()"
   ]
  },
  {
   "cell_type": "code",
   "execution_count": 68,
   "metadata": {},
   "outputs": [],
   "source": [
    "BW_info['key'] = BW_info['gbk_old_locus_tag'].str[-4:]"
   ]
  },
  {
   "cell_type": "code",
   "execution_count": 69,
   "metadata": {},
   "outputs": [],
   "source": [
    "K12_info['key'] = K12_info['gbk_locus_tag'].str[1:]"
   ]
  },
  {
   "cell_type": "code",
   "execution_count": 70,
   "metadata": {},
   "outputs": [],
   "source": [
    "compare = pd.merge(BW_info, K12_info, on='key')"
   ]
  },
  {
   "cell_type": "code",
   "execution_count": 71,
   "metadata": {},
   "outputs": [
    {
     "data": {
      "text/plain": [
       "4202"
      ]
     },
     "execution_count": 71,
     "metadata": {},
     "output_type": "execute_result"
    }
   ],
   "source": [
    "len(compare)"
   ]
  },
  {
   "cell_type": "code",
   "execution_count": 72,
   "metadata": {},
   "outputs": [
    {
     "data": {
      "text/html": [
       "<div>\n",
       "<style scoped>\n",
       "    .dataframe tbody tr th:only-of-type {\n",
       "        vertical-align: middle;\n",
       "    }\n",
       "\n",
       "    .dataframe tbody tr th {\n",
       "        vertical-align: top;\n",
       "    }\n",
       "\n",
       "    .dataframe thead th {\n",
       "        text-align: right;\n",
       "    }\n",
       "</style>\n",
       "<table border=\"1\" class=\"dataframe\">\n",
       "  <thead>\n",
       "    <tr style=\"text-align: right;\">\n",
       "      <th></th>\n",
       "      <th>gbk_start_x</th>\n",
       "      <th>gbk_end_x</th>\n",
       "      <th>gbk_midpoint_x</th>\n",
       "      <th>gbk_gene_id_x</th>\n",
       "      <th>gbk_locus_tag_x</th>\n",
       "      <th>gbk_old_locus_tag_x</th>\n",
       "      <th>gbk_strand_x</th>\n",
       "      <th>key</th>\n",
       "      <th>gbk_start_y</th>\n",
       "      <th>gbk_end_y</th>\n",
       "      <th>gbk_midpoint_y</th>\n",
       "      <th>gbk_gene_id_y</th>\n",
       "      <th>gbk_locus_tag_y</th>\n",
       "      <th>gbk_old_locus_tag_y</th>\n",
       "      <th>gbk_strand_y</th>\n",
       "    </tr>\n",
       "  </thead>\n",
       "  <tbody>\n",
       "    <tr>\n",
       "      <th>0</th>\n",
       "      <td>190</td>\n",
       "      <td>255</td>\n",
       "      <td>222</td>\n",
       "      <td>NaN</td>\n",
       "      <td>BW25113_RS00005</td>\n",
       "      <td>BW25113_0001</td>\n",
       "      <td>0</td>\n",
       "      <td>0001</td>\n",
       "      <td>190</td>\n",
       "      <td>255</td>\n",
       "      <td>222</td>\n",
       "      <td>thrL</td>\n",
       "      <td>b0001</td>\n",
       "      <td>NaN</td>\n",
       "      <td>0</td>\n",
       "    </tr>\n",
       "    <tr>\n",
       "      <th>1</th>\n",
       "      <td>337</td>\n",
       "      <td>2799</td>\n",
       "      <td>1568</td>\n",
       "      <td>NaN</td>\n",
       "      <td>BW25113_RS00010</td>\n",
       "      <td>BW25113_0002</td>\n",
       "      <td>0</td>\n",
       "      <td>0002</td>\n",
       "      <td>337</td>\n",
       "      <td>2799</td>\n",
       "      <td>1568</td>\n",
       "      <td>thrA</td>\n",
       "      <td>b0002</td>\n",
       "      <td>NaN</td>\n",
       "      <td>0</td>\n",
       "    </tr>\n",
       "    <tr>\n",
       "      <th>2</th>\n",
       "      <td>2801</td>\n",
       "      <td>3733</td>\n",
       "      <td>3267</td>\n",
       "      <td>NaN</td>\n",
       "      <td>BW25113_RS00015</td>\n",
       "      <td>BW25113_0003</td>\n",
       "      <td>0</td>\n",
       "      <td>0003</td>\n",
       "      <td>2801</td>\n",
       "      <td>3733</td>\n",
       "      <td>3267</td>\n",
       "      <td>thrB</td>\n",
       "      <td>b0003</td>\n",
       "      <td>NaN</td>\n",
       "      <td>0</td>\n",
       "    </tr>\n",
       "    <tr>\n",
       "      <th>3</th>\n",
       "      <td>3734</td>\n",
       "      <td>5020</td>\n",
       "      <td>4377</td>\n",
       "      <td>NaN</td>\n",
       "      <td>BW25113_RS00020</td>\n",
       "      <td>BW25113_0004</td>\n",
       "      <td>0</td>\n",
       "      <td>0004</td>\n",
       "      <td>3734</td>\n",
       "      <td>5020</td>\n",
       "      <td>4377</td>\n",
       "      <td>thrC</td>\n",
       "      <td>b0004</td>\n",
       "      <td>NaN</td>\n",
       "      <td>0</td>\n",
       "    </tr>\n",
       "    <tr>\n",
       "      <th>4</th>\n",
       "      <td>5234</td>\n",
       "      <td>5530</td>\n",
       "      <td>5382</td>\n",
       "      <td>NaN</td>\n",
       "      <td>BW25113_RS00030</td>\n",
       "      <td>BW25113_0005</td>\n",
       "      <td>0</td>\n",
       "      <td>0005</td>\n",
       "      <td>5234</td>\n",
       "      <td>5530</td>\n",
       "      <td>5382</td>\n",
       "      <td>yaaX</td>\n",
       "      <td>b0005</td>\n",
       "      <td>NaN</td>\n",
       "      <td>0</td>\n",
       "    </tr>\n",
       "  </tbody>\n",
       "</table>\n",
       "</div>"
      ],
      "text/plain": [
       "   gbk_start_x gbk_end_x  gbk_midpoint_x gbk_gene_id_x  gbk_locus_tag_x  \\\n",
       "0          190       255             222           NaN  BW25113_RS00005   \n",
       "1          337      2799            1568           NaN  BW25113_RS00010   \n",
       "2         2801      3733            3267           NaN  BW25113_RS00015   \n",
       "3         3734      5020            4377           NaN  BW25113_RS00020   \n",
       "4         5234      5530            5382           NaN  BW25113_RS00030   \n",
       "\n",
       "  gbk_old_locus_tag_x  gbk_strand_x   key  gbk_start_y  gbk_end_y  \\\n",
       "0        BW25113_0001             0  0001          190        255   \n",
       "1        BW25113_0002             0  0002          337       2799   \n",
       "2        BW25113_0003             0  0003         2801       3733   \n",
       "3        BW25113_0004             0  0004         3734       5020   \n",
       "4        BW25113_0005             0  0005         5234       5530   \n",
       "\n",
       "   gbk_midpoint_y gbk_gene_id_y gbk_locus_tag_y gbk_old_locus_tag_y  \\\n",
       "0             222          thrL           b0001                 NaN   \n",
       "1            1568          thrA           b0002                 NaN   \n",
       "2            3267          thrB           b0003                 NaN   \n",
       "3            4377          thrC           b0004                 NaN   \n",
       "4            5382          yaaX           b0005                 NaN   \n",
       "\n",
       "   gbk_strand_y  \n",
       "0             0  \n",
       "1             0  \n",
       "2             0  \n",
       "3             0  \n",
       "4             0  "
      ]
     },
     "execution_count": 72,
     "metadata": {},
     "output_type": "execute_result"
    }
   ],
   "source": [
    "compare.head()"
   ]
  },
  {
   "cell_type": "code",
   "execution_count": 73,
   "metadata": {},
   "outputs": [
    {
     "data": {
      "text/plain": [
       "gbk_start_x             int64\n",
       "gbk_end_x              object\n",
       "gbk_midpoint_x          int64\n",
       "gbk_gene_id_x          object\n",
       "gbk_locus_tag_x        object\n",
       "gbk_old_locus_tag_x    object\n",
       "gbk_strand_x            int64\n",
       "key                    object\n",
       "gbk_start_y             int64\n",
       "gbk_end_y               int64\n",
       "gbk_midpoint_y          int64\n",
       "gbk_gene_id_y          object\n",
       "gbk_locus_tag_y        object\n",
       "gbk_old_locus_tag_y    object\n",
       "gbk_strand_y            int64\n",
       "dtype: object"
      ]
     },
     "execution_count": 73,
     "metadata": {},
     "output_type": "execute_result"
    }
   ],
   "source": [
    "compare.dtypes"
   ]
  },
  {
   "cell_type": "code",
   "execution_count": null,
   "metadata": {},
   "outputs": [],
   "source": []
  },
  {
   "cell_type": "code",
   "execution_count": 74,
   "metadata": {},
   "outputs": [],
   "source": [
    "compare2 = pd.merge(K12_info, BW_info, on='gbk_start')"
   ]
  },
  {
   "cell_type": "code",
   "execution_count": 75,
   "metadata": {},
   "outputs": [
    {
     "data": {
      "text/plain": [
       "65"
      ]
     },
     "execution_count": 75,
     "metadata": {},
     "output_type": "execute_result"
    }
   ],
   "source": [
    "len(compare2)"
   ]
  },
  {
   "cell_type": "code",
   "execution_count": null,
   "metadata": {},
   "outputs": [],
   "source": [
    "\n"
   ]
  },
  {
   "cell_type": "code",
   "execution_count": null,
   "metadata": {},
   "outputs": [],
   "source": []
  },
  {
   "cell_type": "code",
   "execution_count": 76,
   "metadata": {},
   "outputs": [],
   "source": [
    "# ATCC_block = block[block.taxa=='NZ_CP009072'].sort_values(by='start').reset_index(drop=True)\n",
    "\n",
    "# starts =[]\n",
    "# for i in ATCC_block.start:\n",
    "#     if i < 5127087: \n",
    "#         starts.append(i)\n",
    "# print(ATCC_block.block[np.argmax(starts)])\n",
    "\n",
    "# ATCC_block = block[block.taxa=='NZ_CP009072'].sort_values(by='start', ascending=False).reset_index(drop=True)\n",
    "\n",
    "# ends =[]\n",
    "# for j in ATCC_block.end:\n",
    "#     if j > 5128349: \n",
    "#         ends.append(j)\n",
    "# print(ATCC_block.block[np.argmin(ends)])"
   ]
  },
  {
   "cell_type": "code",
   "execution_count": null,
   "metadata": {},
   "outputs": [],
   "source": []
  },
  {
   "cell_type": "code",
   "execution_count": null,
   "metadata": {},
   "outputs": [],
   "source": []
  },
  {
   "cell_type": "code",
   "execution_count": null,
   "metadata": {},
   "outputs": [],
   "source": []
  },
  {
   "cell_type": "code",
   "execution_count": null,
   "metadata": {},
   "outputs": [],
   "source": []
  },
  {
   "cell_type": "code",
   "execution_count": null,
   "metadata": {},
   "outputs": [],
   "source": []
  },
  {
   "cell_type": "code",
   "execution_count": null,
   "metadata": {},
   "outputs": [],
   "source": []
  }
 ],
 "metadata": {
  "kernelspec": {
   "display_name": "Python 3",
   "language": "python",
   "name": "python3"
  },
  "language_info": {
   "codemirror_mode": {
    "name": "ipython",
    "version": 3
   },
   "file_extension": ".py",
   "mimetype": "text/x-python",
   "name": "python",
   "nbconvert_exporter": "python",
   "pygments_lexer": "ipython3",
   "version": "3.6.8"
  }
 },
 "nbformat": 4,
 "nbformat_minor": 2
}
