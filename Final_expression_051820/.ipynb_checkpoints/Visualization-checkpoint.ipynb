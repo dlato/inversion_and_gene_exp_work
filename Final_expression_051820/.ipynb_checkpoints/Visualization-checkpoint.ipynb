{
 "cells": [
  {
   "cell_type": "code",
   "execution_count": 1,
   "metadata": {},
   "outputs": [],
   "source": [
    "import seaborn as sns\n",
    "import pandas as pd\n",
    "import numpy as np \n",
    "import matplotlib.pyplot as plt \n",
    "%matplotlib inline"
   ]
  },
  {
   "cell_type": "code",
   "execution_count": 98,
   "metadata": {},
   "outputs": [],
   "source": [
    "plt.rcParams['figure.figsize'] = [8, 6]"
   ]
  },
  {
   "cell_type": "markdown",
   "metadata": {},
   "source": [
    "## Gene expressions"
   ]
  },
  {
   "cell_type": "code",
   "execution_count": 3,
   "metadata": {},
   "outputs": [],
   "source": [
    "df = pd.read_csv(\"Sample_final_df.csv\")"
   ]
  },
  {
   "cell_type": "code",
   "execution_count": 106,
   "metadata": {},
   "outputs": [
    {
     "data": {
      "text/plain": [
       "array([nan,  0.,  1.])"
      ]
     },
     "execution_count": 106,
     "metadata": {},
     "output_type": "execute_result"
    }
   ],
   "source": [
    "df['gbk_strand'].unique()"
   ]
  },
  {
   "cell_type": "code",
   "execution_count": 4,
   "metadata": {},
   "outputs": [
    {
     "data": {
      "text/plain": [
       "Index(['block', 'end', 'gbk_end', 'gbk_gene_id', 'gbk_locus_tag',\n",
       "       'gbk_midpoint', 'gbk_old_locus_tag', 'gbk_start', 'gbk_strand',\n",
       "       'gene_id', 'inversion', 'locus_tag', 'norm_exp', 'rev_comp', 'start',\n",
       "       'strain', 'taxa'],\n",
       "      dtype='object')"
      ]
     },
     "execution_count": 4,
     "metadata": {},
     "output_type": "execute_result"
    }
   ],
   "source": [
    "df.columns"
   ]
  },
  {
   "cell_type": "code",
   "execution_count": 5,
   "metadata": {},
   "outputs": [],
   "source": [
    "df['gene_name'] = np.where(df['locus_tag'].isnull()==True, df['gene_id'], df['locus_tag'])"
   ]
  },
  {
   "cell_type": "code",
   "execution_count": 101,
   "metadata": {},
   "outputs": [],
   "source": [
    "df2 = df.loc[:,['block','start','end','rev_comp','inversion','strain','gene_name','gbk_start','gbk_midpoint','gbk_strand','gbk_end','norm_exp']]\n",
    "df2['block_length'] = df2['end'] - df2['start']"
   ]
  },
  {
   "cell_type": "code",
   "execution_count": 7,
   "metadata": {},
   "outputs": [
    {
     "name": "stdout",
     "output_type": "stream",
     "text": [
      "number of genes: 12248 \n",
      " genes inside inverted blocks: 8538 \n",
      " genes inside inverted block by strains: 2222\n"
     ]
    }
   ],
   "source": [
    "print('number of genes:',len(df2),'\\n genes inside inverted blocks:', \n",
    "      len(df2[df2['inversion']==1]),\n",
    "     '\\n genes inside inverted block by strains:',\n",
    "     len(df2[df2['rev_comp']==1]))"
   ]
  },
  {
   "cell_type": "code",
   "execution_count": 8,
   "metadata": {},
   "outputs": [],
   "source": [
    "gene_num = df2.groupby(['block','strain']).aggregate({'start':'first','end':'first',\n",
    "                                         'rev_comp':'first', 'inversion':'first', \n",
    "                                                   'gene_name':'count'}).reset_index()\n",
    "gene_num['block_space'] = gene_num['end'] - gene_num['start']"
   ]
  },
  {
   "cell_type": "code",
   "execution_count": 9,
   "metadata": {},
   "outputs": [
    {
     "data": {
      "text/html": [
       "<div>\n",
       "<style scoped>\n",
       "    .dataframe tbody tr th:only-of-type {\n",
       "        vertical-align: middle;\n",
       "    }\n",
       "\n",
       "    .dataframe tbody tr th {\n",
       "        vertical-align: top;\n",
       "    }\n",
       "\n",
       "    .dataframe thead th {\n",
       "        text-align: right;\n",
       "    }\n",
       "</style>\n",
       "<table border=\"1\" class=\"dataframe\">\n",
       "  <thead>\n",
       "    <tr style=\"text-align: right;\">\n",
       "      <th></th>\n",
       "      <th>block</th>\n",
       "      <th>strain</th>\n",
       "      <th>start</th>\n",
       "      <th>end</th>\n",
       "      <th>rev_comp</th>\n",
       "      <th>inversion</th>\n",
       "      <th>gene_name</th>\n",
       "      <th>block_space</th>\n",
       "    </tr>\n",
       "  </thead>\n",
       "  <tbody>\n",
       "    <tr>\n",
       "      <th>0</th>\n",
       "      <td>Block1</td>\n",
       "      <td>ATCC</td>\n",
       "      <td>2674559</td>\n",
       "      <td>2680026</td>\n",
       "      <td>0</td>\n",
       "      <td>0.0</td>\n",
       "      <td>4</td>\n",
       "      <td>5467</td>\n",
       "    </tr>\n",
       "    <tr>\n",
       "      <th>1</th>\n",
       "      <td>Block1</td>\n",
       "      <td>BW25113</td>\n",
       "      <td>0</td>\n",
       "      <td>5468</td>\n",
       "      <td>0</td>\n",
       "      <td>0.0</td>\n",
       "      <td>4</td>\n",
       "      <td>5468</td>\n",
       "    </tr>\n",
       "    <tr>\n",
       "      <th>2</th>\n",
       "      <td>Block1</td>\n",
       "      <td>K12DH</td>\n",
       "      <td>0</td>\n",
       "      <td>5468</td>\n",
       "      <td>0</td>\n",
       "      <td>0.0</td>\n",
       "      <td>4</td>\n",
       "      <td>5468</td>\n",
       "    </tr>\n",
       "    <tr>\n",
       "      <th>3</th>\n",
       "      <td>Block1</td>\n",
       "      <td>K12MG</td>\n",
       "      <td>0</td>\n",
       "      <td>5468</td>\n",
       "      <td>0</td>\n",
       "      <td>0.0</td>\n",
       "      <td>4</td>\n",
       "      <td>5468</td>\n",
       "    </tr>\n",
       "    <tr>\n",
       "      <th>4</th>\n",
       "      <td>Block10</td>\n",
       "      <td>ATCC</td>\n",
       "      <td>2701786</td>\n",
       "      <td>2704302</td>\n",
       "      <td>0</td>\n",
       "      <td>0.0</td>\n",
       "      <td>2</td>\n",
       "      <td>2516</td>\n",
       "    </tr>\n",
       "  </tbody>\n",
       "</table>\n",
       "</div>"
      ],
      "text/plain": [
       "     block   strain    start      end  rev_comp  inversion  gene_name  \\\n",
       "0   Block1     ATCC  2674559  2680026         0        0.0          4   \n",
       "1   Block1  BW25113        0     5468         0        0.0          4   \n",
       "2   Block1    K12DH        0     5468         0        0.0          4   \n",
       "3   Block1    K12MG        0     5468         0        0.0          4   \n",
       "4  Block10     ATCC  2701786  2704302         0        0.0          2   \n",
       "\n",
       "   block_space  \n",
       "0         5467  \n",
       "1         5468  \n",
       "2         5468  \n",
       "3         5468  \n",
       "4         2516  "
      ]
     },
     "execution_count": 9,
     "metadata": {},
     "output_type": "execute_result"
    }
   ],
   "source": [
    "gene_num.head()"
   ]
  },
  {
   "cell_type": "code",
   "execution_count": 10,
   "metadata": {},
   "outputs": [
    {
     "data": {
      "text/html": [
       "<div>\n",
       "<style scoped>\n",
       "    .dataframe tbody tr th:only-of-type {\n",
       "        vertical-align: middle;\n",
       "    }\n",
       "\n",
       "    .dataframe tbody tr th {\n",
       "        vertical-align: top;\n",
       "    }\n",
       "\n",
       "    .dataframe thead th {\n",
       "        text-align: right;\n",
       "    }\n",
       "</style>\n",
       "<table border=\"1\" class=\"dataframe\">\n",
       "  <thead>\n",
       "    <tr style=\"text-align: right;\">\n",
       "      <th></th>\n",
       "      <th>gene_name</th>\n",
       "    </tr>\n",
       "  </thead>\n",
       "  <tbody>\n",
       "    <tr>\n",
       "      <th>count</th>\n",
       "      <td>188.000000</td>\n",
       "    </tr>\n",
       "    <tr>\n",
       "      <th>mean</th>\n",
       "      <td>19.734043</td>\n",
       "    </tr>\n",
       "    <tr>\n",
       "      <th>std</th>\n",
       "      <td>20.012389</td>\n",
       "    </tr>\n",
       "    <tr>\n",
       "      <th>min</th>\n",
       "      <td>1.000000</td>\n",
       "    </tr>\n",
       "    <tr>\n",
       "      <th>25%</th>\n",
       "      <td>4.000000</td>\n",
       "    </tr>\n",
       "    <tr>\n",
       "      <th>50%</th>\n",
       "      <td>14.000000</td>\n",
       "    </tr>\n",
       "    <tr>\n",
       "      <th>75%</th>\n",
       "      <td>25.250000</td>\n",
       "    </tr>\n",
       "    <tr>\n",
       "      <th>max</th>\n",
       "      <td>115.000000</td>\n",
       "    </tr>\n",
       "  </tbody>\n",
       "</table>\n",
       "</div>"
      ],
      "text/plain": [
       "        gene_name\n",
       "count  188.000000\n",
       "mean    19.734043\n",
       "std     20.012389\n",
       "min      1.000000\n",
       "25%      4.000000\n",
       "50%     14.000000\n",
       "75%     25.250000\n",
       "max    115.000000"
      ]
     },
     "execution_count": 10,
     "metadata": {},
     "output_type": "execute_result"
    }
   ],
   "source": [
    "table= pd.pivot_table(df2[df2['inversion']==0], index=['block'], aggfunc={\n",
    "    'gene_name':'count'}).sort_values(by='gene_name',ascending=False)\n",
    "table[['gene_name']].describe() ## How many genes in each non-inverted block\n",
    "#related to the length of the block"
   ]
  },
  {
   "cell_type": "code",
   "execution_count": 11,
   "metadata": {},
   "outputs": [
    {
     "data": {
      "text/html": [
       "<div>\n",
       "<style scoped>\n",
       "    .dataframe tbody tr th:only-of-type {\n",
       "        vertical-align: middle;\n",
       "    }\n",
       "\n",
       "    .dataframe tbody tr th {\n",
       "        vertical-align: top;\n",
       "    }\n",
       "\n",
       "    .dataframe thead th {\n",
       "        text-align: right;\n",
       "    }\n",
       "</style>\n",
       "<table border=\"1\" class=\"dataframe\">\n",
       "  <thead>\n",
       "    <tr style=\"text-align: right;\">\n",
       "      <th></th>\n",
       "      <th>gene_name</th>\n",
       "    </tr>\n",
       "  </thead>\n",
       "  <tbody>\n",
       "    <tr>\n",
       "      <th>count</th>\n",
       "      <td>419.000000</td>\n",
       "    </tr>\n",
       "    <tr>\n",
       "      <th>mean</th>\n",
       "      <td>20.377088</td>\n",
       "    </tr>\n",
       "    <tr>\n",
       "      <th>std</th>\n",
       "      <td>21.011527</td>\n",
       "    </tr>\n",
       "    <tr>\n",
       "      <th>min</th>\n",
       "      <td>1.000000</td>\n",
       "    </tr>\n",
       "    <tr>\n",
       "      <th>25%</th>\n",
       "      <td>7.000000</td>\n",
       "    </tr>\n",
       "    <tr>\n",
       "      <th>50%</th>\n",
       "      <td>13.000000</td>\n",
       "    </tr>\n",
       "    <tr>\n",
       "      <th>75%</th>\n",
       "      <td>27.500000</td>\n",
       "    </tr>\n",
       "    <tr>\n",
       "      <th>max</th>\n",
       "      <td>161.000000</td>\n",
       "    </tr>\n",
       "  </tbody>\n",
       "</table>\n",
       "</div>"
      ],
      "text/plain": [
       "        gene_name\n",
       "count  419.000000\n",
       "mean    20.377088\n",
       "std     21.011527\n",
       "min      1.000000\n",
       "25%      7.000000\n",
       "50%     13.000000\n",
       "75%     27.500000\n",
       "max    161.000000"
      ]
     },
     "execution_count": 11,
     "metadata": {},
     "output_type": "execute_result"
    }
   ],
   "source": [
    "table1 = pd.pivot_table(df2[df2['inversion']==1], index=['block'], aggfunc={\n",
    "    'gene_name':'count'}).sort_values(by='gene_name',ascending=False)\n",
    "table1[['gene_name']].describe() ## How many genes in each inverted block"
   ]
  },
  {
   "cell_type": "code",
   "execution_count": 12,
   "metadata": {},
   "outputs": [],
   "source": [
    "#number of genes per block per strain\n",
    "table2 = pd.pivot_table(df2, index=['block','strain','rev_comp'], aggfunc={\n",
    "    'gene_name':'count'}).sort_values(by='block',ascending=False)\n",
    "#table2.head(n=20)"
   ]
  },
  {
   "cell_type": "code",
   "execution_count": 13,
   "metadata": {},
   "outputs": [
    {
     "data": {
      "text/html": [
       "<div>\n",
       "<style scoped>\n",
       "    .dataframe tbody tr th:only-of-type {\n",
       "        vertical-align: middle;\n",
       "    }\n",
       "\n",
       "    .dataframe tbody tr th {\n",
       "        vertical-align: top;\n",
       "    }\n",
       "\n",
       "    .dataframe thead th {\n",
       "        text-align: right;\n",
       "    }\n",
       "</style>\n",
       "<table border=\"1\" class=\"dataframe\">\n",
       "  <thead>\n",
       "    <tr style=\"text-align: right;\">\n",
       "      <th></th>\n",
       "      <th></th>\n",
       "      <th>rev_comp</th>\n",
       "    </tr>\n",
       "    <tr>\n",
       "      <th>strain</th>\n",
       "      <th>count</th>\n",
       "      <th></th>\n",
       "    </tr>\n",
       "  </thead>\n",
       "  <tbody>\n",
       "    <tr>\n",
       "      <th rowspan=\"3\" valign=\"top\">ATCC</th>\n",
       "      <th>0</th>\n",
       "      <td>0</td>\n",
       "    </tr>\n",
       "    <tr>\n",
       "      <th>1</th>\n",
       "      <td>411</td>\n",
       "    </tr>\n",
       "    <tr>\n",
       "      <th>2</th>\n",
       "      <td>2</td>\n",
       "    </tr>\n",
       "    <tr>\n",
       "      <th rowspan=\"3\" valign=\"top\">BW25113</th>\n",
       "      <th>0</th>\n",
       "      <td>0</td>\n",
       "    </tr>\n",
       "    <tr>\n",
       "      <th>1</th>\n",
       "      <td>0</td>\n",
       "    </tr>\n",
       "    <tr>\n",
       "      <th>2</th>\n",
       "      <td>0</td>\n",
       "    </tr>\n",
       "    <tr>\n",
       "      <th rowspan=\"3\" valign=\"top\">K12DH</th>\n",
       "      <th>0</th>\n",
       "      <td>0</td>\n",
       "    </tr>\n",
       "    <tr>\n",
       "      <th>1</th>\n",
       "      <td>0</td>\n",
       "    </tr>\n",
       "    <tr>\n",
       "      <th>2</th>\n",
       "      <td>2</td>\n",
       "    </tr>\n",
       "    <tr>\n",
       "      <th rowspan=\"3\" valign=\"top\">K12MG</th>\n",
       "      <th>0</th>\n",
       "      <td>0</td>\n",
       "    </tr>\n",
       "    <tr>\n",
       "      <th>1</th>\n",
       "      <td>0</td>\n",
       "    </tr>\n",
       "    <tr>\n",
       "      <th>2</th>\n",
       "      <td>0</td>\n",
       "    </tr>\n",
       "  </tbody>\n",
       "</table>\n",
       "</div>"
      ],
      "text/plain": [
       "               rev_comp\n",
       "strain  count          \n",
       "ATCC    0             0\n",
       "        1           411\n",
       "        2             2\n",
       "BW25113 0             0\n",
       "        1             0\n",
       "        2             0\n",
       "K12DH   0             0\n",
       "        1             0\n",
       "        2             2\n",
       "K12MG   0             0\n",
       "        1             0\n",
       "        2             0"
      ]
     },
     "execution_count": 13,
     "metadata": {},
     "output_type": "execute_result"
    }
   ],
   "source": [
    "rev_comp = gene_num.groupby(['block','strain']).aggregate({'rev_comp':sum})\n",
    "rev_comp['count'] = rev_comp.groupby(['block'])['rev_comp'].transform('sum')\n",
    "pd.pivot_table(rev_comp, index=['strain','count'], aggfunc=np.sum)"
   ]
  },
  {
   "cell_type": "markdown",
   "metadata": {},
   "source": [
    "## Number of strains in each block"
   ]
  },
  {
   "cell_type": "code",
   "execution_count": 14,
   "metadata": {},
   "outputs": [
    {
     "data": {
      "text/plain": [
       "4    559\n",
       "3     17\n",
       "1     16\n",
       "2     15\n",
       "Name: strain, dtype: int64"
      ]
     },
     "execution_count": 14,
     "metadata": {},
     "output_type": "execute_result"
    }
   ],
   "source": [
    "pd.DataFrame(df2.groupby('block')['strain'].nunique())['strain'].value_counts()"
   ]
  },
  {
   "cell_type": "code",
   "execution_count": 15,
   "metadata": {},
   "outputs": [
    {
     "data": {
      "text/plain": [
       "628"
      ]
     },
     "execution_count": 15,
     "metadata": {},
     "output_type": "execute_result"
    }
   ],
   "source": [
    "465+107+31+25"
   ]
  },
  {
   "cell_type": "code",
   "execution_count": 16,
   "metadata": {},
   "outputs": [
    {
     "data": {
      "text/plain": [
       "True"
      ]
     },
     "execution_count": 16,
     "metadata": {},
     "output_type": "execute_result"
    }
   ],
   "source": [
    "#607 blocks in total ##465+107+31+25\n",
    "df2.nunique()[0] == 559+17+16+15 ==607"
   ]
  },
  {
   "cell_type": "code",
   "execution_count": 17,
   "metadata": {},
   "outputs": [
    {
     "data": {
      "text/plain": [
       "607"
      ]
     },
     "execution_count": 17,
     "metadata": {},
     "output_type": "execute_result"
    }
   ],
   "source": [
    "df2.nunique()[0]"
   ]
  },
  {
   "cell_type": "markdown",
   "metadata": {},
   "source": [
    "## Graphs "
   ]
  },
  {
   "cell_type": "code",
   "execution_count": 18,
   "metadata": {},
   "outputs": [
    {
     "data": {
      "text/plain": [
       "<matplotlib.axes._subplots.AxesSubplot at 0x7f8901a50208>"
      ]
     },
     "execution_count": 18,
     "metadata": {},
     "output_type": "execute_result"
    },
    {
     "data": {
      "image/png": "[encoded data removed]",
      "text/plain": [
       "<Figure size 576x432 with 1 Axes>"
      ]
     },
     "metadata": {},
     "output_type": "display_data"
    }
   ],
   "source": [
    "sns.set(style=\"whitegrid\")\n",
    "#f, ax = plt.subplots(figsize=(6.5, 6.5))\n",
    "#sns.despine(f, left=True, bottom=True)\n",
    "sns.scatterplot(x=\"gene_name\", y=\"block_space\",\n",
    "                hue=\"strain\", linewidth=0,\n",
    "                data=gene_num, #ax=ax, \n",
    "                alpha=0.8)\n",
    "#change to line graph w confident intervals"
   ]
  },
  {
   "cell_type": "code",
   "execution_count": 19,
   "metadata": {},
   "outputs": [
    {
     "data": {
      "text/plain": [
       "<matplotlib.axes._subplots.AxesSubplot at 0x7f8901c309e8>"
      ]
     },
     "execution_count": 19,
     "metadata": {},
     "output_type": "execute_result"
    },
    {
     "data": {
      "image/png": "[encoded data removed]",
      "text/plain": [
       "<Figure size 576x432 with 1 Axes>"
      ]
     },
     "metadata": {},
     "output_type": "display_data"
    }
   ],
   "source": [
    "sns.lineplot(x=\"gene_name\", y=\"block_space\",\n",
    "                hue=\"strain\",\n",
    "                data=gene_num, alpha=0.5)"
   ]
  },
  {
   "cell_type": "code",
   "execution_count": 20,
   "metadata": {},
   "outputs": [
    {
     "data": {
      "text/plain": [
       "count     2333.000000\n",
       "mean      6160.024861\n",
       "std       5521.028874\n",
       "min         96.000000\n",
       "25%       2445.000000\n",
       "50%       4480.000000\n",
       "75%       8500.000000\n",
       "max      38569.000000\n",
       "Name: block_space, dtype: float64"
      ]
     },
     "execution_count": 20,
     "metadata": {},
     "output_type": "execute_result"
    }
   ],
   "source": [
    "gene_num['block_space'].describe()"
   ]
  },
  {
   "cell_type": "code",
   "execution_count": 21,
   "metadata": {},
   "outputs": [
    {
     "data": {
      "text/plain": [
       "<matplotlib.axes._subplots.AxesSubplot at 0x7f8901d01358>"
      ]
     },
     "execution_count": 21,
     "metadata": {},
     "output_type": "execute_result"
    },
    {
     "data": {
      "image/png": "[encoded data removed]",
      "text/plain": [
       "<Figure size 576x432 with 1 Axes>"
      ]
     },
     "metadata": {},
     "output_type": "display_data"
    }
   ],
   "source": [
    "ATCC= gene_num[gene_num['strain']=='ATCC']\n",
    "BW= gene_num[gene_num['strain']=='BW25113']\n",
    "K12DH= gene_num[gene_num['strain']=='K12DH']\n",
    "K12MG= gene_num[gene_num['strain']=='K12MG']\n",
    "\n",
    "sns.distplot(ATCC[['block_space']],hist=False,label='ATCC')\n",
    "sns.distplot(BW[['block_space']],hist=False,label='BW25113')\n",
    "sns.distplot(K12DH[['block_space']],hist=False,label='K12DH')\n",
    "sns.distplot(K12MG[['block_space']],hist=False,label='K12MG')"
   ]
  },
  {
   "cell_type": "markdown",
   "metadata": {},
   "source": [
    "### Sort gene by order "
   ]
  },
  {
   "cell_type": "code",
   "execution_count": 22,
   "metadata": {},
   "outputs": [],
   "source": [
    "#sort by midpoint \n",
    "df3 = df2.sort_values(by=['block','strain','gbk_midpoint']).reset_index(drop=True)\n",
    "#put all genes into one row\n",
    "df3['genes']= df3.groupby(['block','strain']).transform(lambda x:','.join(x))\n",
    "#groupby block and strain\n",
    "df3 = df3.groupby(['block','strain']).aggregate({'genes':'first','rev_comp':'first'}).reset_index()\n",
    "#split genes into multiple colns\n",
    "genes = pd.DataFrame(df3['genes'].str.split(',',expand=True).values)\n",
    "#combines \n",
    "genes_sort = pd.concat([df3,genes],axis=1)\n",
    "\n",
    "del genes_sort['genes']"
   ]
  },
  {
   "cell_type": "code",
   "execution_count": 23,
   "metadata": {},
   "outputs": [
    {
     "data": {
      "text/html": [
       "<div>\n",
       "<style scoped>\n",
       "    .dataframe tbody tr th:only-of-type {\n",
       "        vertical-align: middle;\n",
       "    }\n",
       "\n",
       "    .dataframe tbody tr th {\n",
       "        vertical-align: top;\n",
       "    }\n",
       "\n",
       "    .dataframe thead th {\n",
       "        text-align: right;\n",
       "    }\n",
       "</style>\n",
       "<table border=\"1\" class=\"dataframe\">\n",
       "  <thead>\n",
       "    <tr style=\"text-align: right;\">\n",
       "      <th></th>\n",
       "      <th>block</th>\n",
       "      <th>strain</th>\n",
       "      <th>rev_comp</th>\n",
       "      <th>0</th>\n",
       "      <th>1</th>\n",
       "      <th>2</th>\n",
       "      <th>3</th>\n",
       "      <th>4</th>\n",
       "      <th>5</th>\n",
       "      <th>6</th>\n",
       "      <th>...</th>\n",
       "      <th>32</th>\n",
       "      <th>33</th>\n",
       "      <th>34</th>\n",
       "      <th>35</th>\n",
       "      <th>36</th>\n",
       "      <th>37</th>\n",
       "      <th>38</th>\n",
       "      <th>39</th>\n",
       "      <th>40</th>\n",
       "      <th>41</th>\n",
       "    </tr>\n",
       "  </thead>\n",
       "  <tbody>\n",
       "    <tr>\n",
       "      <th>0</th>\n",
       "      <td>Block1</td>\n",
       "      <td>ATCC</td>\n",
       "      <td>0</td>\n",
       "      <td>DR76_RS13050</td>\n",
       "      <td>DR76_RS13055</td>\n",
       "      <td>DR76_RS13060</td>\n",
       "      <td>DR76_RS13065</td>\n",
       "      <td>None</td>\n",
       "      <td>None</td>\n",
       "      <td>None</td>\n",
       "      <td>...</td>\n",
       "      <td>None</td>\n",
       "      <td>None</td>\n",
       "      <td>None</td>\n",
       "      <td>None</td>\n",
       "      <td>None</td>\n",
       "      <td>None</td>\n",
       "      <td>None</td>\n",
       "      <td>None</td>\n",
       "      <td>None</td>\n",
       "      <td>None</td>\n",
       "    </tr>\n",
       "    <tr>\n",
       "      <th>1</th>\n",
       "      <td>Block1</td>\n",
       "      <td>BW25113</td>\n",
       "      <td>0</td>\n",
       "      <td>b0001</td>\n",
       "      <td>b0002</td>\n",
       "      <td>b0003</td>\n",
       "      <td>b0004</td>\n",
       "      <td>None</td>\n",
       "      <td>None</td>\n",
       "      <td>None</td>\n",
       "      <td>...</td>\n",
       "      <td>None</td>\n",
       "      <td>None</td>\n",
       "      <td>None</td>\n",
       "      <td>None</td>\n",
       "      <td>None</td>\n",
       "      <td>None</td>\n",
       "      <td>None</td>\n",
       "      <td>None</td>\n",
       "      <td>None</td>\n",
       "      <td>None</td>\n",
       "    </tr>\n",
       "    <tr>\n",
       "      <th>2</th>\n",
       "      <td>Block1</td>\n",
       "      <td>K12DH</td>\n",
       "      <td>0</td>\n",
       "      <td>ECDH10B_0001</td>\n",
       "      <td>ECDH10B_0002</td>\n",
       "      <td>ECDH10B_0003</td>\n",
       "      <td>ECDH10B_0004</td>\n",
       "      <td>None</td>\n",
       "      <td>None</td>\n",
       "      <td>None</td>\n",
       "      <td>...</td>\n",
       "      <td>None</td>\n",
       "      <td>None</td>\n",
       "      <td>None</td>\n",
       "      <td>None</td>\n",
       "      <td>None</td>\n",
       "      <td>None</td>\n",
       "      <td>None</td>\n",
       "      <td>None</td>\n",
       "      <td>None</td>\n",
       "      <td>None</td>\n",
       "    </tr>\n",
       "    <tr>\n",
       "      <th>3</th>\n",
       "      <td>Block1</td>\n",
       "      <td>K12MG</td>\n",
       "      <td>0</td>\n",
       "      <td>b0001</td>\n",
       "      <td>b0002</td>\n",
       "      <td>b0003</td>\n",
       "      <td>b0004</td>\n",
       "      <td>None</td>\n",
       "      <td>None</td>\n",
       "      <td>None</td>\n",
       "      <td>...</td>\n",
       "      <td>None</td>\n",
       "      <td>None</td>\n",
       "      <td>None</td>\n",
       "      <td>None</td>\n",
       "      <td>None</td>\n",
       "      <td>None</td>\n",
       "      <td>None</td>\n",
       "      <td>None</td>\n",
       "      <td>None</td>\n",
       "      <td>None</td>\n",
       "    </tr>\n",
       "    <tr>\n",
       "      <th>4</th>\n",
       "      <td>Block10</td>\n",
       "      <td>ATCC</td>\n",
       "      <td>0</td>\n",
       "      <td>DR76_RS13185</td>\n",
       "      <td>DR76_RS13190</td>\n",
       "      <td>None</td>\n",
       "      <td>None</td>\n",
       "      <td>None</td>\n",
       "      <td>None</td>\n",
       "      <td>None</td>\n",
       "      <td>...</td>\n",
       "      <td>None</td>\n",
       "      <td>None</td>\n",
       "      <td>None</td>\n",
       "      <td>None</td>\n",
       "      <td>None</td>\n",
       "      <td>None</td>\n",
       "      <td>None</td>\n",
       "      <td>None</td>\n",
       "      <td>None</td>\n",
       "      <td>None</td>\n",
       "    </tr>\n",
       "  </tbody>\n",
       "</table>\n",
       "<p>5 rows × 45 columns</p>\n",
       "</div>"
      ],
      "text/plain": [
       "     block   strain  rev_comp             0             1             2  \\\n",
       "0   Block1     ATCC         0  DR76_RS13050  DR76_RS13055  DR76_RS13060   \n",
       "1   Block1  BW25113         0         b0001         b0002         b0003   \n",
       "2   Block1    K12DH         0  ECDH10B_0001  ECDH10B_0002  ECDH10B_0003   \n",
       "3   Block1    K12MG         0         b0001         b0002         b0003   \n",
       "4  Block10     ATCC         0  DR76_RS13185  DR76_RS13190          None   \n",
       "\n",
       "              3     4     5     6  ...     32    33    34    35    36    37  \\\n",
       "0  DR76_RS13065  None  None  None  ...   None  None  None  None  None  None   \n",
       "1         b0004  None  None  None  ...   None  None  None  None  None  None   \n",
       "2  ECDH10B_0004  None  None  None  ...   None  None  None  None  None  None   \n",
       "3         b0004  None  None  None  ...   None  None  None  None  None  None   \n",
       "4          None  None  None  None  ...   None  None  None  None  None  None   \n",
       "\n",
       "     38    39    40    41  \n",
       "0  None  None  None  None  \n",
       "1  None  None  None  None  \n",
       "2  None  None  None  None  \n",
       "3  None  None  None  None  \n",
       "4  None  None  None  None  \n",
       "\n",
       "[5 rows x 45 columns]"
      ]
     },
     "execution_count": 23,
     "metadata": {},
     "output_type": "execute_result"
    }
   ],
   "source": [
    "genes_sort.head()"
   ]
  },
  {
   "cell_type": "markdown",
   "metadata": {},
   "source": [
    "### blocks"
   ]
  },
  {
   "cell_type": "code",
   "execution_count": 24,
   "metadata": {},
   "outputs": [
    {
     "data": {
      "text/html": [
       "<div>\n",
       "<style scoped>\n",
       "    .dataframe tbody tr th:only-of-type {\n",
       "        vertical-align: middle;\n",
       "    }\n",
       "\n",
       "    .dataframe tbody tr th {\n",
       "        vertical-align: top;\n",
       "    }\n",
       "\n",
       "    .dataframe thead th {\n",
       "        text-align: right;\n",
       "    }\n",
       "</style>\n",
       "<table border=\"1\" class=\"dataframe\">\n",
       "  <thead>\n",
       "    <tr style=\"text-align: right;\">\n",
       "      <th></th>\n",
       "      <th>block</th>\n",
       "      <th>strain</th>\n",
       "      <th>start</th>\n",
       "      <th>end</th>\n",
       "      <th>rev_comp</th>\n",
       "      <th>inversion</th>\n",
       "      <th>gene_name</th>\n",
       "      <th>block_space</th>\n",
       "    </tr>\n",
       "  </thead>\n",
       "  <tbody>\n",
       "    <tr>\n",
       "      <th>0</th>\n",
       "      <td>Block1</td>\n",
       "      <td>ATCC</td>\n",
       "      <td>2674559</td>\n",
       "      <td>2680026</td>\n",
       "      <td>0</td>\n",
       "      <td>0.0</td>\n",
       "      <td>4</td>\n",
       "      <td>5467</td>\n",
       "    </tr>\n",
       "    <tr>\n",
       "      <th>1</th>\n",
       "      <td>Block1</td>\n",
       "      <td>BW25113</td>\n",
       "      <td>0</td>\n",
       "      <td>5468</td>\n",
       "      <td>0</td>\n",
       "      <td>0.0</td>\n",
       "      <td>4</td>\n",
       "      <td>5468</td>\n",
       "    </tr>\n",
       "    <tr>\n",
       "      <th>2</th>\n",
       "      <td>Block1</td>\n",
       "      <td>K12DH</td>\n",
       "      <td>0</td>\n",
       "      <td>5468</td>\n",
       "      <td>0</td>\n",
       "      <td>0.0</td>\n",
       "      <td>4</td>\n",
       "      <td>5468</td>\n",
       "    </tr>\n",
       "    <tr>\n",
       "      <th>3</th>\n",
       "      <td>Block1</td>\n",
       "      <td>K12MG</td>\n",
       "      <td>0</td>\n",
       "      <td>5468</td>\n",
       "      <td>0</td>\n",
       "      <td>0.0</td>\n",
       "      <td>4</td>\n",
       "      <td>5468</td>\n",
       "    </tr>\n",
       "    <tr>\n",
       "      <th>4</th>\n",
       "      <td>Block10</td>\n",
       "      <td>ATCC</td>\n",
       "      <td>2701786</td>\n",
       "      <td>2704302</td>\n",
       "      <td>0</td>\n",
       "      <td>0.0</td>\n",
       "      <td>2</td>\n",
       "      <td>2516</td>\n",
       "    </tr>\n",
       "  </tbody>\n",
       "</table>\n",
       "</div>"
      ],
      "text/plain": [
       "     block   strain    start      end  rev_comp  inversion  gene_name  \\\n",
       "0   Block1     ATCC  2674559  2680026         0        0.0          4   \n",
       "1   Block1  BW25113        0     5468         0        0.0          4   \n",
       "2   Block1    K12DH        0     5468         0        0.0          4   \n",
       "3   Block1    K12MG        0     5468         0        0.0          4   \n",
       "4  Block10     ATCC  2701786  2704302         0        0.0          2   \n",
       "\n",
       "   block_space  \n",
       "0         5467  \n",
       "1         5468  \n",
       "2         5468  \n",
       "3         5468  \n",
       "4         2516  "
      ]
     },
     "execution_count": 24,
     "metadata": {},
     "output_type": "execute_result"
    }
   ],
   "source": [
    "gene_num.head()"
   ]
  },
  {
   "cell_type": "code",
   "execution_count": 25,
   "metadata": {},
   "outputs": [],
   "source": [
    "#histogram length of blocks: inverted vs non inverted\n",
    "#table # of inversion & rev_comp within strain\n",
    "#expression: inverted vs non-inverted && rev-comp\n",
    "#spatial position of the strain"
   ]
  },
  {
   "cell_type": "code",
   "execution_count": 26,
   "metadata": {},
   "outputs": [
    {
     "data": {
      "text/plain": [
       "<matplotlib.axes._subplots.AxesSubplot at 0x7f8901d412b0>"
      ]
     },
     "execution_count": 26,
     "metadata": {},
     "output_type": "execute_result"
    },
    {
     "data": {
      "image/png": "[encoded data removed]",
      "text/plain": [
       "<Figure size 576x432 with 1 Axes>"
      ]
     },
     "metadata": {},
     "output_type": "display_data"
    }
   ],
   "source": [
    "sns.boxplot(x=\"strain\", y=\"norm_exp\", hue=\"inversion\",\n",
    "                 data=df2)"
   ]
  },
  {
   "cell_type": "code",
   "execution_count": 27,
   "metadata": {},
   "outputs": [
    {
     "data": {
      "text/plain": [
       "<matplotlib.axes._subplots.AxesSubplot at 0x7f890237cf98>"
      ]
     },
     "execution_count": 27,
     "metadata": {},
     "output_type": "execute_result"
    },
    {
     "data": {
      "image/png": "[encoded data removed]",
      "text/plain": [
       "<Figure size 576x432 with 1 Axes>"
      ]
     },
     "metadata": {},
     "output_type": "display_data"
    }
   ],
   "source": [
    "sns.boxplot(x=\"strain\", y=\"norm_exp\", hue=\"rev_comp\",\n",
    "                 data=df2)"
   ]
  },
  {
   "cell_type": "code",
   "execution_count": 28,
   "metadata": {},
   "outputs": [
    {
     "data": {
      "text/html": [
       "<div>\n",
       "<style scoped>\n",
       "    .dataframe tbody tr th:only-of-type {\n",
       "        vertical-align: middle;\n",
       "    }\n",
       "\n",
       "    .dataframe tbody tr th {\n",
       "        vertical-align: top;\n",
       "    }\n",
       "\n",
       "    .dataframe thead th {\n",
       "        text-align: right;\n",
       "    }\n",
       "</style>\n",
       "<table border=\"1\" class=\"dataframe\">\n",
       "  <thead>\n",
       "    <tr style=\"text-align: right;\">\n",
       "      <th></th>\n",
       "      <th></th>\n",
       "      <th>count</th>\n",
       "      <th>mean</th>\n",
       "      <th>std</th>\n",
       "      <th>min</th>\n",
       "      <th>25%</th>\n",
       "      <th>50%</th>\n",
       "      <th>75%</th>\n",
       "      <th>max</th>\n",
       "    </tr>\n",
       "    <tr>\n",
       "      <th>strain</th>\n",
       "      <th>inversion</th>\n",
       "      <th></th>\n",
       "      <th></th>\n",
       "      <th></th>\n",
       "      <th></th>\n",
       "      <th></th>\n",
       "      <th></th>\n",
       "      <th></th>\n",
       "      <th></th>\n",
       "    </tr>\n",
       "  </thead>\n",
       "  <tbody>\n",
       "    <tr>\n",
       "      <th rowspan=\"2\" valign=\"top\">ATCC</th>\n",
       "      <th>0.0</th>\n",
       "      <td>961.0</td>\n",
       "      <td>213.479839</td>\n",
       "      <td>795.292581</td>\n",
       "      <td>0.000000</td>\n",
       "      <td>12.442303</td>\n",
       "      <td>54.367770</td>\n",
       "      <td>171.717847</td>\n",
       "      <td>20648.297359</td>\n",
       "    </tr>\n",
       "    <tr>\n",
       "      <th>1.0</th>\n",
       "      <td>2220.0</td>\n",
       "      <td>241.651082</td>\n",
       "      <td>782.563545</td>\n",
       "      <td>0.017593</td>\n",
       "      <td>15.408763</td>\n",
       "      <td>61.402087</td>\n",
       "      <td>183.113905</td>\n",
       "      <td>20575.495960</td>\n",
       "    </tr>\n",
       "    <tr>\n",
       "      <th rowspan=\"2\" valign=\"top\">BW25113</th>\n",
       "      <th>0.0</th>\n",
       "      <td>913.0</td>\n",
       "      <td>117.811438</td>\n",
       "      <td>408.301701</td>\n",
       "      <td>0.000000</td>\n",
       "      <td>4.322296</td>\n",
       "      <td>23.864760</td>\n",
       "      <td>85.507422</td>\n",
       "      <td>7382.856047</td>\n",
       "    </tr>\n",
       "    <tr>\n",
       "      <th>1.0</th>\n",
       "      <td>2127.0</td>\n",
       "      <td>130.743166</td>\n",
       "      <td>457.331650</td>\n",
       "      <td>0.000000</td>\n",
       "      <td>6.458997</td>\n",
       "      <td>25.063866</td>\n",
       "      <td>89.572095</td>\n",
       "      <td>10112.903901</td>\n",
       "    </tr>\n",
       "    <tr>\n",
       "      <th rowspan=\"2\" valign=\"top\">K12DH</th>\n",
       "      <th>0.0</th>\n",
       "      <td>930.0</td>\n",
       "      <td>294.772990</td>\n",
       "      <td>962.526693</td>\n",
       "      <td>0.000000</td>\n",
       "      <td>5.905871</td>\n",
       "      <td>41.710597</td>\n",
       "      <td>171.477272</td>\n",
       "      <td>12220.624089</td>\n",
       "    </tr>\n",
       "    <tr>\n",
       "      <th>1.0</th>\n",
       "      <td>2128.0</td>\n",
       "      <td>260.529890</td>\n",
       "      <td>897.032008</td>\n",
       "      <td>0.000000</td>\n",
       "      <td>8.563260</td>\n",
       "      <td>42.608515</td>\n",
       "      <td>148.411273</td>\n",
       "      <td>11734.511965</td>\n",
       "    </tr>\n",
       "    <tr>\n",
       "      <th rowspan=\"2\" valign=\"top\">K12MG</th>\n",
       "      <th>0.0</th>\n",
       "      <td>906.0</td>\n",
       "      <td>203.957706</td>\n",
       "      <td>491.584410</td>\n",
       "      <td>0.000000</td>\n",
       "      <td>17.982283</td>\n",
       "      <td>67.919859</td>\n",
       "      <td>180.251434</td>\n",
       "      <td>7366.748289</td>\n",
       "    </tr>\n",
       "    <tr>\n",
       "      <th>1.0</th>\n",
       "      <td>2063.0</td>\n",
       "      <td>193.620143</td>\n",
       "      <td>438.242439</td>\n",
       "      <td>0.000000</td>\n",
       "      <td>25.925333</td>\n",
       "      <td>74.434305</td>\n",
       "      <td>164.461446</td>\n",
       "      <td>5847.788957</td>\n",
       "    </tr>\n",
       "  </tbody>\n",
       "</table>\n",
       "</div>"
      ],
      "text/plain": [
       "                    count        mean         std       min        25%  \\\n",
       "strain  inversion                                                        \n",
       "ATCC    0.0         961.0  213.479839  795.292581  0.000000  12.442303   \n",
       "        1.0        2220.0  241.651082  782.563545  0.017593  15.408763   \n",
       "BW25113 0.0         913.0  117.811438  408.301701  0.000000   4.322296   \n",
       "        1.0        2127.0  130.743166  457.331650  0.000000   6.458997   \n",
       "K12DH   0.0         930.0  294.772990  962.526693  0.000000   5.905871   \n",
       "        1.0        2128.0  260.529890  897.032008  0.000000   8.563260   \n",
       "K12MG   0.0         906.0  203.957706  491.584410  0.000000  17.982283   \n",
       "        1.0        2063.0  193.620143  438.242439  0.000000  25.925333   \n",
       "\n",
       "                         50%         75%           max  \n",
       "strain  inversion                                       \n",
       "ATCC    0.0        54.367770  171.717847  20648.297359  \n",
       "        1.0        61.402087  183.113905  20575.495960  \n",
       "BW25113 0.0        23.864760   85.507422   7382.856047  \n",
       "        1.0        25.063866   89.572095  10112.903901  \n",
       "K12DH   0.0        41.710597  171.477272  12220.624089  \n",
       "        1.0        42.608515  148.411273  11734.511965  \n",
       "K12MG   0.0        67.919859  180.251434   7366.748289  \n",
       "        1.0        74.434305  164.461446   5847.788957  "
      ]
     },
     "execution_count": 28,
     "metadata": {},
     "output_type": "execute_result"
    }
   ],
   "source": [
    "df2.groupby(['strain','inversion'])['norm_exp'].describe()"
   ]
  },
  {
   "cell_type": "code",
   "execution_count": 29,
   "metadata": {},
   "outputs": [
    {
     "data": {
      "text/html": [
       "<div>\n",
       "<style scoped>\n",
       "    .dataframe tbody tr th:only-of-type {\n",
       "        vertical-align: middle;\n",
       "    }\n",
       "\n",
       "    .dataframe tbody tr th {\n",
       "        vertical-align: top;\n",
       "    }\n",
       "\n",
       "    .dataframe thead th {\n",
       "        text-align: right;\n",
       "    }\n",
       "</style>\n",
       "<table border=\"1\" class=\"dataframe\">\n",
       "  <thead>\n",
       "    <tr style=\"text-align: right;\">\n",
       "      <th></th>\n",
       "      <th></th>\n",
       "      <th>count</th>\n",
       "      <th>mean</th>\n",
       "      <th>std</th>\n",
       "      <th>min</th>\n",
       "      <th>25%</th>\n",
       "      <th>50%</th>\n",
       "      <th>75%</th>\n",
       "      <th>max</th>\n",
       "    </tr>\n",
       "    <tr>\n",
       "      <th>strain</th>\n",
       "      <th>rev_comp</th>\n",
       "      <th></th>\n",
       "      <th></th>\n",
       "      <th></th>\n",
       "      <th></th>\n",
       "      <th></th>\n",
       "      <th></th>\n",
       "      <th></th>\n",
       "      <th></th>\n",
       "    </tr>\n",
       "  </thead>\n",
       "  <tbody>\n",
       "    <tr>\n",
       "      <th rowspan=\"2\" valign=\"top\">ATCC</th>\n",
       "      <th>0</th>\n",
       "      <td>961.0</td>\n",
       "      <td>213.479839</td>\n",
       "      <td>795.292581</td>\n",
       "      <td>0.000000</td>\n",
       "      <td>12.442303</td>\n",
       "      <td>54.367770</td>\n",
       "      <td>171.717847</td>\n",
       "      <td>20648.297359</td>\n",
       "    </tr>\n",
       "    <tr>\n",
       "      <th>1</th>\n",
       "      <td>2220.0</td>\n",
       "      <td>241.651082</td>\n",
       "      <td>782.563545</td>\n",
       "      <td>0.017593</td>\n",
       "      <td>15.408763</td>\n",
       "      <td>61.402087</td>\n",
       "      <td>183.113905</td>\n",
       "      <td>20575.495960</td>\n",
       "    </tr>\n",
       "    <tr>\n",
       "      <th>BW25113</th>\n",
       "      <th>0</th>\n",
       "      <td>3040.0</td>\n",
       "      <td>126.859394</td>\n",
       "      <td>443.149850</td>\n",
       "      <td>0.000000</td>\n",
       "      <td>5.795647</td>\n",
       "      <td>24.402556</td>\n",
       "      <td>88.583466</td>\n",
       "      <td>10112.903901</td>\n",
       "    </tr>\n",
       "    <tr>\n",
       "      <th rowspan=\"2\" valign=\"top\">K12DH</th>\n",
       "      <th>0</th>\n",
       "      <td>3056.0</td>\n",
       "      <td>271.052132</td>\n",
       "      <td>917.711624</td>\n",
       "      <td>0.000000</td>\n",
       "      <td>7.516839</td>\n",
       "      <td>42.301739</td>\n",
       "      <td>158.404388</td>\n",
       "      <td>12220.624089</td>\n",
       "    </tr>\n",
       "    <tr>\n",
       "      <th>1</th>\n",
       "      <td>2.0</td>\n",
       "      <td>105.585195</td>\n",
       "      <td>64.682800</td>\n",
       "      <td>59.847549</td>\n",
       "      <td>82.716372</td>\n",
       "      <td>105.585195</td>\n",
       "      <td>128.454018</td>\n",
       "      <td>151.322841</td>\n",
       "    </tr>\n",
       "    <tr>\n",
       "      <th>K12MG</th>\n",
       "      <th>0</th>\n",
       "      <td>2969.0</td>\n",
       "      <td>196.774684</td>\n",
       "      <td>455.124176</td>\n",
       "      <td>0.000000</td>\n",
       "      <td>23.174337</td>\n",
       "      <td>72.600660</td>\n",
       "      <td>168.810289</td>\n",
       "      <td>7366.748289</td>\n",
       "    </tr>\n",
       "  </tbody>\n",
       "</table>\n",
       "</div>"
      ],
      "text/plain": [
       "                   count        mean         std        min        25%  \\\n",
       "strain  rev_comp                                                         \n",
       "ATCC    0          961.0  213.479839  795.292581   0.000000  12.442303   \n",
       "        1         2220.0  241.651082  782.563545   0.017593  15.408763   \n",
       "BW25113 0         3040.0  126.859394  443.149850   0.000000   5.795647   \n",
       "K12DH   0         3056.0  271.052132  917.711624   0.000000   7.516839   \n",
       "        1            2.0  105.585195   64.682800  59.847549  82.716372   \n",
       "K12MG   0         2969.0  196.774684  455.124176   0.000000  23.174337   \n",
       "\n",
       "                         50%         75%           max  \n",
       "strain  rev_comp                                        \n",
       "ATCC    0          54.367770  171.717847  20648.297359  \n",
       "        1          61.402087  183.113905  20575.495960  \n",
       "BW25113 0          24.402556   88.583466  10112.903901  \n",
       "K12DH   0          42.301739  158.404388  12220.624089  \n",
       "        1         105.585195  128.454018    151.322841  \n",
       "K12MG   0          72.600660  168.810289   7366.748289  "
      ]
     },
     "execution_count": 29,
     "metadata": {},
     "output_type": "execute_result"
    }
   ],
   "source": [
    "df2.groupby(['strain','rev_comp'])['norm_exp'].describe()"
   ]
  },
  {
   "cell_type": "code",
   "execution_count": 30,
   "metadata": {},
   "outputs": [],
   "source": [
    "## about blocks"
   ]
  },
  {
   "cell_type": "code",
   "execution_count": 31,
   "metadata": {},
   "outputs": [
    {
     "data": {
      "text/html": [
       "<div>\n",
       "<style scoped>\n",
       "    .dataframe tbody tr th:only-of-type {\n",
       "        vertical-align: middle;\n",
       "    }\n",
       "\n",
       "    .dataframe tbody tr th {\n",
       "        vertical-align: top;\n",
       "    }\n",
       "\n",
       "    .dataframe thead th {\n",
       "        text-align: right;\n",
       "    }\n",
       "</style>\n",
       "<table border=\"1\" class=\"dataframe\">\n",
       "  <thead>\n",
       "    <tr style=\"text-align: right;\">\n",
       "      <th></th>\n",
       "      <th></th>\n",
       "      <th>rev_comp</th>\n",
       "    </tr>\n",
       "    <tr>\n",
       "      <th>strain</th>\n",
       "      <th>count</th>\n",
       "      <th></th>\n",
       "    </tr>\n",
       "  </thead>\n",
       "  <tbody>\n",
       "    <tr>\n",
       "      <th rowspan=\"3\" valign=\"top\">ATCC</th>\n",
       "      <th>0</th>\n",
       "      <td>0</td>\n",
       "    </tr>\n",
       "    <tr>\n",
       "      <th>1</th>\n",
       "      <td>411</td>\n",
       "    </tr>\n",
       "    <tr>\n",
       "      <th>2</th>\n",
       "      <td>2</td>\n",
       "    </tr>\n",
       "    <tr>\n",
       "      <th rowspan=\"3\" valign=\"top\">BW25113</th>\n",
       "      <th>0</th>\n",
       "      <td>0</td>\n",
       "    </tr>\n",
       "    <tr>\n",
       "      <th>1</th>\n",
       "      <td>0</td>\n",
       "    </tr>\n",
       "    <tr>\n",
       "      <th>2</th>\n",
       "      <td>0</td>\n",
       "    </tr>\n",
       "    <tr>\n",
       "      <th rowspan=\"3\" valign=\"top\">K12DH</th>\n",
       "      <th>0</th>\n",
       "      <td>0</td>\n",
       "    </tr>\n",
       "    <tr>\n",
       "      <th>1</th>\n",
       "      <td>0</td>\n",
       "    </tr>\n",
       "    <tr>\n",
       "      <th>2</th>\n",
       "      <td>2</td>\n",
       "    </tr>\n",
       "    <tr>\n",
       "      <th rowspan=\"3\" valign=\"top\">K12MG</th>\n",
       "      <th>0</th>\n",
       "      <td>0</td>\n",
       "    </tr>\n",
       "    <tr>\n",
       "      <th>1</th>\n",
       "      <td>0</td>\n",
       "    </tr>\n",
       "    <tr>\n",
       "      <th>2</th>\n",
       "      <td>0</td>\n",
       "    </tr>\n",
       "  </tbody>\n",
       "</table>\n",
       "</div>"
      ],
      "text/plain": [
       "               rev_comp\n",
       "strain  count          \n",
       "ATCC    0             0\n",
       "        1           411\n",
       "        2             2\n",
       "BW25113 0             0\n",
       "        1             0\n",
       "        2             0\n",
       "K12DH   0             0\n",
       "        1             0\n",
       "        2             2\n",
       "K12MG   0             0\n",
       "        1             0\n",
       "        2             0"
      ]
     },
     "execution_count": 31,
     "metadata": {},
     "output_type": "execute_result"
    }
   ],
   "source": [
    "rev_comp = gene_num.groupby(['block','strain']).aggregate({'rev_comp':sum})\n",
    "rev_comp['count'] = rev_comp.groupby(['block'])['rev_comp'].transform('sum')\n",
    "pd.pivot_table(rev_comp, index=['strain','count'], aggfunc=np.sum)"
   ]
  },
  {
   "cell_type": "code",
   "execution_count": 32,
   "metadata": {},
   "outputs": [
    {
     "data": {
      "text/plain": [
       "607"
      ]
     },
     "execution_count": 32,
     "metadata": {},
     "output_type": "execute_result"
    }
   ],
   "source": [
    "df['block'].nunique()"
   ]
  },
  {
   "cell_type": "code",
   "execution_count": 33,
   "metadata": {},
   "outputs": [
    {
     "data": {
      "text/plain": [
       "415"
      ]
     },
     "execution_count": 33,
     "metadata": {},
     "output_type": "execute_result"
    }
   ],
   "source": [
    "gene_num['rev_comp'].sum()"
   ]
  },
  {
   "cell_type": "code",
   "execution_count": 34,
   "metadata": {},
   "outputs": [
    {
     "data": {
      "text/plain": [
       "<matplotlib.axes._subplots.AxesSubplot at 0x7f8902419b70>"
      ]
     },
     "execution_count": 34,
     "metadata": {},
     "output_type": "execute_result"
    },
    {
     "data": {
      "image/png": "[encoded data removed]",
      "text/plain": [
       "<Figure size 576x432 with 1 Axes>"
      ]
     },
     "metadata": {},
     "output_type": "display_data"
    }
   ],
   "source": [
    "sns.boxplot(x=\"rev_comp\", y=\"norm_exp\", \n",
    "            #hue=\"rev_comp\",\n",
    "                 data=df2)"
   ]
  },
  {
   "cell_type": "markdown",
   "metadata": {},
   "source": [
    "## inversion position"
   ]
  },
  {
   "cell_type": "code",
   "execution_count": 35,
   "metadata": {},
   "outputs": [
    {
     "data": {
      "text/html": [
       "<div>\n",
       "<style scoped>\n",
       "    .dataframe tbody tr th:only-of-type {\n",
       "        vertical-align: middle;\n",
       "    }\n",
       "\n",
       "    .dataframe tbody tr th {\n",
       "        vertical-align: top;\n",
       "    }\n",
       "\n",
       "    .dataframe thead th {\n",
       "        text-align: right;\n",
       "    }\n",
       "</style>\n",
       "<table border=\"1\" class=\"dataframe\">\n",
       "  <thead>\n",
       "    <tr style=\"text-align: right;\">\n",
       "      <th></th>\n",
       "      <th>block</th>\n",
       "      <th>start</th>\n",
       "      <th>end</th>\n",
       "      <th>rev_comp</th>\n",
       "      <th>inversion</th>\n",
       "      <th>strain</th>\n",
       "      <th>gene_name</th>\n",
       "      <th>gbk_start</th>\n",
       "      <th>gbk_midpoint</th>\n",
       "      <th>gbk_end</th>\n",
       "      <th>norm_exp</th>\n",
       "      <th>block_length</th>\n",
       "    </tr>\n",
       "  </thead>\n",
       "  <tbody>\n",
       "    <tr>\n",
       "      <th>0</th>\n",
       "      <td>Block1</td>\n",
       "      <td>0</td>\n",
       "      <td>5468</td>\n",
       "      <td>0</td>\n",
       "      <td>0.0</td>\n",
       "      <td>K12DH</td>\n",
       "      <td>ECDH10B_0001</td>\n",
       "      <td>190</td>\n",
       "      <td>222</td>\n",
       "      <td>255</td>\n",
       "      <td>61.593544</td>\n",
       "      <td>5468</td>\n",
       "    </tr>\n",
       "    <tr>\n",
       "      <th>1</th>\n",
       "      <td>Block1</td>\n",
       "      <td>0</td>\n",
       "      <td>5468</td>\n",
       "      <td>0</td>\n",
       "      <td>0.0</td>\n",
       "      <td>K12DH</td>\n",
       "      <td>ECDH10B_0002</td>\n",
       "      <td>337</td>\n",
       "      <td>1568</td>\n",
       "      <td>2799</td>\n",
       "      <td>1271.681520</td>\n",
       "      <td>5468</td>\n",
       "    </tr>\n",
       "    <tr>\n",
       "      <th>2</th>\n",
       "      <td>Block1</td>\n",
       "      <td>0</td>\n",
       "      <td>5468</td>\n",
       "      <td>0</td>\n",
       "      <td>0.0</td>\n",
       "      <td>K12DH</td>\n",
       "      <td>ECDH10B_0003</td>\n",
       "      <td>2801</td>\n",
       "      <td>3267</td>\n",
       "      <td>3733</td>\n",
       "      <td>264.755959</td>\n",
       "      <td>5468</td>\n",
       "    </tr>\n",
       "    <tr>\n",
       "      <th>3</th>\n",
       "      <td>Block1</td>\n",
       "      <td>0</td>\n",
       "      <td>5468</td>\n",
       "      <td>0</td>\n",
       "      <td>0.0</td>\n",
       "      <td>K12DH</td>\n",
       "      <td>ECDH10B_0004</td>\n",
       "      <td>3734</td>\n",
       "      <td>4377</td>\n",
       "      <td>5020</td>\n",
       "      <td>340.097388</td>\n",
       "      <td>5468</td>\n",
       "    </tr>\n",
       "    <tr>\n",
       "      <th>4</th>\n",
       "      <td>Block4</td>\n",
       "      <td>5692</td>\n",
       "      <td>9904</td>\n",
       "      <td>0</td>\n",
       "      <td>0.0</td>\n",
       "      <td>K12DH</td>\n",
       "      <td>ECDH10B_0007</td>\n",
       "      <td>6529</td>\n",
       "      <td>7244</td>\n",
       "      <td>7959</td>\n",
       "      <td>61.273092</td>\n",
       "      <td>4212</td>\n",
       "    </tr>\n",
       "  </tbody>\n",
       "</table>\n",
       "</div>"
      ],
      "text/plain": [
       "    block  start   end  rev_comp  inversion strain     gene_name  gbk_start  \\\n",
       "0  Block1      0  5468         0        0.0  K12DH  ECDH10B_0001        190   \n",
       "1  Block1      0  5468         0        0.0  K12DH  ECDH10B_0002        337   \n",
       "2  Block1      0  5468         0        0.0  K12DH  ECDH10B_0003       2801   \n",
       "3  Block1      0  5468         0        0.0  K12DH  ECDH10B_0004       3734   \n",
       "4  Block4   5692  9904         0        0.0  K12DH  ECDH10B_0007       6529   \n",
       "\n",
       "   gbk_midpoint  gbk_end     norm_exp  block_length  \n",
       "0           222      255    61.593544          5468  \n",
       "1          1568     2799  1271.681520          5468  \n",
       "2          3267     3733   264.755959          5468  \n",
       "3          4377     5020   340.097388          5468  \n",
       "4          7244     7959    61.273092          4212  "
      ]
     },
     "execution_count": 35,
     "metadata": {},
     "output_type": "execute_result"
    }
   ],
   "source": [
    "df2.head()"
   ]
  },
  {
   "cell_type": "code",
   "execution_count": 36,
   "metadata": {},
   "outputs": [
    {
     "data": {
      "text/plain": [
       "<matplotlib.axes._subplots.AxesSubplot at 0x7f89025c2dd8>"
      ]
     },
     "execution_count": 36,
     "metadata": {},
     "output_type": "execute_result"
    },
    {
     "data": {
      "image/png": "[encoded data removed]",
      "text/plain": [
       "<Figure size 576x432 with 1 Axes>"
      ]
     },
     "metadata": {},
     "output_type": "display_data"
    }
   ],
   "source": [
    "sns.scatterplot(x=\"gbk_midpoint\", y=\"strain\",\n",
    "                hue=\"inversion\", linewidth=0,\n",
    "                data=df2,\n",
    "                alpha=0.8)"
   ]
  },
  {
   "cell_type": "code",
   "execution_count": 37,
   "metadata": {},
   "outputs": [
    {
     "data": {
      "text/plain": [
       "<matplotlib.axes._subplots.AxesSubplot at 0x7f8902401278>"
      ]
     },
     "execution_count": 37,
     "metadata": {},
     "output_type": "execute_result"
    },
    {
     "data": {
      "image/png": "[encoded data removed]",
      "text/plain": [
       "<Figure size 576x432 with 1 Axes>"
      ]
     },
     "metadata": {},
     "output_type": "display_data"
    }
   ],
   "source": [
    "sns.scatterplot(x=\"gbk_midpoint\", y=\"strain\",\n",
    "                hue=\"rev_comp\", linewidth=0,\n",
    "                data=df2,\n",
    "                alpha=0.8)"
   ]
  },
  {
   "cell_type": "code",
   "execution_count": 38,
   "metadata": {},
   "outputs": [
    {
     "data": {
      "text/plain": [
       "count     12248.000000\n",
       "mean    2413009.910434\n",
       "std     1348777.837574\n",
       "min         222.000000\n",
       "25%     1267273.000000\n",
       "50%     2405675.000000\n",
       "75%     3536209.750000\n",
       "max     5129985.000000\n",
       "Name: gbk_midpoint, dtype: float64"
      ]
     },
     "execution_count": 38,
     "metadata": {},
     "output_type": "execute_result"
    }
   ],
   "source": [
    "pd.options.display.float_format = '{:f}'.format\n",
    "df2['gbk_midpoint'].describe()"
   ]
  },
  {
   "cell_type": "code",
   "execution_count": 39,
   "metadata": {},
   "outputs": [],
   "source": [
    "front = df2[df2['gbk_midpoint'] <= 2500000]"
   ]
  },
  {
   "cell_type": "code",
   "execution_count": 40,
   "metadata": {},
   "outputs": [],
   "source": [
    "back = df2[df2['gbk_midpoint'] > 2500000]"
   ]
  },
  {
   "cell_type": "code",
   "execution_count": 41,
   "metadata": {},
   "outputs": [
    {
     "data": {
      "text/plain": [
       "<matplotlib.axes._subplots.AxesSubplot at 0x7f890266f048>"
      ]
     },
     "execution_count": 41,
     "metadata": {},
     "output_type": "execute_result"
    },
    {
     "data": {
      "image/png": "[encoded data removed]",
      "text/plain": [
       "<Figure size 576x432 with 1 Axes>"
      ]
     },
     "metadata": {},
     "output_type": "display_data"
    }
   ],
   "source": [
    "sns.scatterplot(x=\"gbk_midpoint\", y=\"strain\",\n",
    "                hue=\"inversion\", style=\"inversion\",linewidth=0,\n",
    "                data=front,\n",
    "                alpha=0.8)\n",
    "#open circle"
   ]
  },
  {
   "cell_type": "code",
   "execution_count": 42,
   "metadata": {},
   "outputs": [
    {
     "data": {
      "text/plain": [
       "<matplotlib.axes._subplots.AxesSubplot at 0x7f89026b6fd0>"
      ]
     },
     "execution_count": 42,
     "metadata": {},
     "output_type": "execute_result"
    },
    {
     "data": {
      "image/png": "[encoded data removed]",
      "text/plain": [
       "<Figure size 576x432 with 1 Axes>"
      ]
     },
     "metadata": {},
     "output_type": "display_data"
    }
   ],
   "source": [
    "sns.scatterplot(x=\"gbk_midpoint\", y=\"strain\",\n",
    "                hue=\"inversion\", linewidth=0,\n",
    "                data=back,\n",
    "                alpha=0.8, facecolors='none', edgecolors='r')"
   ]
  },
  {
   "cell_type": "code",
   "execution_count": 99,
   "metadata": {},
   "outputs": [
    {
     "data": {
      "image/png": "[encoded data removed]",
      "text/plain": [
       "<Figure size 864x864 with 1 Axes>"
      ]
     },
     "metadata": {},
     "output_type": "display_data"
    }
   ],
   "source": [
    "plt.scatter(x=\"gbk_midpoint\", y=\"strain\",\n",
    "                data=all_strains_df[all_strains_df['inversion']==1], facecolors='none', edgecolors='r')\n",
    "plt.scatter(x=\"gbk_midpoint\", y=\"strain\",\n",
    "                data=all_strains_df[all_strains_df['inversion']==0], facecolors='none', edgecolors='b')\n",
    "plt.show()"
   ]
  },
  {
   "cell_type": "code",
   "execution_count": null,
   "metadata": {},
   "outputs": [],
   "source": []
  },
  {
   "cell_type": "markdown",
   "metadata": {},
   "source": [
    "# Sample Dataframes"
   ]
  },
  {
   "cell_type": "code",
   "execution_count": 46,
   "metadata": {},
   "outputs": [
    {
     "data": {
      "text/html": [
       "<div>\n",
       "<style scoped>\n",
       "    .dataframe tbody tr th:only-of-type {\n",
       "        vertical-align: middle;\n",
       "    }\n",
       "\n",
       "    .dataframe tbody tr th {\n",
       "        vertical-align: top;\n",
       "    }\n",
       "\n",
       "    .dataframe thead th {\n",
       "        text-align: right;\n",
       "    }\n",
       "</style>\n",
       "<table border=\"1\" class=\"dataframe\">\n",
       "  <thead>\n",
       "    <tr style=\"text-align: right;\">\n",
       "      <th></th>\n",
       "      <th>strain</th>\n",
       "      <th>gene_name</th>\n",
       "      <th>inversion</th>\n",
       "      <th>block_length</th>\n",
       "    </tr>\n",
       "    <tr>\n",
       "      <th>strain</th>\n",
       "      <th></th>\n",
       "      <th></th>\n",
       "      <th></th>\n",
       "      <th></th>\n",
       "    </tr>\n",
       "  </thead>\n",
       "  <tbody>\n",
       "    <tr>\n",
       "      <th>1</th>\n",
       "      <td>16</td>\n",
       "      <td>16</td>\n",
       "      <td>14.000000</td>\n",
       "      <td>1369.125000</td>\n",
       "    </tr>\n",
       "    <tr>\n",
       "      <th>2</th>\n",
       "      <td>15</td>\n",
       "      <td>47</td>\n",
       "      <td>9.000000</td>\n",
       "      <td>1162.266667</td>\n",
       "    </tr>\n",
       "    <tr>\n",
       "      <th>3</th>\n",
       "      <td>17</td>\n",
       "      <td>111</td>\n",
       "      <td>15.000000</td>\n",
       "      <td>2817.352941</td>\n",
       "    </tr>\n",
       "    <tr>\n",
       "      <th>4</th>\n",
       "      <td>559</td>\n",
       "      <td>12074</td>\n",
       "      <td>381.000000</td>\n",
       "      <td>6337.656530</td>\n",
       "    </tr>\n",
       "  </tbody>\n",
       "</table>\n",
       "</div>"
      ],
      "text/plain": [
       "        strain  gene_name  inversion  block_length\n",
       "strain                                            \n",
       "1           16         16  14.000000   1369.125000\n",
       "2           15         47   9.000000   1162.266667\n",
       "3           17        111  15.000000   2817.352941\n",
       "4          559      12074 381.000000   6337.656530"
      ]
     },
     "execution_count": 46,
     "metadata": {},
     "output_type": "execute_result"
    }
   ],
   "source": [
    "temp = df2.groupby(['block']).aggregate({'strain':'nunique','gene_name':'count', 'inversion':'first',\n",
    "                                        'block_length':'first'})\n",
    "temp.groupby(['strain']).aggregate({'strain':'count','gene_name':sum, 'inversion':sum, 'block_length':'mean'})"
   ]
  },
  {
   "cell_type": "code",
   "execution_count": 47,
   "metadata": {},
   "outputs": [
    {
     "data": {
      "text/html": [
       "<div>\n",
       "<style scoped>\n",
       "    .dataframe tbody tr th:only-of-type {\n",
       "        vertical-align: middle;\n",
       "    }\n",
       "\n",
       "    .dataframe tbody tr th {\n",
       "        vertical-align: top;\n",
       "    }\n",
       "\n",
       "    .dataframe thead th {\n",
       "        text-align: right;\n",
       "    }\n",
       "</style>\n",
       "<table border=\"1\" class=\"dataframe\">\n",
       "  <thead>\n",
       "    <tr style=\"text-align: right;\">\n",
       "      <th></th>\n",
       "      <th>strain</th>\n",
       "      <th>gene_name</th>\n",
       "      <th>inversion</th>\n",
       "    </tr>\n",
       "    <tr>\n",
       "      <th>strain</th>\n",
       "      <th></th>\n",
       "      <th></th>\n",
       "      <th></th>\n",
       "    </tr>\n",
       "  </thead>\n",
       "  <tbody>\n",
       "    <tr>\n",
       "      <th>1</th>\n",
       "      <td>16</td>\n",
       "      <td>1.000000</td>\n",
       "      <td>14.000000</td>\n",
       "    </tr>\n",
       "    <tr>\n",
       "      <th>2</th>\n",
       "      <td>15</td>\n",
       "      <td>3.133333</td>\n",
       "      <td>9.000000</td>\n",
       "    </tr>\n",
       "    <tr>\n",
       "      <th>3</th>\n",
       "      <td>17</td>\n",
       "      <td>6.529412</td>\n",
       "      <td>15.000000</td>\n",
       "    </tr>\n",
       "    <tr>\n",
       "      <th>4</th>\n",
       "      <td>559</td>\n",
       "      <td>21.599284</td>\n",
       "      <td>381.000000</td>\n",
       "    </tr>\n",
       "  </tbody>\n",
       "</table>\n",
       "</div>"
      ],
      "text/plain": [
       "        strain  gene_name  inversion\n",
       "strain                              \n",
       "1           16   1.000000  14.000000\n",
       "2           15   3.133333   9.000000\n",
       "3           17   6.529412  15.000000\n",
       "4          559  21.599284 381.000000"
      ]
     },
     "execution_count": 47,
     "metadata": {},
     "output_type": "execute_result"
    }
   ],
   "source": [
    "temp.groupby(['strain']).aggregate({'strain':'count','gene_name':'mean', 'inversion':sum})"
   ]
  },
  {
   "cell_type": "code",
   "execution_count": 48,
   "metadata": {},
   "outputs": [],
   "source": [
    "all_strains = temp[temp['strain']==4].index\n",
    "three_plus = temp[temp['strain']>=3].index\n",
    "two_plus = temp[temp['strain']>=2].index"
   ]
  },
  {
   "cell_type": "code",
   "execution_count": 102,
   "metadata": {},
   "outputs": [],
   "source": [
    "#log(x+1) transformation\n",
    "df2['log_exp'] = np.log(df2['norm_exp']+1)"
   ]
  },
  {
   "cell_type": "code",
   "execution_count": 103,
   "metadata": {},
   "outputs": [],
   "source": [
    "#full df 12248 \n",
    "all_strains_df = df2[df2['block'].isin(all_strains)] #12074\n",
    "three_plus_df = df2[df2['block'].isin(three_plus)] #12185\n",
    "two_plus_df = df2[df2['block'].isin(two_plus)] #12232"
   ]
  },
  {
   "cell_type": "code",
   "execution_count": 104,
   "metadata": {},
   "outputs": [
    {
     "data": {
      "text/html": [
       "<div>\n",
       "<style scoped>\n",
       "    .dataframe tbody tr th:only-of-type {\n",
       "        vertical-align: middle;\n",
       "    }\n",
       "\n",
       "    .dataframe tbody tr th {\n",
       "        vertical-align: top;\n",
       "    }\n",
       "\n",
       "    .dataframe thead th {\n",
       "        text-align: right;\n",
       "    }\n",
       "</style>\n",
       "<table border=\"1\" class=\"dataframe\">\n",
       "  <thead>\n",
       "    <tr style=\"text-align: right;\">\n",
       "      <th></th>\n",
       "      <th>block</th>\n",
       "      <th>start</th>\n",
       "      <th>end</th>\n",
       "      <th>rev_comp</th>\n",
       "      <th>inversion</th>\n",
       "      <th>strain</th>\n",
       "      <th>gene_name</th>\n",
       "      <th>gbk_start</th>\n",
       "      <th>gbk_midpoint</th>\n",
       "      <th>gbk_strand</th>\n",
       "      <th>gbk_end</th>\n",
       "      <th>norm_exp</th>\n",
       "      <th>block_length</th>\n",
       "      <th>log_exp</th>\n",
       "    </tr>\n",
       "  </thead>\n",
       "  <tbody>\n",
       "    <tr>\n",
       "      <th>0</th>\n",
       "      <td>Block1</td>\n",
       "      <td>0</td>\n",
       "      <td>5468</td>\n",
       "      <td>0</td>\n",
       "      <td>0.000000</td>\n",
       "      <td>K12DH</td>\n",
       "      <td>ECDH10B_0001</td>\n",
       "      <td>190</td>\n",
       "      <td>222</td>\n",
       "      <td>nan</td>\n",
       "      <td>255</td>\n",
       "      <td>61.593544</td>\n",
       "      <td>5468</td>\n",
       "      <td>4.136662</td>\n",
       "    </tr>\n",
       "    <tr>\n",
       "      <th>1</th>\n",
       "      <td>Block1</td>\n",
       "      <td>0</td>\n",
       "      <td>5468</td>\n",
       "      <td>0</td>\n",
       "      <td>0.000000</td>\n",
       "      <td>K12DH</td>\n",
       "      <td>ECDH10B_0002</td>\n",
       "      <td>337</td>\n",
       "      <td>1568</td>\n",
       "      <td>nan</td>\n",
       "      <td>2799</td>\n",
       "      <td>1271.681520</td>\n",
       "      <td>5468</td>\n",
       "      <td>7.148881</td>\n",
       "    </tr>\n",
       "    <tr>\n",
       "      <th>2</th>\n",
       "      <td>Block1</td>\n",
       "      <td>0</td>\n",
       "      <td>5468</td>\n",
       "      <td>0</td>\n",
       "      <td>0.000000</td>\n",
       "      <td>K12DH</td>\n",
       "      <td>ECDH10B_0003</td>\n",
       "      <td>2801</td>\n",
       "      <td>3267</td>\n",
       "      <td>nan</td>\n",
       "      <td>3733</td>\n",
       "      <td>264.755959</td>\n",
       "      <td>5468</td>\n",
       "      <td>5.582578</td>\n",
       "    </tr>\n",
       "    <tr>\n",
       "      <th>3</th>\n",
       "      <td>Block1</td>\n",
       "      <td>0</td>\n",
       "      <td>5468</td>\n",
       "      <td>0</td>\n",
       "      <td>0.000000</td>\n",
       "      <td>K12DH</td>\n",
       "      <td>ECDH10B_0004</td>\n",
       "      <td>3734</td>\n",
       "      <td>4377</td>\n",
       "      <td>nan</td>\n",
       "      <td>5020</td>\n",
       "      <td>340.097388</td>\n",
       "      <td>5468</td>\n",
       "      <td>5.832168</td>\n",
       "    </tr>\n",
       "    <tr>\n",
       "      <th>4</th>\n",
       "      <td>Block4</td>\n",
       "      <td>5692</td>\n",
       "      <td>9904</td>\n",
       "      <td>0</td>\n",
       "      <td>0.000000</td>\n",
       "      <td>K12DH</td>\n",
       "      <td>ECDH10B_0007</td>\n",
       "      <td>6529</td>\n",
       "      <td>7244</td>\n",
       "      <td>nan</td>\n",
       "      <td>7959</td>\n",
       "      <td>61.273092</td>\n",
       "      <td>4212</td>\n",
       "      <td>4.131529</td>\n",
       "    </tr>\n",
       "  </tbody>\n",
       "</table>\n",
       "</div>"
      ],
      "text/plain": [
       "    block  start   end  rev_comp  inversion strain     gene_name  gbk_start  \\\n",
       "0  Block1      0  5468         0   0.000000  K12DH  ECDH10B_0001        190   \n",
       "1  Block1      0  5468         0   0.000000  K12DH  ECDH10B_0002        337   \n",
       "2  Block1      0  5468         0   0.000000  K12DH  ECDH10B_0003       2801   \n",
       "3  Block1      0  5468         0   0.000000  K12DH  ECDH10B_0004       3734   \n",
       "4  Block4   5692  9904         0   0.000000  K12DH  ECDH10B_0007       6529   \n",
       "\n",
       "   gbk_midpoint  gbk_strand  gbk_end    norm_exp  block_length  log_exp  \n",
       "0           222         nan      255   61.593544          5468 4.136662  \n",
       "1          1568         nan     2799 1271.681520          5468 7.148881  \n",
       "2          3267         nan     3733  264.755959          5468 5.582578  \n",
       "3          4377         nan     5020  340.097388          5468 5.832168  \n",
       "4          7244         nan     7959   61.273092          4212 4.131529  "
      ]
     },
     "execution_count": 104,
     "metadata": {},
     "output_type": "execute_result"
    }
   ],
   "source": [
    "df2.head()"
   ]
  },
  {
   "cell_type": "code",
   "execution_count": null,
   "metadata": {},
   "outputs": [],
   "source": [
    "all_strains_df.to_csv('./Strains_df/all_strains.csv', index=False)\n",
    "three_plus_df.to_csv('./Strains_df/three_plus_strains.csv', index=False)\n",
    "two_plus_df.to_csv('./Strains_df/two_plus_strains.csv', index=False)"
   ]
  },
  {
   "cell_type": "code",
   "execution_count": null,
   "metadata": {},
   "outputs": [],
   "source": []
  },
  {
   "cell_type": "markdown",
   "metadata": {},
   "source": [
    "## Gene Expression"
   ]
  },
  {
   "cell_type": "code",
   "execution_count": 74,
   "metadata": {},
   "outputs": [
    {
     "data": {
      "text/html": [
       "<div>\n",
       "<style scoped>\n",
       "    .dataframe tbody tr th:only-of-type {\n",
       "        vertical-align: middle;\n",
       "    }\n",
       "\n",
       "    .dataframe tbody tr th {\n",
       "        vertical-align: top;\n",
       "    }\n",
       "\n",
       "    .dataframe thead th {\n",
       "        text-align: right;\n",
       "    }\n",
       "</style>\n",
       "<table border=\"1\" class=\"dataframe\">\n",
       "  <thead>\n",
       "    <tr style=\"text-align: right;\">\n",
       "      <th></th>\n",
       "      <th>ATCC</th>\n",
       "      <th>ATCC_inverted</th>\n",
       "      <th>BW</th>\n",
       "      <th>BW_inverted</th>\n",
       "      <th>K12DH</th>\n",
       "      <th>K12DH_inverted</th>\n",
       "      <th>K12MG</th>\n",
       "      <th>K12MG_inverted</th>\n",
       "    </tr>\n",
       "  </thead>\n",
       "  <tbody>\n",
       "    <tr>\n",
       "      <th>count</th>\n",
       "      <td>951.000000</td>\n",
       "      <td>2161.000000</td>\n",
       "      <td>911.000000</td>\n",
       "      <td>2092.000000</td>\n",
       "      <td>917.000000</td>\n",
       "      <td>2077.000000</td>\n",
       "      <td>906.000000</td>\n",
       "      <td>2059.000000</td>\n",
       "    </tr>\n",
       "    <tr>\n",
       "      <th>mean</th>\n",
       "      <td>3.907780</td>\n",
       "      <td>4.089797</td>\n",
       "      <td>3.154814</td>\n",
       "      <td>3.303338</td>\n",
       "      <td>3.675604</td>\n",
       "      <td>3.739251</td>\n",
       "      <td>4.083261</td>\n",
       "      <td>4.193244</td>\n",
       "    </tr>\n",
       "    <tr>\n",
       "      <th>std</th>\n",
       "      <td>1.772320</td>\n",
       "      <td>1.700103</td>\n",
       "      <td>1.824820</td>\n",
       "      <td>1.767487</td>\n",
       "      <td>2.115812</td>\n",
       "      <td>1.946498</td>\n",
       "      <td>1.669431</td>\n",
       "      <td>1.513443</td>\n",
       "    </tr>\n",
       "    <tr>\n",
       "      <th>min</th>\n",
       "      <td>0.000000</td>\n",
       "      <td>0.017440</td>\n",
       "      <td>0.000000</td>\n",
       "      <td>0.000000</td>\n",
       "      <td>0.000000</td>\n",
       "      <td>0.000000</td>\n",
       "      <td>0.000000</td>\n",
       "      <td>0.000000</td>\n",
       "    </tr>\n",
       "    <tr>\n",
       "      <th>25%</th>\n",
       "      <td>2.630541</td>\n",
       "      <td>2.876628</td>\n",
       "      <td>1.672813</td>\n",
       "      <td>2.036585</td>\n",
       "      <td>1.968077</td>\n",
       "      <td>2.323783</td>\n",
       "      <td>2.943475</td>\n",
       "      <td>3.297243</td>\n",
       "    </tr>\n",
       "    <tr>\n",
       "      <th>50%</th>\n",
       "      <td>4.043614</td>\n",
       "      <td>4.157403</td>\n",
       "      <td>3.216182</td>\n",
       "      <td>3.291824</td>\n",
       "      <td>3.779400</td>\n",
       "      <td>3.823598</td>\n",
       "      <td>4.232943</td>\n",
       "      <td>4.323262</td>\n",
       "    </tr>\n",
       "    <tr>\n",
       "      <th>75%</th>\n",
       "      <td>5.170235</td>\n",
       "      <td>5.223213</td>\n",
       "      <td>4.461109</td>\n",
       "      <td>4.516728</td>\n",
       "      <td>5.162959</td>\n",
       "      <td>5.040526</td>\n",
       "      <td>5.199793</td>\n",
       "      <td>5.106674</td>\n",
       "    </tr>\n",
       "    <tr>\n",
       "      <th>max</th>\n",
       "      <td>9.935437</td>\n",
       "      <td>9.931905</td>\n",
       "      <td>8.907051</td>\n",
       "      <td>9.221666</td>\n",
       "      <td>9.410962</td>\n",
       "      <td>9.370375</td>\n",
       "      <td>8.904867</td>\n",
       "      <td>8.673990</td>\n",
       "    </tr>\n",
       "  </tbody>\n",
       "</table>\n",
       "</div>"
      ],
      "text/plain": [
       "            ATCC  ATCC_inverted         BW  BW_inverted      K12DH  \\\n",
       "count 951.000000    2161.000000 911.000000  2092.000000 917.000000   \n",
       "mean    3.907780       4.089797   3.154814     3.303338   3.675604   \n",
       "std     1.772320       1.700103   1.824820     1.767487   2.115812   \n",
       "min     0.000000       0.017440   0.000000     0.000000   0.000000   \n",
       "25%     2.630541       2.876628   1.672813     2.036585   1.968077   \n",
       "50%     4.043614       4.157403   3.216182     3.291824   3.779400   \n",
       "75%     5.170235       5.223213   4.461109     4.516728   5.162959   \n",
       "max     9.935437       9.931905   8.907051     9.221666   9.410962   \n",
       "\n",
       "       K12DH_inverted      K12MG  K12MG_inverted  \n",
       "count     2077.000000 906.000000     2059.000000  \n",
       "mean         3.739251   4.083261        4.193244  \n",
       "std          1.946498   1.669431        1.513443  \n",
       "min          0.000000   0.000000        0.000000  \n",
       "25%          2.323783   2.943475        3.297243  \n",
       "50%          3.823598   4.232943        4.323262  \n",
       "75%          5.040526   5.199793        5.106674  \n",
       "max          9.370375   8.904867        8.673990  "
      ]
     },
     "execution_count": 74,
     "metadata": {},
     "output_type": "execute_result"
    },
    {
     "data": {
      "image/png": "[encoded data removed]",
      "text/plain": [
       "<Figure size 576x432 with 1 Axes>"
      ]
     },
     "metadata": {},
     "output_type": "display_data"
    }
   ],
   "source": [
    "sns.violinplot(x=\"strain\", y=\"log_exp\", hue=\"inversion\",\n",
    "                    data=all_strains_df, palette=\"muted\", split=True, order=['ATCC', 'BW25113', 'K12DH', 'K12MG'])\n",
    "plt.show\n",
    "stats_table"
   ]
  },
  {
   "cell_type": "code",
   "execution_count": 53,
   "metadata": {},
   "outputs": [],
   "source": [
    "#log +1 transform\n",
    "exp = all_strains_df[['log_exp']].describe()\n",
    "\n",
    "BW_exp = all_strains_df[(all_strains_df['strain']=='BW25113')&(all_strains_df['rev_comp']==0)][['log_exp']].describe()\n",
    "BW_exp.columns = ['BW']\n",
    "\n",
    "BW_inverted = all_strains_df[(all_strains_df['strain']=='BW25113')&(all_strains_df['rev_comp']==1)][['log_exp']].describe()\n",
    "BW_inverted.columns = ['BW_inverted']\n",
    "\n",
    "ATCC_exp = all_strains_df[(all_strains_df['strain']=='ATCC')&(all_strains_df['rev_comp']==0)][['log_exp']].describe()\n",
    "ATCC_exp.columns = ['ATCC']\n",
    "\n",
    "ATCC_inverted = all_strains_df[(all_strains_df['strain']=='ATCC')&(all_strains_df['rev_comp']==1)][['log_exp']].describe()\n",
    "ATCC_inverted.columns = ['ATCC_inverted']\n",
    "\n",
    "K12DH_exp = all_strains_df[(all_strains_df['strain']=='K12DH')&(all_strains_df['rev_comp']==0)][['log_exp']].describe()\n",
    "K12DH_exp.columns = ['K12DH']\n",
    "\n",
    "K12DH_inverted = all_strains_df[(all_strains_df['strain']=='K12DH')&(all_strains_df['rev_comp']==1)][['log_exp']].describe()\n",
    "K12DH_inverted.columns = ['K12DH_inverted']\n",
    "\n",
    "K12MG_exp = all_strains_df[(all_strains_df['strain']=='K12MG')&(all_strains_df['rev_comp']==0)][['log_exp']].describe()\n",
    "K12MG_exp.columns = ['K12MG']\n",
    "\n",
    "K12MG_inverted = all_strains_df[(all_strains_df['strain']=='K12MG')&(all_strains_df['rev_comp']==1)][['log_exp']].describe()\n",
    "K12MG_inverted.columns = ['K12MG_inverted']\n",
    "\n",
    "rev_stats_table = pd.concat([ATCC_exp, ATCC_inverted,\n",
    "                        BW_exp, BW_inverted, K12DH_exp, K12DH_inverted, K12MG_exp, K12MG_inverted,], axis=1)"
   ]
  },
  {
   "cell_type": "code",
   "execution_count": 54,
   "metadata": {},
   "outputs": [
    {
     "data": {
      "text/html": [
       "<div>\n",
       "<style scoped>\n",
       "    .dataframe tbody tr th:only-of-type {\n",
       "        vertical-align: middle;\n",
       "    }\n",
       "\n",
       "    .dataframe tbody tr th {\n",
       "        vertical-align: top;\n",
       "    }\n",
       "\n",
       "    .dataframe thead th {\n",
       "        text-align: right;\n",
       "    }\n",
       "</style>\n",
       "<table border=\"1\" class=\"dataframe\">\n",
       "  <thead>\n",
       "    <tr style=\"text-align: right;\">\n",
       "      <th></th>\n",
       "      <th>ATCC</th>\n",
       "      <th>ATCC_inverted</th>\n",
       "      <th>BW</th>\n",
       "      <th>BW_inverted</th>\n",
       "      <th>K12DH</th>\n",
       "      <th>K12DH_inverted</th>\n",
       "      <th>K12MG</th>\n",
       "      <th>K12MG_inverted</th>\n",
       "    </tr>\n",
       "  </thead>\n",
       "  <tbody>\n",
       "    <tr>\n",
       "      <th>count</th>\n",
       "      <td>951.000000</td>\n",
       "      <td>2161.000000</td>\n",
       "      <td>3003.000000</td>\n",
       "      <td>0.000000</td>\n",
       "      <td>2992.000000</td>\n",
       "      <td>2.000000</td>\n",
       "      <td>2965.000000</td>\n",
       "      <td>0.000000</td>\n",
       "    </tr>\n",
       "    <tr>\n",
       "      <th>mean</th>\n",
       "      <td>3.907780</td>\n",
       "      <td>4.089797</td>\n",
       "      <td>3.258281</td>\n",
       "      <td>nan</td>\n",
       "      <td>3.719191</td>\n",
       "      <td>4.567187</td>\n",
       "      <td>4.159638</td>\n",
       "      <td>nan</td>\n",
       "    </tr>\n",
       "    <tr>\n",
       "      <th>std</th>\n",
       "      <td>1.772320</td>\n",
       "      <td>1.700103</td>\n",
       "      <td>1.786075</td>\n",
       "      <td>nan</td>\n",
       "      <td>2.000251</td>\n",
       "      <td>0.648863</td>\n",
       "      <td>1.563297</td>\n",
       "      <td>nan</td>\n",
       "    </tr>\n",
       "    <tr>\n",
       "      <th>min</th>\n",
       "      <td>0.000000</td>\n",
       "      <td>0.017440</td>\n",
       "      <td>0.000000</td>\n",
       "      <td>nan</td>\n",
       "      <td>0.000000</td>\n",
       "      <td>4.108372</td>\n",
       "      <td>0.000000</td>\n",
       "      <td>nan</td>\n",
       "    </tr>\n",
       "    <tr>\n",
       "      <th>25%</th>\n",
       "      <td>2.630541</td>\n",
       "      <td>2.876628</td>\n",
       "      <td>1.947932</td>\n",
       "      <td>nan</td>\n",
       "      <td>2.206011</td>\n",
       "      <td>4.337779</td>\n",
       "      <td>3.188472</td>\n",
       "      <td>nan</td>\n",
       "    </tr>\n",
       "    <tr>\n",
       "      <th>50%</th>\n",
       "      <td>4.043614</td>\n",
       "      <td>4.157403</td>\n",
       "      <td>3.268339</td>\n",
       "      <td>nan</td>\n",
       "      <td>3.811631</td>\n",
       "      <td>4.567187</td>\n",
       "      <td>4.298654</td>\n",
       "      <td>nan</td>\n",
       "    </tr>\n",
       "    <tr>\n",
       "      <th>75%</th>\n",
       "      <td>5.170235</td>\n",
       "      <td>5.223213</td>\n",
       "      <td>4.505617</td>\n",
       "      <td>nan</td>\n",
       "      <td>5.095307</td>\n",
       "      <td>4.796595</td>\n",
       "      <td>5.134582</td>\n",
       "      <td>nan</td>\n",
       "    </tr>\n",
       "    <tr>\n",
       "      <th>max</th>\n",
       "      <td>9.935437</td>\n",
       "      <td>9.931905</td>\n",
       "      <td>9.221666</td>\n",
       "      <td>nan</td>\n",
       "      <td>9.410962</td>\n",
       "      <td>5.026002</td>\n",
       "      <td>8.904867</td>\n",
       "      <td>nan</td>\n",
       "    </tr>\n",
       "  </tbody>\n",
       "</table>\n",
       "</div>"
      ],
      "text/plain": [
       "            ATCC  ATCC_inverted          BW  BW_inverted       K12DH  \\\n",
       "count 951.000000    2161.000000 3003.000000     0.000000 2992.000000   \n",
       "mean    3.907780       4.089797    3.258281          nan    3.719191   \n",
       "std     1.772320       1.700103    1.786075          nan    2.000251   \n",
       "min     0.000000       0.017440    0.000000          nan    0.000000   \n",
       "25%     2.630541       2.876628    1.947932          nan    2.206011   \n",
       "50%     4.043614       4.157403    3.268339          nan    3.811631   \n",
       "75%     5.170235       5.223213    4.505617          nan    5.095307   \n",
       "max     9.935437       9.931905    9.221666          nan    9.410962   \n",
       "\n",
       "       K12DH_inverted       K12MG  K12MG_inverted  \n",
       "count        2.000000 2965.000000        0.000000  \n",
       "mean         4.567187    4.159638             nan  \n",
       "std          0.648863    1.563297             nan  \n",
       "min          4.108372    0.000000             nan  \n",
       "25%          4.337779    3.188472             nan  \n",
       "50%          4.567187    4.298654             nan  \n",
       "75%          4.796595    5.134582             nan  \n",
       "max          5.026002    8.904867             nan  "
      ]
     },
     "execution_count": 54,
     "metadata": {},
     "output_type": "execute_result"
    },
    {
     "data": {
      "image/png": "[encoded data removed]",
      "text/plain": [
       "<Figure size 576x432 with 1 Axes>"
      ]
     },
     "metadata": {},
     "output_type": "display_data"
    }
   ],
   "source": [
    "sns.violinplot(x=\"strain\", y=\"log_exp\", hue=\"rev_comp\",\n",
    "                    data=all_strains_df, palette=\"muted\", split=True)\n",
    "rev_stats_table"
   ]
  },
  {
   "cell_type": "code",
   "execution_count": 55,
   "metadata": {},
   "outputs": [
    {
     "data": {
      "text/html": [
       "<div>\n",
       "<style scoped>\n",
       "    .dataframe tbody tr th:only-of-type {\n",
       "        vertical-align: middle;\n",
       "    }\n",
       "\n",
       "    .dataframe tbody tr th {\n",
       "        vertical-align: top;\n",
       "    }\n",
       "\n",
       "    .dataframe thead th {\n",
       "        text-align: right;\n",
       "    }\n",
       "</style>\n",
       "<table border=\"1\" class=\"dataframe\">\n",
       "  <thead>\n",
       "    <tr style=\"text-align: right;\">\n",
       "      <th></th>\n",
       "      <th>block</th>\n",
       "      <th>start</th>\n",
       "      <th>end</th>\n",
       "      <th>rev_comp</th>\n",
       "      <th>inversion</th>\n",
       "      <th>strain</th>\n",
       "      <th>gene_name</th>\n",
       "      <th>gbk_start</th>\n",
       "      <th>gbk_midpoint</th>\n",
       "      <th>gbk_end</th>\n",
       "      <th>norm_exp</th>\n",
       "      <th>block_length</th>\n",
       "      <th>log_exp</th>\n",
       "    </tr>\n",
       "  </thead>\n",
       "  <tbody>\n",
       "    <tr>\n",
       "      <th>2022</th>\n",
       "      <td>Block800</td>\n",
       "      <td>3207876</td>\n",
       "      <td>3209123</td>\n",
       "      <td>1</td>\n",
       "      <td>1.000000</td>\n",
       "      <td>K12DH</td>\n",
       "      <td>ECDH10B_3147</td>\n",
       "      <td>3208037</td>\n",
       "      <td>3208390</td>\n",
       "      <td>3208744</td>\n",
       "      <td>59.847549</td>\n",
       "      <td>1247</td>\n",
       "      <td>4.108372</td>\n",
       "    </tr>\n",
       "    <tr>\n",
       "      <th>2023</th>\n",
       "      <td>Block799</td>\n",
       "      <td>3209132</td>\n",
       "      <td>3211917</td>\n",
       "      <td>1</td>\n",
       "      <td>1.000000</td>\n",
       "      <td>K12DH</td>\n",
       "      <td>ECDH10B_3148</td>\n",
       "      <td>3209142</td>\n",
       "      <td>3210209</td>\n",
       "      <td>3211277</td>\n",
       "      <td>151.322841</td>\n",
       "      <td>2785</td>\n",
       "      <td>5.026002</td>\n",
       "    </tr>\n",
       "  </tbody>\n",
       "</table>\n",
       "</div>"
      ],
      "text/plain": [
       "         block    start      end  rev_comp  inversion strain     gene_name  \\\n",
       "2022  Block800  3207876  3209123         1   1.000000  K12DH  ECDH10B_3147   \n",
       "2023  Block799  3209132  3211917         1   1.000000  K12DH  ECDH10B_3148   \n",
       "\n",
       "      gbk_start  gbk_midpoint  gbk_end   norm_exp  block_length  log_exp  \n",
       "2022    3208037       3208390  3208744  59.847549          1247 4.108372  \n",
       "2023    3209142       3210209  3211277 151.322841          2785 5.026002  "
      ]
     },
     "execution_count": 55,
     "metadata": {},
     "output_type": "execute_result"
    }
   ],
   "source": [
    "all_strains_df[(all_strains_df['strain']=='K12DH') & (all_strains_df['rev_comp']==1)] #outlier"
   ]
  },
  {
   "cell_type": "code",
   "execution_count": 56,
   "metadata": {},
   "outputs": [],
   "source": [
    "#log +1 transform\n",
    "exp = all_strains_df[['log_exp']].describe()"
   ]
  },
  {
   "cell_type": "code",
   "execution_count": 57,
   "metadata": {},
   "outputs": [],
   "source": [
    "BW_exp = all_strains_df[(all_strains_df['strain']=='BW25113')&(all_strains_df['inversion']==0)][['log_exp']].describe()\n",
    "BW_exp.columns = ['BW']\n",
    "\n",
    "BW_inverted = all_strains_df[(all_strains_df['strain']=='BW25113')&(all_strains_df['inversion']==1)][['log_exp']].describe()\n",
    "BW_inverted.columns = ['BW_inverted']"
   ]
  },
  {
   "cell_type": "code",
   "execution_count": 58,
   "metadata": {},
   "outputs": [],
   "source": [
    "ATCC_exp = all_strains_df[(all_strains_df['strain']=='ATCC')&(all_strains_df['inversion']==0)][['log_exp']].describe()\n",
    "ATCC_exp.columns = ['ATCC']\n",
    "\n",
    "ATCC_inverted = all_strains_df[(all_strains_df['strain']=='ATCC')&(all_strains_df['inversion']==1)][['log_exp']].describe()\n",
    "ATCC_inverted.columns = ['ATCC_inverted']"
   ]
  },
  {
   "cell_type": "code",
   "execution_count": 59,
   "metadata": {},
   "outputs": [],
   "source": [
    "K12DH_exp = all_strains_df[(all_strains_df['strain']=='K12DH')&(all_strains_df['inversion']==0)][['log_exp']].describe()\n",
    "K12DH_exp.columns = ['K12DH']\n",
    "\n",
    "K12DH_inverted = all_strains_df[(all_strains_df['strain']=='K12DH')&(all_strains_df['inversion']==1)][['log_exp']].describe()\n",
    "K12DH_inverted.columns = ['K12DH_inverted']"
   ]
  },
  {
   "cell_type": "code",
   "execution_count": 60,
   "metadata": {},
   "outputs": [],
   "source": [
    "K12MG_exp = all_strains_df[(all_strains_df['strain']=='K12MG')&(all_strains_df['inversion']==0)][['log_exp']].describe()\n",
    "K12MG_exp.columns = ['K12MG']\n",
    "\n",
    "K12MG_inverted = all_strains_df[(all_strains_df['strain']=='K12MG')&(all_strains_df['inversion']==1)][['log_exp']].describe()\n",
    "K12MG_inverted.columns = ['K12MG_inverted']"
   ]
  },
  {
   "cell_type": "code",
   "execution_count": 61,
   "metadata": {},
   "outputs": [
    {
     "data": {
      "text/html": [
       "<div>\n",
       "<style scoped>\n",
       "    .dataframe tbody tr th:only-of-type {\n",
       "        vertical-align: middle;\n",
       "    }\n",
       "\n",
       "    .dataframe tbody tr th {\n",
       "        vertical-align: top;\n",
       "    }\n",
       "\n",
       "    .dataframe thead th {\n",
       "        text-align: right;\n",
       "    }\n",
       "</style>\n",
       "<table border=\"1\" class=\"dataframe\">\n",
       "  <thead>\n",
       "    <tr style=\"text-align: right;\">\n",
       "      <th></th>\n",
       "      <th>ATCC</th>\n",
       "      <th>ATCC_inverted</th>\n",
       "      <th>BW</th>\n",
       "      <th>BW_inverted</th>\n",
       "      <th>K12DH</th>\n",
       "      <th>K12DH_inverted</th>\n",
       "      <th>K12MG</th>\n",
       "      <th>K12MG_inverted</th>\n",
       "    </tr>\n",
       "  </thead>\n",
       "  <tbody>\n",
       "    <tr>\n",
       "      <th>count</th>\n",
       "      <td>951.000000</td>\n",
       "      <td>2161.000000</td>\n",
       "      <td>911.000000</td>\n",
       "      <td>2092.000000</td>\n",
       "      <td>917.000000</td>\n",
       "      <td>2077.000000</td>\n",
       "      <td>906.000000</td>\n",
       "      <td>2059.000000</td>\n",
       "    </tr>\n",
       "    <tr>\n",
       "      <th>mean</th>\n",
       "      <td>3.907780</td>\n",
       "      <td>4.089797</td>\n",
       "      <td>3.154814</td>\n",
       "      <td>3.303338</td>\n",
       "      <td>3.675604</td>\n",
       "      <td>3.739251</td>\n",
       "      <td>4.083261</td>\n",
       "      <td>4.193244</td>\n",
       "    </tr>\n",
       "    <tr>\n",
       "      <th>std</th>\n",
       "      <td>1.772320</td>\n",
       "      <td>1.700103</td>\n",
       "      <td>1.824820</td>\n",
       "      <td>1.767487</td>\n",
       "      <td>2.115812</td>\n",
       "      <td>1.946498</td>\n",
       "      <td>1.669431</td>\n",
       "      <td>1.513443</td>\n",
       "    </tr>\n",
       "    <tr>\n",
       "      <th>min</th>\n",
       "      <td>0.000000</td>\n",
       "      <td>0.017440</td>\n",
       "      <td>0.000000</td>\n",
       "      <td>0.000000</td>\n",
       "      <td>0.000000</td>\n",
       "      <td>0.000000</td>\n",
       "      <td>0.000000</td>\n",
       "      <td>0.000000</td>\n",
       "    </tr>\n",
       "    <tr>\n",
       "      <th>25%</th>\n",
       "      <td>2.630541</td>\n",
       "      <td>2.876628</td>\n",
       "      <td>1.672813</td>\n",
       "      <td>2.036585</td>\n",
       "      <td>1.968077</td>\n",
       "      <td>2.323783</td>\n",
       "      <td>2.943475</td>\n",
       "      <td>3.297243</td>\n",
       "    </tr>\n",
       "    <tr>\n",
       "      <th>50%</th>\n",
       "      <td>4.043614</td>\n",
       "      <td>4.157403</td>\n",
       "      <td>3.216182</td>\n",
       "      <td>3.291824</td>\n",
       "      <td>3.779400</td>\n",
       "      <td>3.823598</td>\n",
       "      <td>4.232943</td>\n",
       "      <td>4.323262</td>\n",
       "    </tr>\n",
       "    <tr>\n",
       "      <th>75%</th>\n",
       "      <td>5.170235</td>\n",
       "      <td>5.223213</td>\n",
       "      <td>4.461109</td>\n",
       "      <td>4.516728</td>\n",
       "      <td>5.162959</td>\n",
       "      <td>5.040526</td>\n",
       "      <td>5.199793</td>\n",
       "      <td>5.106674</td>\n",
       "    </tr>\n",
       "    <tr>\n",
       "      <th>max</th>\n",
       "      <td>9.935437</td>\n",
       "      <td>9.931905</td>\n",
       "      <td>8.907051</td>\n",
       "      <td>9.221666</td>\n",
       "      <td>9.410962</td>\n",
       "      <td>9.370375</td>\n",
       "      <td>8.904867</td>\n",
       "      <td>8.673990</td>\n",
       "    </tr>\n",
       "  </tbody>\n",
       "</table>\n",
       "</div>"
      ],
      "text/plain": [
       "            ATCC  ATCC_inverted         BW  BW_inverted      K12DH  \\\n",
       "count 951.000000    2161.000000 911.000000  2092.000000 917.000000   \n",
       "mean    3.907780       4.089797   3.154814     3.303338   3.675604   \n",
       "std     1.772320       1.700103   1.824820     1.767487   2.115812   \n",
       "min     0.000000       0.017440   0.000000     0.000000   0.000000   \n",
       "25%     2.630541       2.876628   1.672813     2.036585   1.968077   \n",
       "50%     4.043614       4.157403   3.216182     3.291824   3.779400   \n",
       "75%     5.170235       5.223213   4.461109     4.516728   5.162959   \n",
       "max     9.935437       9.931905   8.907051     9.221666   9.410962   \n",
       "\n",
       "       K12DH_inverted      K12MG  K12MG_inverted  \n",
       "count     2077.000000 906.000000     2059.000000  \n",
       "mean         3.739251   4.083261        4.193244  \n",
       "std          1.946498   1.669431        1.513443  \n",
       "min          0.000000   0.000000        0.000000  \n",
       "25%          2.323783   2.943475        3.297243  \n",
       "50%          3.823598   4.232943        4.323262  \n",
       "75%          5.040526   5.199793        5.106674  \n",
       "max          9.370375   8.904867        8.673990  "
      ]
     },
     "execution_count": 61,
     "metadata": {},
     "output_type": "execute_result"
    }
   ],
   "source": [
    "stats_table = pd.concat([ATCC_exp, ATCC_inverted,\n",
    "                        BW_exp, BW_inverted, K12DH_exp, K12DH_inverted, K12MG_exp, K12MG_inverted,], axis=1)\n",
    "stats_table"
   ]
  },
  {
   "cell_type": "code",
   "execution_count": 62,
   "metadata": {},
   "outputs": [
    {
     "data": {
      "text/html": [
       "<div>\n",
       "<style scoped>\n",
       "    .dataframe tbody tr th:only-of-type {\n",
       "        vertical-align: middle;\n",
       "    }\n",
       "\n",
       "    .dataframe tbody tr th {\n",
       "        vertical-align: top;\n",
       "    }\n",
       "\n",
       "    .dataframe thead th {\n",
       "        text-align: right;\n",
       "    }\n",
       "</style>\n",
       "<table border=\"1\" class=\"dataframe\">\n",
       "  <thead>\n",
       "    <tr style=\"text-align: right;\">\n",
       "      <th></th>\n",
       "      <th>block_length</th>\n",
       "    </tr>\n",
       "  </thead>\n",
       "  <tbody>\n",
       "    <tr>\n",
       "      <th>count</th>\n",
       "      <td>12074.000000</td>\n",
       "    </tr>\n",
       "    <tr>\n",
       "      <th>mean</th>\n",
       "      <td>11404.088289</td>\n",
       "    </tr>\n",
       "    <tr>\n",
       "      <th>std</th>\n",
       "      <td>7881.555503</td>\n",
       "    </tr>\n",
       "    <tr>\n",
       "      <th>min</th>\n",
       "      <td>175.000000</td>\n",
       "    </tr>\n",
       "    <tr>\n",
       "      <th>25%</th>\n",
       "      <td>5553.000000</td>\n",
       "    </tr>\n",
       "    <tr>\n",
       "      <th>50%</th>\n",
       "      <td>9804.000000</td>\n",
       "    </tr>\n",
       "    <tr>\n",
       "      <th>75%</th>\n",
       "      <td>14887.000000</td>\n",
       "    </tr>\n",
       "    <tr>\n",
       "      <th>max</th>\n",
       "      <td>38569.000000</td>\n",
       "    </tr>\n",
       "  </tbody>\n",
       "</table>\n",
       "</div>"
      ],
      "text/plain": [
       "       block_length\n",
       "count  12074.000000\n",
       "mean   11404.088289\n",
       "std     7881.555503\n",
       "min      175.000000\n",
       "25%     5553.000000\n",
       "50%     9804.000000\n",
       "75%    14887.000000\n",
       "max    38569.000000"
      ]
     },
     "execution_count": 62,
     "metadata": {},
     "output_type": "execute_result"
    }
   ],
   "source": [
    "all_strains_df[['block_length']].describe()"
   ]
  },
  {
   "cell_type": "code",
   "execution_count": 63,
   "metadata": {},
   "outputs": [],
   "source": [
    "#pick big blocks greater than the 75% \n",
    "bigblocks = all_strains_df[all_strains_df['block_length'] >= 14887]"
   ]
  },
  {
   "cell_type": "code",
   "execution_count": 64,
   "metadata": {},
   "outputs": [
    {
     "data": {
      "text/plain": [
       "1.000000    8389\n",
       "0.000000    3685\n",
       "Name: inversion, dtype: int64"
      ]
     },
     "execution_count": 64,
     "metadata": {},
     "output_type": "execute_result"
    }
   ],
   "source": [
    "all_strains_df['inversion'].value_counts()"
   ]
  },
  {
   "cell_type": "code",
   "execution_count": 65,
   "metadata": {},
   "outputs": [
    {
     "data": {
      "text/plain": [
       "1.000000    2110\n",
       "0.000000     913\n",
       "Name: inversion, dtype: int64"
      ]
     },
     "execution_count": 65,
     "metadata": {},
     "output_type": "execute_result"
    }
   ],
   "source": [
    "bigblocks['inversion'].value_counts()"
   ]
  },
  {
   "cell_type": "code",
   "execution_count": 66,
   "metadata": {},
   "outputs": [
    {
     "data": {
      "text/plain": [
       "ATCC       778\n",
       "BW25113    753\n",
       "K12DH      748\n",
       "K12MG      744\n",
       "Name: strain, dtype: int64"
      ]
     },
     "execution_count": 66,
     "metadata": {},
     "output_type": "execute_result"
    }
   ],
   "source": [
    "bigblocks['strain'].value_counts()"
   ]
  },
  {
   "cell_type": "code",
   "execution_count": 67,
   "metadata": {},
   "outputs": [
    {
     "data": {
      "text/plain": [
       "1.000000    2074\n",
       "0.000000     934\n",
       "Name: inversion, dtype: int64"
      ]
     },
     "execution_count": 67,
     "metadata": {},
     "output_type": "execute_result"
    }
   ],
   "source": [
    "# 0 - 25%\n",
    "all_strains_df[all_strains_df['block_length'] < 5553]['inversion'].value_counts()"
   ]
  },
  {
   "cell_type": "code",
   "execution_count": 68,
   "metadata": {},
   "outputs": [
    {
     "data": {
      "text/plain": [
       "1.000000    2086\n",
       "0.000000     937\n",
       "Name: inversion, dtype: int64"
      ]
     },
     "execution_count": 68,
     "metadata": {},
     "output_type": "execute_result"
    }
   ],
   "source": [
    "# 25 - 50%\n",
    "all_strains_df[(all_strains_df['block_length'] >= 5553) & \n",
    "               (all_strains_df['block_length'] < 9804)]['inversion'].value_counts()"
   ]
  },
  {
   "cell_type": "code",
   "execution_count": 69,
   "metadata": {},
   "outputs": [
    {
     "data": {
      "text/plain": [
       "1.000000    2119\n",
       "0.000000     901\n",
       "Name: inversion, dtype: int64"
      ]
     },
     "execution_count": 69,
     "metadata": {},
     "output_type": "execute_result"
    }
   ],
   "source": [
    "# 50 - 75%\n",
    "all_strains_df[(all_strains_df['block_length'] >= 9804) & \n",
    "               (all_strains_df['block_length'] < 14887)]['inversion'].value_counts()"
   ]
  },
  {
   "cell_type": "code",
   "execution_count": 70,
   "metadata": {},
   "outputs": [],
   "source": [
    "biggest_block = all_strains_df[(all_strains_df['block_length'] > 30000.000000)]"
   ]
  },
  {
   "cell_type": "code",
   "execution_count": 71,
   "metadata": {},
   "outputs": [
    {
     "data": {
      "text/plain": [
       "block             2\n",
       "start             8\n",
       "end               8\n",
       "rev_comp          2\n",
       "inversion         2\n",
       "strain            4\n",
       "gene_name       207\n",
       "gbk_start       276\n",
       "gbk_midpoint    276\n",
       "gbk_end         276\n",
       "norm_exp        276\n",
       "block_length      4\n",
       "log_exp         276\n",
       "dtype: int64"
      ]
     },
     "execution_count": 71,
     "metadata": {},
     "output_type": "execute_result"
    }
   ],
   "source": [
    "biggest_block.nunique()"
   ]
  },
  {
   "cell_type": "code",
   "execution_count": 72,
   "metadata": {},
   "outputs": [
    {
     "data": {
      "text/html": [
       "<div>\n",
       "<style scoped>\n",
       "    .dataframe tbody tr th:only-of-type {\n",
       "        vertical-align: middle;\n",
       "    }\n",
       "\n",
       "    .dataframe tbody tr th {\n",
       "        vertical-align: top;\n",
       "    }\n",
       "\n",
       "    .dataframe thead th {\n",
       "        text-align: right;\n",
       "    }\n",
       "</style>\n",
       "<table border=\"1\" class=\"dataframe\">\n",
       "  <thead>\n",
       "    <tr style=\"text-align: right;\">\n",
       "      <th></th>\n",
       "      <th>start</th>\n",
       "      <th>end</th>\n",
       "      <th>rev_comp</th>\n",
       "      <th>inversion</th>\n",
       "      <th>gbk_start</th>\n",
       "      <th>gbk_midpoint</th>\n",
       "      <th>gbk_end</th>\n",
       "      <th>norm_exp</th>\n",
       "      <th>block_length</th>\n",
       "      <th>log_exp</th>\n",
       "    </tr>\n",
       "  </thead>\n",
       "  <tbody>\n",
       "    <tr>\n",
       "      <th>count</th>\n",
       "      <td>276.000000</td>\n",
       "      <td>276.000000</td>\n",
       "      <td>276.000000</td>\n",
       "      <td>276.000000</td>\n",
       "      <td>276.000000</td>\n",
       "      <td>276.000000</td>\n",
       "      <td>276.000000</td>\n",
       "      <td>276.000000</td>\n",
       "      <td>276.000000</td>\n",
       "      <td>276.000000</td>\n",
       "    </tr>\n",
       "    <tr>\n",
       "      <th>mean</th>\n",
       "      <td>2089962.942029</td>\n",
       "      <td>2126048.246377</td>\n",
       "      <td>0.152174</td>\n",
       "      <td>0.583333</td>\n",
       "      <td>2108399.307971</td>\n",
       "      <td>2108848.829710</td>\n",
       "      <td>2109298.865942</td>\n",
       "      <td>210.109530</td>\n",
       "      <td>36085.304348</td>\n",
       "      <td>4.417090</td>\n",
       "    </tr>\n",
       "    <tr>\n",
       "      <th>std</th>\n",
       "      <td>782666.038004</td>\n",
       "      <td>783399.223659</td>\n",
       "      <td>0.359842</td>\n",
       "      <td>0.493902</td>\n",
       "      <td>782638.136514</td>\n",
       "      <td>782622.945545</td>\n",
       "      <td>782607.905746</td>\n",
       "      <td>349.872567</td>\n",
       "      <td>2943.777504</td>\n",
       "      <td>1.425032</td>\n",
       "    </tr>\n",
       "    <tr>\n",
       "      <th>min</th>\n",
       "      <td>213798.000000</td>\n",
       "      <td>246405.000000</td>\n",
       "      <td>0.000000</td>\n",
       "      <td>0.000000</td>\n",
       "      <td>213834.000000</td>\n",
       "      <td>214562.000000</td>\n",
       "      <td>215291.000000</td>\n",
       "      <td>1.647506</td>\n",
       "      <td>32607.000000</td>\n",
       "      <td>0.973618</td>\n",
       "    </tr>\n",
       "    <tr>\n",
       "      <th>25%</th>\n",
       "      <td>1885396.250000</td>\n",
       "      <td>1923965.250000</td>\n",
       "      <td>0.000000</td>\n",
       "      <td>0.000000</td>\n",
       "      <td>1903812.500000</td>\n",
       "      <td>1904230.000000</td>\n",
       "      <td>1904648.500000</td>\n",
       "      <td>28.088017</td>\n",
       "      <td>32609.000000</td>\n",
       "      <td>3.370326</td>\n",
       "    </tr>\n",
       "    <tr>\n",
       "      <th>50%</th>\n",
       "      <td>1975427.000000</td>\n",
       "      <td>2013996.000000</td>\n",
       "      <td>0.000000</td>\n",
       "      <td>1.000000</td>\n",
       "      <td>2004539.500000</td>\n",
       "      <td>2004984.000000</td>\n",
       "      <td>2005429.500000</td>\n",
       "      <td>83.770056</td>\n",
       "      <td>38568.000000</td>\n",
       "      <td>4.439940</td>\n",
       "    </tr>\n",
       "    <tr>\n",
       "      <th>75%</th>\n",
       "      <td>2479799.000000</td>\n",
       "      <td>2512408.000000</td>\n",
       "      <td>0.000000</td>\n",
       "      <td>1.000000</td>\n",
       "      <td>2480201.000000</td>\n",
       "      <td>2480938.000000</td>\n",
       "      <td>2481676.000000</td>\n",
       "      <td>205.091166</td>\n",
       "      <td>38569.000000</td>\n",
       "      <td>5.328261</td>\n",
       "    </tr>\n",
       "    <tr>\n",
       "      <th>max</th>\n",
       "      <td>3214409.000000</td>\n",
       "      <td>3252977.000000</td>\n",
       "      <td>1.000000</td>\n",
       "      <td>1.000000</td>\n",
       "      <td>3251820.000000</td>\n",
       "      <td>3252383.000000</td>\n",
       "      <td>3252947.000000</td>\n",
       "      <td>2502.771593</td>\n",
       "      <td>38569.000000</td>\n",
       "      <td>7.825554</td>\n",
       "    </tr>\n",
       "  </tbody>\n",
       "</table>\n",
       "</div>"
      ],
      "text/plain": [
       "               start            end   rev_comp  inversion      gbk_start  \\\n",
       "count     276.000000     276.000000 276.000000 276.000000     276.000000   \n",
       "mean  2089962.942029 2126048.246377   0.152174   0.583333 2108399.307971   \n",
       "std    782666.038004  783399.223659   0.359842   0.493902  782638.136514   \n",
       "min    213798.000000  246405.000000   0.000000   0.000000  213834.000000   \n",
       "25%   1885396.250000 1923965.250000   0.000000   0.000000 1903812.500000   \n",
       "50%   1975427.000000 2013996.000000   0.000000   1.000000 2004539.500000   \n",
       "75%   2479799.000000 2512408.000000   0.000000   1.000000 2480201.000000   \n",
       "max   3214409.000000 3252977.000000   1.000000   1.000000 3251820.000000   \n",
       "\n",
       "        gbk_midpoint        gbk_end    norm_exp  block_length    log_exp  \n",
       "count     276.000000     276.000000  276.000000    276.000000 276.000000  \n",
       "mean  2108848.829710 2109298.865942  210.109530  36085.304348   4.417090  \n",
       "std    782622.945545  782607.905746  349.872567   2943.777504   1.425032  \n",
       "min    214562.000000  215291.000000    1.647506  32607.000000   0.973618  \n",
       "25%   1904230.000000 1904648.500000   28.088017  32609.000000   3.370326  \n",
       "50%   2004984.000000 2005429.500000   83.770056  38568.000000   4.439940  \n",
       "75%   2480938.000000 2481676.000000  205.091166  38569.000000   5.328261  \n",
       "max   3252383.000000 3252947.000000 2502.771593  38569.000000   7.825554  "
      ]
     },
     "execution_count": 72,
     "metadata": {},
     "output_type": "execute_result"
    }
   ],
   "source": [
    "biggest_block.describe()"
   ]
  },
  {
   "cell_type": "code",
   "execution_count": 73,
   "metadata": {},
   "outputs": [
    {
     "data": {
      "text/plain": [
       "<matplotlib.axes._subplots.AxesSubplot at 0x7f8904750be0>"
      ]
     },
     "execution_count": 73,
     "metadata": {},
     "output_type": "execute_result"
    },
    {
     "data": {
      "image/png": "[encoded data removed]",
      "text/plain": [
       "<Figure size 576x432 with 1 Axes>"
      ]
     },
     "metadata": {},
     "output_type": "display_data"
    }
   ],
   "source": [
    "sns.violinplot(x=\"strain\", y=\"log_exp\", hue=\"inversion\",\n",
    "                    data=biggest_block, palette=\"muted\", split=True)"
   ]
  },
  {
   "cell_type": "markdown",
   "metadata": {},
   "source": [
    "# Block length "
   ]
  },
  {
   "cell_type": "code",
   "execution_count": 82,
   "metadata": {},
   "outputs": [],
   "source": [
    "BW__block_length = all_strains_df[(all_strains_df['strain']=='BW25113')&(all_strains_df['inversion']==0)][['block_length']].describe()\n",
    "BW__block_length.columns = ['BW']\n",
    "\n",
    "BW_inverted = all_strains_df[(all_strains_df['strain']=='BW25113')&(all_strains_df['inversion']==1)][['block_length']].describe()\n",
    "BW_inverted.columns = ['BW_inverted']\n",
    "\n",
    "ATCC__block_length = all_strains_df[(all_strains_df['strain']=='ATCC')&(all_strains_df['inversion']==0)][['block_length']].describe()\n",
    "ATCC__block_length.columns = ['ATCC']\n",
    "\n",
    "ATCC_inverted = all_strains_df[(all_strains_df['strain']=='ATCC')&(all_strains_df['inversion']==1)][['block_length']].describe()\n",
    "ATCC_inverted.columns = ['ATCC_inverted']\n",
    "\n",
    "K12DH__block_length = all_strains_df[(all_strains_df['strain']=='K12DH')&(all_strains_df['inversion']==0)][['block_length']].describe()\n",
    "K12DH__block_length.columns = ['K12DH']\n",
    "\n",
    "K12DH_inverted = all_strains_df[(all_strains_df['strain']=='K12DH')&(all_strains_df['inversion']==1)][['block_length']].describe()\n",
    "K12DH_inverted.columns = ['K12DH_inverted']\n",
    "\n",
    "K12MG__block_length = all_strains_df[(all_strains_df['strain']=='K12MG')&(all_strains_df['inversion']==0)][['block_length']].describe()\n",
    "K12MG__block_length.columns = ['K12MG']\n",
    "\n",
    "K12MG_inverted = all_strains_df[(all_strains_df['strain']=='K12MG')&(all_strains_df['inversion']==1)][['block_length']].describe()\n",
    "K12MG_inverted.columns = ['K12MG_inverted']\n",
    "\n",
    "block_length_stats = pd.concat([ATCC__block_length, ATCC_inverted,\n",
    "                        BW__block_length, BW_inverted, K12DH__block_length, K12DH_inverted, K12MG__block_length, K12MG_inverted,], axis=1)"
   ]
  },
  {
   "cell_type": "code",
   "execution_count": 84,
   "metadata": {},
   "outputs": [
    {
     "data": {
      "text/html": [
       "<div>\n",
       "<style scoped>\n",
       "    .dataframe tbody tr th:only-of-type {\n",
       "        vertical-align: middle;\n",
       "    }\n",
       "\n",
       "    .dataframe tbody tr th {\n",
       "        vertical-align: top;\n",
       "    }\n",
       "\n",
       "    .dataframe thead th {\n",
       "        text-align: right;\n",
       "    }\n",
       "</style>\n",
       "<table border=\"1\" class=\"dataframe\">\n",
       "  <thead>\n",
       "    <tr style=\"text-align: right;\">\n",
       "      <th></th>\n",
       "      <th>ATCC</th>\n",
       "      <th>ATCC_inverted</th>\n",
       "      <th>BW</th>\n",
       "      <th>BW_inverted</th>\n",
       "      <th>K12DH</th>\n",
       "      <th>K12DH_inverted</th>\n",
       "      <th>K12MG</th>\n",
       "      <th>K12MG_inverted</th>\n",
       "    </tr>\n",
       "  </thead>\n",
       "  <tbody>\n",
       "    <tr>\n",
       "      <th>count</th>\n",
       "      <td>951.000000</td>\n",
       "      <td>2161.000000</td>\n",
       "      <td>911.000000</td>\n",
       "      <td>2092.000000</td>\n",
       "      <td>917.000000</td>\n",
       "      <td>2077.000000</td>\n",
       "      <td>906.000000</td>\n",
       "      <td>2059.000000</td>\n",
       "    </tr>\n",
       "    <tr>\n",
       "      <th>mean</th>\n",
       "      <td>11305.042061</td>\n",
       "      <td>11469.401203</td>\n",
       "      <td>11420.861690</td>\n",
       "      <td>11404.645793</td>\n",
       "      <td>11269.913850</td>\n",
       "      <td>11422.268175</td>\n",
       "      <td>11326.908389</td>\n",
       "      <td>11448.677028</td>\n",
       "    </tr>\n",
       "    <tr>\n",
       "      <th>std</th>\n",
       "      <td>7651.001596</td>\n",
       "      <td>7993.806205</td>\n",
       "      <td>7676.947044</td>\n",
       "      <td>7957.775377</td>\n",
       "      <td>7657.032043</td>\n",
       "      <td>7966.552299</td>\n",
       "      <td>7660.450001</td>\n",
       "      <td>7998.562414</td>\n",
       "    </tr>\n",
       "    <tr>\n",
       "      <th>min</th>\n",
       "      <td>175.000000</td>\n",
       "      <td>285.000000</td>\n",
       "      <td>175.000000</td>\n",
       "      <td>285.000000</td>\n",
       "      <td>175.000000</td>\n",
       "      <td>285.000000</td>\n",
       "      <td>175.000000</td>\n",
       "      <td>285.000000</td>\n",
       "    </tr>\n",
       "    <tr>\n",
       "      <th>25%</th>\n",
       "      <td>5517.000000</td>\n",
       "      <td>5660.000000</td>\n",
       "      <td>5636.000000</td>\n",
       "      <td>5563.000000</td>\n",
       "      <td>5517.000000</td>\n",
       "      <td>5553.000000</td>\n",
       "      <td>5567.750000</td>\n",
       "      <td>5553.000000</td>\n",
       "    </tr>\n",
       "    <tr>\n",
       "      <th>50%</th>\n",
       "      <td>9374.000000</td>\n",
       "      <td>9953.000000</td>\n",
       "      <td>9791.000000</td>\n",
       "      <td>9879.000000</td>\n",
       "      <td>9375.000000</td>\n",
       "      <td>9954.000000</td>\n",
       "      <td>9791.000000</td>\n",
       "      <td>10066.000000</td>\n",
       "    </tr>\n",
       "    <tr>\n",
       "      <th>75%</th>\n",
       "      <td>14027.000000</td>\n",
       "      <td>14887.000000</td>\n",
       "      <td>15607.000000</td>\n",
       "      <td>14887.000000</td>\n",
       "      <td>14026.000000</td>\n",
       "      <td>14887.000000</td>\n",
       "      <td>14026.000000</td>\n",
       "      <td>14887.000000</td>\n",
       "    </tr>\n",
       "    <tr>\n",
       "      <th>max</th>\n",
       "      <td>32607.000000</td>\n",
       "      <td>38568.000000</td>\n",
       "      <td>32609.000000</td>\n",
       "      <td>38569.000000</td>\n",
       "      <td>32609.000000</td>\n",
       "      <td>38569.000000</td>\n",
       "      <td>32609.000000</td>\n",
       "      <td>38569.000000</td>\n",
       "    </tr>\n",
       "  </tbody>\n",
       "</table>\n",
       "</div>"
      ],
      "text/plain": [
       "              ATCC  ATCC_inverted           BW  BW_inverted        K12DH  \\\n",
       "count   951.000000    2161.000000   911.000000  2092.000000   917.000000   \n",
       "mean  11305.042061   11469.401203 11420.861690 11404.645793 11269.913850   \n",
       "std    7651.001596    7993.806205  7676.947044  7957.775377  7657.032043   \n",
       "min     175.000000     285.000000   175.000000   285.000000   175.000000   \n",
       "25%    5517.000000    5660.000000  5636.000000  5563.000000  5517.000000   \n",
       "50%    9374.000000    9953.000000  9791.000000  9879.000000  9375.000000   \n",
       "75%   14027.000000   14887.000000 15607.000000 14887.000000 14026.000000   \n",
       "max   32607.000000   38568.000000 32609.000000 38569.000000 32609.000000   \n",
       "\n",
       "       K12DH_inverted        K12MG  K12MG_inverted  \n",
       "count     2077.000000   906.000000     2059.000000  \n",
       "mean     11422.268175 11326.908389    11448.677028  \n",
       "std       7966.552299  7660.450001     7998.562414  \n",
       "min        285.000000   175.000000      285.000000  \n",
       "25%       5553.000000  5567.750000     5553.000000  \n",
       "50%       9954.000000  9791.000000    10066.000000  \n",
       "75%      14887.000000 14026.000000    14887.000000  \n",
       "max      38569.000000 32609.000000    38569.000000  "
      ]
     },
     "execution_count": 84,
     "metadata": {},
     "output_type": "execute_result"
    },
    {
     "data": {
      "image/png": "[encoded data removed]",
      "text/plain": [
       "<Figure size 576x432 with 1 Axes>"
      ]
     },
     "metadata": {},
     "output_type": "display_data"
    }
   ],
   "source": [
    "sns.violinplot(x=\"strain\", y=\"block_length\", hue=\"inversion\",\n",
    "                    data=all_strains_df, palette=\"muted\", split=True)\n",
    "block_length_stats"
   ]
  },
  {
   "cell_type": "code",
   "execution_count": 94,
   "metadata": {},
   "outputs": [],
   "source": [
    "BW__block_length = all_strains_df[(all_strains_df['strain']=='BW25113')&(all_strains_df['rev_comp']==0)][['block_length']].describe()\n",
    "BW__block_length.columns = ['BW']\n",
    "\n",
    "BW_inverted = all_strains_df[(all_strains_df['strain']=='BW25113')&(all_strains_df['rev_comp']==1)][['block_length']].describe()\n",
    "BW_inverted.columns = ['BW_inverted']\n",
    "\n",
    "ATCC__block_length = all_strains_df[(all_strains_df['strain']=='ATCC')&(all_strains_df['rev_comp']==0)][['block_length']].describe()\n",
    "ATCC__block_length.columns = ['ATCC']\n",
    "\n",
    "ATCC_inverted = all_strains_df[(all_strains_df['strain']=='ATCC')&(all_strains_df['rev_comp']==1)][['block_length']].describe()\n",
    "ATCC_inverted.columns = ['ATCC_inverted']\n",
    "\n",
    "K12DH__block_length = all_strains_df[(all_strains_df['strain']=='K12DH')&(all_strains_df['rev_comp']==0)][['block_length']].describe()\n",
    "K12DH__block_length.columns = ['K12DH']\n",
    "\n",
    "K12DH_inverted = all_strains_df[(all_strains_df['strain']=='K12DH')&(all_strains_df['rev_comp']==1)][['block_length']].describe()\n",
    "K12DH_inverted.columns = ['K12DH_inverted']\n",
    "\n",
    "K12MG__block_length = all_strains_df[(all_strains_df['strain']=='K12MG')&(all_strains_df['rev_comp']==0)][['block_length']].describe()\n",
    "K12MG__block_length.columns = ['K12MG']\n",
    "\n",
    "K12MG_inverted = all_strains_df[(all_strains_df['strain']=='K12MG')&(all_strains_df['rev_comp']==1)][['block_length']].describe()\n",
    "K12MG_inverted.columns = ['K12MG_inverted']\n",
    "\n",
    "block_length_stats = pd.concat([ATCC__block_length, ATCC_inverted,\n",
    "                        BW__block_length, BW_inverted, K12DH__block_length, K12DH_inverted, K12MG__block_length, K12MG_inverted,], axis=1)"
   ]
  },
  {
   "cell_type": "code",
   "execution_count": 95,
   "metadata": {},
   "outputs": [
    {
     "data": {
      "text/html": [
       "<div>\n",
       "<style scoped>\n",
       "    .dataframe tbody tr th:only-of-type {\n",
       "        vertical-align: middle;\n",
       "    }\n",
       "\n",
       "    .dataframe tbody tr th {\n",
       "        vertical-align: top;\n",
       "    }\n",
       "\n",
       "    .dataframe thead th {\n",
       "        text-align: right;\n",
       "    }\n",
       "</style>\n",
       "<table border=\"1\" class=\"dataframe\">\n",
       "  <thead>\n",
       "    <tr style=\"text-align: right;\">\n",
       "      <th></th>\n",
       "      <th>ATCC</th>\n",
       "      <th>ATCC_inverted</th>\n",
       "      <th>BW</th>\n",
       "      <th>BW_inverted</th>\n",
       "      <th>K12DH</th>\n",
       "      <th>K12DH_inverted</th>\n",
       "      <th>K12MG</th>\n",
       "      <th>K12MG_inverted</th>\n",
       "    </tr>\n",
       "  </thead>\n",
       "  <tbody>\n",
       "    <tr>\n",
       "      <th>count</th>\n",
       "      <td>951.000000</td>\n",
       "      <td>2161.000000</td>\n",
       "      <td>3003.000000</td>\n",
       "      <td>0.000000</td>\n",
       "      <td>2992.000000</td>\n",
       "      <td>2.000000</td>\n",
       "      <td>2965.000000</td>\n",
       "      <td>0.000000</td>\n",
       "    </tr>\n",
       "    <tr>\n",
       "      <th>mean</th>\n",
       "      <td>11305.042061</td>\n",
       "      <td>11469.401203</td>\n",
       "      <td>11409.565102</td>\n",
       "      <td>nan</td>\n",
       "      <td>11381.861631</td>\n",
       "      <td>2016.000000</td>\n",
       "      <td>11411.468803</td>\n",
       "      <td>nan</td>\n",
       "    </tr>\n",
       "    <tr>\n",
       "      <th>std</th>\n",
       "      <td>7651.001596</td>\n",
       "      <td>7993.806205</td>\n",
       "      <td>7872.369382</td>\n",
       "      <td>nan</td>\n",
       "      <td>7870.966957</td>\n",
       "      <td>1087.530229</td>\n",
       "      <td>7895.694295</td>\n",
       "      <td>nan</td>\n",
       "    </tr>\n",
       "    <tr>\n",
       "      <th>min</th>\n",
       "      <td>175.000000</td>\n",
       "      <td>285.000000</td>\n",
       "      <td>175.000000</td>\n",
       "      <td>nan</td>\n",
       "      <td>175.000000</td>\n",
       "      <td>1247.000000</td>\n",
       "      <td>175.000000</td>\n",
       "      <td>nan</td>\n",
       "    </tr>\n",
       "    <tr>\n",
       "      <th>25%</th>\n",
       "      <td>5517.000000</td>\n",
       "      <td>5660.000000</td>\n",
       "      <td>5599.500000</td>\n",
       "      <td>nan</td>\n",
       "      <td>5517.000000</td>\n",
       "      <td>1631.500000</td>\n",
       "      <td>5553.000000</td>\n",
       "      <td>nan</td>\n",
       "    </tr>\n",
       "    <tr>\n",
       "      <th>50%</th>\n",
       "      <td>9374.000000</td>\n",
       "      <td>9953.000000</td>\n",
       "      <td>9804.000000</td>\n",
       "      <td>nan</td>\n",
       "      <td>9804.000000</td>\n",
       "      <td>2016.000000</td>\n",
       "      <td>9851.000000</td>\n",
       "      <td>nan</td>\n",
       "    </tr>\n",
       "    <tr>\n",
       "      <th>75%</th>\n",
       "      <td>14027.000000</td>\n",
       "      <td>14887.000000</td>\n",
       "      <td>14887.000000</td>\n",
       "      <td>nan</td>\n",
       "      <td>14354.500000</td>\n",
       "      <td>2400.500000</td>\n",
       "      <td>14887.000000</td>\n",
       "      <td>nan</td>\n",
       "    </tr>\n",
       "    <tr>\n",
       "      <th>max</th>\n",
       "      <td>32607.000000</td>\n",
       "      <td>38568.000000</td>\n",
       "      <td>38569.000000</td>\n",
       "      <td>nan</td>\n",
       "      <td>38569.000000</td>\n",
       "      <td>2785.000000</td>\n",
       "      <td>38569.000000</td>\n",
       "      <td>nan</td>\n",
       "    </tr>\n",
       "  </tbody>\n",
       "</table>\n",
       "</div>"
      ],
      "text/plain": [
       "              ATCC  ATCC_inverted           BW  BW_inverted        K12DH  \\\n",
       "count   951.000000    2161.000000  3003.000000     0.000000  2992.000000   \n",
       "mean  11305.042061   11469.401203 11409.565102          nan 11381.861631   \n",
       "std    7651.001596    7993.806205  7872.369382          nan  7870.966957   \n",
       "min     175.000000     285.000000   175.000000          nan   175.000000   \n",
       "25%    5517.000000    5660.000000  5599.500000          nan  5517.000000   \n",
       "50%    9374.000000    9953.000000  9804.000000          nan  9804.000000   \n",
       "75%   14027.000000   14887.000000 14887.000000          nan 14354.500000   \n",
       "max   32607.000000   38568.000000 38569.000000          nan 38569.000000   \n",
       "\n",
       "       K12DH_inverted        K12MG  K12MG_inverted  \n",
       "count        2.000000  2965.000000        0.000000  \n",
       "mean      2016.000000 11411.468803             nan  \n",
       "std       1087.530229  7895.694295             nan  \n",
       "min       1247.000000   175.000000             nan  \n",
       "25%       1631.500000  5553.000000             nan  \n",
       "50%       2016.000000  9851.000000             nan  \n",
       "75%       2400.500000 14887.000000             nan  \n",
       "max       2785.000000 38569.000000             nan  "
      ]
     },
     "execution_count": 95,
     "metadata": {},
     "output_type": "execute_result"
    },
    {
     "data": {
      "image/png": "[encoded data removed]",
      "text/plain": [
       "<Figure size 576x432 with 1 Axes>"
      ]
     },
     "metadata": {},
     "output_type": "display_data"
    }
   ],
   "source": [
    "sns.violinplot(x=\"strain\", y=\"block_length\", hue=\"rev_comp\",\n",
    "                    data=all_strains_df, palette=\"muted\", split=True)\n",
    "block_length_stats"
   ]
  },
  {
   "cell_type": "markdown",
   "metadata": {},
   "source": [
    "# midpoint gene"
   ]
  },
  {
   "cell_type": "code",
   "execution_count": 86,
   "metadata": {},
   "outputs": [
    {
     "data": {
      "text/plain": [
       "Index(['block', 'start', 'end', 'rev_comp', 'inversion', 'strain', 'gene_name',\n",
       "       'gbk_start', 'gbk_midpoint', 'gbk_end', 'norm_exp', 'block_length',\n",
       "       'log_exp'],\n",
       "      dtype='object')"
      ]
     },
     "execution_count": 86,
     "metadata": {},
     "output_type": "execute_result"
    }
   ],
   "source": [
    "all_strains_df.columns"
   ]
  },
  {
   "cell_type": "code",
   "execution_count": 87,
   "metadata": {},
   "outputs": [],
   "source": [
    "BWposition = all_strains_df[(all_strains_df['strain']=='BW25113')&(all_strains_df['inversion']==0)][['gbk_midpoint']].describe()\n",
    "BWposition.columns = ['BW']\n",
    "\n",
    "BW_inverted = all_strains_df[(all_strains_df['strain']=='BW25113')&(all_strains_df['inversion']==1)][['gbk_midpoint']].describe()\n",
    "BW_inverted.columns = ['BW_inverted']\n",
    "\n",
    "ATCCposition = all_strains_df[(all_strains_df['strain']=='ATCC')&(all_strains_df['inversion']==0)][['gbk_midpoint']].describe()\n",
    "ATCCposition.columns = ['ATCC']\n",
    "\n",
    "ATCC_inverted = all_strains_df[(all_strains_df['strain']=='ATCC')&(all_strains_df['inversion']==1)][['gbk_midpoint']].describe()\n",
    "ATCC_inverted.columns = ['ATCC_inverted']\n",
    "\n",
    "K12DHposition = all_strains_df[(all_strains_df['strain']=='K12DH')&(all_strains_df['inversion']==0)][['gbk_midpoint']].describe()\n",
    "K12DHposition.columns = ['K12DH']\n",
    "\n",
    "K12DH_inverted = all_strains_df[(all_strains_df['strain']=='K12DH')&(all_strains_df['inversion']==1)][['gbk_midpoint']].describe()\n",
    "K12DH_inverted.columns = ['K12DH_inverted']\n",
    "\n",
    "K12MGposition = all_strains_df[(all_strains_df['strain']=='K12MG')&(all_strains_df['inversion']==0)][['gbk_midpoint']].describe()\n",
    "K12MGposition.columns = ['K12MG']\n",
    "\n",
    "K12MG_inverted = all_strains_df[(all_strains_df['strain']=='K12MG')&(all_strains_df['inversion']==1)][['gbk_midpoint']].describe()\n",
    "K12MG_inverted.columns = ['K12MG_inverted']\n",
    "\n",
    "gbk_midpoint_stats = pd.concat([ATCCposition, ATCC_inverted,\n",
    "                        BWposition, BW_inverted, K12DHposition, K12DH_inverted, K12MGposition, K12MG_inverted,], axis=1)"
   ]
  },
  {
   "cell_type": "code",
   "execution_count": 93,
   "metadata": {},
   "outputs": [
    {
     "data": {
      "text/html": [
       "<div>\n",
       "<style scoped>\n",
       "    .dataframe tbody tr th:only-of-type {\n",
       "        vertical-align: middle;\n",
       "    }\n",
       "\n",
       "    .dataframe tbody tr th {\n",
       "        vertical-align: top;\n",
       "    }\n",
       "\n",
       "    .dataframe thead th {\n",
       "        text-align: right;\n",
       "    }\n",
       "</style>\n",
       "<table border=\"1\" class=\"dataframe\">\n",
       "  <thead>\n",
       "    <tr style=\"text-align: right;\">\n",
       "      <th></th>\n",
       "      <th>ATCC</th>\n",
       "      <th>ATCC_inverted</th>\n",
       "      <th>BW</th>\n",
       "      <th>BW_inverted</th>\n",
       "      <th>K12DH</th>\n",
       "      <th>K12DH_inverted</th>\n",
       "      <th>K12MG</th>\n",
       "      <th>K12MG_inverted</th>\n",
       "    </tr>\n",
       "  </thead>\n",
       "  <tbody>\n",
       "    <tr>\n",
       "      <th>count</th>\n",
       "      <td>951.000000</td>\n",
       "      <td>2161.000000</td>\n",
       "      <td>911.000000</td>\n",
       "      <td>2092.000000</td>\n",
       "      <td>917.000000</td>\n",
       "      <td>2077.000000</td>\n",
       "      <td>906.000000</td>\n",
       "      <td>2059.000000</td>\n",
       "    </tr>\n",
       "    <tr>\n",
       "      <th>mean</th>\n",
       "      <td>1733628.181914</td>\n",
       "      <td>2696251.910689</td>\n",
       "      <td>2621086.571899</td>\n",
       "      <td>2292900.529637</td>\n",
       "      <td>2695898.227917</td>\n",
       "      <td>2367498.769379</td>\n",
       "      <td>2617613.483444</td>\n",
       "      <td>2308263.656144</td>\n",
       "    </tr>\n",
       "    <tr>\n",
       "      <th>std</th>\n",
       "      <td>1425242.935459</td>\n",
       "      <td>1380041.315517</td>\n",
       "      <td>1464053.882742</td>\n",
       "      <td>1177960.626041</td>\n",
       "      <td>1506826.530422</td>\n",
       "      <td>1209503.410486</td>\n",
       "      <td>1465079.903358</td>\n",
       "      <td>1176135.119156</td>\n",
       "    </tr>\n",
       "    <tr>\n",
       "      <th>min</th>\n",
       "      <td>639.000000</td>\n",
       "      <td>535855.000000</td>\n",
       "      <td>222.000000</td>\n",
       "      <td>237066.000000</td>\n",
       "      <td>222.000000</td>\n",
       "      <td>214683.000000</td>\n",
       "      <td>222.000000</td>\n",
       "      <td>240579.000000</td>\n",
       "    </tr>\n",
       "    <tr>\n",
       "      <th>25%</th>\n",
       "      <td>320554.500000</td>\n",
       "      <td>1340940.000000</td>\n",
       "      <td>2170886.500000</td>\n",
       "      <td>1219604.000000</td>\n",
       "      <td>2263454.000000</td>\n",
       "      <td>1258556.000000</td>\n",
       "      <td>2175039.750000</td>\n",
       "      <td>1233355.500000</td>\n",
       "    </tr>\n",
       "    <tr>\n",
       "      <th>50%</th>\n",
       "      <td>2267207.000000</td>\n",
       "      <td>3157178.000000</td>\n",
       "      <td>2488650.000000</td>\n",
       "      <td>1981779.000000</td>\n",
       "      <td>2584958.000000</td>\n",
       "      <td>2076208.000000</td>\n",
       "      <td>2490408.500000</td>\n",
       "      <td>1995031.000000</td>\n",
       "    </tr>\n",
       "    <tr>\n",
       "      <th>75%</th>\n",
       "      <td>2672308.000000</td>\n",
       "      <td>3879349.000000</td>\n",
       "      <td>4263354.500000</td>\n",
       "      <td>3410422.750000</td>\n",
       "      <td>4368165.000000</td>\n",
       "      <td>3510209.000000</td>\n",
       "      <td>4268067.750000</td>\n",
       "      <td>3422345.500000</td>\n",
       "    </tr>\n",
       "    <tr>\n",
       "      <th>max</th>\n",
       "      <td>5129985.000000</td>\n",
       "      <td>4939927.000000</td>\n",
       "      <td>4631102.000000</td>\n",
       "      <td>4155784.000000</td>\n",
       "      <td>4685770.000000</td>\n",
       "      <td>4263576.000000</td>\n",
       "      <td>4641285.000000</td>\n",
       "      <td>4165856.000000</td>\n",
       "    </tr>\n",
       "  </tbody>\n",
       "</table>\n",
       "</div>"
      ],
      "text/plain": [
       "                ATCC  ATCC_inverted             BW    BW_inverted  \\\n",
       "count     951.000000    2161.000000     911.000000    2092.000000   \n",
       "mean  1733628.181914 2696251.910689 2621086.571899 2292900.529637   \n",
       "std   1425242.935459 1380041.315517 1464053.882742 1177960.626041   \n",
       "min       639.000000  535855.000000     222.000000  237066.000000   \n",
       "25%    320554.500000 1340940.000000 2170886.500000 1219604.000000   \n",
       "50%   2267207.000000 3157178.000000 2488650.000000 1981779.000000   \n",
       "75%   2672308.000000 3879349.000000 4263354.500000 3410422.750000   \n",
       "max   5129985.000000 4939927.000000 4631102.000000 4155784.000000   \n",
       "\n",
       "               K12DH  K12DH_inverted          K12MG  K12MG_inverted  \n",
       "count     917.000000     2077.000000     906.000000     2059.000000  \n",
       "mean  2695898.227917  2367498.769379 2617613.483444  2308263.656144  \n",
       "std   1506826.530422  1209503.410486 1465079.903358  1176135.119156  \n",
       "min       222.000000   214683.000000     222.000000   240579.000000  \n",
       "25%   2263454.000000  1258556.000000 2175039.750000  1233355.500000  \n",
       "50%   2584958.000000  2076208.000000 2490408.500000  1995031.000000  \n",
       "75%   4368165.000000  3510209.000000 4268067.750000  3422345.500000  \n",
       "max   4685770.000000  4263576.000000 4641285.000000  4165856.000000  "
      ]
     },
     "execution_count": 93,
     "metadata": {},
     "output_type": "execute_result"
    },
    {
     "data": {
      "image/png": "[encoded data removed]",
      "text/plain": [
       "<Figure size 576x432 with 1 Axes>"
      ]
     },
     "metadata": {},
     "output_type": "display_data"
    }
   ],
   "source": [
    "sns.violinplot(x=\"strain\", y=\"gbk_midpoint\", hue=\"inversion\",\n",
    "                    data=all_strains_df, palette=\"muted\", split=True)\n",
    "gbk_midpoint_stats"
   ]
  },
  {
   "cell_type": "code",
   "execution_count": 96,
   "metadata": {},
   "outputs": [],
   "source": [
    "BWposition = all_strains_df[(all_strains_df['strain']=='BW25113')&(all_strains_df['rev_comp']==0)][['gbk_midpoint']].describe()\n",
    "BWposition.columns = ['BW']\n",
    "\n",
    "BW_inverted = all_strains_df[(all_strains_df['strain']=='BW25113')&(all_strains_df['rev_comp']==1)][['gbk_midpoint']].describe()\n",
    "BW_inverted.columns = ['BW_inverted']\n",
    "\n",
    "ATCCposition = all_strains_df[(all_strains_df['strain']=='ATCC')&(all_strains_df['rev_comp']==0)][['gbk_midpoint']].describe()\n",
    "ATCCposition.columns = ['ATCC']\n",
    "\n",
    "ATCC_inverted = all_strains_df[(all_strains_df['strain']=='ATCC')&(all_strains_df['rev_comp']==1)][['gbk_midpoint']].describe()\n",
    "ATCC_inverted.columns = ['ATCC_inverted']\n",
    "\n",
    "K12DHposition = all_strains_df[(all_strains_df['strain']=='K12DH')&(all_strains_df['rev_comp']==0)][['gbk_midpoint']].describe()\n",
    "K12DHposition.columns = ['K12DH']\n",
    "\n",
    "K12DH_inverted = all_strains_df[(all_strains_df['strain']=='K12DH')&(all_strains_df['rev_comp']==1)][['gbk_midpoint']].describe()\n",
    "K12DH_inverted.columns = ['K12DH_inverted']\n",
    "\n",
    "K12MGposition = all_strains_df[(all_strains_df['strain']=='K12MG')&(all_strains_df['rev_comp']==0)][['gbk_midpoint']].describe()\n",
    "K12MGposition.columns = ['K12MG']\n",
    "\n",
    "K12MG_inverted = all_strains_df[(all_strains_df['strain']=='K12MG')&(all_strains_df['rev_comp']==1)][['gbk_midpoint']].describe()\n",
    "K12MG_inverted.columns = ['K12MG_inverted']\n",
    "\n",
    "gbk_midpoint_stats = pd.concat([ATCCposition, ATCC_inverted,\n",
    "                        BWposition, BW_inverted, K12DHposition, K12DH_inverted, K12MGposition, K12MG_inverted,], axis=1)"
   ]
  },
  {
   "cell_type": "code",
   "execution_count": 97,
   "metadata": {},
   "outputs": [
    {
     "data": {
      "text/html": [
       "<div>\n",
       "<style scoped>\n",
       "    .dataframe tbody tr th:only-of-type {\n",
       "        vertical-align: middle;\n",
       "    }\n",
       "\n",
       "    .dataframe tbody tr th {\n",
       "        vertical-align: top;\n",
       "    }\n",
       "\n",
       "    .dataframe thead th {\n",
       "        text-align: right;\n",
       "    }\n",
       "</style>\n",
       "<table border=\"1\" class=\"dataframe\">\n",
       "  <thead>\n",
       "    <tr style=\"text-align: right;\">\n",
       "      <th></th>\n",
       "      <th>ATCC</th>\n",
       "      <th>ATCC_inverted</th>\n",
       "      <th>BW</th>\n",
       "      <th>BW_inverted</th>\n",
       "      <th>K12DH</th>\n",
       "      <th>K12DH_inverted</th>\n",
       "      <th>K12MG</th>\n",
       "      <th>K12MG_inverted</th>\n",
       "    </tr>\n",
       "  </thead>\n",
       "  <tbody>\n",
       "    <tr>\n",
       "      <th>count</th>\n",
       "      <td>951.000000</td>\n",
       "      <td>2161.000000</td>\n",
       "      <td>3003.000000</td>\n",
       "      <td>0.000000</td>\n",
       "      <td>2992.000000</td>\n",
       "      <td>2.000000</td>\n",
       "      <td>2965.000000</td>\n",
       "      <td>0.000000</td>\n",
       "    </tr>\n",
       "    <tr>\n",
       "      <th>mean</th>\n",
       "      <td>1733628.181914</td>\n",
       "      <td>2696251.910689</td>\n",
       "      <td>2392460.131535</td>\n",
       "      <td>nan</td>\n",
       "      <td>2467585.233957</td>\n",
       "      <td>3209299.500000</td>\n",
       "      <td>2402790.112648</td>\n",
       "      <td>nan</td>\n",
       "    </tr>\n",
       "    <tr>\n",
       "      <th>std</th>\n",
       "      <td>1425242.935459</td>\n",
       "      <td>1380041.315517</td>\n",
       "      <td>1280243.768126</td>\n",
       "      <td>nan</td>\n",
       "      <td>1316546.603964</td>\n",
       "      <td>1286.227235</td>\n",
       "      <td>1279124.000946</td>\n",
       "      <td>nan</td>\n",
       "    </tr>\n",
       "    <tr>\n",
       "      <th>min</th>\n",
       "      <td>639.000000</td>\n",
       "      <td>535855.000000</td>\n",
       "      <td>222.000000</td>\n",
       "      <td>nan</td>\n",
       "      <td>222.000000</td>\n",
       "      <td>3208390.000000</td>\n",
       "      <td>222.000000</td>\n",
       "      <td>nan</td>\n",
       "    </tr>\n",
       "    <tr>\n",
       "      <th>25%</th>\n",
       "      <td>320554.500000</td>\n",
       "      <td>1340940.000000</td>\n",
       "      <td>1311575.500000</td>\n",
       "      <td>nan</td>\n",
       "      <td>1384555.000000</td>\n",
       "      <td>3208844.750000</td>\n",
       "      <td>1328062.000000</td>\n",
       "      <td>nan</td>\n",
       "    </tr>\n",
       "    <tr>\n",
       "      <th>50%</th>\n",
       "      <td>2267207.000000</td>\n",
       "      <td>3157178.000000</td>\n",
       "      <td>2401648.000000</td>\n",
       "      <td>nan</td>\n",
       "      <td>2491131.000000</td>\n",
       "      <td>3209299.500000</td>\n",
       "      <td>2412347.000000</td>\n",
       "      <td>nan</td>\n",
       "    </tr>\n",
       "    <tr>\n",
       "      <th>75%</th>\n",
       "      <td>2672308.000000</td>\n",
       "      <td>3879349.000000</td>\n",
       "      <td>3467447.000000</td>\n",
       "      <td>nan</td>\n",
       "      <td>3570670.750000</td>\n",
       "      <td>3209754.250000</td>\n",
       "      <td>3473811.000000</td>\n",
       "      <td>nan</td>\n",
       "    </tr>\n",
       "    <tr>\n",
       "      <th>max</th>\n",
       "      <td>5129985.000000</td>\n",
       "      <td>4939927.000000</td>\n",
       "      <td>4631102.000000</td>\n",
       "      <td>nan</td>\n",
       "      <td>4685770.000000</td>\n",
       "      <td>3210209.000000</td>\n",
       "      <td>4641285.000000</td>\n",
       "      <td>nan</td>\n",
       "    </tr>\n",
       "  </tbody>\n",
       "</table>\n",
       "</div>"
      ],
      "text/plain": [
       "                ATCC  ATCC_inverted             BW  BW_inverted  \\\n",
       "count     951.000000    2161.000000    3003.000000     0.000000   \n",
       "mean  1733628.181914 2696251.910689 2392460.131535          nan   \n",
       "std   1425242.935459 1380041.315517 1280243.768126          nan   \n",
       "min       639.000000  535855.000000     222.000000          nan   \n",
       "25%    320554.500000 1340940.000000 1311575.500000          nan   \n",
       "50%   2267207.000000 3157178.000000 2401648.000000          nan   \n",
       "75%   2672308.000000 3879349.000000 3467447.000000          nan   \n",
       "max   5129985.000000 4939927.000000 4631102.000000          nan   \n",
       "\n",
       "               K12DH  K12DH_inverted          K12MG  K12MG_inverted  \n",
       "count    2992.000000        2.000000    2965.000000        0.000000  \n",
       "mean  2467585.233957  3209299.500000 2402790.112648             nan  \n",
       "std   1316546.603964     1286.227235 1279124.000946             nan  \n",
       "min       222.000000  3208390.000000     222.000000             nan  \n",
       "25%   1384555.000000  3208844.750000 1328062.000000             nan  \n",
       "50%   2491131.000000  3209299.500000 2412347.000000             nan  \n",
       "75%   3570670.750000  3209754.250000 3473811.000000             nan  \n",
       "max   4685770.000000  3210209.000000 4641285.000000             nan  "
      ]
     },
     "execution_count": 97,
     "metadata": {},
     "output_type": "execute_result"
    },
    {
     "data": {
      "image/png": "[encoded data removed]",
      "text/plain": [
       "<Figure size 576x432 with 1 Axes>"
      ]
     },
     "metadata": {},
     "output_type": "display_data"
    }
   ],
   "source": [
    "sns.violinplot(x=\"strain\", y=\"gbk_midpoint\", hue=\"rev_comp\",\n",
    "                    data=all_strains_df, palette=\"muted\", split=True)\n",
    "gbk_midpoint_stats"
   ]
  },
  {
   "cell_type": "code",
   "execution_count": null,
   "metadata": {},
   "outputs": [],
   "source": []
  }
 ],
 "metadata": {
  "kernelspec": {
   "display_name": "Python 3",
   "language": "python",
   "name": "python3"
  },
  "language_info": {
   "codemirror_mode": {
    "name": "ipython",
    "version": 3
   },
   "file_extension": ".py",
   "mimetype": "text/x-python",
   "name": "python",
   "nbconvert_exporter": "python",
   "pygments_lexer": "ipython3",
   "version": "3.6.8"
  }
 },
 "nbformat": 4,
 "nbformat_minor": 2
}
