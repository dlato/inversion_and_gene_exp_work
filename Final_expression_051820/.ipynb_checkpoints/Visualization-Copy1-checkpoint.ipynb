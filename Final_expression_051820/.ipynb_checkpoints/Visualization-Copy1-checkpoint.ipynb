{
 "cells": [
  {
   "cell_type": "code",
   "execution_count": 1,
   "metadata": {},
   "outputs": [],
   "source": [
    "import seaborn as sns\n",
    "import pandas as pd\n",
    "import numpy as np \n",
    "import matplotlib.pyplot as plt \n",
    "%matplotlib inline"
   ]
  },
  {
   "cell_type": "code",
   "execution_count": 2,
   "metadata": {},
   "outputs": [],
   "source": [
    "plt.rcParams['figure.figsize'] = [12, 10]"
   ]
  },
  {
   "cell_type": "markdown",
   "metadata": {},
   "source": [
    "## Blocks "
   ]
  },
  {
   "cell_type": "code",
   "execution_count": 3,
   "metadata": {},
   "outputs": [],
   "source": [
    "#load data\n",
    "block = pd.read_table(\"inversion_block_info_all.txt\", sep='\\t')\n",
    "\n",
    "#sort block files based on taxa\n",
    "ATCC_block = block[block.taxa=='NZ_CP009072'].sort_values(by='start').reset_index(drop=True)\n",
    "BW25113_block = block[block.taxa=='NZ_CP009273'].sort_values(by='start').reset_index(drop=True)\n",
    "K12DH_block = block[block.taxa=='NC_010473'].sort_values(by='start').reset_index(drop=True)\n",
    "K12MG_block = block[block.taxa=='U00096'].sort_values(by='start').reset_index(drop=True)\n",
    "\n",
    "#fixing rows that were not parse properly\n",
    "fix = block.taxa.unique()[4:]\n",
    "df = pd.DataFrame({})\n",
    "for i in fix:\n",
    "    df = df.append(block.loc[block.taxa==i])\n",
    "\n",
    "df['block2'] = df['block'].apply(lambda x : x.split('NZ')[1])\n",
    "df['block'] = df['block'].apply(lambda x : x.split('NZ')[0])\n",
    "\n",
    "df = df.drop(['inversion'],1)\n",
    "df.columns = ['block','start', 'end', 'rev_comp', 'inversion', 'taxa']\n",
    "df = df[['block', 'taxa', 'start', 'end','rev_comp', 'inversion']]\n",
    "\n",
    "df['taxa'] = df['taxa'].apply(lambda x : 'NZ'+x)\n",
    "\n",
    "#add fixed rows into the block files\n",
    "ATCC_block = ATCC_block.append(df.loc[df['taxa']==\"NZ_CP009072\"])\n",
    "BW25113_block = BW25113_block.append(df.loc[df['taxa']==\"NZ_CP009273\"])\n",
    "\n",
    "ATCC_block['start'] = pd.to_numeric(ATCC_block['start'])\n",
    "ATCC_block = ATCC_block.sort_values(by='start').reset_index(drop=True)\n",
    "\n",
    "BW25113_block['start'] = pd.to_numeric(BW25113_block['start'])\n",
    "BW25113_block = BW25113_block.sort_values(by='start').reset_index(drop=True)"
   ]
  },
  {
   "cell_type": "code",
   "execution_count": 4,
   "metadata": {},
   "outputs": [],
   "source": [
    "ATCC_block['strain'] = 'ATCC'\n",
    "BW25113_block['strain'] = 'BW25113'\n",
    "K12DH_block['strain'] = 'K12DH'\n",
    "K12MG_block['strain'] = 'K12MG'\n",
    "block_info = pd.concat([ATCC_block, BW25113_block, K12DH_block, K12MG_block])"
   ]
  },
  {
   "cell_type": "code",
   "execution_count": 5,
   "metadata": {},
   "outputs": [
    {
     "data": {
      "text/plain": [
       "Index(['block', 'taxa', 'start', 'end', 'rev_comp', 'inversion', 'strain'], dtype='object')"
      ]
     },
     "execution_count": 5,
     "metadata": {},
     "output_type": "execute_result"
    }
   ],
   "source": [
    "block_info.columns"
   ]
  },
  {
   "cell_type": "code",
   "execution_count": 6,
   "metadata": {},
   "outputs": [],
   "source": [
    "inver = block_info.groupby(['block','strain']).aggregate({'rev_comp':sum})\n",
    "\n",
    "inver['count'] = inver.groupby('block')['rev_comp'].transform('sum')"
   ]
  },
  {
   "cell_type": "code",
   "execution_count": 7,
   "metadata": {},
   "outputs": [
    {
     "data": {
      "text/html": [
       "<div>\n",
       "<style scoped>\n",
       "    .dataframe tbody tr th:only-of-type {\n",
       "        vertical-align: middle;\n",
       "    }\n",
       "\n",
       "    .dataframe tbody tr th {\n",
       "        vertical-align: top;\n",
       "    }\n",
       "\n",
       "    .dataframe thead th {\n",
       "        text-align: right;\n",
       "    }\n",
       "</style>\n",
       "<table border=\"1\" class=\"dataframe\">\n",
       "  <thead>\n",
       "    <tr style=\"text-align: right;\">\n",
       "      <th></th>\n",
       "      <th></th>\n",
       "      <th>rev_comp</th>\n",
       "    </tr>\n",
       "    <tr>\n",
       "      <th>strain</th>\n",
       "      <th>count</th>\n",
       "      <th></th>\n",
       "    </tr>\n",
       "  </thead>\n",
       "  <tbody>\n",
       "    <tr>\n",
       "      <th rowspan=\"4\" valign=\"top\">ATCC</th>\n",
       "      <th>0</th>\n",
       "      <td>0</td>\n",
       "    </tr>\n",
       "    <tr>\n",
       "      <th>1</th>\n",
       "      <td>705</td>\n",
       "    </tr>\n",
       "    <tr>\n",
       "      <th>2</th>\n",
       "      <td>4</td>\n",
       "    </tr>\n",
       "    <tr>\n",
       "      <th>3</th>\n",
       "      <td>2</td>\n",
       "    </tr>\n",
       "    <tr>\n",
       "      <th rowspan=\"4\" valign=\"top\">BW25113</th>\n",
       "      <th>0</th>\n",
       "      <td>0</td>\n",
       "    </tr>\n",
       "    <tr>\n",
       "      <th>1</th>\n",
       "      <td>0</td>\n",
       "    </tr>\n",
       "    <tr>\n",
       "      <th>2</th>\n",
       "      <td>4</td>\n",
       "    </tr>\n",
       "    <tr>\n",
       "      <th>3</th>\n",
       "      <td>2</td>\n",
       "    </tr>\n",
       "    <tr>\n",
       "      <th rowspan=\"4\" valign=\"top\">K12DH</th>\n",
       "      <th>0</th>\n",
       "      <td>0</td>\n",
       "    </tr>\n",
       "    <tr>\n",
       "      <th>1</th>\n",
       "      <td>0</td>\n",
       "    </tr>\n",
       "    <tr>\n",
       "      <th>2</th>\n",
       "      <td>8</td>\n",
       "    </tr>\n",
       "    <tr>\n",
       "      <th>3</th>\n",
       "      <td>2</td>\n",
       "    </tr>\n",
       "    <tr>\n",
       "      <th rowspan=\"4\" valign=\"top\">K12MG</th>\n",
       "      <th>0</th>\n",
       "      <td>0</td>\n",
       "    </tr>\n",
       "    <tr>\n",
       "      <th>1</th>\n",
       "      <td>0</td>\n",
       "    </tr>\n",
       "    <tr>\n",
       "      <th>2</th>\n",
       "      <td>0</td>\n",
       "    </tr>\n",
       "    <tr>\n",
       "      <th>3</th>\n",
       "      <td>0</td>\n",
       "    </tr>\n",
       "  </tbody>\n",
       "</table>\n",
       "</div>"
      ],
      "text/plain": [
       "               rev_comp\n",
       "strain  count          \n",
       "ATCC    0             0\n",
       "        1           705\n",
       "        2             4\n",
       "        3             2\n",
       "BW25113 0             0\n",
       "        1             0\n",
       "        2             4\n",
       "        3             2\n",
       "K12DH   0             0\n",
       "        1             0\n",
       "        2             8\n",
       "        3             2\n",
       "K12MG   0             0\n",
       "        1             0\n",
       "        2             0\n",
       "        3             0"
      ]
     },
     "execution_count": 7,
     "metadata": {},
     "output_type": "execute_result"
    }
   ],
   "source": [
    "table = pd.pivot_table(inver, index=['strain','count'], aggfunc=np.sum)\n",
    "table"
   ]
  },
  {
   "cell_type": "code",
   "execution_count": 8,
   "metadata": {},
   "outputs": [
    {
     "ename": "NameError",
     "evalue": "name 'gene_num' is not defined",
     "output_type": "error",
     "traceback": [
      "\u001b[0;31m---------------------------------------------------------------------------\u001b[0m",
      "\u001b[0;31mNameError\u001b[0m                                 Traceback (most recent call last)",
      "\u001b[0;32m<ipython-input-8-7e6bd40c8582>\u001b[0m in \u001b[0;36m<module>\u001b[0;34m()\u001b[0m\n\u001b[0;32m----> 1\u001b[0;31m \u001b[0mrev_comp\u001b[0m \u001b[0;34m=\u001b[0m \u001b[0mgene_num\u001b[0m\u001b[0;34m.\u001b[0m\u001b[0mgroupby\u001b[0m\u001b[0;34m(\u001b[0m\u001b[0;34m[\u001b[0m\u001b[0;34m'block'\u001b[0m\u001b[0;34m,\u001b[0m\u001b[0;34m'strain'\u001b[0m\u001b[0;34m]\u001b[0m\u001b[0;34m)\u001b[0m\u001b[0;34m.\u001b[0m\u001b[0maggregate\u001b[0m\u001b[0;34m(\u001b[0m\u001b[0;34m{\u001b[0m\u001b[0;34m'rev_comp'\u001b[0m\u001b[0;34m:\u001b[0m\u001b[0msum\u001b[0m\u001b[0;34m}\u001b[0m\u001b[0;34m)\u001b[0m\u001b[0;34m\u001b[0m\u001b[0;34m\u001b[0m\u001b[0m\n\u001b[0m\u001b[1;32m      2\u001b[0m \u001b[0mrev_comp\u001b[0m\u001b[0;34m[\u001b[0m\u001b[0;34m'count'\u001b[0m\u001b[0;34m]\u001b[0m \u001b[0;34m=\u001b[0m \u001b[0mrev_comp\u001b[0m\u001b[0;34m.\u001b[0m\u001b[0mgroupby\u001b[0m\u001b[0;34m(\u001b[0m\u001b[0;34m[\u001b[0m\u001b[0;34m'block'\u001b[0m\u001b[0;34m]\u001b[0m\u001b[0;34m)\u001b[0m\u001b[0;34m[\u001b[0m\u001b[0;34m'rev_comp'\u001b[0m\u001b[0;34m]\u001b[0m\u001b[0;34m.\u001b[0m\u001b[0mtransform\u001b[0m\u001b[0;34m(\u001b[0m\u001b[0;34m'sum'\u001b[0m\u001b[0;34m)\u001b[0m\u001b[0;34m\u001b[0m\u001b[0;34m\u001b[0m\u001b[0m\n\u001b[1;32m      3\u001b[0m \u001b[0mpd\u001b[0m\u001b[0;34m.\u001b[0m\u001b[0mpivot_table\u001b[0m\u001b[0;34m(\u001b[0m\u001b[0mrev_comp\u001b[0m\u001b[0;34m,\u001b[0m \u001b[0mindex\u001b[0m\u001b[0;34m=\u001b[0m\u001b[0;34m[\u001b[0m\u001b[0;34m'strain'\u001b[0m\u001b[0;34m,\u001b[0m\u001b[0;34m'count'\u001b[0m\u001b[0;34m]\u001b[0m\u001b[0;34m,\u001b[0m \u001b[0maggfunc\u001b[0m\u001b[0;34m=\u001b[0m\u001b[0mnp\u001b[0m\u001b[0;34m.\u001b[0m\u001b[0msum\u001b[0m\u001b[0;34m)\u001b[0m\u001b[0;34m\u001b[0m\u001b[0;34m\u001b[0m\u001b[0m\n",
      "\u001b[0;31mNameError\u001b[0m: name 'gene_num' is not defined"
     ]
    }
   ],
   "source": [
    "rev_comp = gene_num.groupby(['block','strain']).aggregate({'rev_comp':sum})\n",
    "rev_comp['count'] = rev_comp.groupby(['block'])['rev_comp'].transform('sum')\n",
    "pd.pivot_table(rev_comp, index=['strain','count'], aggfunc=np.sum)"
   ]
  },
  {
   "cell_type": "code",
   "execution_count": null,
   "metadata": {},
   "outputs": [],
   "source": [
    "table['rev_comp'].sum()"
   ]
  },
  {
   "cell_type": "code",
   "execution_count": null,
   "metadata": {},
   "outputs": [],
   "source": [
    "block_info['rev_comp'].sum()"
   ]
  },
  {
   "cell_type": "markdown",
   "metadata": {},
   "source": [
    "## with Gene expressions"
   ]
  },
  {
   "cell_type": "code",
   "execution_count": null,
   "metadata": {},
   "outputs": [],
   "source": [
    "df = pd.read_csv(\"Sample_final_df.csv\")"
   ]
  },
  {
   "cell_type": "code",
   "execution_count": null,
   "metadata": {},
   "outputs": [],
   "source": [
    "df['gene_name'] = np.where(df['gene_id'].isnull()==True, df['locus_tag'], df['gene_id'])"
   ]
  },
  {
   "cell_type": "code",
   "execution_count": null,
   "metadata": {},
   "outputs": [],
   "source": [
    "df2 = df.iloc[:,0:2]"
   ]
  },
  {
   "cell_type": "code",
   "execution_count": null,
   "metadata": {},
   "outputs": [],
   "source": [
    "df.columns"
   ]
  },
  {
   "cell_type": "code",
   "execution_count": null,
   "metadata": {},
   "outputs": [],
   "source": [
    "df2 = df.loc[:,['block','start','end','rev_comp','inversion','strain','gene_name','gbk_start','gbk_midpoint','gbk_end','norm_exp']]\n",
    "df2['block_length'] = df2['end'] - df2['start']"
   ]
  },
  {
   "cell_type": "code",
   "execution_count": null,
   "metadata": {},
   "outputs": [],
   "source": [
    "print('number of genes:',len(df2),'\\n genes inside inverted blocks:', \n",
    "      len(df2[df2['inversion']==1]),\n",
    "     '\\n genes inside inverted block by strains:',\n",
    "     len(df2[df2['rev_comp']==1]))"
   ]
  },
  {
   "cell_type": "code",
   "execution_count": null,
   "metadata": {},
   "outputs": [],
   "source": [
    "df2.head()"
   ]
  },
  {
   "cell_type": "code",
   "execution_count": null,
   "metadata": {},
   "outputs": [],
   "source": [
    "table= pd.pivot_table(df2, index=['block'], aggfunc={\n",
    "    'gene_name':'count'}).sort_values(by='gene_name',ascending=False)\n",
    "table[['gene_name']].describe() ## How many genes in each block\n",
    "#related to the length of the block"
   ]
  },
  {
   "cell_type": "code",
   "execution_count": null,
   "metadata": {},
   "outputs": [],
   "source": [
    "table1 = pd.pivot_table(df2[df2['inversion']==1], index=['block'], aggfunc={\n",
    "    'gene_name':'count'}).sort_values(by='gene_name',ascending=False)\n",
    "table1[['gene_name']].describe() ## How many genes in each block\n",
    "#related to the length of the block"
   ]
  },
  {
   "cell_type": "code",
   "execution_count": null,
   "metadata": {},
   "outputs": [],
   "source": [
    "table2 = pd.pivot_table(df2, index=['block','strain','rev_comp'], aggfunc={\n",
    "    'gene_name':'count'}).sort_values(by='block',ascending=False)\n",
    "table2.head(n=20)"
   ]
  },
  {
   "cell_type": "markdown",
   "metadata": {},
   "source": [
    "## Number of strains in each block"
   ]
  },
  {
   "cell_type": "code",
   "execution_count": null,
   "metadata": {},
   "outputs": [],
   "source": [
    "pd.DataFrame(df2.groupby('block')['strain'].nunique())['strain'].value_counts()"
   ]
  },
  {
   "cell_type": "code",
   "execution_count": null,
   "metadata": {},
   "outputs": [],
   "source": [
    "#628 blocks in total\n",
    "df2.nunique()[0] == 465+107+31+25 ==628"
   ]
  },
  {
   "cell_type": "markdown",
   "metadata": {},
   "source": [
    "### number of genes "
   ]
  },
  {
   "cell_type": "code",
   "execution_count": null,
   "metadata": {},
   "outputs": [],
   "source": [
    "df2.head()"
   ]
  },
  {
   "cell_type": "code",
   "execution_count": null,
   "metadata": {},
   "outputs": [],
   "source": [
    "temp = df2.groupby(['block']).aggregate({'strain':'nunique','gene_name':'count', 'inversion':'first',\n",
    "                                        'block_length':'first'})\n",
    "temp.groupby(['strain']).aggregate({'strain':'count','gene_name':sum, 'inversion':sum, 'block_length':'mean'})"
   ]
  },
  {
   "cell_type": "code",
   "execution_count": null,
   "metadata": {},
   "outputs": [],
   "source": [
    "## remove block w single strain \n",
    "## 2 & 3 strains "
   ]
  },
  {
   "cell_type": "code",
   "execution_count": null,
   "metadata": {},
   "outputs": [],
   "source": [
    "temp.groupby(['strain']).aggregate({'strain':'count','gene_name':'mean', 'inversion':sum})"
   ]
  },
  {
   "cell_type": "code",
   "execution_count": null,
   "metadata": {},
   "outputs": [],
   "source": [
    "#subset the blocks and look at average space "
   ]
  },
  {
   "cell_type": "code",
   "execution_count": null,
   "metadata": {},
   "outputs": [],
   "source": [
    "temp.head()"
   ]
  },
  {
   "cell_type": "code",
   "execution_count": null,
   "metadata": {},
   "outputs": [],
   "source": [
    "gene_num = df2.groupby(['block','strain']).aggregate({'start':'first','end':'first',\n",
    "                                         'rev_comp':'first', 'inversion':'first', \n",
    "                                                   'gene_name':'count'}).reset_index()\n",
    "gene_num['block_space'] = gene_num['end'] - gene_num['start']"
   ]
  },
  {
   "cell_type": "code",
   "execution_count": null,
   "metadata": {},
   "outputs": [],
   "source": []
  },
  {
   "cell_type": "code",
   "execution_count": null,
   "metadata": {},
   "outputs": [],
   "source": [
    "sns.set(style=\"whitegrid\")\n",
    "#f, ax = plt.subplots(figsize=(6.5, 6.5))\n",
    "#sns.despine(f, left=True, bottom=True)\n",
    "sns.scatterplot(x=\"gene_name\", y=\"block_space\",\n",
    "                hue=\"strain\", linewidth=0,\n",
    "                data=gene_num, #ax=ax, \n",
    "                alpha=0.8)\n",
    "#change to line graph w confident intervals"
   ]
  },
  {
   "cell_type": "code",
   "execution_count": null,
   "metadata": {},
   "outputs": [],
   "source": [
    "sns.lineplot(x=\"gene_name\", y=\"block_space\",\n",
    "                hue=\"strain\",\n",
    "                data=gene_num, alpha=0.5)"
   ]
  },
  {
   "cell_type": "code",
   "execution_count": null,
   "metadata": {},
   "outputs": [],
   "source": [
    "gene_num['block_space'].describe()"
   ]
  },
  {
   "cell_type": "code",
   "execution_count": null,
   "metadata": {},
   "outputs": [],
   "source": [
    "ATCC= gene_num[gene_num['strain']=='ATCC']\n",
    "BW= gene_num[gene_num['strain']=='BW25113']\n",
    "K12DH= gene_num[gene_num['strain']=='K12DH']\n",
    "K12MG= gene_num[gene_num['strain']=='K12MG']\n",
    "\n",
    "sns.distplot(ATCC[['block_space']],hist=False,label='ATCC')\n",
    "sns.distplot(BW[['block_space']],hist=False,label='BW25113')\n",
    "sns.distplot(K12DH[['block_space']],hist=False,label='K12DH')\n",
    "sns.distplot(K12MG[['block_space']],hist=False,label='K12MG')"
   ]
  },
  {
   "cell_type": "markdown",
   "metadata": {},
   "source": [
    "### Sort gene by order "
   ]
  },
  {
   "cell_type": "code",
   "execution_count": null,
   "metadata": {},
   "outputs": [],
   "source": [
    "#sort by midpoint \n",
    "df3 = df2.sort_values(by=['block','strain','gbk_midpoint']).reset_index(drop=True)\n",
    "#put all genes into one row\n",
    "df3['genes']= df3.groupby(['block','strain']).transform(lambda x:','.join(x))\n",
    "#groupby block and strain\n",
    "df3 = df3.groupby(['block','strain']).aggregate({'genes':'first','rev_comp':'first'}).reset_index()\n",
    "#split genes into multiple colns\n",
    "genes = pd.DataFrame(df3['genes'].str.split(',',expand=True).values)\n",
    "#combines \n",
    "genes_sort = pd.concat([df3,genes],axis=1)\n",
    "\n",
    "del genes_sort['genes']"
   ]
  },
  {
   "cell_type": "code",
   "execution_count": null,
   "metadata": {},
   "outputs": [],
   "source": [
    "genes_sort.head(n=20)"
   ]
  },
  {
   "cell_type": "markdown",
   "metadata": {},
   "source": [
    "### blocks"
   ]
  },
  {
   "cell_type": "code",
   "execution_count": null,
   "metadata": {},
   "outputs": [],
   "source": [
    "gene_num.head()"
   ]
  },
  {
   "cell_type": "code",
   "execution_count": null,
   "metadata": {},
   "outputs": [],
   "source": [
    "#histogram length of blocks: inverted vs non inverted\n",
    "#table # of inversion & rev_comp within strain\n",
    "#expression: inverted vs non-inverted && rev-comp\n",
    "#spatial position of the strain"
   ]
  },
  {
   "cell_type": "code",
   "execution_count": null,
   "metadata": {},
   "outputs": [],
   "source": [
    "sns.boxplot(x=\"strain\", y=\"norm_exp\", hue=\"inversion\",\n",
    "                 data=df2)"
   ]
  },
  {
   "cell_type": "code",
   "execution_count": null,
   "metadata": {},
   "outputs": [],
   "source": [
    "sns.boxplot(x=\"strain\", y=\"norm_exp\", hue=\"rev_comp\",\n",
    "                 data=df2)"
   ]
  },
  {
   "cell_type": "code",
   "execution_count": null,
   "metadata": {},
   "outputs": [],
   "source": [
    "sns.distplot(df2['norm_exp'],hist=False,label='K12MG')"
   ]
  },
  {
   "cell_type": "code",
   "execution_count": null,
   "metadata": {},
   "outputs": [],
   "source": [
    "df2.groupby(['strain','inversion'])['norm_exp'].describe()"
   ]
  },
  {
   "cell_type": "code",
   "execution_count": null,
   "metadata": {},
   "outputs": [],
   "source": [
    "df2.groupby(['strain','rev_comp'])['norm_exp'].describe()"
   ]
  },
  {
   "cell_type": "code",
   "execution_count": null,
   "metadata": {},
   "outputs": [],
   "source": [
    "## about blocks"
   ]
  },
  {
   "cell_type": "code",
   "execution_count": null,
   "metadata": {},
   "outputs": [],
   "source": [
    "rev_comp = gene_num.groupby(['block','strain']).aggregate({'rev_comp':sum})\n",
    "rev_comp['count'] = rev_comp.groupby(['block'])['rev_comp'].transform('sum')\n",
    "pd.pivot_table(rev_comp, index=['strain','count'], aggfunc=np.sum)"
   ]
  },
  {
   "cell_type": "code",
   "execution_count": null,
   "metadata": {},
   "outputs": [],
   "source": [
    "df['block'].nunique()"
   ]
  },
  {
   "cell_type": "code",
   "execution_count": null,
   "metadata": {},
   "outputs": [],
   "source": [
    "gene_num['rev_comp'].sum()"
   ]
  },
  {
   "cell_type": "code",
   "execution_count": null,
   "metadata": {},
   "outputs": [],
   "source": [
    "sns.boxplot(x=\"rev_comp\", y=\"norm_exp\", \n",
    "            #hue=\"rev_comp\",\n",
    "                 data=df2)"
   ]
  },
  {
   "cell_type": "markdown",
   "metadata": {},
   "source": [
    "## inversion position"
   ]
  },
  {
   "cell_type": "code",
   "execution_count": null,
   "metadata": {},
   "outputs": [],
   "source": [
    "df2.head()"
   ]
  },
  {
   "cell_type": "code",
   "execution_count": null,
   "metadata": {},
   "outputs": [],
   "source": [
    "sns.scatterplot(x=\"gbk_midpoint\", y=\"strain\",\n",
    "                hue=\"inversion\", linewidth=0,\n",
    "                data=df2,\n",
    "                alpha=0.8)"
   ]
  },
  {
   "cell_type": "code",
   "execution_count": null,
   "metadata": {},
   "outputs": [],
   "source": [
    "sns.scatterplot(x=\"gbk_midpoint\", y=\"strain\",\n",
    "                hue=\"rev_comp\", linewidth=0,\n",
    "                data=df2,\n",
    "                alpha=0.8)"
   ]
  },
  {
   "cell_type": "code",
   "execution_count": null,
   "metadata": {},
   "outputs": [],
   "source": [
    "pd.options.display.float_format = '{:f}'.format\n",
    "df2['gbk_midpoint'].describe()"
   ]
  },
  {
   "cell_type": "code",
   "execution_count": null,
   "metadata": {},
   "outputs": [],
   "source": [
    "front = df2[df2['gbk_midpoint'] <= 2500000]"
   ]
  },
  {
   "cell_type": "code",
   "execution_count": null,
   "metadata": {},
   "outputs": [],
   "source": [
    "back = df2[df2['gbk_midpoint'] > 2500000]"
   ]
  },
  {
   "cell_type": "code",
   "execution_count": null,
   "metadata": {},
   "outputs": [],
   "source": [
    "sns.scatterplot(x=\"gbk_midpoint\", y=\"strain\",\n",
    "                hue=\"inversion\", linewidth=0,\n",
    "                data=front,\n",
    "                alpha=0.2)\n",
    "#open circle"
   ]
  },
  {
   "cell_type": "code",
   "execution_count": null,
   "metadata": {},
   "outputs": [],
   "source": [
    "sns.scatterplot(x=\"gbk_midpoint\", y=\"strain\",\n",
    "                hue=\"inversion\", linewidth=0,\n",
    "                data=back,\n",
    "                alpha=0.8)"
   ]
  },
  {
   "cell_type": "code",
   "execution_count": null,
   "metadata": {},
   "outputs": [],
   "source": []
  },
  {
   "cell_type": "code",
   "execution_count": null,
   "metadata": {},
   "outputs": [],
   "source": []
  }
 ],
 "metadata": {
  "kernelspec": {
   "display_name": "Python 3",
   "language": "python",
   "name": "python3"
  },
  "language_info": {
   "codemirror_mode": {
    "name": "ipython",
    "version": 3
   },
   "file_extension": ".py",
   "mimetype": "text/x-python",
   "name": "python",
   "nbconvert_exporter": "python",
   "pygments_lexer": "ipython3",
   "version": "3.6.8"
  }
 },
 "nbformat": 4,
 "nbformat_minor": 2
}
